{
 "cells": [
  {
   "cell_type": "markdown",
   "metadata": {},
   "source": [
    "<center> \n",
    "<img src=\"https://upload.wikimedia.org/wikipedia/commons/5/5c/Logo_Mondragon_Unibertsitatea.png\" width=\"150\" height=\"100\" float =\"left\">\n",
    "<img src=\"data:image/png;base64,iVBORw0KGgoAAAANSUhEUgAAAPIAAADQCAMAAAAK0syrAAAAgVBMVEX///8AAAD7+/t6enrV1dWYmJjj4+Po6OjQ0NDx8fGIiIjq6ur39/fv7+/09PTf39+vr69xcXHGxsa5ubmfn59paWmnp6eTk5M8PDxZWVm9vb1eXl5ubm7BwcEzMzOHh4cnJycdHR0TExNPT09FRUUYGBhaWlpEREQ4ODgqKipjY2MMKFclAAAEmElEQVR4nO3ZaXOyPBQGYG52VzbFfQO1tf//Bz5JqArYzvSd8IK29/Whg4ymJyQ5WTAMIiIiIiIiIiIiIiIiIiIiIiIiIiIiIiIiIiIiIiIiIiIiIiKiXyXYdB1B2yxg0nUM7VoBWHcdRKumiO2/1cozbIwQQddhtMhH3zDO6DqMFpnYGsYYTtdxtGiKkWHs0Os6jvb4SA1jhGnXcbRoL7q1kcPrOo72JHANka6truNokazsGH8pXacwDeMNftdxtEjOTX3MdIrworipaNowET16g4VWGXvYDUXTCjFBBXIloiHU6yNtm8HwcDC1ynit1Gci7GGvV+PwtXZgMwSYa5YB6D2ylgH40Cyij10jobQkhXa8Lmor1WR/S/+2P9QsvXEBsNQtY4u8/DE+wHI/rzd4uv3oBPprrj5QWoaICjulge2FI93yG9WbN3C+F6M0Q9nbp2vVihRRqn3YNcK97wZ5MxU2jeR/OVC3T6JPL7SXEJmocnGW4p7l8Zm2wS5aA1EDJdULXqj4tLP129zEWV4EC6zqw3ZQydaelVuPfcq03crHqdy6zxp5eBWjCIuBIc9/NPc/K5i23FD4C6wfjlQmyEqfQsBaVKaHvhgGlugkSG63bNUGNrDXi6vOXeOteNwp9GbNHCNR63hzAeaPJ4WV2SDFxRSPuLT78ETuPItnHhxw/GzpQC1cZzjhoBVXjZ8jv270rB8P5SB10tivbhA9bE25DrmyqqtOq3ywJL42NHoZxvdbB/kb1cvEVJkve+qWvbQwFVVvbiz3ROnRffDk7z/7meiUKsByfjd3Kj1PcViqqoq+XTkT7pcX3l6GhR/hXOpUC1nedTcSi4yl/sV+HYpCjo29NVnmQFpuisNPzgWGM8gj3yUsb4fT8BbjWlZwUNqSTHC6/0rU6NbI40g9r6jcSXJ5p7xqG3oDBxd1GTW0+15+iCBqRxff9h/Pes+wSkbmQP5MtYWqgdyD7PrRu5iLiy5qlU9DrNsGxYPIS2Fx7Voi/75Vj09tzEWOQj3FA33T9OcNzO4j3zmK+j4uLb+bo0LZBPtihB6LfBqh+LuyVqtdeM3O4+ppykV2B0O2dyI69lFcDSYH7Mayjtl9PMVH+T08zkQj1fYfbv3+z02BbLtVcTtfDo5vquxAheOLlHtNN+Mivkst3/VLE4yhlmLis53Jpu8VT2xbPAS5Ll0lgRvETo6tav9088Um23Q1Xx/44WTmhPG3pXx9WC/GbjFCrXsWWapuWn//bNYPgMRT+phfW2+ThuWtY7JSfWeaDv5bJZr15Vh2EDvFOLRwiy5RGeXw0Mj1PGMv8tlTv8vD6vFeKBYQoZov3VInGIsuuzyh2kAuXu9VZfY4LydyNIYyZ/qVo225R6w3afiZrV7J40YqVF1apJ7JtPml/TOY1d8xTD7X/fY8izSmiifm11J2/w+8issqCyC1V/3tNqUl8vhS3uf8XtZtaZ98NWP9SmKpFQ6NYbLXP89+GcGHXAeeXm+G1RIET/cWhYiIiIiIiIiIiIiIiIiIiIiIiIiIiIiIiIiIiIiIiIiIiIiIiIiIqFn/AA1nKx7ECwr8AAAAAElFTkSuQmCC\" width=\"200\" height=\"120\" float =\"left\">    \n",
    "\n",
    "\n",
    "---\n",
    "<h3>Beñat Basabe, Jon Jarrín, June Pagaldai, Daniel Puente, Eneko Rentería | <font color='red'> Equipo Rojo<h3>"
   ]
  },
  {
   "cell_type": "markdown",
   "metadata": {},
   "source": [
    "## Generación de grafos\n",
    "Se genera el grafo que posteriormente se empleará para entrenar el modelo."
   ]
  },
  {
   "cell_type": "markdown",
   "metadata": {},
   "source": [
    "### Carga de librerias \n",
    "---"
   ]
  },
  {
   "cell_type": "markdown",
   "metadata": {},
   "source": [
    "- **General**"
   ]
  },
  {
   "cell_type": "code",
   "execution_count": 1,
   "metadata": {},
   "outputs": [],
   "source": [
    "import pandas as pd\n",
    "import numpy as np\n",
    "import glob\n",
    "import os\n",
    "import pickle\n",
    "\n",
    "import warnings\n",
    "warnings.filterwarnings('ignore')"
   ]
  },
  {
   "cell_type": "markdown",
   "id": "f8d2c59d",
   "metadata": {
    "id": "f8d2c59d"
   },
   "source": [
    "- **Pyspark**"
   ]
  },
  {
   "cell_type": "code",
   "execution_count": 2,
   "metadata": {},
   "outputs": [],
   "source": [
    "import pyspark.sql.functions as f\n",
    "from pyspark.sql import SparkSession\n",
    "from pyspark.sql.types import StringType\n",
    "from pyspark.sql.functions import when, regexp_replace, col, lit"
   ]
  },
  {
   "cell_type": "markdown",
   "metadata": {},
   "source": [
    "- **Strings**"
   ]
  },
  {
   "cell_type": "code",
   "execution_count": 3,
   "metadata": {},
   "outputs": [],
   "source": [
    "from collections import Counter\n",
    "import re"
   ]
  },
  {
   "cell_type": "markdown",
   "metadata": {},
   "source": [
    "- **Visualización**"
   ]
  },
  {
   "cell_type": "code",
   "execution_count": 4,
   "metadata": {},
   "outputs": [],
   "source": [
    "import plotly.graph_objs as go\n",
    "import matplotlib.pyplot as plt\n",
    "import seaborn as sns\n",
    "import plotly.express as px"
   ]
  },
  {
   "cell_type": "markdown",
   "metadata": {},
   "source": [
    "* **Grafos**"
   ]
  },
  {
   "cell_type": "code",
   "execution_count": 5,
   "metadata": {},
   "outputs": [],
   "source": [
    "import networkx as nx"
   ]
  },
  {
   "cell_type": "markdown",
   "metadata": {},
   "source": [
    "- **Otros**"
   ]
  },
  {
   "cell_type": "code",
   "execution_count": 6,
   "metadata": {},
   "outputs": [],
   "source": [
    "import itertools"
   ]
  },
  {
   "cell_type": "markdown",
   "metadata": {},
   "source": [
    "## Clases a utilizar\n",
    "---"
   ]
  },
  {
   "cell_type": "code",
   "execution_count": 7,
   "metadata": {},
   "outputs": [],
   "source": [
    "dir_in, dir_out = \"../../datos/datos_originales/\", \"../../datos/datos_desarrollo/\"\n",
    "\n",
    "class carga_datos:\n",
    "    \n",
    "    ''' Cargar los datos desde el csv al python:\n",
    "    - subir_tablas: se suben los dataframes con los titulos deseados. Como input: una lista de dfs y una lista de titulos.\n",
    "    - subir_una_tabla: como input se especifica la tabla a subir.\n",
    "    '''\n",
    "    \n",
    "    def __init__(self, dir_in = dir_in):\n",
    "        self.dir_in = dir_in\n",
    "        \n",
    "    def subir_tablas(self):\n",
    "        try: \n",
    "            path = os.getcwd()\n",
    "            csv_files, dataframes_list = glob.glob(os.path.join(path, dir_in + \"*.csv\")), []\n",
    "            for i in csv_files:\n",
    "                temp_df = spark.read.csv(path = i, header = True, inferSchema = True)\n",
    "                dataframes_list.append(temp_df)\n",
    "  \n",
    "        except: pass\n",
    "            \n",
    "        return dataframes_list\n",
    "    \n",
    "    def subir_una_tabla(self, nombre_tabla):\n",
    "        return spark.read.csv(dir_in + nombre_tabla + '.csv', header = True, inferSchema = True)\n",
    "    \n",
    "cd = carga_datos()"
   ]
  },
  {
   "cell_type": "markdown",
   "metadata": {},
   "source": [
    "## Funciones a utilizar\n",
    "---"
   ]
  },
  {
   "cell_type": "code",
   "execution_count": 8,
   "metadata": {},
   "outputs": [],
   "source": [
    "spark = SparkSession \\\n",
    "    .builder \\\n",
    "    .appName(\"how to read csv file\") \\\n",
    "    .getOrCreate()"
   ]
  },
  {
   "cell_type": "markdown",
   "metadata": {},
   "source": [
    "* Función para **abrir y guardar pickles**"
   ]
  },
  {
   "cell_type": "code",
   "execution_count": 9,
   "metadata": {},
   "outputs": [],
   "source": [
    "def guardar_pikle(df, name):\n",
    "    with open(dir_out + str(name) + '.pkl', 'wb') as fp: pickle.dump(df, fp)\n",
    "\n",
    "def abrir_pikle(name):\n",
    "    with open(dir_out + str(name) + '.pkl', 'rb') as fp: df = pickle.load(fp)\n",
    "    return df"
   ]
  },
  {
   "cell_type": "markdown",
   "id": "8ae999b7",
   "metadata": {
    "id": "8ae999b7"
   },
   "source": [
    "- Función para **dar nombre** a la variable **family_id** mediante la variable title"
   ]
  },
  {
   "cell_type": "code",
   "execution_count": 10,
   "metadata": {},
   "outputs": [],
   "source": [
    "def get_family_name(id_):\n",
    "    \n",
    "    filtered = product.filter(product.family_id == id_)\n",
    "    string = ' '.join([x['title'] for x in filtered.select('title').collect()]).lower()\n",
    "    \n",
    "    return id_, Counter(string.split()).most_common(1)[0][0]"
   ]
  },
  {
   "cell_type": "markdown",
   "id": "ca1fe385",
   "metadata": {
    "id": "ca1fe385"
   },
   "source": [
    "- Función para crear los **sufijos** y facilitar el *join*"
   ]
  },
  {
   "cell_type": "code",
   "execution_count": 11,
   "id": "60cdbe9c",
   "metadata": {
    "executionInfo": {
     "elapsed": 63,
     "status": "ok",
     "timestamp": 1639141056407,
     "user": {
      "displayName": "Eneko Renteria Gabantxo",
      "photoUrl": "https://lh3.googleusercontent.com/a/default-user=s64",
      "userId": "11839893040904061534"
     },
     "user_tz": -60
    },
    "id": "60cdbe9c"
   },
   "outputs": [],
   "source": [
    "def rename_columns(df, suffix):\n",
    "    ''' Renombra las columnas de un dataframe.'''\n",
    "    for names in df.schema.names: df = df.withColumnRenamed(names,names + suffix)\n",
    "    return df"
   ]
  },
  {
   "cell_type": "markdown",
   "id": "20lh66ZdaJOU",
   "metadata": {
    "id": "20lh66ZdaJOU"
   },
   "source": [
    "* Función para conseguir valores únicos de una variable en *pyspark*"
   ]
  },
  {
   "cell_type": "code",
   "execution_count": 12,
   "id": "7e3KNGJEaGCt",
   "metadata": {
    "executionInfo": {
     "elapsed": 63,
     "status": "ok",
     "timestamp": 1639141056408,
     "user": {
      "displayName": "Eneko Renteria Gabantxo",
      "photoUrl": "https://lh3.googleusercontent.com/a/default-user=s64",
      "userId": "11839893040904061534"
     },
     "user_tz": -60
    },
    "id": "7e3KNGJEaGCt"
   },
   "outputs": [],
   "source": [
    "def get_value(dffs, variable):\n",
    "    return list(dffs.select(dffs[variable]).distinct().toPandas()[variable])"
   ]
  },
  {
   "cell_type": "markdown",
   "metadata": {},
   "source": [
    "* Función para añadir estilo y estampado al id"
   ]
  },
  {
   "cell_type": "code",
   "execution_count": 13,
   "metadata": {},
   "outputs": [],
   "source": [
    "def listById(var):\n",
    "    \n",
    "    df_rdd = df.filter(df.id_product_feature.startswith(var))\\\n",
    "                    .select('id', 'value').distinct()\\\n",
    "                    .sort('value')\\\n",
    "                    .rdd.map(lambda x: (x.id, x.value))\n",
    "\n",
    "    ids = df_rdd.reduceByKey(lambda x, y: x + '.' + y).toDF()\\\n",
    "                     .withColumnRenamed('_1', 'id_' + var)\\\n",
    "                     .withColumnRenamed('_2', var)\n",
    "    return ids"
   ]
  },
  {
   "cell_type": "markdown",
   "id": "fda1c70a",
   "metadata": {},
   "source": [
    "* Función que crea el grafo filtrando por temporada"
   ]
  },
  {
   "cell_type": "code",
   "execution_count": 14,
   "metadata": {},
   "outputs": [],
   "source": [
    "def create_graph(seasonality, pregancy):\n",
    "\n",
    "    ##############\n",
    "    ##### DF #####  \n",
    "    ##############\n",
    "\n",
    "    ### Filtrar por temporada ###\n",
    "    df2 = df_fin.filter(df_fin.season == seasonality).filter(df_fin.pregnant == pregancy)\n",
    "\n",
    "    ### Conseguir variantes de productos únicos#####\n",
    "    vu_id_product = get_value(df2, 'id_variant')\n",
    "\n",
    "    ### Crear df para filtrar ###\n",
    "    df_para_filtrar = df_indices[df_indices[0].isin(vu_id_product)]\n",
    "    df_para_filtrar['family_product'] = df_para_filtrar[0].str.split('_').str[0]\n",
    "    df_para_filtrar['level'] = df_para_filtrar.family_product.map(niveles)\n",
    "    df_para_filtrar.columns = ['id_variant', 'family_product', 'level']\n",
    "\n",
    "    df_para_filtrar.reset_index(inplace = True)\n",
    "    df_para_filtrar['color'] = df_para_filtrar['id_variant'].str.split('_').str[1]\n",
    "    df_para_filtrar = df_para_filtrar.merge(color_parent, left_on = 'color', right_on = 'name').drop('name', axis = 1)\n",
    "    df_para_filtrar['color_id'] = df_para_filtrar.parent.map(color_number)\n",
    "    df_para_filtrar.set_index('index', inplace = True)\n",
    "\n",
    "    df_para_filtrar['style'] = df_para_filtrar.id_variant.str.split('_').str[4]\n",
    "    df_para_filtrar['print'] = df_para_filtrar.id_variant.str.split('_').str[5]\n",
    "    df_para_filtrar['premium'] = df_para_filtrar.id_variant.str.split('_').str[-1]\n",
    "\n",
    "    ## Funciones auxiliares\n",
    "    def sacar_productos(e, variable):\n",
    "\n",
    "        if variable == 'style':\n",
    "\n",
    "            list_1 = df_para_filtrar[df_para_filtrar[variable].map(lambda x: bool(True for i in x.split('.') if i == e[0]))].index.to_list()\n",
    "            list_2 = df_para_filtrar[df_para_filtrar[variable].map(lambda x: bool(True for i in x.split('.') if i == e[1]))].index.to_list()\n",
    "\n",
    "            return list(itertools.product(list_1, list_2))\n",
    "\n",
    "        else:\n",
    "            list_1 = df_para_filtrar[df_para_filtrar[variable] == e[0]].index.to_list()\n",
    "            list_2 = df_para_filtrar[df_para_filtrar[variable] == e[1]].index.to_list()\n",
    "\n",
    "            return list(itertools.product(list_1, list_2))\n",
    "\n",
    "    def get_weight(e):\n",
    "        \n",
    "        d = tabla_style\n",
    "        estilo = 0\n",
    "        \n",
    "        for uno in G.nodes[e[0]]['style'].split('.'):\n",
    "            for dos in G.nodes[e[1]]['style'].split('.'):\n",
    "                serie = d.loc[(d.node1 == uno) & (d.node2 == dos), 'weights']\n",
    "                if len(serie) > 0:\n",
    "                    num = float(serie)\n",
    "                    if estilo < num: estilo = num\n",
    "\n",
    "        suma = 0\n",
    "        for var in tabla_pesos.keys():            \n",
    "            d = tabla_pesos[var]\n",
    "            suma += float(d.loc[(d.node1 == G.nodes[e[0]][var]) & (d.node2 == G.nodes[e[1]][var]), 'weights'])\n",
    "\n",
    "        return tuple(list((e)) + [(estilo + suma) / 4])\n",
    "\n",
    "    \n",
    "    def ordenar(x): return tuple(sorted(x))\n",
    "    \n",
    "    #############\n",
    "    ### NODOS ###\n",
    "    #############\n",
    "\n",
    "    vu_id_product = list(df_para_filtrar.id_variant.values) # Para que esten en el mismo orden\n",
    "    G = nx.Graph()\n",
    "    print('\\nCreating nodes...\\n')\n",
    "    for i, v in enumerate(df_para_filtrar.index.tolist()):\n",
    "            G.add_node(v,\n",
    "                      color = vu_id_product[i].split('_')[1],\n",
    "                      size  = vu_id_product[i].split('_')[2],\n",
    "                      level = df_para_filtrar['level'][v],\n",
    "                      color_parent = df_para_filtrar['parent'][v],\n",
    "                      printed = df_para_filtrar['print'][v],\n",
    "                      style = df_para_filtrar['style'][v],\n",
    "                      premium = df_para_filtrar['premium'][v])\n",
    "\n",
    "    ###############        \n",
    "    ### ARISTAS ###\n",
    "    ###############\n",
    "\n",
    "    ### 1) Aristas - Tallas ###\n",
    "\n",
    "    df_para_filtrar['talla'] = df_para_filtrar['id_variant'].str.split('_').str[2]\n",
    "    orden_tallas = ['XXS', 'XS', 'S', 'M', 'L', 'XL', 'XXL', 'XXXL','X4XL'] \n",
    "    \n",
    "    combinaciones_tallas_letra = []\n",
    "    for i in range(1, len(orden_tallas)): combinaciones_tallas_letra += [(orden_tallas[i - 1], orden_tallas[i])]\n",
    "    for a in orden_tallas: combinaciones_tallas_letra += [(a, a), (a, 'UNQ')]\n",
    "    combinaciones_talla = [sacar_productos(i, 'talla') for i in combinaciones_tallas_letra][1]\n",
    "\n",
    "    for x in orden_tallas:\n",
    "        list_1 = df_para_filtrar[df_para_filtrar['talla'] == x].index.to_list()\n",
    "        combinaciones_talla += list(itertools.combinations(list_1, 2))\n",
    "\n",
    "    \n",
    "    combinaciones_talla = list(map(ordenar, combinaciones_talla))\n",
    "    combinaciones_talla = list(set(combinaciones_talla))\n",
    "    \n",
    "    ### 2) Aristas - Level ###\n",
    "    \n",
    "    levels = get_value(df2.filter(df2.id_variant.isin(vu_id_product)), 'level')\n",
    "    levels.sort()\n",
    "    tods = list(itertools.combinations(levels, 2))\n",
    "    tods.sort()\n",
    "    tods += [('3.2', '3.2')]\n",
    "    \n",
    "    try: \n",
    "        tods.remove(('1.1', '1.2'))\n",
    "    except: pass    \n",
    "    \n",
    "    \n",
    "    combinaciones_level = list(map(sacar_productos, tods, ['level'] * len(tods)))\n",
    "    combinaciones_level = list(itertools.chain(*combinaciones_level))\n",
    "    combinaciones_level = list(map(ordenar, combinaciones_level))\n",
    "    combinaciones_level = list(set(combinaciones_level))\n",
    "    \n",
    "    \n",
    "    ### 3) Aristas - Style ###   \n",
    "\n",
    "    print('Empieza style')\n",
    "    unicos = ['classic', 'street', 'night', 'boho']\n",
    "    comodin = ['casual', 'minimal']\n",
    "\n",
    "    combinaciones_s = [('casual', 'minimal'), ('classic', 'night'), ('night', 'street'), ('boho', 'street')]\n",
    "    for c in comodin:\n",
    "        combinaciones_s += [(c, c)]\n",
    "        for u in unicos:\n",
    "            combinaciones_s += [(u, u)]\n",
    "            combinaciones_s += [(c, u)]\n",
    "            \n",
    "    print('Empieza sacar productos')\n",
    "    combinaciones_style = list(map(sacar_productos, combinaciones_s, ['style'] * len(combinaciones_s)))\n",
    "    print('Termina sacar productos')\n",
    "    combinaciones_style = list(itertools.chain(*combinaciones_style))\n",
    "    print('Empieza ordernar')\n",
    "    combinaciones_style = list(map(ordenar, combinaciones_style))\n",
    "    print('Termina ordenar')\n",
    "    combinaciones_style = list(set(combinaciones_style))\n",
    "    \n",
    "    ### 4) Aristas - Print ###\n",
    "    combinaciones_p = [('smooth', 'smooth'), ('smooth', 'print')]\n",
    "    combinaciones_print = list(map(sacar_productos, combinaciones_p, ['print'] * len(combinaciones_p)))\n",
    "    combinaciones_print = list(itertools.chain(*combinaciones_print))\n",
    "    combinaciones_print = list(map(ordenar, combinaciones_print))\n",
    "    combinaciones_print = list(set(combinaciones_print))\n",
    "    \n",
    "    \n",
    "    ### 5) Aristas - Color ###\n",
    "    \n",
    "    complementario = [(c, c + 6) for c in range(1, 7)]\n",
    "    triangulo = []\n",
    "    for t in [(c, c + 4, c + 8) for c in range(1, 5)]: triangulo += list(itertools.combinations(t, 2))\n",
    "    teoria_colores = triangulo + complementario\n",
    "    \n",
    "    ## Eliminar los que no aparecen en esa temporada\n",
    "    no_aparecen = list(set(range(1, 17)).difference(set(df_para_filtrar.color_id.unique())))\n",
    "    teoria_colores_filt = []\n",
    "\n",
    "    for t in teoria_colores:\n",
    "        if len(set(t).difference(no_aparecen)) == 2:\n",
    "            teoria_colores_filt += [t]\n",
    "    \n",
    "    ## Se relacionan todos con los colores base\n",
    "    aparecen = df_para_filtrar.color_id.unique()\n",
    "\n",
    "    base = aparecen[aparecen > 12]\n",
    "    no_base = aparecen[aparecen <= 12]\n",
    "\n",
    "    combinaciones_color = teoria_colores_filt\n",
    "    for b in base:\n",
    "        for no in no_base:\n",
    "            combinaciones_color += [(b, no)]\n",
    "            \n",
    "    for a in aparecen: combinaciones_color += [(a, a)]\n",
    "    combinaciones_color = list(map(sacar_productos, combinaciones_color, ['color_id'] * len(combinaciones_color)))   \n",
    "    combinaciones_color = list(itertools.chain(*combinaciones_color))\n",
    "    combinaciones_color = list(map(ordenar, combinaciones_color))\n",
    "    combinaciones_color = list(set(combinaciones_color))\n",
    "    \n",
    "    \n",
    "    ### Se añaden todas las aristas ###\n",
    "    d = [combinaciones_level, combinaciones_talla, combinaciones_style, combinaciones_print, combinaciones_color]\n",
    "    for e, n in zip(d, ['level', 'talla', 'style', 'print', 'color']): print(n, len(e))\n",
    "    l = list(set.intersection(*map(set,d)))\n",
    "    \n",
    "    print(len(l))\n",
    "    # l2 = [e for e in l if e[0] != e[1]] #por si acaso\n",
    "    \n",
    "    print('\\nCreating edges...\\n')\n",
    "    # G.add_edges_from(l)\n",
    "    G.add_weighted_edges_from(list(map(get_weight, l)))\n",
    "    \n",
    "    return G"
   ]
  },
  {
   "cell_type": "markdown",
   "metadata": {},
   "source": [
    "### Cargar datos\n",
    "---"
   ]
  },
  {
   "cell_type": "code",
   "execution_count": 15,
   "metadata": {},
   "outputs": [],
   "source": [
    "df = spark.read.csv(dir_out + 'lookiero_*.csv', header = True, inferSchema = True)\n",
    "df_total = spark.read.csv(dir_out + 'df_total.csv', header = True, inferSchema = True)"
   ]
  },
  {
   "cell_type": "markdown",
   "metadata": {},
   "source": [
    "* Crear las variables necesarias para la creación del grafo"
   ]
  },
  {
   "cell_type": "code",
   "execution_count": 16,
   "metadata": {},
   "outputs": [],
   "source": [
    "embarazadas = get_value(df.filter((df.value == \"pregnancy\") | (df.value == \"breastfeeding\")), 'id_product')\n",
    "df = df.withColumn(\"level\", col(\"level\").cast(StringType()))\n",
    "df = df.withColumn(\"pregnant\", when(df.id_product.isin(embarazadas), 1).otherwise(0))"
   ]
  },
  {
   "cell_type": "markdown",
   "metadata": {},
   "source": [
    "* Corregir el color para solucionar posibls posteriores errores"
   ]
  },
  {
   "cell_type": "code",
   "execution_count": 17,
   "metadata": {
    "scrolled": false
   },
   "outputs": [],
   "source": [
    "df = df.withColumn('color', regexp_replace('color', '_', ''))\\\n",
    "    .withColumn('id_product', f.concat(f.col('family_product'), lit('_'), f.col('color'), lit('_'), f.col('size_lookiero'), lit('_'), f.col('season')))"
   ]
  },
  {
   "cell_type": "markdown",
   "metadata": {},
   "source": [
    "* Añadir estilo, estampado y origin al *id*"
   ]
  },
  {
   "cell_type": "code",
   "execution_count": 18,
   "metadata": {},
   "outputs": [],
   "source": [
    "id_style, id_print = list(map(listById, ['style', 'print']))\n",
    "\n",
    "ids = id_style.join(id_print, id_print.id_print == id_style.id_style, 'full')\\\n",
    "        .drop('id_print').fillna('smooth', 'print')"
   ]
  },
  {
   "cell_type": "markdown",
   "metadata": {},
   "source": [
    "* Adecuar variables"
   ]
  },
  {
   "cell_type": "code",
   "execution_count": 19,
   "metadata": {},
   "outputs": [],
   "source": [
    "ids = ids.withColumn('print', when(ids.print != 'smooth', 'print').when(ids.print == 'smooth', 'smooth'))\n",
    "df = df.withColumn('origin_brand', when(df.origin_brand == 'PREMIUM', 'PREMIUM').otherwise('NOPREMIUM'))"
   ]
  },
  {
   "cell_type": "markdown",
   "metadata": {},
   "source": [
    "* Juntar los estilos y los estampadoscon el *df*"
   ]
  },
  {
   "cell_type": "code",
   "execution_count": 20,
   "metadata": {},
   "outputs": [],
   "source": [
    "df_fin = ids.join(df, df.id == ids.id_style)\\\n",
    "        .withColumn('id_variant', f.concat(f.col('id_product'), lit('_'), f.col('style'), lit('_'), f.col('print'), lit('_'), f.col('origin_brand')))\\\n",
    "        .select('id_variant', 'pregnant', 'season', 'level')\n",
    "\n",
    "df_fin = df_fin.filter(df_fin.id_variant.isNotNull()) # por si acaso\n",
    "df_indices = pd.DataFrame(get_value(df_fin, 'id_variant'))"
   ]
  },
  {
   "cell_type": "code",
   "execution_count": 55,
   "metadata": {},
   "outputs": [],
   "source": [
    "df_fin_2 = ids.join(df, df.id == ids.id_style)\\\n",
    "        .withColumn('id_variant', f.concat(f.col('id_product'), lit('_'), f.col('style'), lit('_'), f.col('print'), lit('_'), f.col('origin_brand')))\\\n",
    "        .select('id_variant', 'id_style', 'feature_family')"
   ]
  },
  {
   "cell_type": "code",
   "execution_count": 56,
   "metadata": {},
   "outputs": [],
   "source": [
    "class carga_datos:\n",
    "    ''' Cargar los datos desde el csv al python:\n",
    "    - subir_tablas: se suben los dataframes con los titulos deseados. Como input: una lista de dfs y una lista de titulos.\n",
    "    - subir_una_tabla: como input se especifica la tabla a subir.\n",
    "    '''\n",
    "    def __init__(self, dir_in = dir_in):\n",
    "        self.dir_in = dir_in\n",
    "        \n",
    "    def subir_tablas(self, dir_in):\n",
    "        try: \n",
    "            path = os.getcwd()\n",
    "            csv_files, dataframes_list = glob.glob(os.path.join(path, dir_in + \"*.csv\")), []\n",
    "            for i in csv_files:\n",
    "                temp_df = spark.read.csv(path = i, header = True, inferSchema = True)\n",
    "                dataframes_list.append(temp_df)\n",
    "  \n",
    "        except: pass\n",
    "            \n",
    "        return dataframes_list\n",
    "    def subir_una_tabla(self, dir_in, nombre_tabla):\n",
    "        return pd.read_csv(os.path.join(dir_in, nombre_tabla + \".csv\"))\n",
    "\n",
    "cd = carga_datos ()\n",
    "dfs = cd.subir_tablas(dir_in)\n",
    "titulos = os.listdir(dir_in)"
   ]
  },
  {
   "cell_type": "code",
   "execution_count": 63,
   "metadata": {},
   "outputs": [],
   "source": [
    "df_envios = dfs[2].join(df_fin_2, df_fin_2.id_style == dfs[2].id).select('id_variant', 'envios','ventas')\n",
    "df_envios = df_envios.groupby('id_variant').agg(f.sum('envios').alias('envios'), f.sum('ventas').alias('ventas'))"
   ]
  },
  {
   "cell_type": "code",
   "execution_count": 67,
   "metadata": {},
   "outputs": [],
   "source": [
    "df_envios = df_envios.toPandas()"
   ]
  },
  {
   "cell_type": "code",
   "execution_count": 69,
   "metadata": {},
   "outputs": [],
   "source": [
    "guardar_pikle(df_envios, dir_out + 'df_envios')"
   ]
  },
  {
   "cell_type": "raw",
   "metadata": {},
   "source": [
    "df_indices.to_csv(dir_out + 'df_indices.csv', index = False)"
   ]
  },
  {
   "cell_type": "markdown",
   "id": "9bab4bf8",
   "metadata": {},
   "source": [
    "### Grafo\n",
    "---"
   ]
  },
  {
   "cell_type": "markdown",
   "metadata": {},
   "source": [
    "* Reglas de unión grafos por **niveles**"
   ]
  },
  {
   "cell_type": "code",
   "execution_count": 21,
   "metadata": {},
   "outputs": [],
   "source": [
    "niveles = {'jumpsuit': '1.1', \n",
    "           'dress': '1.1',\n",
    "           \n",
    "           'jeans': '1.2',\n",
    "           'skirt': '1.2',\n",
    "           'short': '1.2',\n",
    "           'pant': '1.2',\n",
    "          \n",
    "           'shirt': '2.1',\n",
    "           'top': '2.1',\n",
    "           'tshirt': '2.1',\n",
    "          \n",
    "           'sweater': '2.2',\n",
    "           'sweatshirt': '2.2',\n",
    "           'cardigan': '2.2',\n",
    "          \n",
    "           'trench': '3.1',\n",
    "           'coat': '3.1',\n",
    "           'parka': '3.1',\n",
    "           'jacket': '3.1',\n",
    "          \n",
    "           'bag': '3.2',\n",
    "           'scarf': '3.2'}"
   ]
  },
  {
   "cell_type": "markdown",
   "metadata": {},
   "source": [
    "* Reglas de unión de grafos por **colores**"
   ]
  },
  {
   "cell_type": "code",
   "execution_count": 22,
   "metadata": {},
   "outputs": [],
   "source": [
    "color_names = ['red', 'red_orange', 'orange', 'yelloworange', 'yellow', 'yellowgreen', \n",
    "               'green', 'bluegreen', 'blue', 'blueviolet', 'violet', 'redviolet',\n",
    "               'white', 'gray', 'black', 'brown']\n",
    "\n",
    "red = ['800000', 'E65A5B', 'F29985', 'D84936', 'd0455f', '640b22', '8e1d03', 'B11730', 'FFC0CB']\n",
    "red_orange = ['B94600', 'faaa6e']       #462C0E, A57E62, DFC8B2, C19A6B, 9A8176\n",
    "orange = ['DEB24C', 'FFA500', 'B3832E', 'b3832e'] #EBD6A7\n",
    "yellow_orange = ['FFD200', 'B5A45F']    #ECE9D6\n",
    "yellow = ['666633', 'fdf7b2', 'FFFF00']\n",
    "yellow_green = ['86BE2D']\n",
    "green = ['BBE2AD', '164A0A', '008000', 'c4ddce']\n",
    "blue_green = ['40E0D0', '87CEFA', '3B6968']\n",
    "blue = ['00008b', '0000FF', '153668', '000081', '0053a5', 'bcd2e7']\n",
    "blue_violet = ['BBA9E4']\n",
    "violet = ['5C2F83'] \n",
    "red_violet = ['614051', 'FF00A8', 'fac4db']\n",
    "\n",
    "white = ['FFFFFF']\n",
    "gray = ['D3D3D3', '5F5E5E', 'C9C9C9', '808080', '768597', 'C7A2A2']\n",
    "black = ['000000']\n",
    "brown = ['A57E62', '462C0E', 'DFC8B2', 'C19A6B', '9A8176', 'ECE9D6', 'ebd6a7']\n",
    "\n",
    "\n",
    "listas = [red, red_orange, orange, yellow_orange, yellow, yellow_green,\n",
    "          green, blue_green, blue, blue_violet, violet, red_violet, \n",
    "          white, gray, black, brown]\n",
    "\n",
    "\n",
    "colors = {}\n",
    "for lista, name in zip(listas, color_names):\n",
    "    for cod in lista:\n",
    "        colors[cod] = name\n",
    "\n",
    "color_number = {'red': 1,\n",
    "                'redorange': 2,\n",
    "                'orange': 3,\n",
    "                'yelloworange': 4,\n",
    "                'yellow': 5,\n",
    "                'yellowgreen': 6,\n",
    "                'green': 7,\n",
    "                'bluegreen': 8,\n",
    "                'blue': 9,\n",
    "                'blueviolet': 10,\n",
    "                'violet': 11,\n",
    "                'redviolet': 12,\n",
    "                'white': 13,\n",
    "                'gray': 14,\n",
    "                'black': 15,\n",
    "                'brown': 16}"
   ]
  },
  {
   "cell_type": "markdown",
   "metadata": {},
   "source": [
    "* Crear la relación color-parent"
   ]
  },
  {
   "cell_type": "code",
   "execution_count": 23,
   "metadata": {},
   "outputs": [],
   "source": [
    "df_color = cd.subir_una_tabla('color')\n",
    "df_dic_color = spark.createDataFrame(colors.items()).withColumnRenamed('_1', 'key').withColumnRenamed('_2', 'parent')\n",
    "color_parent = df_color.select('hexadecimal', 'name')\\\n",
    "                       .join(df_dic_color, df_color.hexadecimal == df_dic_color.key)\\\n",
    "                       .drop('hexadecimal', 'key').toPandas()\n",
    "\n",
    "color_parent['name'] = color_parent.name.str.replace('_', '')\n",
    "color_parent['parent'] = color_parent.parent.str.replace('_', '')"
   ]
  },
  {
   "cell_type": "markdown",
   "metadata": {},
   "source": [
    "---"
   ]
  },
  {
   "cell_type": "markdown",
   "metadata": {},
   "source": [
    "* **Tablas de las ponderaciones**"
   ]
  },
  {
   "cell_type": "markdown",
   "metadata": {},
   "source": [
    "1) Colores"
   ]
  },
  {
   "cell_type": "code",
   "execution_count": 24,
   "metadata": {},
   "outputs": [],
   "source": [
    "complementario = [(c, c + 6) for c in range(1, 7)] + [(c + 6, c) for c in range(1, 7)]\n",
    "triangulo = []\n",
    "for t in [(c, c + 4, c + 8) for c in range(1, 5)]: triangulo += list(itertools.permutations(t, 2))\n",
    "teoria_colores = triangulo + complementario\n",
    "\n",
    "base = list(range(13, 17))\n",
    "no_base = list(range(1, 13))\n",
    "teoria_colores += [(no, no) for no in no_base + base]\n",
    "\n",
    "for b in base:\n",
    "    for no in no_base:\n",
    "        teoria_colores += [(b, no), (no, b)]\n",
    "\n",
    "teoria_colores += list(itertools.permutations(base, 2))\n",
    "\n",
    "def bidireccional(o):\n",
    "    return (o[1], o[0])\n",
    "\n",
    "tabla_color = pd.DataFrame(teoria_colores)\\\n",
    "              .rename(columns = {0 : 'node1', 1 : 'node2'})\n",
    "tabla_color = pd.concat([tabla_color, pd.Series([.5] * len(triangulo) + [.75] * len(complementario) + [.25] * 16 + [1] * 108)], axis = 1)\\\n",
    "                .rename(columns = {0 : 'weights'})\n",
    "\n",
    "tabla_color['node1'] = tabla_color.node1.map({v:k for k, v in zip(color_number.keys(), color_number.values())})\n",
    "tabla_color['node2'] = tabla_color.node2.map({v:k for k, v in zip(color_number.keys(), color_number.values())})"
   ]
  },
  {
   "cell_type": "markdown",
   "metadata": {},
   "source": [
    "2) Style"
   ]
  },
  {
   "cell_type": "code",
   "execution_count": 25,
   "metadata": {},
   "outputs": [],
   "source": [
    "unicos = ['classic', 'street', 'night', 'boho']\n",
    "comodin = ['casual', 'minimal']\n",
    "\n",
    "combinaciones_s = [('night', 'street'),  ('street', 'night'), \n",
    "                   ('boho', 'street'),   ('street', 'boho'), \n",
    "                   ('classic', 'night'), ('night', 'classic')]\n",
    "\n",
    "for c in comodin:\n",
    "    for u in unicos:\n",
    "        combinaciones_s += [(c, u), (u, c)]\n",
    "\n",
    "combinaciones_s += [('casual', 'minimal'), ('minimal', 'casual')]    \n",
    "\n",
    "tabla_style = pd.DataFrame(combinaciones_s)\\\n",
    "              .rename(columns = {0 : 'node1', 1 : 'node2'})\n",
    "tabla_style = pd.concat([tabla_style, pd.Series([.5] * 2 + [.25] * 4 + [1] * 18)], axis = 1)\\\n",
    "                .rename(columns = {0 : 'weights'})"
   ]
  },
  {
   "cell_type": "markdown",
   "metadata": {},
   "source": [
    "3) Premium"
   ]
  },
  {
   "cell_type": "code",
   "execution_count": 26,
   "metadata": {},
   "outputs": [],
   "source": [
    "tabla_premium = pd.DataFrame(itertools.product(('PREMIUM', 'NOPREMIUM'), repeat = 2))\\\n",
    "                .rename(columns = {0 : 'node1', 1 : 'node2'})\n",
    "tabla_premium = pd.concat([tabla_premium, pd.Series([.25] * 2 + [.5] + [1])], axis = 1)\\\n",
    "                .rename(columns = {0 : 'weights'})"
   ]
  },
  {
   "cell_type": "markdown",
   "metadata": {},
   "source": [
    "4) Estampados"
   ]
  },
  {
   "cell_type": "code",
   "execution_count": 27,
   "metadata": {},
   "outputs": [],
   "source": [
    "tabla_estampados = pd.DataFrame(itertools.product(('smooth', 'print'), repeat = 2))\\\n",
    "                .rename(columns = {0 : 'node1', 1 : 'node2'})\n",
    "tabla_estampados = pd.concat([tabla_estampados, pd.Series([1] * 3 + [0.15])], axis = 1)\\\n",
    "                .rename(columns = {0 : 'weights'})"
   ]
  },
  {
   "cell_type": "markdown",
   "metadata": {},
   "source": [
    "Todos"
   ]
  },
  {
   "cell_type": "code",
   "execution_count": 28,
   "metadata": {},
   "outputs": [],
   "source": [
    "tabla_pesos = {'color_parent': tabla_color, 'premium': tabla_premium, 'printed': tabla_estampados}"
   ]
  },
  {
   "cell_type": "markdown",
   "metadata": {},
   "source": [
    "___"
   ]
  },
  {
   "cell_type": "markdown",
   "id": "29a3a56f",
   "metadata": {
    "id": "29a3a56f"
   },
   "source": [
    "* Ponderaciones de relaciones"
   ]
  },
  {
   "cell_type": "code",
   "execution_count": 29,
   "metadata": {
    "scrolled": true
   },
   "outputs": [
    {
     "name": "stdout",
     "output_type": "stream",
     "text": [
      "\n",
      "=========== CREATING SEASON'S 7 PREGNANCY GRAPH ===========\n",
      "Creating nodes...\n",
      "\n",
      "Empieza style\n",
      "Empieza sacar productos\n",
      "Termina sacar productos\n",
      "Empieza ordernar\n",
      "Termina ordenar\n",
      "level 6184654\n",
      "talla 1638608\n",
      "style 8957028\n",
      "print 8036982\n",
      "color 6581949\n",
      "724721\n",
      "\n",
      "Creating edges...\n",
      "\n",
      "\n",
      "=========== CREATING SEASON'S 8 PREGNANCY GRAPH ===========\n",
      "Creating nodes...\n",
      "\n",
      "Empieza style\n",
      "Empieza sacar productos\n",
      "Termina sacar productos\n",
      "Empieza ordernar\n",
      "Termina ordenar\n",
      "level 8436271\n",
      "talla 2249428\n",
      "style 11221953\n",
      "print 10656437\n",
      "color 8007356\n",
      "1127449\n",
      "\n",
      "Creating edges...\n",
      "\n",
      "\n",
      "=========== CREATING SEASON'S 9 PREGNANCY GRAPH ===========\n",
      "Creating nodes...\n",
      "\n",
      "Empieza style\n",
      "Empieza sacar productos\n",
      "Termina sacar productos\n",
      "Empieza ordernar\n",
      "Termina ordenar\n",
      "level 6658386\n",
      "talla 1722412\n",
      "style 9242850\n",
      "print 8766074\n",
      "color 6842450\n",
      "858332\n",
      "\n",
      "Creating edges...\n",
      "\n"
     ]
    }
   ],
   "source": [
    "graph, combinaciones = [], list(itertools.product([7, 8, 9], [0]))\n",
    "\n",
    "for x in combinaciones:\n",
    "    \n",
    "    print(f\"\\n=========== CREATING SEASON'S {x[0]} PREGNANCY GRAPH ===========\", end = \"\\r\")\n",
    "    \n",
    "    G = create_graph(x[0], x[1])\n",
    "    graph.append(G)"
   ]
  },
  {
   "cell_type": "markdown",
   "metadata": {},
   "source": [
    "* Asignar nombres"
   ]
  },
  {
   "cell_type": "code",
   "execution_count": 31,
   "metadata": {},
   "outputs": [],
   "source": [
    "G7, G8, G9 = graph \n",
    "G7.name, G8.name, G9.name = 'G7', 'G8', 'G9'"
   ]
  },
  {
   "cell_type": "markdown",
   "metadata": {},
   "source": [
    "* Nodos totales"
   ]
  },
  {
   "cell_type": "code",
   "execution_count": 34,
   "metadata": {
    "scrolled": true
   },
   "outputs": [
    {
     "data": {
      "text/plain": [
       "13268"
      ]
     },
     "execution_count": 34,
     "metadata": {},
     "output_type": "execute_result"
    }
   ],
   "source": [
    "len(np.unique(list(G8.nodes) + list(G9.nodes) + list(G7.nodes) ))"
   ]
  },
  {
   "cell_type": "markdown",
   "metadata": {},
   "source": [
    "* Plotear"
   ]
  },
  {
   "cell_type": "code",
   "execution_count": 35,
   "metadata": {},
   "outputs": [
    {
     "data": {
      "image/png": "[encoded data removed]",
      "text/plain": [
       "<Figure size 432x288 with 1 Axes>"
      ]
     },
     "metadata": {},
     "output_type": "display_data"
    }
   ],
   "source": [
    "nx.draw(G7, with_labels = True)"
   ]
  },
  {
   "cell_type": "markdown",
   "metadata": {},
   "source": [
    "* Guardar los grafos hasta ahora"
   ]
  },
  {
   "cell_type": "code",
   "execution_count": 34,
   "metadata": {},
   "outputs": [
    {
     "data": {
      "text/plain": [
       "(None, None, None)"
      ]
     },
     "execution_count": 34,
     "metadata": {},
     "output_type": "execute_result"
    }
   ],
   "source": [
    "guardar_pikle(G7, 'G7'), guardar_pikle(G8, 'G8'), guardar_pikle(G9, 'G9')"
   ]
  },
  {
   "cell_type": "markdown",
   "metadata": {},
   "source": [
    "---"
   ]
  }
 ],
 "metadata": {
  "interpreter": {
   "hash": "8eb729d9847d079dc3a83fb04234ab0b883f85e4ec6aa38230e8b7f84fe4a950"
  },
  "kernelspec": {
   "display_name": "Python 3 (ipykernel)",
   "language": "python",
   "name": "python3"
  },
  "language_info": {
   "codemirror_mode": {
    "name": "ipython",
    "version": 3
   },
   "file_extension": ".py",
   "mimetype": "text/x-python",
   "name": "python",
   "nbconvert_exporter": "python",
   "pygments_lexer": "ipython3",
   "version": "3.8.5"
  }
 },
 "nbformat": 4,
 "nbformat_minor": 2
}
