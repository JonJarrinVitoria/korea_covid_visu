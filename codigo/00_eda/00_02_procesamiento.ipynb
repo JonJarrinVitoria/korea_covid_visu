{
 "cells": [
  {
   "cell_type": "markdown",
   "metadata": {},
   "source": [
    "<center> \n",
    "<img src=\"https://upload.wikimedia.org/wikipedia/commons/5/5c/Logo_Mondragon_Unibertsitatea.png\" width=\"150\" height=\"100\" float =\"left\">\n",
    "<img src=\"data:image/png;base64,iVBORw0KGgoAAAANSUhEUgAAAPIAAADQCAMAAAAK0syrAAAAgVBMVEX///8AAAD7+/t6enrV1dWYmJjj4+Po6OjQ0NDx8fGIiIjq6ur39/fv7+/09PTf39+vr69xcXHGxsa5ubmfn59paWmnp6eTk5M8PDxZWVm9vb1eXl5ubm7BwcEzMzOHh4cnJycdHR0TExNPT09FRUUYGBhaWlpEREQ4ODgqKipjY2MMKFclAAAEmElEQVR4nO3ZaXOyPBQGYG52VzbFfQO1tf//Bz5JqArYzvSd8IK29/Whg4ymJyQ5WTAMIiIiIiIiIiIiIiIiIiIiIiIiIiIiIiIiIiIiIiIiIiIiIiKiXyXYdB1B2yxg0nUM7VoBWHcdRKumiO2/1cozbIwQQddhtMhH3zDO6DqMFpnYGsYYTtdxtGiKkWHs0Os6jvb4SA1jhGnXcbRoL7q1kcPrOo72JHANka6truNokazsGH8pXacwDeMNftdxtEjOTX3MdIrworipaNowET16g4VWGXvYDUXTCjFBBXIloiHU6yNtm8HwcDC1ynit1Gci7GGvV+PwtXZgMwSYa5YB6D2ylgH40Cyij10jobQkhXa8Lmor1WR/S/+2P9QsvXEBsNQtY4u8/DE+wHI/rzd4uv3oBPprrj5QWoaICjulge2FI93yG9WbN3C+F6M0Q9nbp2vVihRRqn3YNcK97wZ5MxU2jeR/OVC3T6JPL7SXEJmocnGW4p7l8Zm2wS5aA1EDJdULXqj4tLP129zEWV4EC6zqw3ZQydaelVuPfcq03crHqdy6zxp5eBWjCIuBIc9/NPc/K5i23FD4C6wfjlQmyEqfQsBaVKaHvhgGlugkSG63bNUGNrDXi6vOXeOteNwp9GbNHCNR63hzAeaPJ4WV2SDFxRSPuLT78ETuPItnHhxw/GzpQC1cZzjhoBVXjZ8jv270rB8P5SB10tivbhA9bE25DrmyqqtOq3ywJL42NHoZxvdbB/kb1cvEVJkve+qWvbQwFVVvbiz3ROnRffDk7z/7meiUKsByfjd3Kj1PcViqqoq+XTkT7pcX3l6GhR/hXOpUC1nedTcSi4yl/sV+HYpCjo29NVnmQFpuisNPzgWGM8gj3yUsb4fT8BbjWlZwUNqSTHC6/0rU6NbI40g9r6jcSXJ5p7xqG3oDBxd1GTW0+15+iCBqRxff9h/Pes+wSkbmQP5MtYWqgdyD7PrRu5iLiy5qlU9DrNsGxYPIS2Fx7Voi/75Vj09tzEWOQj3FA33T9OcNzO4j3zmK+j4uLb+bo0LZBPtihB6LfBqh+LuyVqtdeM3O4+ppykV2B0O2dyI69lFcDSYH7Mayjtl9PMVH+T08zkQj1fYfbv3+z02BbLtVcTtfDo5vquxAheOLlHtNN+Mivkst3/VLE4yhlmLis53Jpu8VT2xbPAS5Ll0lgRvETo6tav9088Um23Q1Xx/44WTmhPG3pXx9WC/GbjFCrXsWWapuWn//bNYPgMRT+phfW2+ThuWtY7JSfWeaDv5bJZr15Vh2EDvFOLRwiy5RGeXw0Mj1PGMv8tlTv8vD6vFeKBYQoZov3VInGIsuuzyh2kAuXu9VZfY4LydyNIYyZ/qVo225R6w3afiZrV7J40YqVF1apJ7JtPml/TOY1d8xTD7X/fY8izSmiifm11J2/w+8issqCyC1V/3tNqUl8vhS3uf8XtZtaZ98NWP9SmKpFQ6NYbLXP89+GcGHXAeeXm+G1RIET/cWhYiIiIiIiIiIiIiIiIiIiIiIiIiIiIiIiIiIiIiIiIiIiIiIiIiIqFn/AA1nKx7ECwr8AAAAAElFTkSuQmCC\" width=\"200\" height=\"120\" float =\"left\">\n",
    "    \n",
    "---\n",
    "<h3>Beñat Basabe, Jon Jarrín, June Pagaldai, Daniel Puente, Eneko Rentería | <font color='red'> Equipo Rojo<h3>"
   ]
  },
  {
   "cell_type": "markdown",
   "metadata": {},
   "source": [
    "## Procesamiento\n",
    "En este script se lleva a cabo el procesamiento de los datos. Es decir, se decide qué hacer con los **valores missing**, los **outliers**, **generación de variables...** "
   ]
  },
  {
   "cell_type": "markdown",
   "metadata": {},
   "source": [
    "### Carga de librerias \n",
    "---"
   ]
  },
  {
   "cell_type": "markdown",
   "metadata": {},
   "source": [
    "- **General**"
   ]
  },
  {
   "cell_type": "code",
   "execution_count": 1,
   "metadata": {},
   "outputs": [],
   "source": [
    "import pandas as pd\n",
    "from pandas import to_datetime\n",
    "import numpy as np\n",
    "import os\n",
    "import pickle"
   ]
  },
  {
   "cell_type": "markdown",
   "metadata": {},
   "source": [
    "- **Visualización de datos**"
   ]
  },
  {
   "cell_type": "code",
   "execution_count": 2,
   "metadata": {},
   "outputs": [],
   "source": [
    "import matplotlib.pyplot as plt\n",
    "import seaborn as sns"
   ]
  },
  {
   "cell_type": "markdown",
   "metadata": {},
   "source": [
    "- **Otros**"
   ]
  },
  {
   "cell_type": "code",
   "execution_count": 3,
   "metadata": {},
   "outputs": [],
   "source": [
    "import glob\n",
    "import statistics\n",
    "import missingno as msno"
   ]
  },
  {
   "cell_type": "markdown",
   "metadata": {},
   "source": [
    "- **Warnings**"
   ]
  },
  {
   "cell_type": "code",
   "execution_count": 4,
   "metadata": {},
   "outputs": [],
   "source": [
    "import warnings\n",
    "warnings.simplefilter(action = 'ignore')\n",
    "warnings.filterwarnings(\"ignore\")"
   ]
  },
  {
   "cell_type": "markdown",
   "metadata": {},
   "source": [
    "- **Series temporales**"
   ]
  },
  {
   "cell_type": "code",
   "execution_count": 5,
   "metadata": {},
   "outputs": [],
   "source": [
    "import datetime\n",
    "from datetime import datetime, timedelta\n",
    "from statsmodels.tsa.seasonal import seasonal_decompose"
   ]
  },
  {
   "cell_type": "markdown",
   "metadata": {},
   "source": [
    "- **Finanzas**"
   ]
  },
  {
   "cell_type": "code",
   "execution_count": 6,
   "metadata": {},
   "outputs": [],
   "source": [
    "import yfinance as yf"
   ]
  },
  {
   "cell_type": "markdown",
   "metadata": {},
   "source": [
    "* **Prophet**"
   ]
  },
  {
   "cell_type": "code",
   "execution_count": 7,
   "metadata": {},
   "outputs": [],
   "source": [
    "from prophet import Prophet\n",
    "from matplotlib import pyplot\n",
    "from time import sleep"
   ]
  },
  {
   "cell_type": "raw",
   "metadata": {},
   "source": [
    "!conda install -c conda-forge prophet -y\n",
    "!pip install pystan --upgrade"
   ]
  },
  {
   "cell_type": "markdown",
   "metadata": {},
   "source": [
    "### Funciones básicas\n",
    "---"
   ]
  },
  {
   "cell_type": "code",
   "execution_count": 12,
   "metadata": {},
   "outputs": [],
   "source": [
    "dir_in_des, dir_out = \"../../datos/datos_desarrollo/\", \"\"\n",
    "from pickles import abrir_pikle, guardar_pikle"
   ]
  },
  {
   "cell_type": "code",
   "execution_count": 13,
   "metadata": {},
   "outputs": [],
   "source": [
    "def missing(dff):\n",
    "    import missingno as msno\n",
    "    fig1 = plt.figure(figsize = (20, 17))\n",
    "    for a in range(25):\n",
    "        ax1 = fig1.add_subplot(5, 5, a + 1)\n",
    "        msno.matrix(dff[a], fontsize = 12, ax = ax1, sparkline = False);\n",
    "\n",
    "    fig1.suptitle('Matriz de valores missing por tabla', y = 1.03, size = 20) \n",
    "    plt.tight_layout()"
   ]
  },
  {
   "cell_type": "markdown",
   "metadata": {},
   "source": [
    "### Clases a utilizar\n",
    "---"
   ]
  },
  {
   "cell_type": "markdown",
   "metadata": {},
   "source": [
    "Clase para **cargar de datos**\n",
    "- Se fijan los **directorios** de entrada y salida"
   ]
  },
  {
   "cell_type": "code",
   "execution_count": 10,
   "metadata": {},
   "outputs": [],
   "source": [
    "dir_in, dir_out = \"../../datos/datos_originales/\", \"\""
   ]
  },
  {
   "cell_type": "code",
   "execution_count": 11,
   "metadata": {},
   "outputs": [],
   "source": [
    "class carga_datos:\n",
    "    ''' Cargar los datos desde el csv al python:\n",
    "    - subir_tablas: se suben los dataframes con los titulos deseados. Como input: una lista de dfs y una lista de titulos.\n",
    "    - subir_una_tabla: como input se especifica la tabla a subir.\n",
    "    '''\n",
    "    def __init__(self, dir_in = dir_in):\n",
    "        self.dir_in = dir_in\n",
    "        \n",
    "    def subir_tablas(self, dir_in):\n",
    "        path = os.getcwd()\n",
    "        csv_files, dataframes_list = glob.glob(os.path.join(path, dir_in + \"*.csv\")), []\n",
    "\n",
    "        for i in csv_files:\n",
    "            temp_df = pd.read_csv(i)\n",
    "            dataframes_list.append(temp_df)\n",
    "        \n",
    "        return dataframes_list\n",
    "    \n",
    "    def subir_una_tabla(self, dir_in, nombre_tabla):\n",
    "        return pd.read_csv(os.path.join(dir_in, nombre_tabla + \".csv\"))"
   ]
  },
  {
   "cell_type": "markdown",
   "metadata": {},
   "source": [
    "### Carga de datos\n",
    "---"
   ]
  },
  {
   "cell_type": "code",
   "execution_count": 12,
   "metadata": {},
   "outputs": [],
   "source": [
    "cd = carga_datos()\n",
    "dfs = cd.subir_tablas(dir_in)\n",
    "\n",
    "titulos = [x['symbol'].unique()[0] for x in dfs]\n",
    "guardar_pikle(titulos, 'titulos')"
   ]
  },
  {
   "cell_type": "code",
   "execution_count": 13,
   "metadata": {},
   "outputs": [],
   "source": [
    "for df in dfs:\n",
    "    df['date'] = pd.to_datetime(df['date'])\n",
    "    df.sort_values('date', inplace = True)\n",
    "    df.reset_index(drop = True, inplace = True)\n",
    "    df.pop('exchange');"
   ]
  },
  {
   "cell_type": "markdown",
   "metadata": {},
   "source": [
    "* Se restan **3 horas para tener encuentan las 2:30 como particiapciones del día anterior**"
   ]
  },
  {
   "cell_type": "code",
   "execution_count": 14,
   "metadata": {},
   "outputs": [],
   "source": [
    "def restar_horas(df):\n",
    "    df.loc[:,'date'] = df.loc[:,'date'] - timedelta(hours = 3)    \n",
    "    return df\n",
    "\n",
    "dfs = list(map(restar_horas, dfs))\n",
    "for k,v in enumerate(dfs): v['new_date'] = v['date'].dt.strftime('%m/%d/%Y')"
   ]
  },
  {
   "cell_type": "code",
   "execution_count": 15,
   "metadata": {},
   "outputs": [],
   "source": [
    "def filtrar_ultimos_valores(df):\n",
    "    for x in df.new_date.unique():\n",
    "        df_filtrado = df[df['new_date'] == x]\n",
    "        posicion = df_filtrado.tail(1).index[0]\n",
    "        if df_filtrado['date'][posicion].hour >= 21: df.drop(posicion, inplace = True)\n",
    "    return df"
   ]
  },
  {
   "cell_type": "code",
   "execution_count": 16,
   "metadata": {},
   "outputs": [],
   "source": [
    "dfs_ultimos_valores = list(map(filtrar_ultimos_valores, dfs))\n",
    "dfs_ultimos_valor = [x.reset_index(drop = True) for x in dfs_ultimos_valores]"
   ]
  },
  {
   "cell_type": "markdown",
   "metadata": {},
   "source": [
    "### Imputar\n",
    "---"
   ]
  },
  {
   "cell_type": "markdown",
   "metadata": {},
   "source": [
    "* #### 1 Imputar la variable ***'open' & 'close'*** \n",
    "\n",
    "La variable 'open' no cuenta con valores missing, sin embargo, hay un error que es necesario corregir. Supuestamente el valor de la variable 'open' para un día a de ser constante, pero esto no se ve reflejeda en los dataset. Por otro lado, 'close' sí que cuenta con NAs y cuenta con un error muy similar al ocurrido con la vairable 'open'.\n",
    "\n",
    "*Este proceso se explica con más detalle en el informe*"
   ]
  },
  {
   "cell_type": "code",
   "execution_count": 17,
   "metadata": {},
   "outputs": [],
   "source": [
    "def imputar_open_close(df):\n",
    "    \n",
    "    df_na = df[df['volume'].isna()]\n",
    "    \n",
    "    for k, v in enumerate(df_na['new_date'].unique()):\n",
    "        posiciones_imputar = df_na[df_na['new_date'] == v].index\n",
    "        \n",
    "        if len(df[df['new_date'] == v]) == len(df_na[df_na['new_date'] == v]):\n",
    "            imputar_open, imputar_close = df[df['new_date'] == v]['open'].head(1).values[0], df[df['new_date'] == v]['close'].tail(1).values[0]\n",
    "            df.loc[posiciones_imputar, 'open'], df.loc[posiciones_imputar, 'close'] = imputar_open, imputar_close\n",
    "            \n",
    "        else:\n",
    "            valor_imputar_open = float(df[(df['new_date'] == v) & (df['open'].notna())]['open'].head(1))\n",
    "            valor_imputar_close = float(df[(df['new_date'] == v) & (df['close'].notna())]['close'].tail(1))\n",
    "            df.loc[posiciones_imputar, 'open'], df.loc[posiciones_imputar, 'close'] = valor_imputar_open, valor_imputar_close\n",
    "            \n",
    "    return df"
   ]
  },
  {
   "cell_type": "code",
   "execution_count": 18,
   "metadata": {},
   "outputs": [],
   "source": [
    "dfs_imputados = list(map(imputar_open_close, dfs_ultimos_valor))"
   ]
  },
  {
   "cell_type": "raw",
   "metadata": {},
   "source": [
    "guardar_pikle(dfs_imputados, 'dataframe_limpio_withna')"
   ]
  },
  {
   "cell_type": "markdown",
   "metadata": {},
   "source": [
    "### Cargamos los datos\n",
    "---"
   ]
  },
  {
   "cell_type": "code",
   "execution_count": 20,
   "metadata": {},
   "outputs": [],
   "source": [
    "dfs = abrir_pikle('dataframe_limpio_withna')"
   ]
  },
  {
   "cell_type": "markdown",
   "metadata": {},
   "source": [
    "* Número de **semanas** y **nombre del primer día**"
   ]
  },
  {
   "cell_type": "code",
   "execution_count": 21,
   "metadata": {},
   "outputs": [
    {
     "name": "stdout",
     "output_type": "stream",
     "text": [
      "Number of weeks: 160\n",
      "El primer día es: Wednesday\n"
     ]
    }
   ],
   "source": [
    "dias = [x['date'].max() - x['date'].min() for x in dfs]\n",
    "fechas_min, fechas_max = min([x['date'].min() for x in dfs]), max([x['date'].max() for x in dfs])\n",
    "\n",
    "semanas = (max(dias)/7).days\n",
    "print('Number of weeks:', semanas)\n",
    "print('El primer día es:',fechas_min.strftime('%A'))"
   ]
  },
  {
   "cell_type": "markdown",
   "metadata": {},
   "source": [
    "### Agrupamos por día\n",
    "---"
   ]
  },
  {
   "cell_type": "markdown",
   "metadata": {},
   "source": [
    "* 'last','volume', 'close' 'open' --> **media**\n",
    "* 'high' --> **max**\n",
    "* 'low' --> **min**"
   ]
  },
  {
   "cell_type": "code",
   "execution_count": 22,
   "metadata": {},
   "outputs": [],
   "source": [
    "dfs_agrupados_medias = [(x[['date','open','close','last','volume']].resample('1d', on = 'date').mean()).reset_index() for x in dfs]\n",
    "dfs_agrupados_minimo = [(x[['date','low']].resample('1d', on = 'date').agg({'low': 'min'})).reset_index() for x in dfs]\n",
    "dfs_agrupados_maximo = [(x[['date','high']].resample('1d', on = 'date').agg({'high': 'max'})).reset_index() for x in dfs]"
   ]
  },
  {
   "cell_type": "markdown",
   "metadata": {},
   "source": [
    "* Se juntan"
   ]
  },
  {
   "cell_type": "code",
   "execution_count": 23,
   "metadata": {},
   "outputs": [],
   "source": [
    "dfs_agrupados = [v.merge(dfs_agrupados_minimo[k]) for k, v in enumerate(dfs_agrupados_medias)]\n",
    "dfs_agrupados = [v.merge(dfs_agrupados_maximo[k]) for k, v in enumerate(dfs_agrupados)]"
   ]
  },
  {
   "cell_type": "markdown",
   "metadata": {},
   "source": [
    "### Fines de semana\n",
    "---"
   ]
  },
  {
   "cell_type": "code",
   "execution_count": 24,
   "metadata": {},
   "outputs": [],
   "source": [
    "sabado, domingo = \"2018-06-09\", \"2018-06-10\"\n",
    "date_s, date_d = datetime.strptime(sabado, \"%Y-%m-%d\"), datetime.strptime(domingo, \"%Y-%m-%d\")\n",
    "\n",
    "sabados, domingos = [str(date_s + timedelta(days=(7)*x)) for x in range(0, semanas+1)], [str(date_d + timedelta(days=(7)*x)) for x in range(0, semanas+1)]\n",
    "findes = sabados + domingos"
   ]
  },
  {
   "cell_type": "markdown",
   "metadata": {},
   "source": [
    "* **Todos los sábados tienen NAs**"
   ]
  },
  {
   "cell_type": "code",
   "execution_count": 25,
   "metadata": {},
   "outputs": [
    {
     "name": "stdout",
     "output_type": "stream",
     "text": [
      "NA sábados/Total sábados \n",
      " \n",
      " ['160/160', '57/57', '57/57', '57/57', '159/159', '57/57', '57/57', '57/57', '57/57', '57/57', '159/159', '57/57', '57/57', '160/160', '57/57', '57/57', '57/57', '57/57', '57/57', '57/57', '57/57', '159/159', '56/56', '56/56', '56/56', '159/159']\n"
     ]
    }
   ],
   "source": [
    "dfs_sabados = [v[v['date'].isin(sabados)] for k, v in enumerate(dfs_agrupados)]\n",
    "print('NA sábados/Total sábados \\n \\n', [str(len(v[v['volume'].isna()])) +'/'+ str(len(v)) for k, v in enumerate(dfs_sabados)])"
   ]
  },
  {
   "cell_type": "markdown",
   "metadata": {},
   "source": [
    "* Todos los **domingos tienen NAs**"
   ]
  },
  {
   "cell_type": "code",
   "execution_count": 26,
   "metadata": {},
   "outputs": [
    {
     "name": "stdout",
     "output_type": "stream",
     "text": [
      "NA domingos/Total domingos \n",
      " \n",
      " ['160/160', '57/57', '57/57', '57/57', '159/159', '57/57', '57/57', '57/57', '57/57', '57/57', '159/159', '57/57', '57/57', '160/160', '57/57', '57/57', '57/57', '57/57', '57/57', '57/57', '57/57', '159/159', '56/56', '56/56', '56/56', '159/159']\n"
     ]
    }
   ],
   "source": [
    "dfs_domingos = [v[v['date'].isin(domingos)] for k, v in enumerate(dfs_agrupados)]\n",
    "print('NA domingos/Total domingos \\n \\n', [str(len(v[v['volume'].isna()])) +'/'+ str(len(v)) for k, v in enumerate(dfs_domingos)])"
   ]
  },
  {
   "cell_type": "markdown",
   "metadata": {},
   "source": [
    "* **Se <font color='red'> eliminan los findes**"
   ]
  },
  {
   "cell_type": "code",
   "execution_count": 27,
   "metadata": {},
   "outputs": [
    {
     "name": "stdout",
     "output_type": "stream",
     "text": [
      "NAs habiendo eliminado los findes: [534, 17, 17, 17, 531, 20, 20, 20, 20, 20, 534, 20, 20, 536, 20, 20, 20, 20, 21, 21, 21, 534, 20, 20, 20, 536]\n"
     ]
    }
   ],
   "source": [
    "dfs_sin_findes = [v[~v['date'].isin(findes)] for k, v in enumerate(dfs_agrupados)]\n",
    "print('NAs habiendo eliminado los findes:',[max(x.isna().sum()) for x in dfs_sin_findes])"
   ]
  },
  {
   "cell_type": "markdown",
   "metadata": {},
   "source": [
    "* Fechas que coinciden con **NAs en open**"
   ]
  },
  {
   "cell_type": "code",
   "execution_count": 28,
   "metadata": {},
   "outputs": [
    {
     "data": {
      "text/plain": [
       "[numpy.datetime64('2020-07-03T00:00:00.000000000'),\n",
       " numpy.datetime64('2020-09-07T00:00:00.000000000'),\n",
       " numpy.datetime64('2020-11-26T00:00:00.000000000'),\n",
       " numpy.datetime64('2020-12-25T00:00:00.000000000'),\n",
       " numpy.datetime64('2021-01-01T00:00:00.000000000'),\n",
       " numpy.datetime64('2021-01-18T00:00:00.000000000'),\n",
       " numpy.datetime64('2021-02-15T00:00:00.000000000'),\n",
       " numpy.datetime64('2021-04-02T00:00:00.000000000'),\n",
       " numpy.datetime64('2021-05-31T00:00:00.000000000')]"
      ]
     },
     "execution_count": 28,
     "metadata": {},
     "output_type": "execute_result"
    }
   ],
   "source": [
    "lista = ([x[x.open.isna()]['date'].values for x in dfs_sin_findes])\n",
    "\n",
    "def intersection(lst1, lst2): \n",
    "    temp = set(lst2) \n",
    "    lst3 = [value for value in lst1 if value in temp] \n",
    "    return lst3\n",
    "\n",
    "interseccion = lista[0]\n",
    "for x in range(len(lista)): interseccion = intersection(interseccion, lista[x])\n",
    "interseccion"
   ]
  },
  {
   "cell_type": "markdown",
   "metadata": {},
   "source": [
    "* Se borran las fechas que coincida"
   ]
  },
  {
   "cell_type": "code",
   "execution_count": 29,
   "metadata": {},
   "outputs": [],
   "source": [
    "borrados = [x[~x['date'].isin(interseccion)] for x in dfs_sin_findes]"
   ]
  },
  {
   "cell_type": "markdown",
   "metadata": {},
   "source": [
    "* Se detectan los **días festivos** de estos años (que no deberían de estar informados) y se **eliminan**"
   ]
  },
  {
   "cell_type": "code",
   "execution_count": 30,
   "metadata": {},
   "outputs": [],
   "source": [
    "dias_festivos = ['2020-01-01', '2019-01-01', \n",
    "                 '2019-01-21', '2020-01-20', \n",
    "                 '2019-02-18', '2020-02-17',\n",
    "                 '2019-04-19', '2020-04-10',\n",
    "                 '2019-05-27', '2020-05-25',\n",
    "                 '2018-07-04', '2019-07-04', \n",
    "                 '2018-09-03', '2019-09-02', \n",
    "                 '2018-11-22', '2019-11-28', \n",
    "                 '2018-12-25', '2019-12-25', \n",
    "                 '2020-02-29']\n",
    "\n",
    "borrados_sin_dias = [x[~x['date'].isin(dias_festivos)] for x in borrados]"
   ]
  },
  {
   "cell_type": "code",
   "execution_count": 31,
   "metadata": {},
   "outputs": [
    {
     "name": "stdout",
     "output_type": "stream",
     "text": [
      "NAs open: [1, 2, 2, 2, 1, 2, 2, 2, 2, 2, 0, 4, 4, 1, 2, 2, 2, 2, 5, 5, 5, 0, 2, 4, 4, 1]\n",
      "NAs close: [5, 6, 6, 6, 5, 6, 6, 6, 6, 10, 4, 8, 8, 5, 6, 6, 6, 6, 9, 9, 9, 4, 6, 8, 8, 5]\n"
     ]
    }
   ],
   "source": [
    "print('NAs open:', [len(x[x.open.isna()]) for x in borrados_sin_dias])\n",
    "print('NAs close:',[len(x[x.close.isna()]) for x in borrados_sin_dias])"
   ]
  },
  {
   "cell_type": "markdown",
   "metadata": {},
   "source": [
    "* **Se eliminan los días anterioers a 2018-06-12**"
   ]
  },
  {
   "cell_type": "code",
   "execution_count": 32,
   "metadata": {},
   "outputs": [],
   "source": [
    "lista_largos = [0, 4, 10, 13, 21, 25]\n",
    "\n",
    "for x in lista_largos:\n",
    "    indices = borrados_sin_dias[x][borrados_sin_dias[x]['date']<'2018-06-12'].index\n",
    "    borrados_sin_dias[x].drop(indices, inplace = True)\n",
    "    borrados_sin_dias[x].reset_index(drop = True, inplace = True)"
   ]
  },
  {
   "cell_type": "markdown",
   "metadata": {},
   "source": [
    "### Imputar open y close\n",
    "---"
   ]
  },
  {
   "cell_type": "code",
   "execution_count": 33,
   "metadata": {},
   "outputs": [
    {
     "name": "stdout",
     "output_type": "stream",
     "text": [
      "NAs open: [0, 0, 0, 0, 0, 0, 0, 0, 0, 0, 0, 0, 0, 0, 0, 0, 0, 0, 0, 0, 0, 0, 0, 0, 0, 0]\n",
      "NAs close: [0, 0, 0, 0, 0, 0, 0, 0, 0, 4, 0, 0, 0, 0, 0, 0, 0, 0, 0, 0, 0, 0, 0, 0, 0, 0]\n"
     ]
    }
   ],
   "source": [
    "for k, v in enumerate(borrados_sin_dias): v['open'], v['close']= v.open.interpolate(), v.close.interpolate()\n",
    "\n",
    "print('NAs open:', [len(x[x.open.isna()]) for x in borrados_sin_dias])\n",
    "print('NAs close:',[len(x[x.close.isna()]) for x in borrados_sin_dias])"
   ]
  },
  {
   "cell_type": "markdown",
   "metadata": {},
   "source": [
    "### Correción Apple\n",
    "---"
   ]
  },
  {
   "cell_type": "markdown",
   "metadata": {},
   "source": [
    "* Ponemos los índices en orden correcto"
   ]
  },
  {
   "cell_type": "code",
   "execution_count": 34,
   "metadata": {},
   "outputs": [],
   "source": [
    "borrados_sin_dias = [x.reset_index(drop = True) for x in borrados_sin_dias]"
   ]
  },
  {
   "cell_type": "markdown",
   "metadata": {},
   "source": [
    "* Escogemos el % de crecimiento y le aplicamos la **inversa para añadirse**"
   ]
  },
  {
   "cell_type": "code",
   "execution_count": 35,
   "metadata": {},
   "outputs": [],
   "source": [
    "serie = borrados_sin_dias[0].close.pct_change()\n",
    "indice = serie[(serie < -0.5) | (serie > 0.5)].index[0]\n",
    "valor = serie[(serie < -0.5) | (serie > 0.5)].values[0]"
   ]
  },
  {
   "cell_type": "code",
   "execution_count": 36,
   "metadata": {},
   "outputs": [],
   "source": [
    "for x in ['open','last', 'volume','low','high']: borrados_sin_dias[0].iloc[indice-1:][x] = borrados_sin_dias[0].iloc[indice-1:][x] * ((1-abs(valor))**-1)\n",
    "borrados_sin_dias[0].iloc[indice:]['close'] = borrados_sin_dias[0].iloc[indice-1:]['close'] * ((1-abs(valor))**-1)"
   ]
  },
  {
   "cell_type": "markdown",
   "metadata": {},
   "source": [
    "### Imputación de días faltantes mediante Prophet\n",
    "---"
   ]
  },
  {
   "cell_type": "markdown",
   "metadata": {},
   "source": [
    "Dado que algunos de los datasets cuentan con valores no informeres en las primeras instancias de la serie realizar una interpolación puede ser difícil. Por ende, se decide llevar a acabo úna predicción de la serie dado la vuelta. De esta forma se estarían precidiendo los valores **pasados** como si estos **fueran futuros**. Una vez realizado los predicciones se comprueban si estas son coherentes y se concluye que **si lo son.**\n",
    "* **Funciones para la imputación**"
   ]
  },
  {
   "cell_type": "code",
   "execution_count": 9,
   "metadata": {},
   "outputs": [],
   "source": [
    "def transformar(dff, variable ='close', reverse = True):\n",
    "    df = dff[['date']].copy()\n",
    "    df = pd.DataFrame()\n",
    "    if reverse == True: df['date'], df[variable] =  dff[['date']].values, dff[[variable]].iloc[::-1].reset_index(drop = True).values\n",
    "    else: df['date'], df[variable] =  dff[['date']].values, dff[[variable]].values\n",
    "    df = df.rename(columns={variable: \"y\", 'date': 'ds'})\n",
    "    df = df.sort_values('ds', ascending = True)\n",
    "    df['ds'] = df['ds'].dt.tz_convert(None)\n",
    "    \n",
    "    return df\n",
    "\n",
    "def prediccion_prophet(dff, periods):\n",
    "    m = Prophet(changepoint_prior_scale=0.5, yearly_seasonality=True, daily_seasonality=True, interval_width=0.85)\n",
    "    model = m.fit(dff)\n",
    "\n",
    "    future = m.make_future_dataframe(periods=periods, freq = \"D\")\n",
    "    forecast = m.predict(future)\n",
    "\n",
    "    nuevos_valores =  forecast.tail(periods)['yhat'].values.tolist()\n",
    "    return nuevos_valores"
   ]
  },
  {
   "cell_type": "markdown",
   "metadata": {},
   "source": [
    "* Primeramente se corrigen aquellos a los que les faltan 2 días (no existen). **datasets --> 22, 23, 24**"
   ]
  },
  {
   "cell_type": "code",
   "execution_count": 38,
   "metadata": {},
   "outputs": [],
   "source": [
    "for x in [22, 23, 24]:\n",
    "    \n",
    "    df = transformar(borrados_sin_dias[x])\n",
    "    nuevos_valores = prediccion_prophet(df, 2)\n",
    "    \n",
    "    fechas = [borrados_sin_dias[x]['date'][0] - timedelta(days = 4), borrados_sin_dias[x]['date'][0] - timedelta(days = 1)]\n",
    "    NAs = [np.nan] * 2\n",
    "    dataframe = pd.DataFrame({'date': fechas, 'open': NAs, 'close': nuevos_valores, 'last': NAs, 'volume':NAs, 'low':NAs, 'high':NAs })\n",
    "    \n",
    "    borrados_sin_dias[x] = pd.concat([dataframe, borrados_sin_dias[x]])\n",
    "    borrados_sin_dias[x].reset_index(drop = True, inplace = True)"
   ]
  },
  {
   "cell_type": "markdown",
   "metadata": {},
   "source": [
    "* Se imputan los 4 Nas en close del **dataset 9** (son los 4 primeros valores de la serie)"
   ]
  },
  {
   "cell_type": "code",
   "execution_count": 39,
   "metadata": {},
   "outputs": [],
   "source": [
    "df = transformar(borrados_sin_dias[9])\n",
    "nuevos_valores = prediccion_prophet(df, 4)\n",
    "borrados_sin_dias[9]['close'][:4] = nuevos_valores"
   ]
  },
  {
   "cell_type": "markdown",
   "metadata": {},
   "source": [
    "### Imputar 2018/2019\n",
    "---"
   ]
  },
  {
   "cell_type": "markdown",
   "metadata": {},
   "source": [
    "* Series temporales con datos desde 2018: **[0, 4, 10, 13, 21, 25]**"
   ]
  },
  {
   "cell_type": "markdown",
   "metadata": {},
   "source": [
    "Se extrae el nombre de las acciones que no están informadas en los años 2018/2019"
   ]
  },
  {
   "cell_type": "code",
   "execution_count": 40,
   "metadata": {},
   "outputs": [],
   "source": [
    "sin_2018 = list(set(range(26)).difference([0, 4, 10, 13, 21, 25]))"
   ]
  },
  {
   "cell_type": "code",
   "execution_count": 41,
   "metadata": {},
   "outputs": [],
   "source": [
    "titulos = list(pd.concat(dfs).symbol.unique())\n",
    "titulos_sin2018 = [titulos[e] for e in sin_2018]\n",
    "df_sin2018 = [borrados_sin_dias[e] for e in sin_2018]"
   ]
  },
  {
   "cell_type": "markdown",
   "metadata": {},
   "source": [
    "Se descarga la **información mediante la API de *yfinance*** desde la primera fecha hasta la última, para poder comparar los datos informados y sacar la variabilidad entre ambas fuentes de información."
   ]
  },
  {
   "cell_type": "code",
   "execution_count": 42,
   "metadata": {},
   "outputs": [],
   "source": [
    "def extraer_info(dataframe):\n",
    "    return dataframe.history(start = '2018-06-12', end = '2021-07-01', auto_adjust = False)\n",
    "\n",
    "df_yf = list(map(yf.Ticker, titulos_sin2018))\n",
    "df_yfinance = list(map(extraer_info, df_yf))"
   ]
  },
  {
   "cell_type": "markdown",
   "metadata": {},
   "source": [
    "Se añade el nombre de la acción a cada *dataframe*"
   ]
  },
  {
   "cell_type": "code",
   "execution_count": 43,
   "metadata": {},
   "outputs": [],
   "source": [
    "for dataframe, symb in zip(df_yfinance, titulos_sin2018): dataframe['symbol'] = symb"
   ]
  },
  {
   "cell_type": "markdown",
   "metadata": {},
   "source": [
    "Se puede observar cómo los datos descargados de la API *yfinance* **sufren algún tipo de desajuste temporal**, ya que, si a cada instancia de estos se les añade un día (el desajuste temporal observado), se concluye que ambas series temporales son casi identicas"
   ]
  },
  {
   "cell_type": "code",
   "execution_count": 44,
   "metadata": {},
   "outputs": [],
   "source": [
    "def sumar_dia(dataframe_entrada):\n",
    "    \n",
    "    dataframe = dataframe_entrada.copy()\n",
    "    dataframe = dataframe.reset_index()\n",
    "    dataframe.Date = dataframe.Date + timedelta(days = 1)\n",
    "    dataframe.columns = dataframe.columns.str.lower()\n",
    "    dataframe = dataframe.iloc[:-1]\n",
    "    \n",
    "    return dataframe[['date','open', 'close', 'volume', 'high', 'low', 'symbol']]\n",
    "\n",
    "df_yfinance = list(map(sumar_dia, df_yfinance))"
   ]
  },
  {
   "cell_type": "markdown",
   "metadata": {},
   "source": [
    "Aun así se opta por **calcular el porcentaje de diferencia entre ambas fuentes para poder aplicarlo a los datos que solo son de una fuente**"
   ]
  },
  {
   "cell_type": "code",
   "execution_count": 45,
   "metadata": {},
   "outputs": [],
   "source": [
    "def variabilidad_entre_fuentes(reto, finanzas):\n",
    "    \n",
    "    columns = ['open', 'close', 'volume', 'high', 'low']\n",
    "    common_dates = pd.to_datetime(list(set(finanzas.date.astype('str')).intersection(reto.date.dt.strftime('%Y-%m-%d').astype('str'))))\n",
    "\n",
    "    fin = finanzas.loc[finanzas.date.isin(common_dates), columns].reset_index(drop = True)\n",
    "    ret = reto.loc[reto.date.isin(common_dates), columns].reset_index(drop = True)\n",
    "\n",
    "    porcentajes = ((ret - fin) / fin).mean()\n",
    "\n",
    "    fecha_inicio = pd.to_datetime('2018-06-12')\n",
    "    fecha_fin = pd.to_datetime('2020-06-02')\n",
    "\n",
    "    resultado = finanzas.loc[(finanzas.date >= fecha_inicio) & (finanzas.date <= fecha_fin), columns] * (porcentajes + 1)\n",
    "    resultado['date'] = finanzas.loc[(finanzas.date >= fecha_inicio) & (finanzas.date <= fecha_fin), 'date']\n",
    "\n",
    "    return resultado\n",
    "\n",
    "df_2018 = list(map(variabilidad_entre_fuentes, df_sin2018, df_yfinance))"
   ]
  },
  {
   "cell_type": "markdown",
   "metadata": {},
   "source": [
    "Se **junta** y **se adecuan las fechas**"
   ]
  },
  {
   "cell_type": "code",
   "execution_count": 46,
   "metadata": {},
   "outputs": [],
   "source": [
    "b = 0\n",
    "for a in range(26):\n",
    "    borrados_sin_dias[a].date = pd.to_datetime(borrados_sin_dias[a].date.dt.strftime('%Y-%m-%d'))\n",
    "    if a in sin_2018:\n",
    "        borrados_sin_dias[a] = pd.concat([df_2018[b], borrados_sin_dias[a]]).reset_index(drop = True)\n",
    "        b += 1\n",
    "        \n",
    "    borrados_sin_dias[a] = borrados_sin_dias[a][borrados_sin_dias[a].date >= pd.to_datetime('2018-06-12')]"
   ]
  },
  {
   "cell_type": "markdown",
   "metadata": {},
   "source": [
    "* Observando los datos nos damos cuenta que no existe practciamente **ningún lunes, pero si todos los sábados**. Dicho esto y para asemejar los datos a los ya presentes se decide que estos sábados en verdad son lunes. Esto se debe al desajuste previamnete corregido."
   ]
  },
  {
   "cell_type": "code",
   "execution_count": 47,
   "metadata": {},
   "outputs": [],
   "source": [
    "df_imputar = list(set(range(26)).difference([0, 4, 10, 9, 13, 21, 25]))\n",
    "\n",
    "for x in df_imputar:\n",
    "    filtrados = borrados_sin_dias[x][borrados_sin_dias[x]['date'].isin(sabados)]\n",
    "    sabados_corregir, indices = list(filtrados.date.values), list(filtrados.index)\n",
    "    lunes_filtrados = [str(datetime.strptime(str(x)[:-19], \"%Y-%m-%d\") + timedelta(days = 2)) for x in sabados_corregir]\n",
    "    lunes_filtrados = [pd.to_datetime(x) for x in lunes_filtrados]\n",
    "    borrados_sin_dias[x].date.iloc[indices] = lunes_filtrados\n",
    "    borrados_sin_dias[x].date = pd.to_datetime(borrados_sin_dias[x].date)"
   ]
  },
  {
   "cell_type": "markdown",
   "metadata": {},
   "source": [
    "* Una vez relaizado el cambio de fechas se compruebas cuentas fechas coinciden en relación a los *dataframes* que ya contaban con datos hasta 2018"
   ]
  },
  {
   "cell_type": "code",
   "execution_count": 48,
   "metadata": {},
   "outputs": [],
   "source": [
    "fechas_coincidir = list(borrados_sin_dias[10].date.values)\n",
    "for x in df_imputar: \n",
    "    borrados_sin_dias[x] = (borrados_sin_dias[x].resample('1d', on = 'date').mean()).reset_index()\n",
    "    borrados_sin_dias[x] = borrados_sin_dias[x][borrados_sin_dias[x]['date'].isin(fechas_coincidir)]"
   ]
  },
  {
   "cell_type": "markdown",
   "metadata": {},
   "source": [
    "* Los nuevos datos **solo cuentan con 19 NAs**"
   ]
  },
  {
   "cell_type": "code",
   "execution_count": 49,
   "metadata": {},
   "outputs": [
    {
     "name": "stdout",
     "output_type": "stream",
     "text": [
      "[0, 19, 19, 19, 0, 19, 19, 19, 19, 0, 0, 19, 19, 0, 19, 19, 19, 19, 19, 19, 19, 0, 19, 19, 19, 0]\n"
     ]
    }
   ],
   "source": [
    "print([len(x[x['close'].isna()]) for x in borrados_sin_dias])"
   ]
  },
  {
   "cell_type": "markdown",
   "metadata": {},
   "source": [
    "* Estos se imputan mediante una **interpolación**"
   ]
  },
  {
   "cell_type": "code",
   "execution_count": 50,
   "metadata": {},
   "outputs": [],
   "source": [
    "for k, v in enumerate(borrados_sin_dias): v['open'], v['close']= v.open.interpolate(), v.close.interpolate()\n",
    "borrados_sin_dias = [x.reset_index(drop = True) for x in borrados_sin_dias]"
   ]
  },
  {
   "cell_type": "markdown",
   "metadata": {},
   "source": [
    "Se guardan los datos"
   ]
  },
  {
   "cell_type": "raw",
   "metadata": {},
   "source": [
    "guardar_pikle(borrados_sin_dias, 'dataframe_analizar')"
   ]
  },
  {
   "cell_type": "markdown",
   "metadata": {},
   "source": [
    "## Pruebas del prophet\n",
    "---"
   ]
  },
  {
   "cell_type": "code",
   "execution_count": 14,
   "metadata": {},
   "outputs": [],
   "source": [
    "borrados_sin_dias = abrir_pikle('dataframe_analizar')"
   ]
  },
  {
   "cell_type": "code",
   "execution_count": 45,
   "metadata": {},
   "outputs": [],
   "source": [
    "df = pd.DataFrame()\n",
    "df[['date','close']] =  borrados_sin_dias[1][['date','close']]\n",
    "df = df.rename(columns={'close': \"y\", 'date': 'ds'})\n",
    "df = df.sort_values('ds', ascending = True)"
   ]
  },
  {
   "cell_type": "code",
   "execution_count": 46,
   "metadata": {},
   "outputs": [],
   "source": [
    "m = Prophet(changepoint_prior_scale=0.5, yearly_seasonality=True, daily_seasonality=True, interval_width=0.85)\n",
    "model = m.fit(df)\n",
    "future = m.make_future_dataframe(periods=100, freq = \"D\")"
   ]
  },
  {
   "cell_type": "code",
   "execution_count": 47,
   "metadata": {},
   "outputs": [
    {
     "data": {
      "image/png": "[encoded data removed]",
      "text/plain": [
       "<Figure size 720x432 with 1 Axes>"
      ]
     },
     "metadata": {},
     "output_type": "display_data"
    }
   ],
   "source": [
    "forecast = m.predict(future)\n",
    "plotl = m.plot(forecast)"
   ]
  }
 ],
 "metadata": {
  "kernelspec": {
   "display_name": "Python 3",
   "language": "python",
   "name": "python3"
  },
  "language_info": {
   "codemirror_mode": {
    "name": "ipython",
    "version": 3
   },
   "file_extension": ".py",
   "mimetype": "text/x-python",
   "name": "python",
   "nbconvert_exporter": "python",
   "pygments_lexer": "ipython3",
   "version": "3.8.5"
  }
 },
 "nbformat": 4,
 "nbformat_minor": 4
}
