{
 "cells": [
  {
   "cell_type": "markdown",
   "id": "4adb8551",
   "metadata": {
    "id": "4adb8551"
   },
   "source": [
    "<center> \n",
    "<img src=\"https://upload.wikimedia.org/wikipedia/commons/5/5c/Logo_Mondragon_Unibertsitatea.png\" width=\"150\" height=\"100\" float =\"left\">\n",
    "<img src=\"data:image/png;base64,iVBORw0KGgoAAAANSUhEUgAAAPIAAADQCAMAAAAK0syrAAAAgVBMVEX///8AAAD7+/t6enrV1dWYmJjj4+Po6OjQ0NDx8fGIiIjq6ur39/fv7+/09PTf39+vr69xcXHGxsa5ubmfn59paWmnp6eTk5M8PDxZWVm9vb1eXl5ubm7BwcEzMzOHh4cnJycdHR0TExNPT09FRUUYGBhaWlpEREQ4ODgqKipjY2MMKFclAAAEmElEQVR4nO3ZaXOyPBQGYG52VzbFfQO1tf//Bz5JqArYzvSd8IK29/Whg4ymJyQ5WTAMIiIiIiIiIiIiIiIiIiIiIiIiIiIiIiIiIiIiIiIiIiIiIiKiXyXYdB1B2yxg0nUM7VoBWHcdRKumiO2/1cozbIwQQddhtMhH3zDO6DqMFpnYGsYYTtdxtGiKkWHs0Os6jvb4SA1jhGnXcbRoL7q1kcPrOo72JHANka6truNokazsGH8pXacwDeMNftdxtEjOTX3MdIrworipaNowET16g4VWGXvYDUXTCjFBBXIloiHU6yNtm8HwcDC1ynit1Gci7GGvV+PwtXZgMwSYa5YB6D2ylgH40Cyij10jobQkhXa8Lmor1WR/S/+2P9QsvXEBsNQtY4u8/DE+wHI/rzd4uv3oBPprrj5QWoaICjulge2FI93yG9WbN3C+F6M0Q9nbp2vVihRRqn3YNcK97wZ5MxU2jeR/OVC3T6JPL7SXEJmocnGW4p7l8Zm2wS5aA1EDJdULXqj4tLP129zEWV4EC6zqw3ZQydaelVuPfcq03crHqdy6zxp5eBWjCIuBIc9/NPc/K5i23FD4C6wfjlQmyEqfQsBaVKaHvhgGlugkSG63bNUGNrDXi6vOXeOteNwp9GbNHCNR63hzAeaPJ4WV2SDFxRSPuLT78ETuPItnHhxw/GzpQC1cZzjhoBVXjZ8jv270rB8P5SB10tivbhA9bE25DrmyqqtOq3ywJL42NHoZxvdbB/kb1cvEVJkve+qWvbQwFVVvbiz3ROnRffDk7z/7meiUKsByfjd3Kj1PcViqqoq+XTkT7pcX3l6GhR/hXOpUC1nedTcSi4yl/sV+HYpCjo29NVnmQFpuisNPzgWGM8gj3yUsb4fT8BbjWlZwUNqSTHC6/0rU6NbI40g9r6jcSXJ5p7xqG3oDBxd1GTW0+15+iCBqRxff9h/Pes+wSkbmQP5MtYWqgdyD7PrRu5iLiy5qlU9DrNsGxYPIS2Fx7Voi/75Vj09tzEWOQj3FA33T9OcNzO4j3zmK+j4uLb+bo0LZBPtihB6LfBqh+LuyVqtdeM3O4+ppykV2B0O2dyI69lFcDSYH7Mayjtl9PMVH+T08zkQj1fYfbv3+z02BbLtVcTtfDo5vquxAheOLlHtNN+Mivkst3/VLE4yhlmLis53Jpu8VT2xbPAS5Ll0lgRvETo6tav9088Um23Q1Xx/44WTmhPG3pXx9WC/GbjFCrXsWWapuWn//bNYPgMRT+phfW2+ThuWtY7JSfWeaDv5bJZr15Vh2EDvFOLRwiy5RGeXw0Mj1PGMv8tlTv8vD6vFeKBYQoZov3VInGIsuuzyh2kAuXu9VZfY4LydyNIYyZ/qVo225R6w3afiZrV7J40YqVF1apJ7JtPml/TOY1d8xTD7X/fY8izSmiifm11J2/w+8issqCyC1V/3tNqUl8vhS3uf8XtZtaZ98NWP9SmKpFQ6NYbLXP89+GcGHXAeeXm+G1RIET/cWhYiIiIiIiIiIiIiIiIiIiIiIiIiIiIiIiIiIiIiIiIiIiIiIiIiIqFn/AA1nKx7ECwr8AAAAAElFTkSuQmCC\" width=\"200\" height=\"120\" float =\"left\">    \n",
    "\n",
    "\n",
    "---\n",
    "<h3>Beñat Basabe, Jon Jarrín, June Pagaldai, Daniel Puente, Eneko Rentería | <font color='red'> Equipo Rojo<h3>"
   ]
  },
  {
   "cell_type": "markdown",
   "id": "0025202d",
   "metadata": {
    "id": "0025202d"
   },
   "source": [
    "## Análisis inicial\n",
    "En este script se detallarán los descriptivos obtenidos de este primer análisis. Tareas como detectar **cantidad de valores missing** o **outliers** entre otros."
   ]
  },
  {
   "cell_type": "markdown",
   "id": "50c9a77d",
   "metadata": {
    "id": "50c9a77d"
   },
   "source": [
    "### Carga de librerias \n",
    "---"
   ]
  },
  {
   "cell_type": "markdown",
   "id": "6c963a89",
   "metadata": {
    "id": "6c963a89"
   },
   "source": [
    "- **General**"
   ]
  },
  {
   "cell_type": "code",
   "execution_count": 1,
   "id": "47d8baeb",
   "metadata": {
    "executionInfo": {
     "elapsed": 328,
     "status": "ok",
     "timestamp": 1639141048326,
     "user": {
      "displayName": "Eneko Renteria Gabantxo",
      "photoUrl": "https://lh3.googleusercontent.com/a/default-user=s64",
      "userId": "11839893040904061534"
     },
     "user_tz": -60
    },
    "id": "47d8baeb"
   },
   "outputs": [],
   "source": [
    "import pandas as pd\n",
    "import numpy as np\n",
    "import glob\n",
    "import os\n",
    "import pickle\n",
    "\n",
    "def guardar_pikle(df, name):\n",
    "    with open(dir_out + str(name) + '.pkl', 'wb') as fp: pickle.dump(df, fp)\n",
    "\n",
    "def abrir_pikle(name):\n",
    "    with open(dir_out + str(name) + '.pkl', 'rb') as fp: df = pickle.load(fp)\n",
    "    return df"
   ]
  },
  {
   "cell_type": "markdown",
   "id": "f8d2c59d",
   "metadata": {
    "id": "f8d2c59d"
   },
   "source": [
    "- **Pyspark**"
   ]
  },
  {
   "cell_type": "code",
   "execution_count": 2,
   "id": "bb04edd4",
   "metadata": {
    "executionInfo": {
     "elapsed": 10,
     "status": "ok",
     "timestamp": 1639141048708,
     "user": {
      "displayName": "Eneko Renteria Gabantxo",
      "photoUrl": "https://lh3.googleusercontent.com/a/default-user=s64",
      "userId": "11839893040904061534"
     },
     "user_tz": -60
    },
    "id": "bb04edd4"
   },
   "outputs": [],
   "source": [
    "import pyspark\n",
    "from pyspark import SparkContext\n",
    "from pyspark.sql import SparkSession\n",
    "from pyspark.sql import SQLContext\n",
    "from pyspark import SparkFiles\n",
    "from pyspark.sql import functions as F\n",
    "import pyspark.sql.functions as f\n",
    "from pyspark.sql.functions import lit, trim, split, regexp_replace, when"
   ]
  },
  {
   "cell_type": "markdown",
   "id": "4c037de3",
   "metadata": {
    "id": "4c037de3"
   },
   "source": [
    "- **Strings**"
   ]
  },
  {
   "cell_type": "code",
   "execution_count": 3,
   "id": "1cac86bb",
   "metadata": {
    "executionInfo": {
     "elapsed": 11,
     "status": "ok",
     "timestamp": 1639141048710,
     "user": {
      "displayName": "Eneko Renteria Gabantxo",
      "photoUrl": "https://lh3.googleusercontent.com/a/default-user=s64",
      "userId": "11839893040904061534"
     },
     "user_tz": -60
    },
    "id": "1cac86bb"
   },
   "outputs": [],
   "source": [
    "from collections import Counter\n",
    "import re"
   ]
  },
  {
   "cell_type": "markdown",
   "id": "fdf59971",
   "metadata": {
    "id": "fdf59971"
   },
   "source": [
    "- **Visualización**"
   ]
  },
  {
   "cell_type": "code",
   "execution_count": 4,
   "id": "dc0398c1",
   "metadata": {
    "executionInfo": {
     "elapsed": 1104,
     "status": "ok",
     "timestamp": 1639141049805,
     "user": {
      "displayName": "Eneko Renteria Gabantxo",
      "photoUrl": "https://lh3.googleusercontent.com/a/default-user=s64",
      "userId": "11839893040904061534"
     },
     "user_tz": -60
    },
    "id": "dc0398c1"
   },
   "outputs": [],
   "source": [
    "import plotly.graph_objs as go\n",
    "import matplotlib.pyplot as plt\n",
    "import seaborn as sns\n",
    "import plotly.express as px"
   ]
  },
  {
   "cell_type": "markdown",
   "id": "3MzuEph_Z8Cg",
   "metadata": {
    "id": "3MzuEph_Z8Cg"
   },
   "source": [
    "* **Grafos**"
   ]
  },
  {
   "cell_type": "code",
   "execution_count": 5,
   "id": "-lxS1ncRZwDT",
   "metadata": {
    "executionInfo": {
     "elapsed": 10,
     "status": "ok",
     "timestamp": 1639141049807,
     "user": {
      "displayName": "Eneko Renteria Gabantxo",
      "photoUrl": "https://lh3.googleusercontent.com/a/default-user=s64",
      "userId": "11839893040904061534"
     },
     "user_tz": -60
    },
    "id": "-lxS1ncRZwDT"
   },
   "outputs": [],
   "source": [
    "import networkx as nx"
   ]
  },
  {
   "cell_type": "markdown",
   "id": "921c8285",
   "metadata": {},
   "source": [
    "- **Otros**"
   ]
  },
  {
   "cell_type": "code",
   "execution_count": 6,
   "id": "e484685c",
   "metadata": {},
   "outputs": [],
   "source": [
    "import itertools"
   ]
  },
  {
   "cell_type": "markdown",
   "id": "b4a8dfa5",
   "metadata": {
    "id": "b4a8dfa5"
   },
   "source": [
    "### Clases a utilizar\n",
    "---"
   ]
  },
  {
   "cell_type": "markdown",
   "id": "6217f1c6",
   "metadata": {
    "id": "6217f1c6"
   },
   "source": [
    "* Clase para **cargar de datos** (cd)"
   ]
  },
  {
   "cell_type": "markdown",
   "id": "4e1df441",
   "metadata": {
    "id": "4e1df441"
   },
   "source": [
    "Se fijan los **directorios** de entrada y salida"
   ]
  },
  {
   "cell_type": "code",
   "execution_count": 7,
   "id": "ef71a098",
   "metadata": {
    "executionInfo": {
     "elapsed": 6602,
     "status": "ok",
     "timestamp": 1639141056401,
     "user": {
      "displayName": "Eneko Renteria Gabantxo",
      "photoUrl": "https://lh3.googleusercontent.com/a/default-user=s64",
      "userId": "11839893040904061534"
     },
     "user_tz": -60
    },
    "id": "ef71a098"
   },
   "outputs": [],
   "source": [
    "dir_in, dir_out = \"../../datos/datos_originales/\", \"../../datos/datos_desarrollo/\"\n",
    "\n",
    "spark = SparkSession \\\n",
    "    .builder \\\n",
    "    .appName(\"how to read csv file\") \\\n",
    "    .getOrCreate()"
   ]
  },
  {
   "cell_type": "code",
   "execution_count": 8,
   "id": "10c2c247",
   "metadata": {
    "executionInfo": {
     "elapsed": 65,
     "status": "ok",
     "timestamp": 1639141056403,
     "user": {
      "displayName": "Eneko Renteria Gabantxo",
      "photoUrl": "https://lh3.googleusercontent.com/a/default-user=s64",
      "userId": "11839893040904061534"
     },
     "user_tz": -60
    },
    "id": "10c2c247"
   },
   "outputs": [],
   "source": [
    "class carga_datos:\n",
    "    ''' Cargar los datos desde el csv al python:\n",
    "    - subir_tablas: se suben los dataframes con los titulos deseados. Como input: una lista de dfs y una lista de titulos.\n",
    "    - subir_una_tabla: como input se especifica la tabla a subir.\n",
    "    '''\n",
    "    def __init__(self, dir_in = dir_in):\n",
    "        self.dir_in = dir_in\n",
    "        \n",
    "    def subir_tablas(self, dir_in):\n",
    "        try: \n",
    "            path = os.getcwd()\n",
    "            csv_files, dataframes_list = glob.glob(os.path.join(path, dir_in + \"*.csv\")), []\n",
    "            for i in csv_files:\n",
    "                temp_df = spark.read.csv(path = i, header = True, inferSchema = True)\n",
    "                dataframes_list.append(temp_df)\n",
    "  \n",
    "        except: pass\n",
    "            \n",
    "        return dataframes_list\n",
    "    def subir_una_tabla(self, dir_in, nombre_tabla):\n",
    "        return pd.read_csv(os.path.join(dir_in, nombre_tabla + \".csv\"))"
   ]
  },
  {
   "cell_type": "code",
   "execution_count": 9,
   "id": "2d547a1e",
   "metadata": {
    "executionInfo": {
     "elapsed": 63,
     "status": "ok",
     "timestamp": 1639141056404,
     "user": {
      "displayName": "Eneko Renteria Gabantxo",
      "photoUrl": "https://lh3.googleusercontent.com/a/default-user=s64",
      "userId": "11839893040904061534"
     },
     "user_tz": -60
    },
    "id": "2d547a1e"
   },
   "outputs": [],
   "source": [
    "cd = carga_datos ()"
   ]
  },
  {
   "cell_type": "markdown",
   "id": "b09ab5c8",
   "metadata": {
    "id": "b09ab5c8"
   },
   "source": [
    "## Funciones a utilizar\n",
    "---"
   ]
  },
  {
   "cell_type": "markdown",
   "id": "8ae999b7",
   "metadata": {
    "id": "8ae999b7"
   },
   "source": [
    "- Función para **dar nombre** a la variable **family_id** mediante la variable title"
   ]
  },
  {
   "cell_type": "code",
   "execution_count": 10,
   "id": "2b543aa1",
   "metadata": {
    "executionInfo": {
     "elapsed": 63,
     "status": "ok",
     "timestamp": 1639141056405,
     "user": {
      "displayName": "Eneko Renteria Gabantxo",
      "photoUrl": "https://lh3.googleusercontent.com/a/default-user=s64",
      "userId": "11839893040904061534"
     },
     "user_tz": -60
    },
    "id": "2b543aa1"
   },
   "outputs": [],
   "source": [
    "def get_family_name(id_):\n",
    "    \n",
    "    filtered = product.filter(product.family_id == id_)\n",
    "    string = ' '.join([x['title'] for x in filtered.select('title').collect()]).lower()\n",
    "    \n",
    "    return id_, Counter(string.split()).most_common(1)[0][0]"
   ]
  },
  {
   "cell_type": "markdown",
   "id": "ca1fe385",
   "metadata": {
    "id": "ca1fe385"
   },
   "source": [
    "- Función para crear los **sufijos** y facilitar el *join*"
   ]
  },
  {
   "cell_type": "code",
   "execution_count": 11,
   "id": "60cdbe9c",
   "metadata": {
    "executionInfo": {
     "elapsed": 63,
     "status": "ok",
     "timestamp": 1639141056407,
     "user": {
      "displayName": "Eneko Renteria Gabantxo",
      "photoUrl": "https://lh3.googleusercontent.com/a/default-user=s64",
      "userId": "11839893040904061534"
     },
     "user_tz": -60
    },
    "id": "60cdbe9c"
   },
   "outputs": [],
   "source": [
    "def rename_columns(df, suffix):\n",
    "    ''' Renombra las columnas de un dataframe.'''\n",
    "    for names in df.schema.names: df = df.withColumnRenamed(names,names + suffix)\n",
    "    return df"
   ]
  },
  {
   "cell_type": "markdown",
   "id": "20lh66ZdaJOU",
   "metadata": {
    "id": "20lh66ZdaJOU"
   },
   "source": [
    "* Función para conseguir valores únicos de una variable en *pyspark*"
   ]
  },
  {
   "cell_type": "code",
   "execution_count": 12,
   "id": "7e3KNGJEaGCt",
   "metadata": {
    "executionInfo": {
     "elapsed": 63,
     "status": "ok",
     "timestamp": 1639141056408,
     "user": {
      "displayName": "Eneko Renteria Gabantxo",
      "photoUrl": "https://lh3.googleusercontent.com/a/default-user=s64",
      "userId": "11839893040904061534"
     },
     "user_tz": -60
    },
    "id": "7e3KNGJEaGCt"
   },
   "outputs": [],
   "source": [
    "def get_value(dffs, variable):\n",
    "    return list(dffs.select(dffs[variable]).distinct().toPandas()[variable])"
   ]
  },
  {
   "cell_type": "markdown",
   "id": "fda1c70a",
   "metadata": {},
   "source": [
    "* Función que crea el grafo filtrando por temporada"
   ]
  },
  {
   "cell_type": "code",
   "execution_count": 13,
   "id": "61da94c7",
   "metadata": {},
   "outputs": [],
   "source": [
    "def sacar_productos(e, variable, tallas = False):\n",
    "    if tallas:\n",
    "        list_1 = df_para_filtrar[(df_para_filtrar[variable] == e[0]) | (df_para_filtrar[variable] == 'UNQ')].index.to_list()\n",
    "        list_2 = df_para_filtrar[(df_para_filtrar[variable] == e[1]) | (df_para_filtrar[variable] == 'UNQ')].index.to_list()\n",
    "    else:\n",
    "        list_1 = df_para_filtrar[df_para_filtrar[variable] == e[0]].index.to_list()\n",
    "        list_2 = df_para_filtrar[df_para_filtrar[variable] == e[1]].index.to_list()\n",
    "\n",
    "    return list(itertools.product(list_1, list_2))\n",
    "\n",
    "def create_graph(o):\n",
    "    \n",
    "    ##############\n",
    "    ##### DF #####  \n",
    "    ##############\n",
    "\n",
    "    ### Filtrar por temporada ###\n",
    "    df2 = df.filter(df.season == o)\n",
    "    \n",
    "    ### Conseguir variantes de productos únicos#####\n",
    "    vu_id_product = get_value(df2, 'id_product')\n",
    "    \n",
    "    ### Crear df para filtrar ###\n",
    "    df_para_filtrar = pd.DataFrame(vu_id_product).reset_index()\n",
    "    df_para_filtrar['family_product'] = pd.Series([e[0] for e in df_para_filtrar[0].str.split('_')])\n",
    "    df_para_filtrar['level'] = df_para_filtrar.family_product.map(niveles)\n",
    "    df_para_filtrar.columns = ['index', 'id_product', 'family_product', 'level']\n",
    "    \n",
    "    def sacar_productos(e, variable, tallas = False):\n",
    "        if tallas:\n",
    "            list_1 = df_para_filtrar[(df_para_filtrar[variable] == e[0]) | (df_para_filtrar[variable] == 'UNQ')].index.to_list()\n",
    "            list_2 = df_para_filtrar[(df_para_filtrar[variable] == e[1]) | (df_para_filtrar[variable] == 'UNQ')].index.to_list()\n",
    "        else:\n",
    "            list_1 = df_para_filtrar[df_para_filtrar[variable] == e[0]].index.to_list()\n",
    "            list_2 = df_para_filtrar[df_para_filtrar[variable] == e[1]].index.to_list()\n",
    "\n",
    "        return list(itertools.product(list_1, list_2))\n",
    "\n",
    "    #############\n",
    "    ### NODOS ###\n",
    "    #############\n",
    "\n",
    "    G = nx.Graph()\n",
    "    \n",
    "    for i in range(len(vu_id_product)):\n",
    "            G.add_node(i,\n",
    "                      color = vu_id_product[i].split('_')[1],\n",
    "                      size  = vu_id_product[i].split('_')[2],\n",
    "                      level = df_para_filtrar['level'][i])\n",
    "            \n",
    "    ###############        \n",
    "    ### ARISTAS ###\n",
    "    ###############\n",
    "\n",
    "    ### Aristas - Tallas ###\n",
    "    df_para_filtrar['talla'] = df_para_filtrar['id_product'].apply(lambda x:x.split('_')[-1])\n",
    "    orden_tallas = ['XXS', 'XS', 'S', 'M', 'L', 'XL', 'XXL', 'XXXL','X4XL']\n",
    "                \n",
    "    combinaciones_tallas_letra = []\n",
    "    for i in range(1, len(orden_tallas)): combinaciones_tallas_letra += [(orden_tallas[i - 1], orden_tallas[i])]\n",
    "    combinaciones_talla = list(map(sacar_productos, combinaciones_tallas_letra, ['talla'], [True]))[0]\n",
    "    \n",
    "    ### Aristas - Level ###\n",
    "    levels = get_value(df2.filter(df2.id_product.isin(vu_id_product)), 'level')\n",
    "    levels.sort()\n",
    "    tods = list(itertools.combinations(levels, 2))\n",
    "    tods.sort()\n",
    "    tods += [('3.2', '3.2')]\n",
    "    tods.remove(('1.1', '1.2'))\n",
    "\n",
    "    combinaciones_level = list(map(sacar_productos, tods, ['level']))[0]\n",
    "    \n",
    "    ### Se añaden todas las aristas ###\n",
    "    G.add_edges_from(list(set(combinaciones_level + combinaciones_talla)))\n",
    "\n",
    "    ### Se empieza poniendo un peso de 0 a todas las aristas ###\n",
    "    for x in G.edges(): G[x[0]][x[1]]['weight'] = 1\n",
    "    return G\n",
    "\n"
   ]
  },
  {
   "cell_type": "markdown",
   "id": "aee68e1d",
   "metadata": {
    "id": "aee68e1d"
   },
   "source": [
    "---"
   ]
  },
  {
   "cell_type": "code",
   "execution_count": 14,
   "id": "766d1436",
   "metadata": {
    "colab": {
     "base_uri": "https://localhost:8080/",
     "height": 183
    },
    "executionInfo": {
     "elapsed": 400,
     "status": "error",
     "timestamp": 1639141056747,
     "user": {
      "displayName": "Eneko Renteria Gabantxo",
      "photoUrl": "https://lh3.googleusercontent.com/a/default-user=s64",
      "userId": "11839893040904061534"
     },
     "user_tz": -60
    },
    "id": "766d1436",
    "outputId": "a25eb40a-0571-44b4-9a1a-d82248e841dc"
   },
   "outputs": [],
   "source": [
    "dfs = cd.subir_tablas(dir_in)\n",
    "titulos = os.listdir(dir_in)"
   ]
  },
  {
   "cell_type": "markdown",
   "id": "df01f48d",
   "metadata": {
    "id": "df01f48d"
   },
   "source": [
    "### Adecuar el *dataframe* size"
   ]
  },
  {
   "cell_type": "code",
   "execution_count": 15,
   "id": "36e1dc94",
   "metadata": {
    "executionInfo": {
     "elapsed": 354,
     "status": "aborted",
     "timestamp": 1639141056734,
     "user": {
      "displayName": "Eneko Renteria Gabantxo",
      "photoUrl": "https://lh3.googleusercontent.com/a/default-user=s64",
      "userId": "11839893040904061534"
     },
     "user_tz": -60
    },
    "id": "36e1dc94"
   },
   "outputs": [],
   "source": [
    "size = cd.subir_una_tabla(dir_in, 'size')\n",
    "size.to_csv(dir_out + 'size2.csv', sep = ';')\n",
    "dfs[-1] = spark.read.csv(path = dir_out + 'size2.csv', header = True, inferSchema = True, sep = ';')"
   ]
  },
  {
   "cell_type": "markdown",
   "id": "cae51d53",
   "metadata": {
    "id": "cae51d53"
   },
   "source": [
    "### Unión de *dataframes*"
   ]
  },
  {
   "cell_type": "markdown",
   "id": "5e658289",
   "metadata": {
    "id": "5e658289"
   },
   "source": [
    "<center> \n",
    "<img  src=\"../imagenes/diagrama.PNG\" height = 800> "
   ]
  },
  {
   "cell_type": "markdown",
   "id": "725102cf",
   "metadata": {
    "id": "725102cf"
   },
   "source": [
    "#### 1) df_total =  product variant + color + size + season"
   ]
  },
  {
   "cell_type": "markdown",
   "id": "36d47701",
   "metadata": {
    "id": "36d47701"
   },
   "source": [
    "- **Season**: No utilizar\n",
    "- **Size**: Utilizar solo la talla creada por *lookiero*\n",
    "- **Color**: Utilizar solo el nombre del color"
   ]
  },
  {
   "cell_type": "markdown",
   "id": "715505be",
   "metadata": {
    "id": "715505be"
   },
   "source": [
    "product_variant + size = 116 not used sizes NAN  \n",
    "product_variant_size + color = 1 not used color (mixt) NAN"
   ]
  },
  {
   "cell_type": "markdown",
   "id": "419c584a",
   "metadata": {
    "id": "419c584a"
   },
   "source": [
    "* Renombrar con sufijos para facilitar el *join*"
   ]
  },
  {
   "cell_type": "code",
   "execution_count": 16,
   "id": "bd03aee1",
   "metadata": {
    "executionInfo": {
     "elapsed": 354,
     "status": "aborted",
     "timestamp": 1639141056735,
     "user": {
      "displayName": "Eneko Renteria Gabantxo",
      "photoUrl": "https://lh3.googleusercontent.com/a/default-user=s64",
      "userId": "11839893040904061534"
     },
     "user_tz": -60
    },
    "id": "bd03aee1"
   },
   "outputs": [],
   "source": [
    "dfs[-1] = rename_columns(dfs[-1], '_size')\n",
    "dfs[1] = rename_columns(dfs[1], '_color')"
   ]
  },
  {
   "cell_type": "markdown",
   "id": "bcf3c26a",
   "metadata": {
    "id": "bcf3c26a"
   },
   "source": [
    "* Se junta los 2 dataframes en uno solo."
   ]
  },
  {
   "cell_type": "code",
   "execution_count": 17,
   "id": "afd4021a",
   "metadata": {
    "executionInfo": {
     "elapsed": 355,
     "status": "aborted",
     "timestamp": 1639141056736,
     "user": {
      "displayName": "Eneko Renteria Gabantxo",
      "photoUrl": "https://lh3.googleusercontent.com/a/default-user=s64",
      "userId": "11839893040904061534"
     },
     "user_tz": -60
    },
    "id": "afd4021a"
   },
   "outputs": [],
   "source": [
    "df_total = dfs[10].join(dfs[-1].select('id_size','lookiero_size'), dfs[10].size_id == dfs[-1].id_size, \"inner\").drop('id_size', 'size_id')\n",
    "df_total = df_total.join(dfs[1].select('id_color', 'name_color'), df_total.color_id == dfs[1].id_color).drop('id_color', 'color_id', 'legacy_id', 'barcode')\n",
    "df_total = df_total.withColumn(\"publishable\", when(df_total.publishable == \"f\",False).when(df_total.publishable == \"t\",True))\n",
    "df_total = df_total.withColumnRenamed(\"lookiero_size\",\"size_lookiero\") \\\n",
    "    .withColumnRenamed(\"name_color\",\"color\")"
   ]
  },
  {
   "cell_type": "markdown",
   "id": "57471259-e239-41ae-a4c5-093ad82125a3",
   "metadata": {},
   "source": [
    "* Se modifica la variable size_lookiero para que tenga formato legible"
   ]
  },
  {
   "cell_type": "code",
   "execution_count": 18,
   "id": "e27da01c-478e-4193-9966-caa303e0f919",
   "metadata": {},
   "outputs": [],
   "source": [
    "df_total = df_total.withColumn('size_lookiero', split(df_total['size_lookiero'], ':').getItem(1))\n",
    "df_total = df_total.withColumn('size_lookiero', regexp_replace('size_lookiero', '\"\"', ''))\n",
    "df_total = df_total.withColumn('size_lookiero', split(df_total['size_lookiero'], ',').getItem(0))\n",
    "df_total = df_total.withColumn('size_lookiero', trim(f.col(\"size_lookiero\")))"
   ]
  },
  {
   "cell_type": "markdown",
   "id": "274e8ce2-5701-4509-ab89-f9e14e3daf26",
   "metadata": {},
   "source": [
    "#### 2) df_total += product"
   ]
  },
  {
   "cell_type": "markdown",
   "id": "feb4f515-4636-488e-89f8-e34ec75b0912",
   "metadata": {},
   "source": [
    "product_variant + product = 41291 (63'3%) with no product_family or brand NAN"
   ]
  },
  {
   "cell_type": "markdown",
   "id": "0de7743d-8b7a-4447-8827-d507b97fb0f2",
   "metadata": {},
   "source": [
    "- **Product**: Dar nombre a la variable family_id y eliminar *legacy_id* y *channels*"
   ]
  },
  {
   "cell_type": "markdown",
   "id": "ca008ef5-052f-4809-bd55-4d41dfb6a52d",
   "metadata": {},
   "source": [
    "* Crear las parejas"
   ]
  },
  {
   "cell_type": "code",
   "execution_count": 19,
   "id": "b19a9026-5fad-4dfc-8422-a585f228ff03",
   "metadata": {},
   "outputs": [],
   "source": [
    "product = dfs[7].drop('legacy_id', 'channels')\n",
    "\n",
    "unique_values_family =  [x['family_id'] for x in product.select('family_id').distinct().collect()]\n",
    "parejas = dict(map(get_family_name, unique_values_family))\n",
    "product = product.withColumn(\"product_family\", product[\"family_id\"])"
   ]
  },
  {
   "cell_type": "markdown",
   "id": "aef878ab-3cb0-48f9-a718-da8350ab56b2",
   "metadata": {},
   "source": [
    "* Mapear las parejas creadas"
   ]
  },
  {
   "cell_type": "code",
   "execution_count": 20,
   "id": "e1e94fa8-d1ee-4c13-bca8-69ed92b76e22",
   "metadata": {},
   "outputs": [],
   "source": [
    "for k, v in enumerate(unique_values_family): \n",
    "    product = product.withColumn('product_family', regexp_replace('product_family', v, str(parejas[v])))"
   ]
  },
  {
   "cell_type": "markdown",
   "id": "b70eeec1-1015-4880-b444-a4969f4652a7",
   "metadata": {},
   "source": [
    "* Renombra la columna a la hora de unir"
   ]
  },
  {
   "cell_type": "code",
   "execution_count": 21,
   "id": "af1014fd-48c9-4439-835b-95548040e60a",
   "metadata": {},
   "outputs": [],
   "source": [
    "product = product.drop('family_id', 'title', '\"\"\"group\"\"\"')\n",
    "product = rename_columns(product, '_product')\n",
    "\n",
    "df_total = df_total.join(product, df_total.product_id == product.id_product).drop('product_id')\n",
    "df_total = df_total.withColumnRenamed(\"product_family_product\",\"family_product\")"
   ]
  },
  {
   "cell_type": "markdown",
   "id": "65ecc4cb-1c08-40c7-8ec5-89f1d04b6adf",
   "metadata": {},
   "source": [
    "#### 3) df_total += brand"
   ]
  },
  {
   "cell_type": "markdown",
   "id": "51378895-e226-4c02-9736-834c818f8ee1",
   "metadata": {},
   "source": [
    "- **brand**: No utilizar variable number"
   ]
  },
  {
   "cell_type": "markdown",
   "id": "a014d75c-049e-4386-b777-9bdb74b3a72f",
   "metadata": {},
   "source": [
    "df_total + brand = 0 NAN"
   ]
  },
  {
   "cell_type": "code",
   "execution_count": 22,
   "id": "d3cfc746-2179-4fee-81a8-ec746735647d",
   "metadata": {},
   "outputs": [],
   "source": [
    "brand = dfs[0].drop('number')\n",
    "brand = brand.withColumnRenamed(\"id\",\"id\").withColumnRenamed(\"name\",\"brand\").withColumnRenamed(\"origin\",\"brand_origin\")\n",
    "brand = rename_columns(brand, '_brand')\n",
    "df_total = df_total.join(brand, df_total.brand_id_product == brand.id_brand).drop('brand_id_product','brand_id', 'id_brand')\n",
    "df_total = df_total.withColumnRenamed(\"brand_brand\", \"name_brand\").withColumnRenamed(\"brand_origin_brand\", \"origin_brand\")"
   ]
  },
  {
   "cell_type": "markdown",
   "id": "a3db823b-c077-4018-9556-c7138dd05108",
   "metadata": {},
   "source": [
    "#### 4) values = feature values + feature (*value caracteristics*)"
   ]
  },
  {
   "cell_type": "markdown",
   "id": "b412444c-7db5-4f6c-ac53-2ed03cfbb00a",
   "metadata": {},
   "source": [
    "- **feature**: Multiple convertir en booleano (borrar??) y para poder eliminar la variable unit pasar los porcentajes a decimales (para diferenciarlos)"
   ]
  },
  {
   "cell_type": "markdown",
   "id": "564b18e6-463f-4a18-ae4a-89dc6158cde0",
   "metadata": {},
   "source": [
    "feature + feature_value = 1 value caracteristic not used NAN"
   ]
  },
  {
   "cell_type": "code",
   "execution_count": 23,
   "id": "502debe6-cda2-4100-9c41-c08d35cbdc5c",
   "metadata": {},
   "outputs": [],
   "source": [
    "feature = dfs[3]\n",
    "feature = feature.withColumn(\"multiple\", when(feature.multiple == \"f\",False).when(feature.multiple == \"t\",True))\n",
    "column_names = ['id', 'feature_name', 'feature_type', 'feature_multiple', 'unit']\n",
    "\n",
    "for k, v in enumerate(column_names):  feature = feature.withColumnRenamed(feature.schema.names[k], v)\n",
    "feature_value = dfs[5]\n",
    "feature = rename_columns(feature, '_values')\n",
    "values = feature_value.join(feature, feature_value.feature_id == feature.id_values).drop('feature_id','id_values', 'feature_type_values', 'unit_values')"
   ]
  },
  {
   "cell_type": "markdown",
   "id": "6d20b585-201a-4645-afd8-0f5cd6b3f062",
   "metadata": {},
   "source": [
    "### **Hay que corregirlo pero no sé cómo**\t"
   ]
  },
  {
   "cell_type": "raw",
   "id": "d71659bb-d84d-48c5-b6f1-04b5090cf3c7",
   "metadata": {},
   "source": [
    "values.select('value').filter(values.unit_values == 'PERCENTAGE').withColumn('value', f.col('value')/100).show()"
   ]
  },
  {
   "cell_type": "markdown",
   "id": "65aa6842-db67-4aa0-8388-79f181adde88",
   "metadata": {},
   "source": [
    "feature_family no sirve para nada **creo** por lo que las siguientes celda en raw"
   ]
  },
  {
   "cell_type": "markdown",
   "id": "8b2731b8-b80c-4d48-a4f6-1a21411e54b3",
   "metadata": {},
   "source": [
    "#### 5) values + value family"
   ]
  },
  {
   "cell_type": "code",
   "execution_count": 24,
   "id": "292c85b8-954b-497e-a630-6562dce53a8a",
   "metadata": {},
   "outputs": [],
   "source": [
    "for k, v in enumerate(['feature_family', 'feature_value_id']):  dfs[6] = dfs[6].withColumnRenamed(dfs[6].schema.names[k], v)\n",
    "values = values.join(dfs[6], values.id == dfs[6].feature_value_id).drop('feature_value_id')"
   ]
  },
  {
   "cell_type": "markdown",
   "id": "ff5b1a3c-959e-4a14-9965-f94ece489aff",
   "metadata": {},
   "source": [
    "#### 6) product_values = values + product_feature_value"
   ]
  },
  {
   "cell_type": "markdown",
   "id": "1b261180-acf4-44a0-a324-8acacb805d90",
   "metadata": {},
   "source": [
    "values + product_feature_value = 1420 (1'84%) caracteristics that has no product NAN"
   ]
  },
  {
   "cell_type": "code",
   "execution_count": 25,
   "id": "51a26f61-03af-4ba4-a77a-0b1ab592cf13",
   "metadata": {},
   "outputs": [],
   "source": [
    "values = values.withColumnRenamed('id', 'id_values')\n",
    "dfs[8] = dfs[8].withColumnRenamed('id', 'id_product_feature')\n",
    "product_values = values.join(dfs[8], values.id_values == dfs[8].feature_value_id).drop('feature_value_id')"
   ]
  },
  {
   "cell_type": "markdown",
   "id": "dccac618-b573-4c72-a0e8-e2dd165864a7",
   "metadata": {},
   "source": [
    "#### 7) product_values + df_total"
   ]
  },
  {
   "cell_type": "markdown",
   "id": "15026a69-7265-4145-9edd-0c514d0d8ed4",
   "metadata": {},
   "source": [
    "products + features = 383 (0'06%) products without caracteristics NAN"
   ]
  },
  {
   "cell_type": "code",
   "execution_count": 26,
   "id": "7a1c1131-f7c3-47f9-a0a9-b1862205ba70",
   "metadata": {},
   "outputs": [],
   "source": [
    "df = df_total.join(product_values, df_total.id_product == product_values.product_id).drop('product_id')"
   ]
  },
  {
   "cell_type": "markdown",
   "id": "e72785de-d6b7-42d2-82f3-ef67c66d76ef",
   "metadata": {},
   "source": [
    "* Adecuar variables para la comprensión"
   ]
  },
  {
   "cell_type": "code",
   "execution_count": 27,
   "id": "61b7c469-1930-499c-bdac-af1b207291ca",
   "metadata": {},
   "outputs": [],
   "source": [
    "df = df.drop('id_values', 'multiple_values') # id_product_feature\n",
    "df = df.withColumnRenamed('feature_multiple_values', 'multiple_values').withColumnRenamed('feature_name_values','name_feature')\n",
    "df = df.withColumn('id_product', f.concat(f.col('family_product'), lit('_'), f.col('color') , lit('_'), f.col('size_lookiero'), lit('_'), f.col('season')))\n",
    "df = df.withColumn('id_product_feature', f.concat(f.col('name_feature'), lit('_'), f.col('value')))"
   ]
  },
  {
   "cell_type": "markdown",
   "id": "67e1cdcb-11a2-4b2f-982d-b7fb27d86d4c",
   "metadata": {},
   "source": [
    "- id = Un único producto (se repite pork tiene diferentes features)  \n",
    "- id_product = El producto en general (niki manga larga)  \n",
    "- id_values = id de una característica (**borrado**)     \n",
    "- id_product_feature = id de la característica de un producto en general (id_product)(**borrado**)"
   ]
  },
  {
   "cell_type": "code",
   "execution_count": 28,
   "id": "66050c14-8c45-4d59-ab45-cf99cc444108",
   "metadata": {},
   "outputs": [
    {
     "name": "stdout",
     "output_type": "stream",
     "text": [
      "(14285646, 15)\n",
      "+--------------------+------+-----+-----------+-------------+---------+--------------------+--------------+----------+-------------+-----+------------+---------------+--------------------+------------------+\n",
      "|                  id|season|stock|publishable|size_lookiero|    color|          id_product|family_product|name_brand| origin_brand|value|name_feature|multiple_values|      feature_family|id_product_feature|\n",
      "+--------------------+------+-----+-----------+-------------+---------+--------------------+--------------+----------+-------------+-----+------------+---------------+--------------------+------------------+\n",
      "|498662e5-11e8-483...|     8|    0|       true|            M|     ecru|   cardigan_ecru_M_8|      cardigan|  BRAND112|NO_MAINSTREAM|   55| hip_contour|          false|c6b81db8-29ed-43d...|    hip_contour_55|\n",
      "|dcda2fe4-58e3-4b2...|     8|    0|       true|            S|     ecru|   cardigan_ecru_S_8|      cardigan|  BRAND112|NO_MAINSTREAM|   55| hip_contour|          false|c6b81db8-29ed-43d...|    hip_contour_55|\n",
      "|d54e064c-9f90-4ea...|     8|    0|       true|            L|     ecru|   cardigan_ecru_L_8|      cardigan|  BRAND112|NO_MAINSTREAM|   55| hip_contour|          false|c6b81db8-29ed-43d...|    hip_contour_55|\n",
      "|3112fc7f-5b4d-4c3...|     8|    0|       true|            S|    brown|  cardigan_brown_S_8|      cardigan|  BRAND112|NO_MAINSTREAM|   55| hip_contour|          false|c6b81db8-29ed-43d...|    hip_contour_55|\n",
      "|96cf8feb-0b2b-49e...|     8|    0|       true|            L|    brown|  cardigan_brown_L_8|      cardigan|  BRAND112|NO_MAINSTREAM|   55| hip_contour|          false|c6b81db8-29ed-43d...|    hip_contour_55|\n",
      "|50e96bc9-2835-43d...|     8|    0|       true|            M|    brown|  cardigan_brown_M_8|      cardigan|  BRAND112|NO_MAINSTREAM|   55| hip_contour|          false|c6b81db8-29ed-43d...|    hip_contour_55|\n",
      "|ec5dfb5d-23bc-43f...|     9|    0|       true|            M|blue_dark|cardigan_blue_dar...|      cardigan|   BRAND66|   MAINSTREAM|   55| hip_contour|          false|c6b81db8-29ed-43d...|    hip_contour_55|\n",
      "|cecf6003-73a1-4d9...|     9|    0|       true|           XL|    beige| cardigan_beige_XL_9|      cardigan|   BRAND66|   MAINSTREAM|   55| hip_contour|          false|c6b81db8-29ed-43d...|    hip_contour_55|\n",
      "|57fb4566-530d-46e...|     9|    0|       true|            S|    black|  cardigan_black_S_9|      cardigan|   BRAND66|   MAINSTREAM|   55| hip_contour|          false|c6b81db8-29ed-43d...|    hip_contour_55|\n",
      "|b23ec26f-b571-46c...|     9|    0|       true|          XXL|blue_dark|cardigan_blue_dar...|      cardigan|   BRAND66|   MAINSTREAM|   55| hip_contour|          false|c6b81db8-29ed-43d...|    hip_contour_55|\n",
      "|10653760-e3b1-421...|     9|    0|       true|            S|    beige|  cardigan_beige_S_9|      cardigan|   BRAND66|   MAINSTREAM|   55| hip_contour|          false|c6b81db8-29ed-43d...|    hip_contour_55|\n",
      "|acb83c8b-288d-462...|     9|    0|       true|           XS|blue_dark|cardigan_blue_dar...|      cardigan|   BRAND66|   MAINSTREAM|   55| hip_contour|          false|c6b81db8-29ed-43d...|    hip_contour_55|\n",
      "|e56134e3-584a-42e...|     9|    0|       true|           XL|blue_dark|cardigan_blue_dar...|      cardigan|   BRAND66|   MAINSTREAM|   55| hip_contour|          false|c6b81db8-29ed-43d...|    hip_contour_55|\n",
      "|b595246f-9569-426...|     9|    0|       true|            L|blue_dark|cardigan_blue_dar...|      cardigan|   BRAND66|   MAINSTREAM|   55| hip_contour|          false|c6b81db8-29ed-43d...|    hip_contour_55|\n",
      "|6e0015ac-225a-4c2...|     9|    0|       true|           XS|    beige| cardigan_beige_XS_9|      cardigan|   BRAND66|   MAINSTREAM|   55| hip_contour|          false|c6b81db8-29ed-43d...|    hip_contour_55|\n",
      "|24892775-57ae-429...|     9|    0|       true|            M|    beige|  cardigan_beige_M_9|      cardigan|   BRAND66|   MAINSTREAM|   55| hip_contour|          false|c6b81db8-29ed-43d...|    hip_contour_55|\n",
      "|b55e860b-7e1e-443...|     9|    0|       true|            L|    beige|  cardigan_beige_L_9|      cardigan|   BRAND66|   MAINSTREAM|   55| hip_contour|          false|c6b81db8-29ed-43d...|    hip_contour_55|\n",
      "|97b306bc-5a92-434...|     9|    0|       true|            S|blue_dark|cardigan_blue_dar...|      cardigan|   BRAND66|   MAINSTREAM|   55| hip_contour|          false|c6b81db8-29ed-43d...|    hip_contour_55|\n",
      "|7104625e-98cb-49a...|     9|    0|       true|          XXL|    beige|cardigan_beige_XXL_9|      cardigan|   BRAND66|   MAINSTREAM|   55| hip_contour|          false|c6b81db8-29ed-43d...|    hip_contour_55|\n",
      "|1bd0ff8d-aa57-4a3...|     8|    0|       true|            M|    taupe|   sweater_taupe_M_8|       sweater|  BRAND132|NO_MAINSTREAM|   55| hip_contour|          false|c6b81db8-29ed-43d...|    hip_contour_55|\n",
      "+--------------------+------+-----+-----------+-------------+---------+--------------------+--------------+----------+-------------+-----+------------+---------------+--------------------+------------------+\n",
      "only showing top 20 rows\n",
      "\n"
     ]
    }
   ],
   "source": [
    "print((df.count(), len(df.columns)))\n",
    "df.show()"
   ]
  },
  {
   "cell_type": "markdown",
   "id": "a87a3002",
   "metadata": {
    "id": "a87a3002"
   },
   "source": [
    "### Relaciones\n",
    "---"
   ]
  },
  {
   "cell_type": "markdown",
   "id": "a4bb04d7",
   "metadata": {
    "id": "a4bb04d7"
   },
   "source": [
    "* Crear variables para verificar reglas"
   ]
  },
  {
   "cell_type": "code",
   "execution_count": 29,
   "id": "94050b3f",
   "metadata": {
    "id": "94050b3f"
   },
   "outputs": [],
   "source": [
    "niveles = {'jumpsuit': '1.1', \n",
    "           'dress': '1.1',\n",
    "           \n",
    "           'jeans': '1.2',\n",
    "           'skirt': '1.2',\n",
    "           'short': '1.2',\n",
    "           'pant': '1.2',\n",
    "          \n",
    "           'shirt': '2.1',\n",
    "           'top': '2.1',\n",
    "           'tshirt': '2.1',\n",
    "          \n",
    "           'sweater': '2.2',\n",
    "           'sweatshirt': '2.2',\n",
    "           'cardigan': '2.2',\n",
    "          \n",
    "           'trench': '3.1',\n",
    "           'coat': '3.1',\n",
    "           'parka': '3.1',\n",
    "           'jacket': '3.1',\n",
    "          \n",
    "           'bag': '3.2',\n",
    "           'scarf': '3.2'}\n",
    "\n",
    "df = df.withColumn('level', df['family_product'])\n",
    "df = df.na.replace(niveles, subset = ['level'])"
   ]
  },
  {
   "cell_type": "markdown",
   "id": "abfa5daf",
   "metadata": {
    "id": "abfa5daf"
   },
   "source": [
    "**COMBINACIONES NO POSIBLES:**\n",
    "- 1.2 + 3.2 + 3.2 (*falta parte de arriba*)\n",
    "- 2.1 + 2.1 (*demasiados nikis*)\n",
    "- 2.2 + 2.2 (*demasiados jerses*)\n",
    "- 3.1 + 3.1 (*demasiadas txammaras*)"
   ]
  },
  {
   "cell_type": "markdown",
   "id": "1fd77bf1",
   "metadata": {},
   "source": [
    "### Guardamos datos\n",
    "---"
   ]
  },
  {
   "cell_type": "raw",
   "id": "7f37a465",
   "metadata": {},
   "source": [
    "count = 1\n",
    "productos = get_value(df, 'family_product')\n",
    "for x in productos:\n",
    "    df_guardar = df.filter(df.family_product == x).toPandas()\n",
    "    df_guardar.to_csv(dir_out + 'lookiero_' + x + '.csv', index=False)\n",
    "    print(count, '/',len(productos))\n",
    "    count += 1"
   ]
  },
  {
   "cell_type": "code",
   "execution_count": 53,
   "id": "f31d1d99",
   "metadata": {},
   "outputs": [],
   "source": [
    "df_total_pd = df_total.toPandas()\n",
    "df_total_pd.to_csv(dir_out + 'df_total.csv', index=False)"
   ]
  },
  {
   "cell_type": "markdown",
   "id": "c13c29e9",
   "metadata": {},
   "source": [
    "---"
   ]
  }
 ],
 "metadata": {
  "colab": {
   "name": "00_analisis_inicial.ipynb",
   "provenance": []
  },
  "kernelspec": {
   "display_name": "Python 3 (ipykernel)",
   "language": "python",
   "name": "python3"
  },
  "language_info": {
   "codemirror_mode": {
    "name": "ipython",
    "version": 3
   },
   "file_extension": ".py",
   "mimetype": "text/x-python",
   "name": "python",
   "nbconvert_exporter": "python",
   "pygments_lexer": "ipython3",
   "version": "3.8.5"
  }
 },
 "nbformat": 4,
 "nbformat_minor": 5
}
