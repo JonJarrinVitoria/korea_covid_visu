{
 "cells": [
  {
   "cell_type": "markdown",
   "metadata": {},
   "source": [
    "<center> \n",
    "<img src=\"https://upload.wikimedia.org/wikipedia/commons/5/5c/Logo_Mondragon_Unibertsitatea.png\" width=\"150\" height=\"100\" float =\"left\">\n",
    "<img src=\"data:image/png;base64,iVBORw0KGgoAAAANSUhEUgAAAPIAAADQCAMAAAAK0syrAAAAgVBMVEX///8AAAD7+/t6enrV1dWYmJjj4+Po6OjQ0NDx8fGIiIjq6ur39/fv7+/09PTf39+vr69xcXHGxsa5ubmfn59paWmnp6eTk5M8PDxZWVm9vb1eXl5ubm7BwcEzMzOHh4cnJycdHR0TExNPT09FRUUYGBhaWlpEREQ4ODgqKipjY2MMKFclAAAEmElEQVR4nO3ZaXOyPBQGYG52VzbFfQO1tf//Bz5JqArYzvSd8IK29/Whg4ymJyQ5WTAMIiIiIiIiIiIiIiIiIiIiIiIiIiIiIiIiIiIiIiIiIiIiIiKiXyXYdB1B2yxg0nUM7VoBWHcdRKumiO2/1cozbIwQQddhtMhH3zDO6DqMFpnYGsYYTtdxtGiKkWHs0Os6jvb4SA1jhGnXcbRoL7q1kcPrOo72JHANka6truNokazsGH8pXacwDeMNftdxtEjOTX3MdIrworipaNowET16g4VWGXvYDUXTCjFBBXIloiHU6yNtm8HwcDC1ynit1Gci7GGvV+PwtXZgMwSYa5YB6D2ylgH40Cyij10jobQkhXa8Lmor1WR/S/+2P9QsvXEBsNQtY4u8/DE+wHI/rzd4uv3oBPprrj5QWoaICjulge2FI93yG9WbN3C+F6M0Q9nbp2vVihRRqn3YNcK97wZ5MxU2jeR/OVC3T6JPL7SXEJmocnGW4p7l8Zm2wS5aA1EDJdULXqj4tLP129zEWV4EC6zqw3ZQydaelVuPfcq03crHqdy6zxp5eBWjCIuBIc9/NPc/K5i23FD4C6wfjlQmyEqfQsBaVKaHvhgGlugkSG63bNUGNrDXi6vOXeOteNwp9GbNHCNR63hzAeaPJ4WV2SDFxRSPuLT78ETuPItnHhxw/GzpQC1cZzjhoBVXjZ8jv270rB8P5SB10tivbhA9bE25DrmyqqtOq3ywJL42NHoZxvdbB/kb1cvEVJkve+qWvbQwFVVvbiz3ROnRffDk7z/7meiUKsByfjd3Kj1PcViqqoq+XTkT7pcX3l6GhR/hXOpUC1nedTcSi4yl/sV+HYpCjo29NVnmQFpuisNPzgWGM8gj3yUsb4fT8BbjWlZwUNqSTHC6/0rU6NbI40g9r6jcSXJ5p7xqG3oDBxd1GTW0+15+iCBqRxff9h/Pes+wSkbmQP5MtYWqgdyD7PrRu5iLiy5qlU9DrNsGxYPIS2Fx7Voi/75Vj09tzEWOQj3FA33T9OcNzO4j3zmK+j4uLb+bo0LZBPtihB6LfBqh+LuyVqtdeM3O4+ppykV2B0O2dyI69lFcDSYH7Mayjtl9PMVH+T08zkQj1fYfbv3+z02BbLtVcTtfDo5vquxAheOLlHtNN+Mivkst3/VLE4yhlmLis53Jpu8VT2xbPAS5Ll0lgRvETo6tav9088Um23Q1Xx/44WTmhPG3pXx9WC/GbjFCrXsWWapuWn//bNYPgMRT+phfW2+ThuWtY7JSfWeaDv5bJZr15Vh2EDvFOLRwiy5RGeXw0Mj1PGMv8tlTv8vD6vFeKBYQoZov3VInGIsuuzyh2kAuXu9VZfY4LydyNIYyZ/qVo225R6w3afiZrV7J40YqVF1apJ7JtPml/TOY1d8xTD7X/fY8izSmiifm11J2/w+8issqCyC1V/3tNqUl8vhS3uf8XtZtaZ98NWP9SmKpFQ6NYbLXP89+GcGHXAeeXm+G1RIET/cWhYiIiIiIiIiIiIiIiIiIiIiIiIiIiIiIiIiIiIiIiIiIiIiIiIiIqFn/AA1nKx7ECwr8AAAAAElFTkSuQmCC\" width=\"200\" height=\"120\" float =\"left\">    \n",
    "\n",
    "\n",
    "---\n",
    "<h3>Beñat Basabe, Jon Jarrín, June Pagaldai, Daniel Puente, Eneko Rentería | <font color='red'> Equipo Rojo<h3>"
   ]
  },
  {
   "cell_type": "markdown",
   "metadata": {},
   "source": [
    "## Análisis inicial\n",
    "En este script se detallarán los descriptivos obtenidos de este primer análisis. Tareas como detectar **cantidad de valores missing** o **outliers** entre otros."
   ]
  },
  {
   "cell_type": "markdown",
   "metadata": {},
   "source": [
    "### Carga de librerias \n",
    "---"
   ]
  },
  {
   "cell_type": "markdown",
   "metadata": {},
   "source": [
    "- **General**"
   ]
  },
  {
   "cell_type": "code",
   "execution_count": 1,
   "metadata": {
    "scrolled": false
   },
   "outputs": [],
   "source": [
    "import pandas as pd\n",
    "import numpy as np\n",
    "import glob\n",
    "import os"
   ]
  },
  {
   "cell_type": "code",
   "execution_count": 2,
   "id": "8060b193",
   "metadata": {},
   "outputs": [],
   "source": [
    "import matplotlib.pyplot as plt\n",
    "import seaborn as sns\n",
    "import plotly.graph_objects as go\n",
    "import plotly.express as px"
   ]
  },
  {
   "cell_type": "code",
   "execution_count": 3,
   "metadata": {},
   "outputs": [],
   "source": [
    "import pyspark\n",
    "from pyspark import SparkContext\n",
    "from pyspark.sql import SparkSession\n",
    "from pyspark.sql import SQLContext\n",
    "from pyspark import SparkFiles\n",
    "from pyspark.sql import functions as F\n",
    "from pyspark.sql.functions import lit\n",
    "\n",
    "from pyspark.sql.functions import split\n",
    "import pyspark.sql.functions as f\n",
    "from pyspark.sql.functions import regexp_replace"
   ]
  },
  {
   "cell_type": "markdown",
   "metadata": {},
   "source": [
    "- **Strings**"
   ]
  },
  {
   "cell_type": "code",
   "execution_count": 4,
   "metadata": {},
   "outputs": [],
   "source": [
    "from collections import Counter\n",
    "from pyspark.sql.functions import when\n",
    "import re"
   ]
  },
  {
   "cell_type": "markdown",
   "metadata": {},
   "source": [
    "### Clases a utilizar\n",
    "---"
   ]
  },
  {
   "cell_type": "markdown",
   "metadata": {},
   "source": [
    "* Clase para **cargar de datos** (cd)"
   ]
  },
  {
   "cell_type": "markdown",
   "metadata": {},
   "source": [
    "Se fijan los **directorios** de entrada y salida"
   ]
  },
  {
   "cell_type": "code",
   "execution_count": 5,
   "metadata": {},
   "outputs": [],
   "source": [
    "dir_in, dir_out = \"../../datos/datos_originales/\", \"../../datos/datos_desarrollo/\"\n",
    "\n",
    "spark = SparkSession \\\n",
    "    .builder \\\n",
    "    .appName(\"how to read csv file\") \\\n",
    "    .getOrCreate()"
   ]
  },
  {
   "cell_type": "code",
   "execution_count": 6,
   "metadata": {},
   "outputs": [],
   "source": [
    "class carga_datos:\n",
    "    ''' Cargar los datos desde el csv al python:\n",
    "    - subir_tablas: se suben los dataframes con los titulos deseados. Como input: una lista de dfs y una lista de titulos.\n",
    "    - subir_una_tabla: como input se especifica la tabla a subir.\n",
    "    '''\n",
    "    def __init__(self, dir_in = dir_in):\n",
    "        self.dir_in = dir_in\n",
    "        \n",
    "    def subir_tablas(self, dir_in):\n",
    "        path = os.getcwd()\n",
    "        csv_files, dataframes_list = glob.glob(os.path.join(path, dir_in + \"*.csv\")), []\n",
    "\n",
    "        for i in csv_files:\n",
    "            temp_df = spark.read.csv(path = i, header = True, inferSchema = True)\n",
    "            dataframes_list.append(temp_df)\n",
    "        \n",
    "        return dataframes_list\n",
    "    \n",
    "    def subir_una_tabla(self, dir_in, nombre_tabla):\n",
    "        return pd.read_csv(os.path.join(dir_in, nombre_tabla + \".csv\"))"
   ]
  },
  {
   "cell_type": "code",
   "execution_count": 7,
   "metadata": {},
   "outputs": [],
   "source": [
    "cd = carga_datos ()"
   ]
  },
  {
   "cell_type": "markdown",
   "metadata": {},
   "source": [
    "## Funciones a utilizar\n",
    "---"
   ]
  },
  {
   "cell_type": "markdown",
   "metadata": {},
   "source": [
    "- Función para **dar nombre** a la variable **family_id** mediante la variable title"
   ]
  },
  {
   "cell_type": "code",
   "execution_count": 8,
   "metadata": {},
   "outputs": [],
   "source": [
    "def get_family_name(id_):\n",
    "    \n",
    "    filtered = product[product.family_id == id_]\n",
    "    string = ' '.join(filtered.title).lower()\n",
    "    \n",
    "    return id_, Counter(string.split()).most_common(1)[0][0]\n",
    "\n",
    "def get_family_name(id_):\n",
    "    \n",
    "    filtered = product.filter(product.family_id == id_)\n",
    "    string = ' '.join([x['title'] for x in filtered.select('title').collect()]).lower()\n",
    "    \n",
    "    return id_, Counter(string.split()).most_common(1)[0][0]"
   ]
  },
  {
   "cell_type": "markdown",
   "metadata": {},
   "source": [
    "____"
   ]
  },
  {
   "cell_type": "code",
   "execution_count": 9,
   "metadata": {},
   "outputs": [],
   "source": [
    "dfs = cd.subir_tablas(dir_in)\n",
    "titulos = os.listdir(dir_in)"
   ]
  },
  {
   "cell_type": "code",
   "execution_count": 10,
   "metadata": {},
   "outputs": [],
   "source": [
    "size = cd.subir_una_tabla(dir_in, 'size')\n",
    "size.to_csv(dir_out + 'size2.csv', sep = ';')\n",
    "dfs[-1] = spark.read.csv(path = dir_out + 'size2.csv', header = True, inferSchema = True, sep = ';')"
   ]
  },
  {
   "cell_type": "markdown",
   "metadata": {},
   "source": [
    "### Unión de *dataframes*"
   ]
  },
  {
   "cell_type": "markdown",
   "metadata": {},
   "source": [
    "<center> \n",
    "<img  src=\"../imagenes/diagrama.PNG\"> \n"
   ]
  },
  {
   "cell_type": "markdown",
   "metadata": {},
   "source": [
    "#### 1) df_total =  product variant + color + size + season"
   ]
  },
  {
   "cell_type": "markdown",
   "metadata": {},
   "source": [
    "- **Season**: No utilizar\n",
    "- **Size**: Utilizar solo la talla creada por *lookiero*\n",
    "- **Color**: Utilizar solo el nombre del color"
   ]
  },
  {
   "cell_type": "markdown",
   "metadata": {},
   "source": [
    "product_variant + size = 116 not used sizes NAN  \n",
    "product_variant_size + color = 1 not used color (mixt) NAN"
   ]
  },
  {
   "cell_type": "code",
   "execution_count": 11,
   "metadata": {},
   "outputs": [
    {
     "name": "stdout",
     "output_type": "stream",
     "text": [
      "+----------------+-----+\n",
      "|        channels|count|\n",
      "+----------------+-----+\n",
      "|              []|  274|\n",
      "|\"[\"\"LOOKIERO\"\"]\"| 2658|\n",
      "+----------------+-----+\n",
      "\n",
      "+------+-----+\n",
      "|number|count|\n",
      "+------+-----+\n",
      "|     0|  163|\n",
      "+------+-----+\n",
      "\n",
      "+-----------+-----+\n",
      "|       unit|count|\n",
      "+-----------+-----+\n",
      "| PERCENTAGE|    1|\n",
      "|CENTIMETERS|    8|\n",
      "|         \\N|   52|\n",
      "+-----------+-----+\n",
      "\n",
      "+------+-----+\n",
      "|season|count|\n",
      "+------+-----+\n",
      "|     9|20522|\n",
      "|     7|22234|\n",
      "|     8|22470|\n",
      "+------+-----+\n",
      "\n"
     ]
    }
   ],
   "source": [
    "dfs[7].groupBy('channels').count().orderBy('count').show()\n",
    "dfs[0].groupBy('number').count().orderBy('count').show()\n",
    "dfs[3].groupBy('unit').count().orderBy('count').show()\n",
    "dfs[-3].groupBy('season').count().orderBy('count').show()"
   ]
  },
  {
   "cell_type": "code",
   "execution_count": 12,
   "metadata": {},
   "outputs": [
    {
     "name": "stdout",
     "output_type": "stream",
     "text": [
      "['brand.csv', 'color.csv', 'datos_envios_MU.csv', 'feature.csv', 'feature_qualifier.csv', 'feature_value.csv', 'feature_value_family.csv', 'product.csv', 'product_feature_value.csv', 'product_feature_value_qualifier.csv', 'product_variant.csv', 'season.csv', 'size.csv']\n"
     ]
    }
   ],
   "source": [
    "print(titulos)"
   ]
  },
  {
   "cell_type": "code",
   "execution_count": 13,
   "metadata": {},
   "outputs": [],
   "source": [
    "def rename_columns(df, suffix):\n",
    "    ''' Renombra las columnas de un dataframe.'''\n",
    "    for names in df.schema.names: df = df.withColumnRenamed(names,names + suffix)\n",
    "    return df\n"
   ]
  },
  {
   "cell_type": "markdown",
   "metadata": {},
   "source": [
    "* We rename the columnas to have a suffix when we join"
   ]
  },
  {
   "cell_type": "code",
   "execution_count": 14,
   "metadata": {},
   "outputs": [],
   "source": [
    "dfs[-1] = rename_columns(dfs[-1], '_size')\n",
    "dfs[1] = rename_columns(dfs[1], '_color')"
   ]
  },
  {
   "cell_type": "markdown",
   "metadata": {},
   "source": [
    "* Se junta los 2 dataframes en uno solo."
   ]
  },
  {
   "cell_type": "code",
   "execution_count": 15,
   "metadata": {},
   "outputs": [],
   "source": [
    "df_total = dfs[10].join(dfs[-1].select('id_size','lookiero_size'), dfs[10].size_id == dfs[-1].id_size, \"inner\").drop('id_size', 'size_id')\n",
    "df_total = df_total.join(dfs[1].select('id_color', 'name_color'), df_total.color_id == dfs[1].id_color).drop('id_color', 'color_id', 'legacy_id')\n",
    "df_total = df_total.withColumnRenamed(\"lookiero_size\",\"size_lookiero\") \\\n",
    "    .withColumnRenamed(\"name_color\",\"color\")"
   ]
  },
  {
   "cell_type": "markdown",
   "metadata": {},
   "source": [
    "* Se modifica la variable size_lookiero para que tenga formato numérico"
   ]
  },
  {
   "cell_type": "code",
   "execution_count": 16,
   "metadata": {},
   "outputs": [],
   "source": [
    "df_total = df_total.withColumn('size_lookiero', split(df_total['size_lookiero'], ':').getItem(1))\n",
    "df_total = df_total.withColumn('size_lookiero', regexp_replace('size_lookiero', '\"\"', ''))\n",
    "df_total = df_total.withColumn('size_lookiero', regexp_replace('size_lookiero', '}', ''))\n",
    "df_total = df_total.withColumn('size_lookiero', split(df_total['size_lookiero'], ',').getItem(0))"
   ]
  },
  {
   "cell_type": "code",
   "execution_count": 17,
   "metadata": {},
   "outputs": [
    {
     "name": "stdout",
     "output_type": "stream",
     "text": [
      "Row(id='e652ced0-571b-4ebe-a349-47155e190141', barcode=1281248, product_id='fa14ec83-b053-466e-afc0-ac164b77750f', season=9, stock=0, publishable='t', size_lookiero=' S', color='black')\n"
     ]
    }
   ],
   "source": [
    "print(df_total.collect()[0])"
   ]
  },
  {
   "cell_type": "markdown",
   "metadata": {},
   "source": [
    "#### 2) df_total += product"
   ]
  },
  {
   "cell_type": "markdown",
   "metadata": {},
   "source": [
    "- **Product**: Dar nombre a la variable family_id y eliminar *legacy_id* y *channels*"
   ]
  },
  {
   "cell_type": "markdown",
   "metadata": {},
   "source": [
    "product_variant + product = 41291 (63'3%) with no product_family or brand NAN  \n",
    "NO SÉ SI SON COAT, SCARF O QUÉ...  \n",
    "23935 SIN NAN"
   ]
  },
  {
   "cell_type": "code",
   "execution_count": 18,
   "metadata": {},
   "outputs": [],
   "source": [
    "product = dfs[7].drop('legacy_id', 'channels')\n",
    "\n",
    "unique_values_family =  [x['family_id'] for x in product.select('family_id').distinct().collect()]\n",
    "parejas = dict(map(get_family_name, unique_values_family))\n",
    "product = product.withColumn(\"product_family\", product[\"family_id\"])\n",
    "\n",
    "# Este es el mapeado\n",
    "for k, v in enumerate(unique_values_family): \n",
    "    product = product.withColumn('product_family', regexp_replace('product_family', v, str(parejas[v])))\n",
    "\n",
    "# Se renombra la columna a la hora de unir\n",
    "product = product.drop('family_id', 'title', '\"\"\"group\"\"\"')\n",
    "product = rename_columns(product, '_product')\n",
    "\n",
    "df_total = df_total.join(product, df_total.product_id == product.id_product).drop('product_id')"
   ]
  },
  {
   "cell_type": "markdown",
   "metadata": {},
   "source": [
    "#### 3) df_total += brand"
   ]
  },
  {
   "cell_type": "markdown",
   "metadata": {},
   "source": [
    "- **brand**: No utilizar variable number"
   ]
  },
  {
   "cell_type": "markdown",
   "metadata": {},
   "source": [
    "df_total + brand = 0 NAN"
   ]
  },
  {
   "cell_type": "code",
   "execution_count": 19,
   "metadata": {},
   "outputs": [],
   "source": [
    "brand = dfs[0].drop('number')\n",
    "brand = brand.withColumnRenamed(\"id\",\"id\").withColumnRenamed(\"name\",\"brand\").withColumnRenamed(\"origin\",\"brand_origin\")\n",
    "df_total = df_total.withColumn(\"publishable\", when(df_total.publishable == \"f\",False).when(df_total.publishable == \"t\",True))\n",
    "brand = rename_columns(brand, '_brand')\n",
    "df_total = df_total.join(brand, df_total.brand_id_product == brand.id_brand).drop('brand_id_product','brand_id')"
   ]
  },
  {
   "cell_type": "markdown",
   "metadata": {},
   "source": [
    "#### 4) values = feature values + feature (*value caracteristics*)"
   ]
  },
  {
   "cell_type": "markdown",
   "metadata": {},
   "source": [
    "- **feature**: Multiple convertir en booleano (borrar??) y para poder eliminar la variable unit pasar los porcentajes a decimales (para diferenciarlos)"
   ]
  },
  {
   "cell_type": "markdown",
   "metadata": {},
   "source": [
    "feature + feature_value = 1 value caracteristic not used NAN"
   ]
  },
  {
   "cell_type": "code",
   "execution_count": 20,
   "metadata": {},
   "outputs": [],
   "source": [
    "feature = dfs[3]\n",
    "feature = feature.withColumn(\"multiple\", when(feature.multiple == \"f\",False).when(feature.multiple == \"t\",True))\n",
    "column_names = ['id', 'feature_name', 'feature_type', 'feature_multiple', 'unit']\n",
    "\n",
    "for k, v in enumerate(column_names):  feature = feature.withColumnRenamed(feature.schema.names[k], v)\n",
    "feature_value = dfs[5]\n",
    "feature = rename_columns(feature, '_values')\n",
    "values = feature_value.join(feature, feature_value.feature_id == feature.id_values).drop('feature_id','id_values')"
   ]
  },
  {
   "cell_type": "markdown",
   "metadata": {},
   "source": [
    "### **Hay que corregirlo pero no sé cómo**\t"
   ]
  },
  {
   "cell_type": "code",
   "execution_count": 21,
   "id": "c993f9d3",
   "metadata": {},
   "outputs": [
    {
     "name": "stdout",
     "output_type": "stream",
     "text": [
      "(2266, 6)\n"
     ]
    }
   ],
   "source": [
    "print((values.count(), len(values.columns)))\n"
   ]
  },
  {
   "cell_type": "code",
   "execution_count": 22,
   "id": "70cb4b9d",
   "metadata": {},
   "outputs": [],
   "source": [
    "# from pyspark.sql.functions import monotonically_increasing_id \n",
    "# values = values.select(\"*\").withColumn(\"index\", monotonically_increasing_id())\n",
    "# index = [x[0] for x in values.filter(values.unit_values == 'PERCENTAGE').select('index').collect()]"
   ]
  },
  {
   "cell_type": "code",
   "execution_count": 23,
   "metadata": {},
   "outputs": [
    {
     "data": {
      "text/plain": [
       "[Row(value=0.25),\n",
       " Row(value=0.36),\n",
       " Row(value=0.93),\n",
       " Row(value=0.46),\n",
       " Row(value=0.87),\n",
       " Row(value=0.51),\n",
       " Row(value=0.72),\n",
       " Row(value=0.74),\n",
       " Row(value=0.26),\n",
       " Row(value=0.63),\n",
       " Row(value=0.44),\n",
       " Row(value=0.64),\n",
       " Row(value=0.17),\n",
       " Row(value=0.82),\n",
       " Row(value=0.42),\n",
       " Row(value=0.37),\n",
       " Row(value=0.12),\n",
       " Row(value=0.31),\n",
       " Row(value=0.08),\n",
       " Row(value=0.22),\n",
       " Row(value=0.59),\n",
       " Row(value=0.32),\n",
       " Row(value=0.11),\n",
       " Row(value=0.92),\n",
       " Row(value=0.41),\n",
       " Row(value=0.86),\n",
       " Row(value=0.24),\n",
       " Row(value=0.77),\n",
       " Row(value=0.03),\n",
       " Row(value=0.33),\n",
       " Row(value=0.02),\n",
       " Row(value=0.8),\n",
       " Row(value=0.45),\n",
       " Row(value=0.0),\n",
       " Row(value=0.29),\n",
       " Row(value=0.81),\n",
       " Row(value=0.3),\n",
       " Row(value=0.69),\n",
       " Row(value=0.75),\n",
       " Row(value=0.05),\n",
       " Row(value=0.2),\n",
       " Row(value=0.1),\n",
       " Row(value=0.52),\n",
       " Row(value=0.76),\n",
       " Row(value=0.66),\n",
       " Row(value=0.04),\n",
       " Row(value=1.0),\n",
       " Row(value=0.14),\n",
       " Row(value=0.53),\n",
       " Row(value=0.54),\n",
       " Row(value=0.28),\n",
       " Row(value=0.84),\n",
       " Row(value=0.67),\n",
       " Row(value=0.01),\n",
       " Row(value=0.6),\n",
       " Row(value=0.34),\n",
       " Row(value=0.21),\n",
       " Row(value=0.71),\n",
       " Row(value=0.94),\n",
       " Row(value=0.56),\n",
       " Row(value=0.18),\n",
       " Row(value=0.09),\n",
       " Row(value=0.16),\n",
       " Row(value=0.23),\n",
       " Row(value=0.55),\n",
       " Row(value=0.47),\n",
       " Row(value=0.98),\n",
       " Row(value=0.27),\n",
       " Row(value=0.07),\n",
       " Row(value=0.4),\n",
       " Row(value=0.73),\n",
       " Row(value=0.91),\n",
       " Row(value=0.49),\n",
       " Row(value=0.89),\n",
       " Row(value=0.61),\n",
       " Row(value=0.5),\n",
       " Row(value=0.96),\n",
       " Row(value=0.57),\n",
       " Row(value=0.99),\n",
       " Row(value=0.88),\n",
       " Row(value=0.65),\n",
       " Row(value=0.7),\n",
       " Row(value=0.19),\n",
       " Row(value=0.95),\n",
       " Row(value=0.35),\n",
       " Row(value=0.68),\n",
       " Row(value=0.79),\n",
       " Row(value=0.06),\n",
       " Row(value=0.9),\n",
       " Row(value=0.58),\n",
       " Row(value=0.39),\n",
       " Row(value=0.38),\n",
       " Row(value=0.78),\n",
       " Row(value=0.13),\n",
       " Row(value=0.83),\n",
       " Row(value=0.97),\n",
       " Row(value=0.62),\n",
       " Row(value=0.48),\n",
       " Row(value=0.43),\n",
       " Row(value=0.85),\n",
       " Row(value=0.15)]"
      ]
     },
     "execution_count": 23,
     "metadata": {},
     "output_type": "execute_result"
    }
   ],
   "source": [
    "values.select('value').filter(values.unit_values == 'PERCENTAGE').withColumn('value', f.col('value')/100).collect()"
   ]
  },
  {
   "cell_type": "markdown",
   "metadata": {},
   "source": [
    "feature_family no sirve para nada **creo** por lo que las siguientes celda en raw"
   ]
  },
  {
   "cell_type": "markdown",
   "metadata": {},
   "source": [
    "#### 5) values + value family"
   ]
  },
  {
   "cell_type": "code",
   "execution_count": 24,
   "metadata": {},
   "outputs": [],
   "source": [
    "for k, v in enumerate(['feature_family', 'feature_value_id']):  dfs[6] = dfs[6].withColumnRenamed(dfs[6].schema.names[k], v)\n",
    "values = values.join(dfs[6], values.id == dfs[6].feature_value_id).drop('feature_value_id')\n"
   ]
  },
  {
   "cell_type": "markdown",
   "metadata": {},
   "source": [
    "#### 6) product_values = values + product_feature_value"
   ]
  },
  {
   "cell_type": "markdown",
   "metadata": {},
   "source": [
    "values + product_feature_value = 1420 (1'84%) caracteristics that has no product NAN"
   ]
  },
  {
   "cell_type": "code",
   "execution_count": 25,
   "metadata": {},
   "outputs": [],
   "source": [
    "values = values.withColumnRenamed('id', 'id_values')\n",
    "dfs[8] = dfs[8].withColumnRenamed('id', 'id_product_feature')\n",
    "product_values = values.join(dfs[8], values.id_values == dfs[8].feature_value_id).drop('feature_value_id')"
   ]
  },
  {
   "cell_type": "markdown",
   "metadata": {},
   "source": [
    "#### 7) product_values + df_total"
   ]
  },
  {
   "cell_type": "markdown",
   "metadata": {},
   "source": [
    "products + features = 383 (0'06%) products without caracteristics NAN"
   ]
  },
  {
   "cell_type": "code",
   "execution_count": 26,
   "metadata": {},
   "outputs": [],
   "source": [
    "df = df_total.join(product_values, df_total.id_product == product_values.product_id).drop('product_id')"
   ]
  },
  {
   "cell_type": "markdown",
   "metadata": {},
   "source": [
    "id = Un único producto (se repite pork tiene diferentes features)  \n",
    "id_product = El producto en general (niki manga larga)  \n",
    "id_values = id de una característica\n",
    "id_product_feature = id de la característica de un producto en general (id_product)"
   ]
  },
  {
   "cell_type": "code",
   "execution_count": 27,
   "metadata": {},
   "outputs": [
    {
     "name": "stdout",
     "output_type": "stream",
     "text": [
      "+--------------------+-------+------+-----+-----------+-------------+-----+--------------------+----------------------+--------------------+-----------+------------------+--------------------+-----+-------------------+-------------------+-----------------------+-----------+--------------------+--------------------+\n",
      "|                  id|barcode|season|stock|publishable|size_lookiero|color|          id_product|product_family_product|            id_brand|brand_brand|brand_origin_brand|           id_values|value|feature_name_values|feature_type_values|feature_multiple_values|unit_values|      feature_family|  id_product_feature|\n",
      "+--------------------+-------+------+-----+-----------+-------------+-----+--------------------+----------------------+--------------------+-----------+------------------+--------------------+-----+-------------------+-------------------+-----------------------+-----------+--------------------+--------------------+\n",
      "|498662e5-11e8-483...| 949392|     8|    0|       true|            M| ecru|30c9f937-4bbc-48d...|              cardigan|c373a4f2-a8de-41e...|   BRAND112|     NO_MAINSTREAM|01361580-1c09-483...|   55|        hip_contour|             NUMBER|                  false|CENTIMETERS|c6b81db8-29ed-43d...|21731466-e726-40a...|\n",
      "|dcda2fe4-58e3-4b2...| 949385|     8|    0|       true|            S| ecru|30c9f937-4bbc-48d...|              cardigan|c373a4f2-a8de-41e...|   BRAND112|     NO_MAINSTREAM|01361580-1c09-483...|   55|        hip_contour|             NUMBER|                  false|CENTIMETERS|c6b81db8-29ed-43d...|21731466-e726-40a...|\n",
      "|d54e064c-9f90-4ea...| 949408|     8|    0|       true|            L| ecru|30c9f937-4bbc-48d...|              cardigan|c373a4f2-a8de-41e...|   BRAND112|     NO_MAINSTREAM|01361580-1c09-483...|   55|        hip_contour|             NUMBER|                  false|CENTIMETERS|c6b81db8-29ed-43d...|21731466-e726-40a...|\n",
      "|3112fc7f-5b4d-4c3...| 949354|     8|    0|       true|            S|brown|30c9f937-4bbc-48d...|              cardigan|c373a4f2-a8de-41e...|   BRAND112|     NO_MAINSTREAM|01361580-1c09-483...|   55|        hip_contour|             NUMBER|                  false|CENTIMETERS|c6b81db8-29ed-43d...|21731466-e726-40a...|\n",
      "|96cf8feb-0b2b-49e...| 949378|     8|    0|       true|            L|brown|30c9f937-4bbc-48d...|              cardigan|c373a4f2-a8de-41e...|   BRAND112|     NO_MAINSTREAM|01361580-1c09-483...|   55|        hip_contour|             NUMBER|                  false|CENTIMETERS|c6b81db8-29ed-43d...|21731466-e726-40a...|\n",
      "+--------------------+-------+------+-----+-----------+-------------+-----+--------------------+----------------------+--------------------+-----------+------------------+--------------------+-----+-------------------+-------------------+-----------------------+-----------+--------------------+--------------------+\n",
      "only showing top 5 rows\n",
      "\n"
     ]
    }
   ],
   "source": [
    "df.show(5)"
   ]
  },
  {
   "cell_type": "markdown",
   "id": "16e0a6b4",
   "metadata": {},
   "source": [
    "### Gráficos\n",
    "---"
   ]
  },
  {
   "cell_type": "code",
   "execution_count": 85,
   "id": "624fcdf3",
   "metadata": {},
   "outputs": [],
   "source": [
    "def human_format(num):\n",
    "    magnitude = 0\n",
    "    while abs(num) >= 1000:\n",
    "        magnitude += 1\n",
    "        num /= 1000.0\n",
    "    return '%.2f%s' % (num, ['', 'K', 'M', 'B', 'T', 'P'][magnitude])\n",
    "\n",
    "paleta=['#264653','#2A9D8F','#85CAC2','#DFF6F4' ,'#E9C46A','#F4A261','#E76F51','#C53D1B', '#7E2711']"
   ]
  },
  {
   "cell_type": "markdown",
   "id": "79b74d11",
   "metadata": {},
   "source": [
    "#### Estaciones"
   ]
  },
  {
   "cell_type": "code",
   "execution_count": 106,
   "id": "fb4df324",
   "metadata": {},
   "outputs": [
    {
     "data": {
      "application/vnd.plotly.v1+json": {
       "config": {
        "plotlyServerURL": "https://plot.ly"
       },
       "data": [
        {
         "marker": {
          "color": [
           "#264653",
           "#2A9D8F",
           "#264653"
          ],
          "line": {
           "color": "black",
           "width": 1
          }
         },
         "opacity": 0.8,
         "orientation": "h",
         "text": [
          22234,
          22470,
          20522
         ],
         "textposition": "auto",
         "texttemplate": [
          "22.23K",
          "22.47K",
          "20.52K"
         ],
         "type": "bar",
         "x": [
          22234,
          22470,
          20522
         ],
         "y": [
          "7",
          "8",
          "9"
         ]
        }
       ],
       "layout": {
        "paper_bgcolor": "white",
        "plot_bgcolor": "white",
        "template": {
         "data": {
          "bar": [
           {
            "error_x": {
             "color": "#2a3f5f"
            },
            "error_y": {
             "color": "#2a3f5f"
            },
            "marker": {
             "line": {
              "color": "#E5ECF6",
              "width": 0.5
             },
             "pattern": {
              "fillmode": "overlay",
              "size": 10,
              "solidity": 0.2
             }
            },
            "type": "bar"
           }
          ],
          "barpolar": [
           {
            "marker": {
             "line": {
              "color": "#E5ECF6",
              "width": 0.5
             },
             "pattern": {
              "fillmode": "overlay",
              "size": 10,
              "solidity": 0.2
             }
            },
            "type": "barpolar"
           }
          ],
          "carpet": [
           {
            "aaxis": {
             "endlinecolor": "#2a3f5f",
             "gridcolor": "white",
             "linecolor": "white",
             "minorgridcolor": "white",
             "startlinecolor": "#2a3f5f"
            },
            "baxis": {
             "endlinecolor": "#2a3f5f",
             "gridcolor": "white",
             "linecolor": "white",
             "minorgridcolor": "white",
             "startlinecolor": "#2a3f5f"
            },
            "type": "carpet"
           }
          ],
          "choropleth": [
           {
            "colorbar": {
             "outlinewidth": 0,
             "ticks": ""
            },
            "type": "choropleth"
           }
          ],
          "contour": [
           {
            "colorbar": {
             "outlinewidth": 0,
             "ticks": ""
            },
            "colorscale": [
             [
              0,
              "#0d0887"
             ],
             [
              0.1111111111111111,
              "#46039f"
             ],
             [
              0.2222222222222222,
              "#7201a8"
             ],
             [
              0.3333333333333333,
              "#9c179e"
             ],
             [
              0.4444444444444444,
              "#bd3786"
             ],
             [
              0.5555555555555556,
              "#d8576b"
             ],
             [
              0.6666666666666666,
              "#ed7953"
             ],
             [
              0.7777777777777778,
              "#fb9f3a"
             ],
             [
              0.8888888888888888,
              "#fdca26"
             ],
             [
              1,
              "#f0f921"
             ]
            ],
            "type": "contour"
           }
          ],
          "contourcarpet": [
           {
            "colorbar": {
             "outlinewidth": 0,
             "ticks": ""
            },
            "type": "contourcarpet"
           }
          ],
          "heatmap": [
           {
            "colorbar": {
             "outlinewidth": 0,
             "ticks": ""
            },
            "colorscale": [
             [
              0,
              "#0d0887"
             ],
             [
              0.1111111111111111,
              "#46039f"
             ],
             [
              0.2222222222222222,
              "#7201a8"
             ],
             [
              0.3333333333333333,
              "#9c179e"
             ],
             [
              0.4444444444444444,
              "#bd3786"
             ],
             [
              0.5555555555555556,
              "#d8576b"
             ],
             [
              0.6666666666666666,
              "#ed7953"
             ],
             [
              0.7777777777777778,
              "#fb9f3a"
             ],
             [
              0.8888888888888888,
              "#fdca26"
             ],
             [
              1,
              "#f0f921"
             ]
            ],
            "type": "heatmap"
           }
          ],
          "heatmapgl": [
           {
            "colorbar": {
             "outlinewidth": 0,
             "ticks": ""
            },
            "colorscale": [
             [
              0,
              "#0d0887"
             ],
             [
              0.1111111111111111,
              "#46039f"
             ],
             [
              0.2222222222222222,
              "#7201a8"
             ],
             [
              0.3333333333333333,
              "#9c179e"
             ],
             [
              0.4444444444444444,
              "#bd3786"
             ],
             [
              0.5555555555555556,
              "#d8576b"
             ],
             [
              0.6666666666666666,
              "#ed7953"
             ],
             [
              0.7777777777777778,
              "#fb9f3a"
             ],
             [
              0.8888888888888888,
              "#fdca26"
             ],
             [
              1,
              "#f0f921"
             ]
            ],
            "type": "heatmapgl"
           }
          ],
          "histogram": [
           {
            "marker": {
             "pattern": {
              "fillmode": "overlay",
              "size": 10,
              "solidity": 0.2
             }
            },
            "type": "histogram"
           }
          ],
          "histogram2d": [
           {
            "colorbar": {
             "outlinewidth": 0,
             "ticks": ""
            },
            "colorscale": [
             [
              0,
              "#0d0887"
             ],
             [
              0.1111111111111111,
              "#46039f"
             ],
             [
              0.2222222222222222,
              "#7201a8"
             ],
             [
              0.3333333333333333,
              "#9c179e"
             ],
             [
              0.4444444444444444,
              "#bd3786"
             ],
             [
              0.5555555555555556,
              "#d8576b"
             ],
             [
              0.6666666666666666,
              "#ed7953"
             ],
             [
              0.7777777777777778,
              "#fb9f3a"
             ],
             [
              0.8888888888888888,
              "#fdca26"
             ],
             [
              1,
              "#f0f921"
             ]
            ],
            "type": "histogram2d"
           }
          ],
          "histogram2dcontour": [
           {
            "colorbar": {
             "outlinewidth": 0,
             "ticks": ""
            },
            "colorscale": [
             [
              0,
              "#0d0887"
             ],
             [
              0.1111111111111111,
              "#46039f"
             ],
             [
              0.2222222222222222,
              "#7201a8"
             ],
             [
              0.3333333333333333,
              "#9c179e"
             ],
             [
              0.4444444444444444,
              "#bd3786"
             ],
             [
              0.5555555555555556,
              "#d8576b"
             ],
             [
              0.6666666666666666,
              "#ed7953"
             ],
             [
              0.7777777777777778,
              "#fb9f3a"
             ],
             [
              0.8888888888888888,
              "#fdca26"
             ],
             [
              1,
              "#f0f921"
             ]
            ],
            "type": "histogram2dcontour"
           }
          ],
          "mesh3d": [
           {
            "colorbar": {
             "outlinewidth": 0,
             "ticks": ""
            },
            "type": "mesh3d"
           }
          ],
          "parcoords": [
           {
            "line": {
             "colorbar": {
              "outlinewidth": 0,
              "ticks": ""
             }
            },
            "type": "parcoords"
           }
          ],
          "pie": [
           {
            "automargin": true,
            "type": "pie"
           }
          ],
          "scatter": [
           {
            "marker": {
             "colorbar": {
              "outlinewidth": 0,
              "ticks": ""
             }
            },
            "type": "scatter"
           }
          ],
          "scatter3d": [
           {
            "line": {
             "colorbar": {
              "outlinewidth": 0,
              "ticks": ""
             }
            },
            "marker": {
             "colorbar": {
              "outlinewidth": 0,
              "ticks": ""
             }
            },
            "type": "scatter3d"
           }
          ],
          "scattercarpet": [
           {
            "marker": {
             "colorbar": {
              "outlinewidth": 0,
              "ticks": ""
             }
            },
            "type": "scattercarpet"
           }
          ],
          "scattergeo": [
           {
            "marker": {
             "colorbar": {
              "outlinewidth": 0,
              "ticks": ""
             }
            },
            "type": "scattergeo"
           }
          ],
          "scattergl": [
           {
            "marker": {
             "colorbar": {
              "outlinewidth": 0,
              "ticks": ""
             }
            },
            "type": "scattergl"
           }
          ],
          "scattermapbox": [
           {
            "marker": {
             "colorbar": {
              "outlinewidth": 0,
              "ticks": ""
             }
            },
            "type": "scattermapbox"
           }
          ],
          "scatterpolar": [
           {
            "marker": {
             "colorbar": {
              "outlinewidth": 0,
              "ticks": ""
             }
            },
            "type": "scatterpolar"
           }
          ],
          "scatterpolargl": [
           {
            "marker": {
             "colorbar": {
              "outlinewidth": 0,
              "ticks": ""
             }
            },
            "type": "scatterpolargl"
           }
          ],
          "scatterternary": [
           {
            "marker": {
             "colorbar": {
              "outlinewidth": 0,
              "ticks": ""
             }
            },
            "type": "scatterternary"
           }
          ],
          "surface": [
           {
            "colorbar": {
             "outlinewidth": 0,
             "ticks": ""
            },
            "colorscale": [
             [
              0,
              "#0d0887"
             ],
             [
              0.1111111111111111,
              "#46039f"
             ],
             [
              0.2222222222222222,
              "#7201a8"
             ],
             [
              0.3333333333333333,
              "#9c179e"
             ],
             [
              0.4444444444444444,
              "#bd3786"
             ],
             [
              0.5555555555555556,
              "#d8576b"
             ],
             [
              0.6666666666666666,
              "#ed7953"
             ],
             [
              0.7777777777777778,
              "#fb9f3a"
             ],
             [
              0.8888888888888888,
              "#fdca26"
             ],
             [
              1,
              "#f0f921"
             ]
            ],
            "type": "surface"
           }
          ],
          "table": [
           {
            "cells": {
             "fill": {
              "color": "#EBF0F8"
             },
             "line": {
              "color": "white"
             }
            },
            "header": {
             "fill": {
              "color": "#C8D4E3"
             },
             "line": {
              "color": "white"
             }
            },
            "type": "table"
           }
          ]
         },
         "layout": {
          "annotationdefaults": {
           "arrowcolor": "#2a3f5f",
           "arrowhead": 0,
           "arrowwidth": 1
          },
          "autotypenumbers": "strict",
          "coloraxis": {
           "colorbar": {
            "outlinewidth": 0,
            "ticks": ""
           }
          },
          "colorscale": {
           "diverging": [
            [
             0,
             "#8e0152"
            ],
            [
             0.1,
             "#c51b7d"
            ],
            [
             0.2,
             "#de77ae"
            ],
            [
             0.3,
             "#f1b6da"
            ],
            [
             0.4,
             "#fde0ef"
            ],
            [
             0.5,
             "#f7f7f7"
            ],
            [
             0.6,
             "#e6f5d0"
            ],
            [
             0.7,
             "#b8e186"
            ],
            [
             0.8,
             "#7fbc41"
            ],
            [
             0.9,
             "#4d9221"
            ],
            [
             1,
             "#276419"
            ]
           ],
           "sequential": [
            [
             0,
             "#0d0887"
            ],
            [
             0.1111111111111111,
             "#46039f"
            ],
            [
             0.2222222222222222,
             "#7201a8"
            ],
            [
             0.3333333333333333,
             "#9c179e"
            ],
            [
             0.4444444444444444,
             "#bd3786"
            ],
            [
             0.5555555555555556,
             "#d8576b"
            ],
            [
             0.6666666666666666,
             "#ed7953"
            ],
            [
             0.7777777777777778,
             "#fb9f3a"
            ],
            [
             0.8888888888888888,
             "#fdca26"
            ],
            [
             1,
             "#f0f921"
            ]
           ],
           "sequentialminus": [
            [
             0,
             "#0d0887"
            ],
            [
             0.1111111111111111,
             "#46039f"
            ],
            [
             0.2222222222222222,
             "#7201a8"
            ],
            [
             0.3333333333333333,
             "#9c179e"
            ],
            [
             0.4444444444444444,
             "#bd3786"
            ],
            [
             0.5555555555555556,
             "#d8576b"
            ],
            [
             0.6666666666666666,
             "#ed7953"
            ],
            [
             0.7777777777777778,
             "#fb9f3a"
            ],
            [
             0.8888888888888888,
             "#fdca26"
            ],
            [
             1,
             "#f0f921"
            ]
           ]
          },
          "colorway": [
           "#636efa",
           "#EF553B",
           "#00cc96",
           "#ab63fa",
           "#FFA15A",
           "#19d3f3",
           "#FF6692",
           "#B6E880",
           "#FF97FF",
           "#FECB52"
          ],
          "font": {
           "color": "#2a3f5f"
          },
          "geo": {
           "bgcolor": "white",
           "lakecolor": "white",
           "landcolor": "#E5ECF6",
           "showlakes": true,
           "showland": true,
           "subunitcolor": "white"
          },
          "hoverlabel": {
           "align": "left"
          },
          "hovermode": "closest",
          "mapbox": {
           "style": "light"
          },
          "paper_bgcolor": "white",
          "plot_bgcolor": "#E5ECF6",
          "polar": {
           "angularaxis": {
            "gridcolor": "white",
            "linecolor": "white",
            "ticks": ""
           },
           "bgcolor": "#E5ECF6",
           "radialaxis": {
            "gridcolor": "white",
            "linecolor": "white",
            "ticks": ""
           }
          },
          "scene": {
           "xaxis": {
            "backgroundcolor": "#E5ECF6",
            "gridcolor": "white",
            "gridwidth": 2,
            "linecolor": "white",
            "showbackground": true,
            "ticks": "",
            "zerolinecolor": "white"
           },
           "yaxis": {
            "backgroundcolor": "#E5ECF6",
            "gridcolor": "white",
            "gridwidth": 2,
            "linecolor": "white",
            "showbackground": true,
            "ticks": "",
            "zerolinecolor": "white"
           },
           "zaxis": {
            "backgroundcolor": "#E5ECF6",
            "gridcolor": "white",
            "gridwidth": 2,
            "linecolor": "white",
            "showbackground": true,
            "ticks": "",
            "zerolinecolor": "white"
           }
          },
          "shapedefaults": {
           "line": {
            "color": "#2a3f5f"
           }
          },
          "ternary": {
           "aaxis": {
            "gridcolor": "white",
            "linecolor": "white",
            "ticks": ""
           },
           "baxis": {
            "gridcolor": "white",
            "linecolor": "white",
            "ticks": ""
           },
           "bgcolor": "#E5ECF6",
           "caxis": {
            "gridcolor": "white",
            "linecolor": "white",
            "ticks": ""
           }
          },
          "title": {
           "x": 0.05
          },
          "xaxis": {
           "automargin": true,
           "gridcolor": "white",
           "linecolor": "white",
           "ticks": "",
           "title": {
            "standoff": 15
           },
           "zerolinecolor": "white",
           "zerolinewidth": 2
          },
          "yaxis": {
           "automargin": true,
           "gridcolor": "white",
           "linecolor": "white",
           "ticks": "",
           "title": {
            "standoff": 15
           },
           "zerolinecolor": "white",
           "zerolinewidth": 2
          }
         }
        },
        "title": {
         "text": "Estaciones más frecuente Lookiero"
        },
        "xaxis": {
         "range": [
          20000,
          23000
         ],
         "title": {
          "text": "Cantidad"
         }
        },
        "yaxis": {
         "title": {
          "text": "Estaciones"
         }
        }
       }
      }
     },
     "metadata": {},
     "output_type": "display_data"
    }
   ],
   "source": [
    "season_collection = dfs[-3].select('season').collect()\n",
    "season = np.array([x[0] for x in season_collection])\n",
    "count_values = np.bincount(season)[-3:]\n",
    "\n",
    "fig = go.Figure(data=[go.Bar( x=count_values, y=['7', '8', '9'],text=count_values,textposition='auto',texttemplate = [human_format(a) for a in count_values],orientation='h')])\n",
    "fig.update_traces(marker_color=[paleta[0], paleta[1], paleta[0]],marker_line_width=1, opacity=0.8, marker_line_color = 'black')\n",
    "\n",
    "fig.update_layout(\n",
    "    title='Estaciones más frecuente Lookiero',\n",
    "    xaxis_title = 'Cantidad',\n",
    "    yaxis_title = 'Estaciones',\n",
    "    paper_bgcolor='white',\n",
    "    plot_bgcolor='white',\n",
    "    xaxis_range=[20000,23000]\n",
    ")"
   ]
  },
  {
   "cell_type": "markdown",
   "id": "cd170b20",
   "metadata": {},
   "source": [
    "#### Familias de producto"
   ]
  },
  {
   "cell_type": "code",
   "execution_count": null,
   "id": "d620c440",
   "metadata": {},
   "outputs": [],
   "source": [
    "product_family = df_total.select('size_lookiero').collect()"
   ]
  },
  {
   "cell_type": "code",
   "execution_count": 43,
   "id": "65355d5c",
   "metadata": {},
   "outputs": [],
   "source": [
    "product_family = df_total.select('product_family_product').collect()\n",
    "product_family = np.array([x[0] for x in product_family])\n",
    "unique_elements, counts_elements = np.unique(product_family, return_counts=True)\n",
    "counts_elements, unique_elements = (zip(*reversed(sorted(zip(counts_elements, unique_elements)))))"
   ]
  },
  {
   "cell_type": "code",
   "execution_count": 80,
   "id": "d181cf02",
   "metadata": {},
   "outputs": [
    {
     "data": {
      "application/vnd.plotly.v1+json": {
       "config": {
        "plotlyServerURL": "https://plot.ly"
       },
       "data": [
        {
         "marker": {
          "color": [
           "#2A9D8F",
           "#2A9D8F",
           "#2A9D8F",
           "#264653",
           "#264653",
           "#264653",
           "#264653",
           "#264653",
           "#264653",
           "#264653",
           "#264653",
           "#264653",
           "#E76F51",
           "#E76F51",
           "#E76F51",
           "#E76F51",
           "#E76F51",
           "#E76F51"
          ],
          "line": {
           "color": "black",
           "width": 1
          }
         },
         "opacity": 0.8,
         "orientation": "v",
         "text": [
          22234,
          22470,
          20522
         ],
         "textposition": "auto",
         "texttemplate": [
          "2.70K",
          "2.52K",
          "2.40K",
          "2.26K",
          "2.13K",
          "2.02K",
          "1.95K",
          "1.64K",
          "1.54K",
          "1.44K",
          "1.01K",
          "729.00",
          "476.00",
          "303.00",
          "300.00",
          "248.00",
          "168.00",
          "104.00"
         ],
         "type": "bar",
         "x": [
          "sweater",
          "tshirt",
          "top",
          "pant",
          "jacket",
          "shirt",
          "jeans",
          "skirt",
          "dress",
          "cardigan",
          "parka",
          "short",
          "jumpsuit",
          "sweatshirt",
          "coat",
          "scarf",
          "bag",
          "trench"
         ],
         "y": [
          2702,
          2517,
          2396,
          2261,
          2132,
          2018,
          1951,
          1638,
          1536,
          1444,
          1012,
          729,
          476,
          303,
          300,
          248,
          168,
          104
         ]
        }
       ],
       "layout": {
        "paper_bgcolor": "white",
        "plot_bgcolor": "white",
        "template": {
         "data": {
          "bar": [
           {
            "error_x": {
             "color": "#2a3f5f"
            },
            "error_y": {
             "color": "#2a3f5f"
            },
            "marker": {
             "line": {
              "color": "#E5ECF6",
              "width": 0.5
             },
             "pattern": {
              "fillmode": "overlay",
              "size": 10,
              "solidity": 0.2
             }
            },
            "type": "bar"
           }
          ],
          "barpolar": [
           {
            "marker": {
             "line": {
              "color": "#E5ECF6",
              "width": 0.5
             },
             "pattern": {
              "fillmode": "overlay",
              "size": 10,
              "solidity": 0.2
             }
            },
            "type": "barpolar"
           }
          ],
          "carpet": [
           {
            "aaxis": {
             "endlinecolor": "#2a3f5f",
             "gridcolor": "white",
             "linecolor": "white",
             "minorgridcolor": "white",
             "startlinecolor": "#2a3f5f"
            },
            "baxis": {
             "endlinecolor": "#2a3f5f",
             "gridcolor": "white",
             "linecolor": "white",
             "minorgridcolor": "white",
             "startlinecolor": "#2a3f5f"
            },
            "type": "carpet"
           }
          ],
          "choropleth": [
           {
            "colorbar": {
             "outlinewidth": 0,
             "ticks": ""
            },
            "type": "choropleth"
           }
          ],
          "contour": [
           {
            "colorbar": {
             "outlinewidth": 0,
             "ticks": ""
            },
            "colorscale": [
             [
              0,
              "#0d0887"
             ],
             [
              0.1111111111111111,
              "#46039f"
             ],
             [
              0.2222222222222222,
              "#7201a8"
             ],
             [
              0.3333333333333333,
              "#9c179e"
             ],
             [
              0.4444444444444444,
              "#bd3786"
             ],
             [
              0.5555555555555556,
              "#d8576b"
             ],
             [
              0.6666666666666666,
              "#ed7953"
             ],
             [
              0.7777777777777778,
              "#fb9f3a"
             ],
             [
              0.8888888888888888,
              "#fdca26"
             ],
             [
              1,
              "#f0f921"
             ]
            ],
            "type": "contour"
           }
          ],
          "contourcarpet": [
           {
            "colorbar": {
             "outlinewidth": 0,
             "ticks": ""
            },
            "type": "contourcarpet"
           }
          ],
          "heatmap": [
           {
            "colorbar": {
             "outlinewidth": 0,
             "ticks": ""
            },
            "colorscale": [
             [
              0,
              "#0d0887"
             ],
             [
              0.1111111111111111,
              "#46039f"
             ],
             [
              0.2222222222222222,
              "#7201a8"
             ],
             [
              0.3333333333333333,
              "#9c179e"
             ],
             [
              0.4444444444444444,
              "#bd3786"
             ],
             [
              0.5555555555555556,
              "#d8576b"
             ],
             [
              0.6666666666666666,
              "#ed7953"
             ],
             [
              0.7777777777777778,
              "#fb9f3a"
             ],
             [
              0.8888888888888888,
              "#fdca26"
             ],
             [
              1,
              "#f0f921"
             ]
            ],
            "type": "heatmap"
           }
          ],
          "heatmapgl": [
           {
            "colorbar": {
             "outlinewidth": 0,
             "ticks": ""
            },
            "colorscale": [
             [
              0,
              "#0d0887"
             ],
             [
              0.1111111111111111,
              "#46039f"
             ],
             [
              0.2222222222222222,
              "#7201a8"
             ],
             [
              0.3333333333333333,
              "#9c179e"
             ],
             [
              0.4444444444444444,
              "#bd3786"
             ],
             [
              0.5555555555555556,
              "#d8576b"
             ],
             [
              0.6666666666666666,
              "#ed7953"
             ],
             [
              0.7777777777777778,
              "#fb9f3a"
             ],
             [
              0.8888888888888888,
              "#fdca26"
             ],
             [
              1,
              "#f0f921"
             ]
            ],
            "type": "heatmapgl"
           }
          ],
          "histogram": [
           {
            "marker": {
             "pattern": {
              "fillmode": "overlay",
              "size": 10,
              "solidity": 0.2
             }
            },
            "type": "histogram"
           }
          ],
          "histogram2d": [
           {
            "colorbar": {
             "outlinewidth": 0,
             "ticks": ""
            },
            "colorscale": [
             [
              0,
              "#0d0887"
             ],
             [
              0.1111111111111111,
              "#46039f"
             ],
             [
              0.2222222222222222,
              "#7201a8"
             ],
             [
              0.3333333333333333,
              "#9c179e"
             ],
             [
              0.4444444444444444,
              "#bd3786"
             ],
             [
              0.5555555555555556,
              "#d8576b"
             ],
             [
              0.6666666666666666,
              "#ed7953"
             ],
             [
              0.7777777777777778,
              "#fb9f3a"
             ],
             [
              0.8888888888888888,
              "#fdca26"
             ],
             [
              1,
              "#f0f921"
             ]
            ],
            "type": "histogram2d"
           }
          ],
          "histogram2dcontour": [
           {
            "colorbar": {
             "outlinewidth": 0,
             "ticks": ""
            },
            "colorscale": [
             [
              0,
              "#0d0887"
             ],
             [
              0.1111111111111111,
              "#46039f"
             ],
             [
              0.2222222222222222,
              "#7201a8"
             ],
             [
              0.3333333333333333,
              "#9c179e"
             ],
             [
              0.4444444444444444,
              "#bd3786"
             ],
             [
              0.5555555555555556,
              "#d8576b"
             ],
             [
              0.6666666666666666,
              "#ed7953"
             ],
             [
              0.7777777777777778,
              "#fb9f3a"
             ],
             [
              0.8888888888888888,
              "#fdca26"
             ],
             [
              1,
              "#f0f921"
             ]
            ],
            "type": "histogram2dcontour"
           }
          ],
          "mesh3d": [
           {
            "colorbar": {
             "outlinewidth": 0,
             "ticks": ""
            },
            "type": "mesh3d"
           }
          ],
          "parcoords": [
           {
            "line": {
             "colorbar": {
              "outlinewidth": 0,
              "ticks": ""
             }
            },
            "type": "parcoords"
           }
          ],
          "pie": [
           {
            "automargin": true,
            "type": "pie"
           }
          ],
          "scatter": [
           {
            "marker": {
             "colorbar": {
              "outlinewidth": 0,
              "ticks": ""
             }
            },
            "type": "scatter"
           }
          ],
          "scatter3d": [
           {
            "line": {
             "colorbar": {
              "outlinewidth": 0,
              "ticks": ""
             }
            },
            "marker": {
             "colorbar": {
              "outlinewidth": 0,
              "ticks": ""
             }
            },
            "type": "scatter3d"
           }
          ],
          "scattercarpet": [
           {
            "marker": {
             "colorbar": {
              "outlinewidth": 0,
              "ticks": ""
             }
            },
            "type": "scattercarpet"
           }
          ],
          "scattergeo": [
           {
            "marker": {
             "colorbar": {
              "outlinewidth": 0,
              "ticks": ""
             }
            },
            "type": "scattergeo"
           }
          ],
          "scattergl": [
           {
            "marker": {
             "colorbar": {
              "outlinewidth": 0,
              "ticks": ""
             }
            },
            "type": "scattergl"
           }
          ],
          "scattermapbox": [
           {
            "marker": {
             "colorbar": {
              "outlinewidth": 0,
              "ticks": ""
             }
            },
            "type": "scattermapbox"
           }
          ],
          "scatterpolar": [
           {
            "marker": {
             "colorbar": {
              "outlinewidth": 0,
              "ticks": ""
             }
            },
            "type": "scatterpolar"
           }
          ],
          "scatterpolargl": [
           {
            "marker": {
             "colorbar": {
              "outlinewidth": 0,
              "ticks": ""
             }
            },
            "type": "scatterpolargl"
           }
          ],
          "scatterternary": [
           {
            "marker": {
             "colorbar": {
              "outlinewidth": 0,
              "ticks": ""
             }
            },
            "type": "scatterternary"
           }
          ],
          "surface": [
           {
            "colorbar": {
             "outlinewidth": 0,
             "ticks": ""
            },
            "colorscale": [
             [
              0,
              "#0d0887"
             ],
             [
              0.1111111111111111,
              "#46039f"
             ],
             [
              0.2222222222222222,
              "#7201a8"
             ],
             [
              0.3333333333333333,
              "#9c179e"
             ],
             [
              0.4444444444444444,
              "#bd3786"
             ],
             [
              0.5555555555555556,
              "#d8576b"
             ],
             [
              0.6666666666666666,
              "#ed7953"
             ],
             [
              0.7777777777777778,
              "#fb9f3a"
             ],
             [
              0.8888888888888888,
              "#fdca26"
             ],
             [
              1,
              "#f0f921"
             ]
            ],
            "type": "surface"
           }
          ],
          "table": [
           {
            "cells": {
             "fill": {
              "color": "#EBF0F8"
             },
             "line": {
              "color": "white"
             }
            },
            "header": {
             "fill": {
              "color": "#C8D4E3"
             },
             "line": {
              "color": "white"
             }
            },
            "type": "table"
           }
          ]
         },
         "layout": {
          "annotationdefaults": {
           "arrowcolor": "#2a3f5f",
           "arrowhead": 0,
           "arrowwidth": 1
          },
          "autotypenumbers": "strict",
          "coloraxis": {
           "colorbar": {
            "outlinewidth": 0,
            "ticks": ""
           }
          },
          "colorscale": {
           "diverging": [
            [
             0,
             "#8e0152"
            ],
            [
             0.1,
             "#c51b7d"
            ],
            [
             0.2,
             "#de77ae"
            ],
            [
             0.3,
             "#f1b6da"
            ],
            [
             0.4,
             "#fde0ef"
            ],
            [
             0.5,
             "#f7f7f7"
            ],
            [
             0.6,
             "#e6f5d0"
            ],
            [
             0.7,
             "#b8e186"
            ],
            [
             0.8,
             "#7fbc41"
            ],
            [
             0.9,
             "#4d9221"
            ],
            [
             1,
             "#276419"
            ]
           ],
           "sequential": [
            [
             0,
             "#0d0887"
            ],
            [
             0.1111111111111111,
             "#46039f"
            ],
            [
             0.2222222222222222,
             "#7201a8"
            ],
            [
             0.3333333333333333,
             "#9c179e"
            ],
            [
             0.4444444444444444,
             "#bd3786"
            ],
            [
             0.5555555555555556,
             "#d8576b"
            ],
            [
             0.6666666666666666,
             "#ed7953"
            ],
            [
             0.7777777777777778,
             "#fb9f3a"
            ],
            [
             0.8888888888888888,
             "#fdca26"
            ],
            [
             1,
             "#f0f921"
            ]
           ],
           "sequentialminus": [
            [
             0,
             "#0d0887"
            ],
            [
             0.1111111111111111,
             "#46039f"
            ],
            [
             0.2222222222222222,
             "#7201a8"
            ],
            [
             0.3333333333333333,
             "#9c179e"
            ],
            [
             0.4444444444444444,
             "#bd3786"
            ],
            [
             0.5555555555555556,
             "#d8576b"
            ],
            [
             0.6666666666666666,
             "#ed7953"
            ],
            [
             0.7777777777777778,
             "#fb9f3a"
            ],
            [
             0.8888888888888888,
             "#fdca26"
            ],
            [
             1,
             "#f0f921"
            ]
           ]
          },
          "colorway": [
           "#636efa",
           "#EF553B",
           "#00cc96",
           "#ab63fa",
           "#FFA15A",
           "#19d3f3",
           "#FF6692",
           "#B6E880",
           "#FF97FF",
           "#FECB52"
          ],
          "font": {
           "color": "#2a3f5f"
          },
          "geo": {
           "bgcolor": "white",
           "lakecolor": "white",
           "landcolor": "#E5ECF6",
           "showlakes": true,
           "showland": true,
           "subunitcolor": "white"
          },
          "hoverlabel": {
           "align": "left"
          },
          "hovermode": "closest",
          "mapbox": {
           "style": "light"
          },
          "paper_bgcolor": "white",
          "plot_bgcolor": "#E5ECF6",
          "polar": {
           "angularaxis": {
            "gridcolor": "white",
            "linecolor": "white",
            "ticks": ""
           },
           "bgcolor": "#E5ECF6",
           "radialaxis": {
            "gridcolor": "white",
            "linecolor": "white",
            "ticks": ""
           }
          },
          "scene": {
           "xaxis": {
            "backgroundcolor": "#E5ECF6",
            "gridcolor": "white",
            "gridwidth": 2,
            "linecolor": "white",
            "showbackground": true,
            "ticks": "",
            "zerolinecolor": "white"
           },
           "yaxis": {
            "backgroundcolor": "#E5ECF6",
            "gridcolor": "white",
            "gridwidth": 2,
            "linecolor": "white",
            "showbackground": true,
            "ticks": "",
            "zerolinecolor": "white"
           },
           "zaxis": {
            "backgroundcolor": "#E5ECF6",
            "gridcolor": "white",
            "gridwidth": 2,
            "linecolor": "white",
            "showbackground": true,
            "ticks": "",
            "zerolinecolor": "white"
           }
          },
          "shapedefaults": {
           "line": {
            "color": "#2a3f5f"
           }
          },
          "ternary": {
           "aaxis": {
            "gridcolor": "white",
            "linecolor": "white",
            "ticks": ""
           },
           "baxis": {
            "gridcolor": "white",
            "linecolor": "white",
            "ticks": ""
           },
           "bgcolor": "#E5ECF6",
           "caxis": {
            "gridcolor": "white",
            "linecolor": "white",
            "ticks": ""
           }
          },
          "title": {
           "x": 0.05
          },
          "xaxis": {
           "automargin": true,
           "gridcolor": "white",
           "linecolor": "white",
           "ticks": "",
           "title": {
            "standoff": 15
           },
           "zerolinecolor": "white",
           "zerolinewidth": 2
          },
          "yaxis": {
           "automargin": true,
           "gridcolor": "white",
           "linecolor": "white",
           "ticks": "",
           "title": {
            "standoff": 15
           },
           "zerolinecolor": "white",
           "zerolinewidth": 2
          }
         }
        },
        "title": {
         "text": "Productos más populares"
        },
        "xaxis": {
         "title": {
          "text": "Productos"
         }
        },
        "yaxis": {
         "title": {
          "text": "Cantidad"
         }
        }
       }
      }
     },
     "metadata": {},
     "output_type": "display_data"
    }
   ],
   "source": [
    "colores = [paleta[1]] * 3 + [paleta[0]] * (len(counts_elements) - 9) + [paleta[6]] * 6\n",
    "fig = go.Figure(data=[go.Bar( x=unique_elements, y=counts_elements,text=count_values,textposition='auto',texttemplate = [human_format(a) for a in counts_elements], orientation='v')])\n",
    "fig.update_traces(marker_color=colores,marker_line_width=1, opacity=0.8, marker_line_color = 'black')\n",
    "\n",
    "fig.update_layout(\n",
    "    title='Productos más populares',\n",
    "    xaxis_title = 'Productos',\n",
    "    yaxis_title = 'Cantidad',\n",
    "    paper_bgcolor='white',\n",
    "    plot_bgcolor='white')\n"
   ]
  },
  {
   "cell_type": "markdown",
   "id": "164febb6",
   "metadata": {},
   "source": [
    "#### Tallas - Productos\n"
   ]
  },
  {
   "cell_type": "code",
   "execution_count": null,
   "id": "0dc74372",
   "metadata": {},
   "outputs": [],
   "source": [
    "tallas = df_total.select('size_lookiero').collect()\n",
    "tallas = np.array([x[0] for x in tallas])\n",
    "df_heat = pd.DataFrame()\n",
    "df_heat['size'], df_heat['product_family'] = tallas, product_family\n",
    "\n",
    "hm_131_p = pd.get_dummies(df_heat, columns=['product_family']).groupby(['size']).sum()\n",
    "hm_131_p.columns = [x.replace('product_family_', '').capitalize() for x in hm_131_p.columns]"
   ]
  },
  {
   "cell_type": "code",
   "execution_count": 104,
   "id": "860f453e",
   "metadata": {},
   "outputs": [
    {
     "data": {
      "text/plain": [
       "Text(0.5, 1.0, 'Relación entre tallas y productos')"
      ]
     },
     "execution_count": 104,
     "metadata": {},
     "output_type": "execute_result"
    },
    {
     "data": {
      "image/png": "[encoded data removed]",
      "text/plain": [
       "<Figure size 1800x360 with 2 Axes>"
      ]
     },
     "metadata": {},
     "output_type": "display_data"
    }
   ],
   "source": [
    "fig3, ax3 = plt.subplots(figsize = (25,5))\n",
    "ax3 = sns.heatmap(hm_131_p,cmap='bone')\n",
    "ax3.set_ylabel('Tallas')\n",
    "ax3.set_xlabel('Productos')\n",
    "ax3.set_title(\"Relación entre tallas y productos\",fontweight='bold')"
   ]
  },
  {
   "cell_type": "markdown",
   "id": "bee23848",
   "metadata": {},
   "source": [
    "#### Empresas con mayor stock"
   ]
  },
  {
   "cell_type": "code",
   "execution_count": 115,
   "id": "898e2445",
   "metadata": {},
   "outputs": [],
   "source": [
    "empresas = df_total.select('brand_brand').collect()\n",
    "empresas = np.array([x[0] for x in empresas])\n",
    "stock = np.array([x[0] for x in df_total.select('stock').collect()])"
   ]
  },
  {
   "cell_type": "code",
   "execution_count": 122,
   "id": "6e90b097",
   "metadata": {},
   "outputs": [],
   "source": [
    "df_empresas_stock = pd.DataFrame()\n",
    "df_empresas_stock['empresas'], df_empresas_stock['stock'] = empresas, stock\n",
    "top_10_empresas = df_empresas_stock.groupby('empresas').agg({'stock':'sum'}).sort_values(by='stock', ascending=False).head(10).index\n",
    "valores = df_empresas_stock.groupby('empresas').agg({'stock':'sum'}).sort_values(by='stock', ascending=False).head(10)\n",
    "errors = df_top_10.groupby('empresas').agg({'stock':'std'}).sort_values(by='stock', ascending=False).head(10)"
   ]
  },
  {
   "cell_type": "code",
   "execution_count": 191,
   "id": "21b808e2",
   "metadata": {},
   "outputs": [
    {
     "data": {
      "image/png": "[encoded data removed]",
      "text/plain": [
       "<Figure size 1800x360 with 1 Axes>"
      ]
     },
     "metadata": {},
     "output_type": "display_data"
    }
   ],
   "source": [
    "fig, ax = plt.subplots(figsize = (25,5))\n",
    "\n",
    "ax.bar(valores.index, valores.stock, yerr=errors.stock, align='center', alpha=0.8, ecolor='black', capsize=10, color = paleta[0])\n",
    "ax.set_facecolor('white')\n",
    "plt.title('Top 10 empresas con mayor stock', fontweight='bold')\n",
    "plt.xlabel('Empresas')\n",
    "plt.ylabel('Stock')\n",
    "plt.show()"
   ]
  },
  {
   "cell_type": "markdown",
   "id": "165ec828",
   "metadata": {},
   "source": [
    "Viendo que muchas empresas no se puede ver el stock que tiene, se decide generar otro gráfico para ver más en detalle el stock de esas empresas."
   ]
  },
  {
   "cell_type": "code",
   "execution_count": 190,
   "id": "8a933be3",
   "metadata": {},
   "outputs": [
    {
     "data": {
      "image/png": "[encoded data removed]",
      "text/plain": [
       "<Figure size 1800x360 with 1 Axes>"
      ]
     },
     "metadata": {},
     "output_type": "display_data"
    }
   ],
   "source": [
    "fig, ax = plt.subplots(figsize = (25,5))\n",
    "\n",
    "ax.bar(valores.index[3:], valores.stock[3:], yerr=errors.stock[3:], align='center', alpha=0.8, ecolor='black', capsize=10, color = paleta[0])\n",
    "ax.set_facecolor('white')\n",
    "plt.title('Top 10 empresas con mayor stock', fontweight='bold')\n",
    "plt.xlabel('Empresas')\n",
    "plt.ylabel('Stock')\n",
    "plt.show()"
   ]
  },
  {
   "cell_type": "markdown",
   "id": "fbb243f4",
   "metadata": {},
   "source": [
    "#### Spider (Sin acabar)"
   ]
  },
  {
   "cell_type": "code",
   "execution_count": 305,
   "id": "1082907d",
   "metadata": {},
   "outputs": [],
   "source": [
    "publishable = np.array([x[0] for x in df_total.select('publishable').collect()])\n",
    "stock = np.array([x[0] for x in df_total.select('stock').collect()])"
   ]
  },
  {
   "cell_type": "code",
   "execution_count": 308,
   "id": "75a77233",
   "metadata": {},
   "outputs": [],
   "source": [
    "df_empresas_spider = pd.DataFrame()\n",
    "df_empresas_spider['publishable'], df_empresas_spider['stock'], df_empresas_spider['tallas'] = publishable, stock, tallas\n",
    "df_empresas_spider=df_empresas_spider.pivot_table(index='publishable', columns='tallas', values='stock', aggfunc='sum')\n",
    "\n",
    "df_empresas_spider.reset_index(drop=True, inplace=True)\n",
    "df_empresas_spider = pd.concat([pd.Series([False, True]), df_empresas_spider], axis = 1)\n",
    "df_empresas_spider.columns = ['group'] + df_empresas_spider.columns[1:].to_list()"
   ]
  },
  {
   "cell_type": "code",
   "execution_count": 309,
   "id": "489ba779",
   "metadata": {},
   "outputs": [
    {
     "data": {
      "image/png": "[encoded data removed]",
      "text/plain": [
       "<Figure size 432x288 with 1 Axes>"
      ]
     },
     "metadata": {},
     "output_type": "display_data"
    }
   ],
   "source": [
    "from math import pi\n",
    "\n",
    "\n",
    "df_empresas_spider['group'] = df_empresas_spider['group'].astype('str')\n",
    "categories=list(df_empresas_spider)[1:]\n",
    "N = len(categories)\n",
    "angles = [n / float(N) * 2 * pi for n in range(N)]\n",
    "angles += angles[:1]\n",
    "ax = plt.subplot(111, polar=True)\n",
    "ax.set_theta_offset(pi / 2)\n",
    "ax.set_theta_direction(-1)\n",
    "plt.xticks(angles[:-1], categories)\n",
    "ax.set_rlabel_position(0)\n",
    "plt.yticks([0.12,0.2,0.28], [\"10\",\"20\",\"30\"], color=\"grey\", size=7)\n",
    "\n",
    " \n",
    "color_list = ['darkblue', 'darkred', 'darkgreen']\n",
    "\n",
    "for i in range(len(df_empresas_spider)):\n",
    "    \n",
    "    values = df_empresas_spider.loc[i].drop('group').values.flatten().tolist()\n",
    "    values += values[:1]\n",
    "    ax.plot(angles, values, linewidth = 1, linestyle='solid', label = f\"Cluster {i}\", color = color_list[i])\n",
    "    ax.fill(angles, values, color = color_list[i], alpha = 0.15)\n",
    "    \n",
    "plt.legend(loc='upper right', bbox_to_anchor=(0.1, 0.1))\n",
    "plt.title('Comportamiento de los clusteres dependiendo dia del mes')\n",
    "plt.show()"
   ]
  },
  {
   "cell_type": "code",
   "execution_count": 212,
   "id": "21c453f8",
   "metadata": {},
   "outputs": [
    {
     "name": "stdout",
     "output_type": "stream",
     "text": [
      "% de valores nulos en stock: 90.47837894297055\n"
     ]
    }
   ],
   "source": [
    "print('% de valores nulos en stock:',len(stock[stock == 0])/len(stock) * 100)"
   ]
  }
 ],
 "metadata": {
  "kernelspec": {
   "display_name": "Python 3",
   "language": "python",
   "name": "python3"
  },
  "language_info": {
   "codemirror_mode": {
    "name": "ipython",
    "version": 3
   },
   "file_extension": ".py",
   "mimetype": "text/x-python",
   "name": "python",
   "nbconvert_exporter": "python",
   "pygments_lexer": "ipython3",
   "version": "3.8.5"
  }
 },
 "nbformat": 4,
 "nbformat_minor": 5
}
