{
 "cells": [
  {
   "cell_type": "markdown",
   "id": "4adb8551",
   "metadata": {},
   "source": [
    "<center> \n",
    "<img src=\"https://upload.wikimedia.org/wikipedia/commons/5/5c/Logo_Mondragon_Unibertsitatea.png\" width=\"150\" height=\"100\" float =\"left\">\n",
    "<img src=\"data:image/png;base64,iVBORw0KGgoAAAANSUhEUgAAAPIAAADQCAMAAAAK0syrAAAAgVBMVEX///8AAAD7+/t6enrV1dWYmJjj4+Po6OjQ0NDx8fGIiIjq6ur39/fv7+/09PTf39+vr69xcXHGxsa5ubmfn59paWmnp6eTk5M8PDxZWVm9vb1eXl5ubm7BwcEzMzOHh4cnJycdHR0TExNPT09FRUUYGBhaWlpEREQ4ODgqKipjY2MMKFclAAAEmElEQVR4nO3ZaXOyPBQGYG52VzbFfQO1tf//Bz5JqArYzvSd8IK29/Whg4ymJyQ5WTAMIiIiIiIiIiIiIiIiIiIiIiIiIiIiIiIiIiIiIiIiIiIiIiKiXyXYdB1B2yxg0nUM7VoBWHcdRKumiO2/1cozbIwQQddhtMhH3zDO6DqMFpnYGsYYTtdxtGiKkWHs0Os6jvb4SA1jhGnXcbRoL7q1kcPrOo72JHANka6truNokazsGH8pXacwDeMNftdxtEjOTX3MdIrworipaNowET16g4VWGXvYDUXTCjFBBXIloiHU6yNtm8HwcDC1ynit1Gci7GGvV+PwtXZgMwSYa5YB6D2ylgH40Cyij10jobQkhXa8Lmor1WR/S/+2P9QsvXEBsNQtY4u8/DE+wHI/rzd4uv3oBPprrj5QWoaICjulge2FI93yG9WbN3C+F6M0Q9nbp2vVihRRqn3YNcK97wZ5MxU2jeR/OVC3T6JPL7SXEJmocnGW4p7l8Zm2wS5aA1EDJdULXqj4tLP129zEWV4EC6zqw3ZQydaelVuPfcq03crHqdy6zxp5eBWjCIuBIc9/NPc/K5i23FD4C6wfjlQmyEqfQsBaVKaHvhgGlugkSG63bNUGNrDXi6vOXeOteNwp9GbNHCNR63hzAeaPJ4WV2SDFxRSPuLT78ETuPItnHhxw/GzpQC1cZzjhoBVXjZ8jv270rB8P5SB10tivbhA9bE25DrmyqqtOq3ywJL42NHoZxvdbB/kb1cvEVJkve+qWvbQwFVVvbiz3ROnRffDk7z/7meiUKsByfjd3Kj1PcViqqoq+XTkT7pcX3l6GhR/hXOpUC1nedTcSi4yl/sV+HYpCjo29NVnmQFpuisNPzgWGM8gj3yUsb4fT8BbjWlZwUNqSTHC6/0rU6NbI40g9r6jcSXJ5p7xqG3oDBxd1GTW0+15+iCBqRxff9h/Pes+wSkbmQP5MtYWqgdyD7PrRu5iLiy5qlU9DrNsGxYPIS2Fx7Voi/75Vj09tzEWOQj3FA33T9OcNzO4j3zmK+j4uLb+bo0LZBPtihB6LfBqh+LuyVqtdeM3O4+ppykV2B0O2dyI69lFcDSYH7Mayjtl9PMVH+T08zkQj1fYfbv3+z02BbLtVcTtfDo5vquxAheOLlHtNN+Mivkst3/VLE4yhlmLis53Jpu8VT2xbPAS5Ll0lgRvETo6tav9088Um23Q1Xx/44WTmhPG3pXx9WC/GbjFCrXsWWapuWn//bNYPgMRT+phfW2+ThuWtY7JSfWeaDv5bJZr15Vh2EDvFOLRwiy5RGeXw0Mj1PGMv8tlTv8vD6vFeKBYQoZov3VInGIsuuzyh2kAuXu9VZfY4LydyNIYyZ/qVo225R6w3afiZrV7J40YqVF1apJ7JtPml/TOY1d8xTD7X/fY8izSmiifm11J2/w+8issqCyC1V/3tNqUl8vhS3uf8XtZtaZ98NWP9SmKpFQ6NYbLXP89+GcGHXAeeXm+G1RIET/cWhYiIiIiIiIiIiIiIiIiIiIiIiIiIiIiIiIiIiIiIiIiIiIiIiIiIqFn/AA1nKx7ECwr8AAAAAElFTkSuQmCC\" width=\"200\" height=\"120\" float =\"left\">    \n",
    "\n",
    "\n",
    "---\n",
    "<h3>Beñat Basabe, Jon Jarrín, June Pagaldai, Daniel Puente, Eneko Rentería | <font color='red'> Equipo Rojo<h3>"
   ]
  },
  {
   "cell_type": "markdown",
   "id": "0025202d",
   "metadata": {},
   "source": [
    "## Análisis inicial\n",
    "En este script se detallarán los descriptivos obtenidos de este primer análisis. Tareas como detectar **cantidad de valores missing** o **outliers** entre otros."
   ]
  },
  {
   "cell_type": "markdown",
   "id": "50c9a77d",
   "metadata": {},
   "source": [
    "### Carga de librerias \n",
    "---"
   ]
  },
  {
   "cell_type": "markdown",
   "id": "6c963a89",
   "metadata": {},
   "source": [
    "- **General**"
   ]
  },
  {
   "cell_type": "code",
   "execution_count": 1,
   "id": "47d8baeb",
   "metadata": {},
   "outputs": [],
   "source": [
    "import pandas as pd\n",
    "import numpy as np\n",
    "import glob\n",
    "import os\n",
    "from IPython.display import clear_output"
   ]
  },
  {
   "cell_type": "markdown",
   "id": "c00fad1d",
   "metadata": {},
   "source": [
    "* **Gráficos**"
   ]
  },
  {
   "cell_type": "code",
   "execution_count": null,
   "id": "fa2ad91f",
   "metadata": {},
   "outputs": [],
   "source": [
    "import plotly.graph_objects as go\n",
    "from plotly.subplots import make_subplots\n",
    "import matplotlib.pyplot as plt\n",
    "import seaborn as sns"
   ]
  },
  {
   "cell_type": "markdown",
   "id": "105f0c9f",
   "metadata": {},
   "source": [
    "* **Grafos**"
   ]
  },
  {
   "cell_type": "code",
   "execution_count": 2,
   "id": "8820b433-c62d-4921-be4d-24f87b66b471",
   "metadata": {},
   "outputs": [],
   "source": [
    "import networkx as nx"
   ]
  },
  {
   "cell_type": "markdown",
   "id": "f8d2c59d",
   "metadata": {},
   "source": [
    "- **Pyspark**"
   ]
  },
  {
   "cell_type": "code",
   "execution_count": 3,
   "id": "bb04edd4",
   "metadata": {},
   "outputs": [],
   "source": [
    "import pyspark\n",
    "from pyspark import SparkContext\n",
    "from pyspark.sql import SparkSession\n",
    "from pyspark.sql import SQLContext\n",
    "from pyspark import SparkFiles\n",
    "from pyspark.sql import functions as F\n",
    "import pyspark.sql.functions as f\n",
    "from pyspark.sql.functions import lit, trim, split, regexp_replace, when"
   ]
  },
  {
   "cell_type": "markdown",
   "id": "4c037de3",
   "metadata": {},
   "source": [
    "- **Strings**"
   ]
  },
  {
   "cell_type": "code",
   "execution_count": 4,
   "id": "1cac86bb",
   "metadata": {},
   "outputs": [],
   "source": [
    "from collections import Counter\n",
    "import re"
   ]
  },
  {
   "cell_type": "markdown",
   "id": "1d41d8d2",
   "metadata": {},
   "source": [
    "* **Otros**"
   ]
  },
  {
   "cell_type": "code",
   "execution_count": null,
   "id": "97ca9547",
   "metadata": {},
   "outputs": [],
   "source": [
    "import itertools"
   ]
  },
  {
   "cell_type": "markdown",
   "id": "b4a8dfa5",
   "metadata": {},
   "source": [
    "### Clases a utilizar\n",
    "---"
   ]
  },
  {
   "cell_type": "markdown",
   "id": "6217f1c6",
   "metadata": {},
   "source": [
    "* Clase para **cargar de datos** (cd)"
   ]
  },
  {
   "cell_type": "markdown",
   "id": "4e1df441",
   "metadata": {},
   "source": [
    "Se fijan los **directorios** de entrada y salida"
   ]
  },
  {
   "cell_type": "code",
   "execution_count": 5,
   "id": "ef71a098",
   "metadata": {},
   "outputs": [],
   "source": [
    "dir_in, dir_out = \"../../datos/datos_originales/\", \"../../datos/datos_desarrollo/\"\n",
    "\n",
    "spark = SparkSession \\\n",
    "    .builder \\\n",
    "    .appName(\"how to read csv file\") \\\n",
    "    .getOrCreate()"
   ]
  },
  {
   "cell_type": "code",
   "execution_count": 6,
   "id": "10c2c247",
   "metadata": {},
   "outputs": [],
   "source": [
    "class carga_datos:\n",
    "    ''' Cargar los datos desde el csv al python:\n",
    "    - subir_tablas: se suben los dataframes con los titulos deseados. Como input: una lista de dfs y una lista de titulos.\n",
    "    - subir_una_tabla: como input se especifica la tabla a subir.\n",
    "    '''\n",
    "    def __init__(self, dir_in = dir_in):\n",
    "        self.dir_in = dir_in\n",
    "        \n",
    "    def subir_tablas(self, dir_in):\n",
    "        try: \n",
    "            path = os.getcwd()\n",
    "            csv_files, dataframes_list = glob.glob(os.path.join(path, dir_in + \"*.csv\")), []\n",
    "            for i in csv_files:\n",
    "                temp_df = spark.read.csv(path = i, header = True, inferSchema = True)\n",
    "                dataframes_list.append(temp_df)\n",
    "  \n",
    "        except: pass\n",
    "            \n",
    "        return dataframes_list\n",
    "    def subir_una_tabla(self, dir_in, nombre_tabla):\n",
    "        return pd.read_csv(os.path.join(dir_in, nombre_tabla + \".csv\"))"
   ]
  },
  {
   "cell_type": "code",
   "execution_count": 7,
   "id": "2d547a1e",
   "metadata": {},
   "outputs": [],
   "source": [
    "cd = carga_datos ()"
   ]
  },
  {
   "cell_type": "markdown",
   "id": "b09ab5c8",
   "metadata": {},
   "source": [
    "## Funciones a utilizar\n",
    "---"
   ]
  },
  {
   "cell_type": "markdown",
   "id": "8ae999b7",
   "metadata": {},
   "source": [
    "- Función para **dar nombre** a la variable **family_id** mediante la variable title"
   ]
  },
  {
   "cell_type": "code",
   "execution_count": 8,
   "id": "2b543aa1",
   "metadata": {},
   "outputs": [],
   "source": [
    "def get_family_name(id_):\n",
    "    \n",
    "    filtered = product.filter(product.family_id == id_)\n",
    "    string = ' '.join([x['title'] for x in filtered.select('title').collect()]).lower()\n",
    "    \n",
    "    return id_, Counter(string.split()).most_common(1)[0][0]"
   ]
  },
  {
   "cell_type": "markdown",
   "id": "ca1fe385",
   "metadata": {},
   "source": [
    "- Función para crear los **sufijos** y facilitar el *join*"
   ]
  },
  {
   "cell_type": "code",
   "execution_count": 9,
   "id": "60cdbe9c",
   "metadata": {},
   "outputs": [],
   "source": [
    "def rename_columns(df, suffix):\n",
    "    ''' Renombra las columnas de un dataframe.'''\n",
    "    for names in df.schema.names: df = df.withColumnRenamed(names,names + suffix)\n",
    "    return df\n",
    "\n",
    "def get_value(dffs, variable):\n",
    "    valores = [x[0] for x in dffs.select(variable).distinct().collect()]\n",
    "    return valores"
   ]
  },
  {
   "cell_type": "markdown",
   "id": "aee68e1d",
   "metadata": {},
   "source": [
    "---"
   ]
  },
  {
   "cell_type": "code",
   "execution_count": 10,
   "id": "766d1436",
   "metadata": {},
   "outputs": [],
   "source": [
    "dfs = cd.subir_tablas(dir_in)\n",
    "titulos = os.listdir(dir_in)"
   ]
  },
  {
   "cell_type": "markdown",
   "id": "df01f48d",
   "metadata": {},
   "source": [
    "### Adecuar el *dataframe* size"
   ]
  },
  {
   "cell_type": "code",
   "execution_count": 11,
   "id": "36e1dc94",
   "metadata": {},
   "outputs": [],
   "source": [
    "size = cd.subir_una_tabla(dir_in, 'size')\n",
    "size.to_csv(dir_out + 'size2.csv', sep = ';')\n",
    "dfs[-1] = spark.read.csv(path = dir_out + 'size2.csv', header = True, inferSchema = True, sep = ';')"
   ]
  },
  {
   "cell_type": "markdown",
   "id": "cae51d53",
   "metadata": {},
   "source": [
    "### Unión de *dataframes*"
   ]
  },
  {
   "cell_type": "markdown",
   "id": "5e658289",
   "metadata": {},
   "source": [
    "<center> \n",
    "<img  src=\"../imagenes/diagrama.PNG\"> "
   ]
  },
  {
   "cell_type": "markdown",
   "id": "725102cf",
   "metadata": {},
   "source": [
    "#### 1) df_total =  product variant + color + size + season"
   ]
  },
  {
   "cell_type": "markdown",
   "id": "36d47701",
   "metadata": {},
   "source": [
    "- **Season**: No utilizar\n",
    "- **Size**: Utilizar solo la talla creada por *lookiero*\n",
    "- **Color**: Utilizar solo el nombre del color"
   ]
  },
  {
   "cell_type": "markdown",
   "id": "715505be",
   "metadata": {},
   "source": [
    "product_variant + size = 116 not used sizes NAN  \n",
    "product_variant_size + color = 1 not used color (mixt) NAN"
   ]
  },
  {
   "cell_type": "markdown",
   "id": "419c584a",
   "metadata": {},
   "source": [
    "* Renombrar con sufijos para facilitar el *join*"
   ]
  },
  {
   "cell_type": "code",
   "execution_count": 12,
   "id": "bd03aee1",
   "metadata": {},
   "outputs": [],
   "source": [
    "dfs[-1] = rename_columns(dfs[-1], '_size')\n",
    "dfs[1] = rename_columns(dfs[1], '_color')"
   ]
  },
  {
   "cell_type": "markdown",
   "id": "bcf3c26a",
   "metadata": {},
   "source": [
    "* Se junta los 2 dataframes en uno solo."
   ]
  },
  {
   "cell_type": "code",
   "execution_count": 13,
   "id": "afd4021a",
   "metadata": {},
   "outputs": [],
   "source": [
    "df_total = dfs[10].join(dfs[-1].select('id_size','lookiero_size'), dfs[10].size_id == dfs[-1].id_size, \"inner\").drop('id_size', 'size_id')\n",
    "df_total = df_total.join(dfs[1].select('id_color', 'name_color'), df_total.color_id == dfs[1].id_color).drop('id_color', 'color_id', 'legacy_id', 'barcode')\n",
    "df_total = df_total.withColumn(\"publishable\", when(df_total.publishable == \"f\",False).when(df_total.publishable == \"t\",True))\n",
    "df_total = df_total.withColumnRenamed(\"lookiero_size\",\"size_lookiero\") \\\n",
    "    .withColumnRenamed(\"name_color\",\"color\")"
   ]
  },
  {
   "cell_type": "markdown",
   "id": "6063e63c",
   "metadata": {},
   "source": [
    "* Se modifica la variable size_lookiero para que tenga formato legible"
   ]
  },
  {
   "cell_type": "code",
   "execution_count": 14,
   "id": "bfa4563c",
   "metadata": {},
   "outputs": [],
   "source": [
    "df_total = df_total.withColumn('size_lookiero', split(df_total['size_lookiero'], ':').getItem(1))\n",
    "df_total = df_total.withColumn('size_lookiero', regexp_replace('size_lookiero', '\"\"', ''))\n",
    "df_total = df_total.withColumn('size_lookiero', split(df_total['size_lookiero'], ',').getItem(0))\n",
    "df_total = df_total.withColumn('size_lookiero', trim(f.col(\"size_lookiero\")))"
   ]
  },
  {
   "cell_type": "markdown",
   "id": "df720707",
   "metadata": {},
   "source": [
    "#### 2) df_total += product"
   ]
  },
  {
   "cell_type": "markdown",
   "id": "7dbc3784",
   "metadata": {},
   "source": [
    "product_variant + product = 41291 (63'3%) with no product_family or brand NAN"
   ]
  },
  {
   "cell_type": "markdown",
   "id": "35dfee02",
   "metadata": {},
   "source": [
    "- **Product**: Dar nombre a la variable family_id y eliminar *legacy_id* y *channels*"
   ]
  },
  {
   "cell_type": "markdown",
   "id": "f99c76a9",
   "metadata": {},
   "source": [
    "* Crear las parejas"
   ]
  },
  {
   "cell_type": "code",
   "execution_count": 15,
   "id": "0bd10664",
   "metadata": {},
   "outputs": [],
   "source": [
    "product = dfs[7].drop('legacy_id', 'channels')\n",
    "\n",
    "unique_values_family =  [x['family_id'] for x in product.select('family_id').distinct().collect()]\n",
    "parejas = dict(map(get_family_name, unique_values_family))\n",
    "product = product.withColumn(\"product_family\", product[\"family_id\"])"
   ]
  },
  {
   "cell_type": "markdown",
   "id": "d1b79e0d",
   "metadata": {},
   "source": [
    "* Mapear las parejas creadas"
   ]
  },
  {
   "cell_type": "code",
   "execution_count": 16,
   "id": "1b1ffea4",
   "metadata": {},
   "outputs": [],
   "source": [
    "for k, v in enumerate(unique_values_family): \n",
    "    product = product.withColumn('product_family', regexp_replace('product_family', v, str(parejas[v])))"
   ]
  },
  {
   "cell_type": "markdown",
   "id": "ba3b2799",
   "metadata": {},
   "source": [
    "* Renombra la columna a la hora de unir"
   ]
  },
  {
   "cell_type": "code",
   "execution_count": 17,
   "id": "ae9d5353",
   "metadata": {},
   "outputs": [],
   "source": [
    "product = product.drop('family_id', 'title', '\"\"\"group\"\"\"')\n",
    "product = rename_columns(product, '_product')\n",
    "\n",
    "df_total = df_total.join(product, df_total.product_id == product.id_product).drop('product_id')\n",
    "df_total = df_total.withColumnRenamed(\"product_family_product\",\"family_product\")"
   ]
  },
  {
   "cell_type": "markdown",
   "id": "46c2800c",
   "metadata": {},
   "source": [
    "#### 3) df_total += brand"
   ]
  },
  {
   "cell_type": "markdown",
   "id": "87d930a6",
   "metadata": {},
   "source": [
    "- **brand**: No utilizar variable number"
   ]
  },
  {
   "cell_type": "markdown",
   "id": "7cdb0e8a",
   "metadata": {},
   "source": [
    "df_total + brand = 0 NAN"
   ]
  },
  {
   "cell_type": "code",
   "execution_count": 18,
   "id": "de2f2304",
   "metadata": {},
   "outputs": [],
   "source": [
    "brand = dfs[0].drop('number')\n",
    "brand = brand.withColumnRenamed(\"id\",\"id\").withColumnRenamed(\"name\",\"brand\").withColumnRenamed(\"origin\",\"brand_origin\")\n",
    "brand = rename_columns(brand, '_brand')\n",
    "df_total = df_total.join(brand, df_total.brand_id_product == brand.id_brand).drop('brand_id_product','brand_id', 'id_brand')\n",
    "df_total = df_total.withColumnRenamed(\"brand_brand\", \"name_brand\").withColumnRenamed(\"brand_origin_brand\", \"origin_brand\")"
   ]
  },
  {
   "cell_type": "markdown",
   "id": "60ab0112",
   "metadata": {},
   "source": [
    "#### 4) values = feature values + feature (*value caracteristics*)"
   ]
  },
  {
   "cell_type": "markdown",
   "id": "f7b9b147",
   "metadata": {},
   "source": [
    "- **feature**: Multiple convertir en booleano (borrar??) y para poder eliminar la variable unit pasar los porcentajes a decimales (para diferenciarlos)"
   ]
  },
  {
   "cell_type": "markdown",
   "id": "e1dfe259",
   "metadata": {},
   "source": [
    "feature + feature_value = 1 value caracteristic not used NAN"
   ]
  },
  {
   "cell_type": "code",
   "execution_count": 19,
   "id": "e08f3e00",
   "metadata": {},
   "outputs": [],
   "source": [
    "feature = dfs[3]\n",
    "feature = feature.withColumn(\"multiple\", when(feature.multiple == \"f\",False).when(feature.multiple == \"t\",True))\n",
    "column_names = ['id', 'feature_name', 'feature_type', 'feature_multiple', 'unit']\n",
    "\n",
    "for k, v in enumerate(column_names):  feature = feature.withColumnRenamed(feature.schema.names[k], v)\n",
    "feature_value = dfs[5]\n",
    "feature = rename_columns(feature, '_values')\n",
    "values = feature_value.join(feature, feature_value.feature_id == feature.id_values).drop('feature_id','id_values', 'feature_type_values', 'unit_values')"
   ]
  },
  {
   "cell_type": "markdown",
   "id": "471a7c86",
   "metadata": {},
   "source": [
    "### **Hay que corregirlo pero no sé cómo**\t"
   ]
  },
  {
   "cell_type": "raw",
   "id": "924a04c2",
   "metadata": {},
   "source": [
    "values.select('value').filter(values.unit_values == 'PERCENTAGE').withColumn('value', f.col('value')/100).show()"
   ]
  },
  {
   "cell_type": "markdown",
   "id": "963c8c56",
   "metadata": {},
   "source": [
    "feature_family no sirve para nada **creo** por lo que las siguientes celda en raw"
   ]
  },
  {
   "cell_type": "markdown",
   "id": "d1d00b5b",
   "metadata": {},
   "source": [
    "#### 5) values + value family"
   ]
  },
  {
   "cell_type": "code",
   "execution_count": 20,
   "id": "25fe8d13",
   "metadata": {},
   "outputs": [],
   "source": [
    "for k, v in enumerate(['feature_family', 'feature_value_id']):  dfs[6] = dfs[6].withColumnRenamed(dfs[6].schema.names[k], v)\n",
    "values = values.join(dfs[6], values.id == dfs[6].feature_value_id).drop('feature_value_id')"
   ]
  },
  {
   "cell_type": "markdown",
   "id": "c7730c78",
   "metadata": {},
   "source": [
    "#### 6) product_values = values + product_feature_value"
   ]
  },
  {
   "cell_type": "markdown",
   "id": "f40bbb04",
   "metadata": {},
   "source": [
    "values + product_feature_value = 1420 (1'84%) caracteristics that has no product NAN"
   ]
  },
  {
   "cell_type": "code",
   "execution_count": 21,
   "id": "6f328e56",
   "metadata": {},
   "outputs": [],
   "source": [
    "values = values.withColumnRenamed('id', 'id_values')\n",
    "dfs[8] = dfs[8].withColumnRenamed('id', 'id_product_feature')\n",
    "product_values = values.join(dfs[8], values.id_values == dfs[8].feature_value_id).drop('feature_value_id')"
   ]
  },
  {
   "cell_type": "markdown",
   "id": "0800be1e",
   "metadata": {},
   "source": [
    "#### 7) product_values + df_total"
   ]
  },
  {
   "cell_type": "markdown",
   "id": "81803db6",
   "metadata": {},
   "source": [
    "products + features = 383 (0'06%) products without caracteristics NAN"
   ]
  },
  {
   "cell_type": "code",
   "execution_count": 22,
   "id": "9fe0febd",
   "metadata": {},
   "outputs": [],
   "source": [
    "df = df_total.join(product_values, df_total.id_product == product_values.product_id).drop('product_id')"
   ]
  },
  {
   "cell_type": "markdown",
   "id": "42db3c25",
   "metadata": {},
   "source": [
    "* Adecuar variables para la comprensión"
   ]
  },
  {
   "cell_type": "code",
   "execution_count": 23,
   "id": "e9c6f79e",
   "metadata": {},
   "outputs": [],
   "source": [
    "df = df.drop('id_values', 'multiple_values') # id_product_feature\n",
    "df = df.withColumnRenamed('feature_multiple_values', 'multiple_values').withColumnRenamed('feature_name_values','name_feature')\n",
    "df = df.withColumn('id_product', f.concat(f.col('family_product'), lit('_'), f.col('color') , lit('_'), f.col('size_lookiero'), lit('_'), f.col('season')))\n",
    "df = df.withColumn('id_product_feature', f.concat(f.col('name_feature'), lit('_'), f.col('value')))"
   ]
  },
  {
   "cell_type": "markdown",
   "id": "9f26224c",
   "metadata": {},
   "source": [
    "- id = Un único producto (se repite pork tiene diferentes features)  \n",
    "- id_product = El producto en general (niki manga larga)  \n",
    "- id_values = id de una característica (**borrado**)     \n",
    "- id_product_feature = id de la característica de un producto en general (id_product)(**borrado**)"
   ]
  },
  {
   "cell_type": "code",
   "execution_count": 31,
   "id": "9fdd05be",
   "metadata": {},
   "outputs": [
    {
     "name": "stdout",
     "output_type": "stream",
     "text": [
      "(14285646, 15)\n",
      "+--------------------+------+-----+-----------+-------------+---------+--------------------+--------------+----------+-------------+-----+------------+---------------+--------------------+------------------+\n",
      "|                  id|season|stock|publishable|size_lookiero|    color|          id_product|family_product|name_brand| origin_brand|value|name_feature|multiple_values|      feature_family|id_product_feature|\n",
      "+--------------------+------+-----+-----------+-------------+---------+--------------------+--------------+----------+-------------+-----+------------+---------------+--------------------+------------------+\n",
      "|498662e5-11e8-483...|     8|    0|       true|            M|     ecru|   cardigan_ecru_M_8|      cardigan|  BRAND112|NO_MAINSTREAM|   55| hip_contour|          false|c6b81db8-29ed-43d...|    hip_contour_55|\n",
      "|dcda2fe4-58e3-4b2...|     8|    0|       true|            S|     ecru|   cardigan_ecru_S_8|      cardigan|  BRAND112|NO_MAINSTREAM|   55| hip_contour|          false|c6b81db8-29ed-43d...|    hip_contour_55|\n",
      "|d54e064c-9f90-4ea...|     8|    0|       true|            L|     ecru|   cardigan_ecru_L_8|      cardigan|  BRAND112|NO_MAINSTREAM|   55| hip_contour|          false|c6b81db8-29ed-43d...|    hip_contour_55|\n",
      "|3112fc7f-5b4d-4c3...|     8|    0|       true|            S|    brown|  cardigan_brown_S_8|      cardigan|  BRAND112|NO_MAINSTREAM|   55| hip_contour|          false|c6b81db8-29ed-43d...|    hip_contour_55|\n",
      "|96cf8feb-0b2b-49e...|     8|    0|       true|            L|    brown|  cardigan_brown_L_8|      cardigan|  BRAND112|NO_MAINSTREAM|   55| hip_contour|          false|c6b81db8-29ed-43d...|    hip_contour_55|\n",
      "|50e96bc9-2835-43d...|     8|    0|       true|            M|    brown|  cardigan_brown_M_8|      cardigan|  BRAND112|NO_MAINSTREAM|   55| hip_contour|          false|c6b81db8-29ed-43d...|    hip_contour_55|\n",
      "|ec5dfb5d-23bc-43f...|     9|    0|       true|            M|blue_dark|cardigan_blue_dar...|      cardigan|   BRAND66|   MAINSTREAM|   55| hip_contour|          false|c6b81db8-29ed-43d...|    hip_contour_55|\n",
      "|cecf6003-73a1-4d9...|     9|    0|       true|           XL|    beige| cardigan_beige_XL_9|      cardigan|   BRAND66|   MAINSTREAM|   55| hip_contour|          false|c6b81db8-29ed-43d...|    hip_contour_55|\n",
      "|57fb4566-530d-46e...|     9|    0|       true|            S|    black|  cardigan_black_S_9|      cardigan|   BRAND66|   MAINSTREAM|   55| hip_contour|          false|c6b81db8-29ed-43d...|    hip_contour_55|\n",
      "|b23ec26f-b571-46c...|     9|    0|       true|          XXL|blue_dark|cardigan_blue_dar...|      cardigan|   BRAND66|   MAINSTREAM|   55| hip_contour|          false|c6b81db8-29ed-43d...|    hip_contour_55|\n",
      "|10653760-e3b1-421...|     9|    0|       true|            S|    beige|  cardigan_beige_S_9|      cardigan|   BRAND66|   MAINSTREAM|   55| hip_contour|          false|c6b81db8-29ed-43d...|    hip_contour_55|\n",
      "|acb83c8b-288d-462...|     9|    0|       true|           XS|blue_dark|cardigan_blue_dar...|      cardigan|   BRAND66|   MAINSTREAM|   55| hip_contour|          false|c6b81db8-29ed-43d...|    hip_contour_55|\n",
      "|e56134e3-584a-42e...|     9|    0|       true|           XL|blue_dark|cardigan_blue_dar...|      cardigan|   BRAND66|   MAINSTREAM|   55| hip_contour|          false|c6b81db8-29ed-43d...|    hip_contour_55|\n",
      "|b595246f-9569-426...|     9|    0|       true|            L|blue_dark|cardigan_blue_dar...|      cardigan|   BRAND66|   MAINSTREAM|   55| hip_contour|          false|c6b81db8-29ed-43d...|    hip_contour_55|\n",
      "|6e0015ac-225a-4c2...|     9|    0|       true|           XS|    beige| cardigan_beige_XS_9|      cardigan|   BRAND66|   MAINSTREAM|   55| hip_contour|          false|c6b81db8-29ed-43d...|    hip_contour_55|\n",
      "|24892775-57ae-429...|     9|    0|       true|            M|    beige|  cardigan_beige_M_9|      cardigan|   BRAND66|   MAINSTREAM|   55| hip_contour|          false|c6b81db8-29ed-43d...|    hip_contour_55|\n",
      "|b55e860b-7e1e-443...|     9|    0|       true|            L|    beige|  cardigan_beige_L_9|      cardigan|   BRAND66|   MAINSTREAM|   55| hip_contour|          false|c6b81db8-29ed-43d...|    hip_contour_55|\n",
      "|97b306bc-5a92-434...|     9|    0|       true|            S|blue_dark|cardigan_blue_dar...|      cardigan|   BRAND66|   MAINSTREAM|   55| hip_contour|          false|c6b81db8-29ed-43d...|    hip_contour_55|\n",
      "|7104625e-98cb-49a...|     9|    0|       true|          XXL|    beige|cardigan_beige_XXL_9|      cardigan|   BRAND66|   MAINSTREAM|   55| hip_contour|          false|c6b81db8-29ed-43d...|    hip_contour_55|\n",
      "|1bd0ff8d-aa57-4a3...|     8|    0|       true|            M|    taupe|   sweater_taupe_M_8|       sweater|  BRAND132|NO_MAINSTREAM|   55| hip_contour|          false|c6b81db8-29ed-43d...|    hip_contour_55|\n",
      "+--------------------+------+-----+-----------+-------------+---------+--------------------+--------------+----------+-------------+-----+------------+---------------+--------------------+------------------+\n",
      "only showing top 20 rows\n",
      "\n"
     ]
    }
   ],
   "source": [
    "print((df.count(), len(df.columns)))\n",
    "df.show()"
   ]
  },
  {
   "cell_type": "markdown",
   "id": "0fc124b6",
   "metadata": {},
   "source": [
    "* **Missing values** (tarda bastante en ejecutar)"
   ]
  },
  {
   "cell_type": "raw",
   "id": "b1e5cfc2",
   "metadata": {},
   "source": [
    "from pyspark.sql.functions import isnan, when, count, col\n",
    "df.select([count(when(isnan(c), c)).alias(c) for c in list(set(df.columns) - set(['publishable','multiple_values']))]).show()"
   ]
  },
  {
   "cell_type": "markdown",
   "id": "5ab295e9",
   "metadata": {},
   "source": [
    "* **Some group by**"
   ]
  },
  {
   "cell_type": "code",
   "execution_count": 56,
   "id": "1a4653f0",
   "metadata": {},
   "outputs": [
    {
     "name": "stdout",
     "output_type": "stream",
     "text": [
      "+--------------+-------------------+\n",
      "|family_product|count(name_feature)|\n",
      "+--------------+-------------------+\n",
      "|           3.1|                 32|\n",
      "|           2.2|                 31|\n",
      "|           3.2|                 14|\n",
      "|           1.1|                 36|\n",
      "|           2.1|                 32|\n",
      "|           1.2|                 27|\n",
      "+--------------+-------------------+\n",
      "\n"
     ]
    }
   ],
   "source": [
    "from pyspark.sql.functions import isnan, when, count, col, countDistinct\n",
    "df.groupBy(\"family_product\").agg(countDistinct(\"name_feature\")).show()"
   ]
  },
  {
   "cell_type": "markdown",
   "id": "c3794776",
   "metadata": {},
   "source": [
    "### Guardar - Todavía en proceso\n",
    "---"
   ]
  },
  {
   "cell_type": "raw",
   "id": "3ccd81ee",
   "metadata": {},
   "source": [
    "spark.conf.set(\"spark.sql.parquet.compression.codec\", \"gzip\")"
   ]
  },
  {
   "cell_type": "raw",
   "id": "84cf67c4",
   "metadata": {},
   "source": [
    "df.write.partitionBy(\"id_product\").parquet(dir_out + \"final_df.parquet\")"
   ]
  },
  {
   "cell_type": "markdown",
   "id": "eb7f31da-3aca-4a2d-9637-0bce26f87696",
   "metadata": {
    "id": "a87a3002"
   },
   "source": [
    "### Relaciones\n",
    "---"
   ]
  },
  {
   "cell_type": "markdown",
   "id": "7f2cf393-f4ad-4d62-8a19-7cd44129b963",
   "metadata": {
    "id": "a4bb04d7"
   },
   "source": [
    "* Crear variables para verificar reglas"
   ]
  },
  {
   "cell_type": "code",
   "execution_count": 24,
   "id": "593c59aa-653e-448f-9641-836e9284f1db",
   "metadata": {
    "id": "94050b3f"
   },
   "outputs": [
    {
     "name": "stderr",
     "output_type": "stream",
     "text": [
      "C:\\Users\\Daniel\\anaconda3\\envs\\reto10_rojo\\lib\\site-packages\\pyspark\\sql\\dataframe.py:2233: UserWarning: to_replace is a dict and value is not None. value will be ignored.\n",
      "  warnings.warn(\"to_replace is a dict and value is not None. value will be ignored.\")\n"
     ]
    }
   ],
   "source": [
    "niveles = {'jumpsuit': '1.1', \n",
    "           'dress': '1.1',\n",
    "           \n",
    "           'jeans': '1.2',\n",
    "           'skirt': '1.2',\n",
    "           'short': '1.2',\n",
    "           'pant': '1.2',\n",
    "          \n",
    "           'shirt': '2.1',\n",
    "           'top': '2.1',\n",
    "           'tshirt': '2.1',\n",
    "          \n",
    "           'sweater': '2.2',\n",
    "           'sweatshirt': '2.2',\n",
    "           'cardigan': '2.2',\n",
    "          \n",
    "           'trench': '3.1',\n",
    "           'coat': '3.1',\n",
    "           'parka': '3.1',\n",
    "           'jacket': '3.1',\n",
    "          \n",
    "           'bag': '3.2',\n",
    "           'scarf': '3.2'}\n",
    "\n",
    "df = df.withColumn('level', df['family_product'])\n",
    "df = df.replace(niveles, 'level')"
   ]
  },
  {
   "cell_type": "markdown",
   "id": "7cac11c9-8cb1-49c3-a670-0d550262da2a",
   "metadata": {
    "id": "abfa5daf"
   },
   "source": [
    "**COMBINACIONES NO POSIBLES:**\n",
    "- 1.2 + 3.2 + 3.2 (*falta parte de arriba*)\n",
    "- 2.1 + 2.1 (*demasiados nikis*)\n",
    "- 2.2 + 2.2 (*demasiados jerses*)\n",
    "- 3.1 + 3.1 (*demasiadas txammaras*)"
   ]
  },
  {
   "cell_type": "markdown",
   "id": "6ad92b7c-261a-4b97-953f-a641f3e36c77",
   "metadata": {
    "id": "29a3a56f"
   },
   "source": [
    "* Ponderaciones de relaciones"
   ]
  },
  {
   "cell_type": "markdown",
   "id": "70cd973a-2b36-4b2c-b756-f1f62976caa2",
   "metadata": {},
   "source": [
    "### Grafo\n",
    "---"
   ]
  },
  {
   "cell_type": "markdown",
   "id": "f287a7af-a376-4068-bb38-0ab6d5930626",
   "metadata": {},
   "source": [
    "#### 1) Nodos *(está solo con 10)*"
   ]
  },
  {
   "cell_type": "markdown",
   "id": "3d346d4e-1607-4c8c-9871-bf58709e0eae",
   "metadata": {},
   "source": [
    "- Crear el grafo y los productos "
   ]
  },
  {
   "cell_type": "code",
   "execution_count": 29,
   "id": "fa755f09-7210-41fa-9f7d-05f6308c2c5e",
   "metadata": {},
   "outputs": [],
   "source": [
    "G = nx.Graph()\n",
    "vu_id_product, vu_id, vu_level = get_value(df, 'id_product'), get_value(df, 'id'), get_value(df, 'level')"
   ]
  },
  {
   "cell_type": "markdown",
   "id": "1478d431-b1b5-480b-be64-0843761c4f62",
   "metadata": {},
   "source": [
    "* Añadir los productos con su color y size en el grafo"
   ]
  },
  {
   "cell_type": "code",
   "execution_count": 30,
   "id": "9ace36b9-6018-4fa9-8a37-1f4e4b10622b",
   "metadata": {},
   "outputs": [],
   "source": [
    "for k, v in enumerate(vu_id_product[:50]):\n",
    "    G.add_node(k, color = get_value(df.filter(df.id_product == v), 'color')[0], size = get_value(df.filter(df.id_product == v), 'size_lookiero')[0], level = get_value(df.filter(df.id_product == v), 'level')[0][0], season = get_value(df.filter(df.id_product == v), 'season')[0])"
   ]
  },
  {
   "cell_type": "markdown",
   "id": "422f88cd-bb0c-4d7d-a281-b5461743666d",
   "metadata": {},
   "source": [
    "* Relación de número (id) con producto"
   ]
  },
  {
   "cell_type": "code",
   "execution_count": 31,
   "id": "d9b70f9f-2498-43f3-878e-6c92abc2a9cb",
   "metadata": {},
   "outputs": [],
   "source": [
    "df_para_filtrar = pd.DataFrame(vu_id_product).reset_index()\n",
    "df_para_filtrar['family_product'] = pd.Series([e[0] for e in df_para_filtrar[0].str.split('_')])\n",
    "df_para_filtrar['level'] = df_para_filtrar.family_product.map(niveles)"
   ]
  },
  {
   "cell_type": "markdown",
   "id": "b7373202-9962-4476-8e1a-3df8e0a1ac24",
   "metadata": {},
   "source": [
    "#### 2) Aristas"
   ]
  },
  {
   "cell_type": "markdown",
   "id": "22cb651e",
   "metadata": {},
   "source": [
    "Filtramos el df para que no tarde tanto"
   ]
  },
  {
   "cell_type": "code",
   "execution_count": null,
   "id": "17f0d224",
   "metadata": {},
   "outputs": [],
   "source": [
    "filtrado = df.filter(df.id_product.isin(vu_id_product[:50]))"
   ]
  },
  {
   "cell_type": "markdown",
   "id": "8fc85365-d054-439c-828f-987297c0787c",
   "metadata": {},
   "source": [
    "**Aristas: Temporada** (*está para 10 combinaciones*)"
   ]
  },
  {
   "cell_type": "code",
   "execution_count": 32,
   "id": "11e25bd9-cec2-49b5-b40f-22cdf61d5b10",
   "metadata": {},
   "outputs": [],
   "source": [
    "combinaciones_temporada = []\n",
    "\n",
    "for i in [7,8,9]:\n",
    "    \n",
    "    filtrado_2 = filtrado.filter(filtrado.season == i).select('id_product')\n",
    "    valores = get_value(filtrado_2, 'id_product')\n",
    "    indeces_estaciones = df_para_filtrar[df_para_filtrar[0].isin(valores)].index.tolist()\n",
    "    combinaciones = list(itertools.combinations(indeces_estaciones, 2))\n",
    "    combinaciones_temporada += combinaciones"
   ]
  },
  {
   "cell_type": "markdown",
   "id": "b55820e6-fc15-41ca-a130-0e91863735ed",
   "metadata": {},
   "source": [
    "**Aristas: Level** (*está para todas las combinaciones*)"
   ]
  },
  {
   "cell_type": "markdown",
   "id": "0755b56c-a9db-448f-bcce-59230575b84e",
   "metadata": {},
   "source": [
    "- Crear combinaciones (aristas)"
   ]
  },
  {
   "cell_type": "code",
   "execution_count": 33,
   "id": "ee826bf9-42e8-4f46-9f74-a59b51df393a",
   "metadata": {},
   "outputs": [],
   "source": [
    "levels = get_value(df.filter(df.id_product.isin(vu_id_product)), 'level')\n",
    "levels.sort()\n",
    "tods = list(itertools.combinations(levels, 3))\n",
    "tods.sort()"
   ]
  },
  {
   "cell_type": "markdown",
   "id": "6b56aefd-fe2d-4bd9-8d28-8e07a41013fb",
   "metadata": {},
   "source": [
    "* Cambios necesarios para que cumplan las reglas definidas"
   ]
  },
  {
   "cell_type": "code",
   "execution_count": 34,
   "id": "864fee08",
   "metadata": {},
   "outputs": [],
   "source": [
    "tods = [v for x, v in enumerate(tods) if x not in [0,1,2,3]]\n",
    "tods += [('1.1', '3.2', '3.2')]\n",
    "tods = [x for x in tods if x[0][0][0] == '1']"
   ]
  },
  {
   "cell_type": "markdown",
   "id": "8a8a666d-ac1f-4775-9dfb-38d8961ad0ae",
   "metadata": {},
   "source": [
    "* Traducir de combinaciones de *levels* a los ids de los nodos"
   ]
  },
  {
   "cell_type": "code",
   "execution_count": 35,
   "id": "438ad619",
   "metadata": {},
   "outputs": [],
   "source": [
    "df_para_filtrar.columns = ['index', 'id_product', 'family_product', 'level']"
   ]
  },
  {
   "cell_type": "markdown",
   "id": "b80c0dff",
   "metadata": {},
   "source": [
    "* Se generan las combinaciones del *level* y se genera un **graphlet G2** (triangulo), para generar las relaciones"
   ]
  },
  {
   "cell_type": "code",
   "execution_count": 36,
   "id": "eb5889f3",
   "metadata": {},
   "outputs": [],
   "source": [
    "for e in tods:\n",
    "\n",
    "    list_1 = df_para_filtrar[df_para_filtrar.level == e[0]].index.to_list()\n",
    "    list_2 = df_para_filtrar[df_para_filtrar.level == e[1]].index.to_list()\n",
    "    list_3 = df_para_filtrar[df_para_filtrar.level == e[2]].index.to_list()\n",
    "    \n",
    "    if len(list_1) > 0 and len(list_2) > 0 and len(list_3) > 0:\n",
    "        combinaciones_level = list(itertools.product(list_1, list_2, list_3))\n",
    "        for c in combinaciones_level:\n",
    "            K_3 = nx.complete_graph((c))\n",
    "            G.add_edges_from(K_3.edges)\n",
    "ejes_actuales = list(G.edges())"
   ]
  },
  {
   "cell_type": "code",
   "execution_count": 37,
   "id": "c5c57621",
   "metadata": {},
   "outputs": [
    {
     "data": {
      "image/png": "[encoded data removed]",
      "text/plain": [
       "<Figure size 432x288 with 1 Axes>"
      ]
     },
     "metadata": {},
     "output_type": "display_data"
    }
   ],
   "source": [
    "nx.draw(G, with_labels = True)"
   ]
  },
  {
   "cell_type": "markdown",
   "id": "7d270d9c-1767-42bb-a2f9-b3c7a74a1cae",
   "metadata": {},
   "source": [
    "**Aristas: Tallas**"
   ]
  },
  {
   "cell_type": "markdown",
   "id": "023728ff",
   "metadata": {},
   "source": [
    "* Se consigue las tallas"
   ]
  },
  {
   "cell_type": "code",
   "execution_count": 38,
   "id": "b78fc4ed",
   "metadata": {},
   "outputs": [],
   "source": [
    "df_para_filtrar['talla'] = df_para_filtrar['id_product'].apply(lambda x:x.split('_')[-2])\n",
    "orden_tallas = ['XXS', 'XS', 'S', 'M', 'L', 'XL', 'XXL', 'XXXL','X4XL']"
   ]
  },
  {
   "cell_type": "markdown",
   "id": "47574ed2",
   "metadata": {},
   "source": [
    "* Se establece que sólo puede haber 1 talla de diferencia"
   ]
  },
  {
   "cell_type": "code",
   "execution_count": 39,
   "id": "78f944b4",
   "metadata": {},
   "outputs": [],
   "source": [
    "combinaciones_tallas = []\n",
    "try:\n",
    "    for x, v in enumerate(orden_tallas): combinaciones_tallas += [(v,orden_tallas[x+1])]\n",
    "except:pass"
   ]
  },
  {
   "cell_type": "markdown",
   "id": "1bf1cc80",
   "metadata": {},
   "source": [
    "* Se genera las combinaciones de tallas y luego los valores propios ya que hay valores repetidos"
   ]
  },
  {
   "cell_type": "code",
   "execution_count": 40,
   "id": "0e7f5185",
   "metadata": {},
   "outputs": [],
   "source": [
    "combinaciones_tallas_nodos = []\n",
    "for x in combinaciones_tallas:\n",
    "    list_1 = df_para_filtrar[df_para_filtrar.talla.isin(x)].index.to_list()\n",
    "    combinaciones_tallas_nodos += list(itertools.combinations(list_1, 2))\n",
    "\n",
    "combinaciones_tallas_nodos = list(set(combinaciones_tallas_nodos))"
   ]
  },
  {
   "cell_type": "markdown",
   "id": "9f81cd8d-bea5-4e9c-a665-af1183487621",
   "metadata": {},
   "source": [
    "**Aristas: Completo**"
   ]
  },
  {
   "cell_type": "markdown",
   "id": "b8063e9a-df76-4c6b-9143-363b28a3a556",
   "metadata": {},
   "source": [
    "* En caso de que solo tenga que cumplir 1:"
   ]
  },
  {
   "cell_type": "code",
   "execution_count": 41,
   "id": "0ee29450-62e0-42e5-9d7e-0c09debf156a",
   "metadata": {},
   "outputs": [],
   "source": [
    "aristas_sin_level = list(set(combinaciones_temporada + combinaciones_tallas_nodos))"
   ]
  },
  {
   "cell_type": "markdown",
   "id": "87fc7f4e-c131-4f06-b4f4-0dda2afbb940",
   "metadata": {},
   "source": [
    "* En caso de que tenga que cumplir todos:"
   ]
  },
  {
   "cell_type": "code",
   "execution_count": 42,
   "id": "4e2a9197-c934-4f8f-ae74-c346632df79e",
   "metadata": {},
   "outputs": [
    {
     "name": "stdout",
     "output_type": "stream",
     "text": [
      "[(15, 21), (33, 36), (43, 46), (42, 48), (44, 45), (35, 42), (7, 35), (22, 26), (0, 5), (31, 47), (12, 43), (0, 23), (3, 40), (5, 37), (1, 15), (14, 49), (1, 24), (32, 39), (8, 39), (25, 34), (12, 27), (3, 33), (5, 30), (20, 49), (3, 42), (1, 8), (15, 16), (15, 25), (2, 25), (8, 41), (0, 37), (2, 34), (12, 20), (29, 36), (38, 39), (5, 23), (3, 35), (14, 44), (8, 25), (8, 34), (0, 30), (16, 26), (11, 48), (21, 25), (38, 41), (21, 34), (9, 14), (14, 28), (20, 44), (12, 49), (45, 46), (1, 21), (33, 35), (27, 49), (9, 44), (1, 39), (20, 28), (39, 41), (29, 40), (6, 47), (34, 39), (4, 47), (37, 44), (16, 21), (8, 38), (9, 37), (19, 47), (9, 46), (32, 41), (6, 22), (15, 34), (6, 31), (29, 42), (40, 42), (4, 22), (4, 31), (2, 6), (19, 22), (34, 41), (1, 16), (2, 15), (19, 31), (7, 11), (1, 25), (37, 46), (28, 43), (25, 26), (11, 36), (6, 15), (3, 7), (4, 6), (24, 39), (29, 35), (12, 28), (23, 37), (8, 15), (27, 28), (2, 8), (8, 24), (36, 40), (14, 46), (2, 26), (11, 29), (24, 32), (43, 45), (6, 26), (24, 41), (26, 47), (23, 30), (4, 26), (1, 2), (20, 46), (19, 26), (36, 42), (9, 43), (11, 40), (6, 19), (32, 38), (24, 34), (12, 14), (3, 11), (26, 31), (44, 46), (21, 26), (1, 41), (4, 19), (7, 36), (34, 38), (2, 21), (30, 37), (28, 49), (9, 45), (11, 42), (6, 21), (35, 36), (1, 34), (43, 49), (7, 29), (8, 21), (9, 20), (17, 33), (22, 47), (37, 45), (14, 43), (11, 35), (15, 26), (16, 25), (24, 38), (16, 34), (7, 40), (22, 31), (20, 43), (3, 36), (2, 16), (14, 45), (6, 16), (43, 44), (6, 25), (35, 40), (1, 38), (7, 33), (7, 42), (14, 20), (8, 16), (29, 48), (40, 48), (20, 45), (3, 29)]\n"
     ]
    }
   ],
   "source": [
    "aristas_sin_level = list(set(set(combinaciones_temporada).intersection(combinaciones_tallas_nodos)))\n",
    "print(aristas_sin_level)"
   ]
  },
  {
   "cell_type": "markdown",
   "id": "3c8f7abf",
   "metadata": {},
   "source": [
    "* Se añaden los edges que ya están en el gráfo (*level* con graphlet G2) y los generados previamente. Se realiza la intersección"
   ]
  },
  {
   "cell_type": "code",
   "execution_count": 43,
   "id": "542fa7d8-51c1-4377-b3bb-af946ef9f7db",
   "metadata": {},
   "outputs": [],
   "source": [
    "lista_final = list(set( set(list(G.edges())).intersection(aristas_sin_level)   ))"
   ]
  },
  {
   "cell_type": "markdown",
   "id": "b25acd9a",
   "metadata": {},
   "source": [
    "* Se eliminan las relaciones anteriormente creadas\n",
    "* Se añaden las nuevas relaciones"
   ]
  },
  {
   "cell_type": "code",
   "execution_count": 44,
   "id": "47eec9ad",
   "metadata": {},
   "outputs": [],
   "source": [
    "G.remove_edges_from(list(G.edges()))\n",
    "G.add_edges_from(lista_final)"
   ]
  },
  {
   "cell_type": "markdown",
   "id": "0e32a629",
   "metadata": {},
   "source": [
    "* **3-node graphlets G2**"
   ]
  },
  {
   "cell_type": "code",
   "execution_count": 47,
   "id": "e8027f98",
   "metadata": {},
   "outputs": [
    {
     "data": {
      "text/plain": [
       "(84, 119)"
      ]
     },
     "execution_count": 47,
     "metadata": {},
     "output_type": "execute_result"
    }
   ],
   "source": [
    "target, a_3 = nx.complete_graph(3), []\n",
    "for sub_nodes in itertools.combinations(G.nodes(),len(target.nodes())):\n",
    "    subg = G.subgraph(sub_nodes)\n",
    "    if nx.is_connected(subg): a_3.append(list(subg.edges()))\n",
    "\n",
    "G2_graphlet = [x for x in a_3 if len(x) == 3]\n",
    "print(len(G2_graphlet))"
   ]
  },
  {
   "cell_type": "markdown",
   "id": "9e3868ad",
   "metadata": {},
   "source": [
    "#### 3) Ponderaciones"
   ]
  },
  {
   "cell_type": "markdown",
   "id": "d73937b2",
   "metadata": {},
   "source": [
    "##### **Marcas**"
   ]
  },
  {
   "cell_type": "markdown",
   "id": "8e5b236e",
   "metadata": {},
   "source": [
    "* Generar pesos (% de marcas iguales entre nodos relacionados **(tienen que pertenecer al mismo graphlet)**)"
   ]
  },
  {
   "cell_type": "code",
   "execution_count": 127,
   "id": "7d37f15a",
   "metadata": {},
   "outputs": [
    {
     "name": "stdout",
     "output_type": "stream",
     "text": [
      "37 / 37\n"
     ]
    }
   ],
   "source": [
    "pesos, count = [], 1\n",
    "\n",
    "for x in G2_graphlet:\n",
    "    for i in x:\n",
    "        producto_1, producto_2 = df_para_filtrar.iloc[i[0],:]['id_product'], df_para_filtrar.iloc[i[1],:]['id_product']\n",
    "\n",
    "        marcas_1, marcas_2 = filtrado.filter(filtrado.id_product == producto_1).select('name_brand').distinct(), filtrado.filter(filtrado.id_product == producto_2).select('name_brand').distinct()\n",
    "        marcas_1, marcas_2 = get_value(marcas_1, 'name_brand'), get_value(marcas_2, 'name_brand')\n",
    "\n",
    "\n",
    "        if len(set(marcas_1).intersection(set(marcas_2))) != 0:  weigth = len( set(marcas_1).intersection(set(marcas_2)) ) / max( len(marcas_1), len(marcas_2))\n",
    "        else: weigth = 0\n",
    "        pesos.append([ i[0], i[1],  weigth ])\n",
    "    print(count, '/', len(G2_graphlet))\n",
    "    count += 1\n",
    "    clear_output(wait=True)"
   ]
  },
  {
   "cell_type": "markdown",
   "id": "66165eb6",
   "metadata": {},
   "source": [
    "* Se añaden los pesos de las aristas del grafo"
   ]
  },
  {
   "cell_type": "code",
   "execution_count": 141,
   "id": "e384e915",
   "metadata": {},
   "outputs": [],
   "source": [
    "for x in pesos: G[x[0]][x[1]]['weight'] = x[2]"
   ]
  },
  {
   "cell_type": "markdown",
   "id": "f779f8cf",
   "metadata": {},
   "source": [
    "* Se seleecionan los looks que tienen un peso mayor. Para ello se hace la suma de los edges del graphlet. Posteriormente se ordenan de manera descendente\n"
   ]
  },
  {
   "cell_type": "code",
   "execution_count": 153,
   "id": "c030a909",
   "metadata": {},
   "outputs": [],
   "source": [
    "def añadir_pesos(G2_graphlet):\n",
    "    for k, v in enumerate(G2_graphlet): \n",
    "        peso_1 = G.get_edge_data(v[0][0], v[0][1])['weight']\n",
    "        peso_2 = G.get_edge_data(v[1][0], v[1][1])['weight']\n",
    "        peso_3 = G.get_edge_data(v[2][0], v[2][1])['weight']\n",
    "\n",
    "        G2_graphlet[k].append(peso_1 + peso_2 + peso_3)\n",
    "        \n",
    "    return G2_graphlet\n",
    "\n",
    "G2_graphlet_pesos = añadir_pesos(G2_graphlet)\n",
    "G2_graphlet_pesos =  np.array(G2_graphlet_pesos)\n",
    "G2_graphlet_pesos = G2_graphlet_pesos[G2_graphlet_pesos[:,3].argsort()][::-1]"
   ]
  },
  {
   "cell_type": "markdown",
   "id": "5e8d7cd7",
   "metadata": {},
   "source": [
    "* Se consiguen los looks con **mayor peso**"
   ]
  },
  {
   "cell_type": "code",
   "execution_count": 182,
   "id": "10c83a3c",
   "metadata": {},
   "outputs": [],
   "source": [
    "looks = [ [ df_para_filtrar.loc[x[0][0],'id_product'], df_para_filtrar.loc[x[0][1],'id_product'], df_para_filtrar.loc[x[1][1],'id_product']  ] for x in G2_graphlet_pesos[:15]]"
   ]
  },
  {
   "cell_type": "code",
   "execution_count": 49,
   "id": "6b16b4f7",
   "metadata": {},
   "outputs": [
    {
     "data": {
      "image/png": "[encoded data removed]",
      "text/plain": [
       "<Figure size 432x288 with 1 Axes>"
      ]
     },
     "metadata": {},
     "output_type": "display_data"
    }
   ],
   "source": [
    "H = nx.Graph()\n",
    "for x in G2_graphlet_pesos[:15]: \n",
    "    H.add_edges_from(x)\n",
    "nx.draw(H, with_labels = True)"
   ]
  },
  {
   "cell_type": "markdown",
   "id": "16e0a6b4",
   "metadata": {},
   "source": [
    "### Gráficos\n",
    "---"
   ]
  },
  {
   "cell_type": "code",
   "execution_count": 59,
   "id": "624fcdf3",
   "metadata": {},
   "outputs": [],
   "source": [
    "def human_format(num):\n",
    "    magnitude = 0\n",
    "    while abs(num) >= 1000:\n",
    "        magnitude += 1\n",
    "        num /= 1000.0\n",
    "    return '%.2f%s' % (num, ['', 'K', 'M', 'B', 'T', 'P'][magnitude])\n",
    "\n",
    "paleta=['#264653','#2A9D8F','#85CAC2','#DFF6F4' ,'#E9C46A','#F4A261','#E76F51','#C53D1B', '#7E2711']"
   ]
  },
  {
   "cell_type": "markdown",
   "id": "79b74d11",
   "metadata": {},
   "source": [
    "#### Estaciones"
   ]
  },
  {
   "cell_type": "code",
   "execution_count": 60,
   "id": "fb4df324",
   "metadata": {},
   "outputs": [
    {
     "data": {
      "application/vnd.plotly.v1+json": {
       "config": {
        "plotlyServerURL": "https://plot.ly"
       },
       "data": [
        {
         "marker": {
          "color": [
           "#264653",
           "#2A9D8F",
           "#264653"
          ],
          "line": {
           "color": "black",
           "width": 1
          }
         },
         "opacity": 0.8,
         "orientation": "h",
         "text": [
          22234,
          22470,
          20522
         ],
         "textposition": "auto",
         "texttemplate": [
          "22.23K",
          "22.47K",
          "20.52K"
         ],
         "type": "bar",
         "x": [
          22234,
          22470,
          20522
         ],
         "y": [
          "7",
          "8",
          "9"
         ]
        }
       ],
       "layout": {
        "paper_bgcolor": "white",
        "plot_bgcolor": "white",
        "template": {
         "data": {
          "bar": [
           {
            "error_x": {
             "color": "#2a3f5f"
            },
            "error_y": {
             "color": "#2a3f5f"
            },
            "marker": {
             "line": {
              "color": "#E5ECF6",
              "width": 0.5
             },
             "pattern": {
              "fillmode": "overlay",
              "size": 10,
              "solidity": 0.2
             }
            },
            "type": "bar"
           }
          ],
          "barpolar": [
           {
            "marker": {
             "line": {
              "color": "#E5ECF6",
              "width": 0.5
             },
             "pattern": {
              "fillmode": "overlay",
              "size": 10,
              "solidity": 0.2
             }
            },
            "type": "barpolar"
           }
          ],
          "carpet": [
           {
            "aaxis": {
             "endlinecolor": "#2a3f5f",
             "gridcolor": "white",
             "linecolor": "white",
             "minorgridcolor": "white",
             "startlinecolor": "#2a3f5f"
            },
            "baxis": {
             "endlinecolor": "#2a3f5f",
             "gridcolor": "white",
             "linecolor": "white",
             "minorgridcolor": "white",
             "startlinecolor": "#2a3f5f"
            },
            "type": "carpet"
           }
          ],
          "choropleth": [
           {
            "colorbar": {
             "outlinewidth": 0,
             "ticks": ""
            },
            "type": "choropleth"
           }
          ],
          "contour": [
           {
            "colorbar": {
             "outlinewidth": 0,
             "ticks": ""
            },
            "colorscale": [
             [
              0,
              "#0d0887"
             ],
             [
              0.1111111111111111,
              "#46039f"
             ],
             [
              0.2222222222222222,
              "#7201a8"
             ],
             [
              0.3333333333333333,
              "#9c179e"
             ],
             [
              0.4444444444444444,
              "#bd3786"
             ],
             [
              0.5555555555555556,
              "#d8576b"
             ],
             [
              0.6666666666666666,
              "#ed7953"
             ],
             [
              0.7777777777777778,
              "#fb9f3a"
             ],
             [
              0.8888888888888888,
              "#fdca26"
             ],
             [
              1,
              "#f0f921"
             ]
            ],
            "type": "contour"
           }
          ],
          "contourcarpet": [
           {
            "colorbar": {
             "outlinewidth": 0,
             "ticks": ""
            },
            "type": "contourcarpet"
           }
          ],
          "heatmap": [
           {
            "colorbar": {
             "outlinewidth": 0,
             "ticks": ""
            },
            "colorscale": [
             [
              0,
              "#0d0887"
             ],
             [
              0.1111111111111111,
              "#46039f"
             ],
             [
              0.2222222222222222,
              "#7201a8"
             ],
             [
              0.3333333333333333,
              "#9c179e"
             ],
             [
              0.4444444444444444,
              "#bd3786"
             ],
             [
              0.5555555555555556,
              "#d8576b"
             ],
             [
              0.6666666666666666,
              "#ed7953"
             ],
             [
              0.7777777777777778,
              "#fb9f3a"
             ],
             [
              0.8888888888888888,
              "#fdca26"
             ],
             [
              1,
              "#f0f921"
             ]
            ],
            "type": "heatmap"
           }
          ],
          "heatmapgl": [
           {
            "colorbar": {
             "outlinewidth": 0,
             "ticks": ""
            },
            "colorscale": [
             [
              0,
              "#0d0887"
             ],
             [
              0.1111111111111111,
              "#46039f"
             ],
             [
              0.2222222222222222,
              "#7201a8"
             ],
             [
              0.3333333333333333,
              "#9c179e"
             ],
             [
              0.4444444444444444,
              "#bd3786"
             ],
             [
              0.5555555555555556,
              "#d8576b"
             ],
             [
              0.6666666666666666,
              "#ed7953"
             ],
             [
              0.7777777777777778,
              "#fb9f3a"
             ],
             [
              0.8888888888888888,
              "#fdca26"
             ],
             [
              1,
              "#f0f921"
             ]
            ],
            "type": "heatmapgl"
           }
          ],
          "histogram": [
           {
            "marker": {
             "pattern": {
              "fillmode": "overlay",
              "size": 10,
              "solidity": 0.2
             }
            },
            "type": "histogram"
           }
          ],
          "histogram2d": [
           {
            "colorbar": {
             "outlinewidth": 0,
             "ticks": ""
            },
            "colorscale": [
             [
              0,
              "#0d0887"
             ],
             [
              0.1111111111111111,
              "#46039f"
             ],
             [
              0.2222222222222222,
              "#7201a8"
             ],
             [
              0.3333333333333333,
              "#9c179e"
             ],
             [
              0.4444444444444444,
              "#bd3786"
             ],
             [
              0.5555555555555556,
              "#d8576b"
             ],
             [
              0.6666666666666666,
              "#ed7953"
             ],
             [
              0.7777777777777778,
              "#fb9f3a"
             ],
             [
              0.8888888888888888,
              "#fdca26"
             ],
             [
              1,
              "#f0f921"
             ]
            ],
            "type": "histogram2d"
           }
          ],
          "histogram2dcontour": [
           {
            "colorbar": {
             "outlinewidth": 0,
             "ticks": ""
            },
            "colorscale": [
             [
              0,
              "#0d0887"
             ],
             [
              0.1111111111111111,
              "#46039f"
             ],
             [
              0.2222222222222222,
              "#7201a8"
             ],
             [
              0.3333333333333333,
              "#9c179e"
             ],
             [
              0.4444444444444444,
              "#bd3786"
             ],
             [
              0.5555555555555556,
              "#d8576b"
             ],
             [
              0.6666666666666666,
              "#ed7953"
             ],
             [
              0.7777777777777778,
              "#fb9f3a"
             ],
             [
              0.8888888888888888,
              "#fdca26"
             ],
             [
              1,
              "#f0f921"
             ]
            ],
            "type": "histogram2dcontour"
           }
          ],
          "mesh3d": [
           {
            "colorbar": {
             "outlinewidth": 0,
             "ticks": ""
            },
            "type": "mesh3d"
           }
          ],
          "parcoords": [
           {
            "line": {
             "colorbar": {
              "outlinewidth": 0,
              "ticks": ""
             }
            },
            "type": "parcoords"
           }
          ],
          "pie": [
           {
            "automargin": true,
            "type": "pie"
           }
          ],
          "scatter": [
           {
            "marker": {
             "colorbar": {
              "outlinewidth": 0,
              "ticks": ""
             }
            },
            "type": "scatter"
           }
          ],
          "scatter3d": [
           {
            "line": {
             "colorbar": {
              "outlinewidth": 0,
              "ticks": ""
             }
            },
            "marker": {
             "colorbar": {
              "outlinewidth": 0,
              "ticks": ""
             }
            },
            "type": "scatter3d"
           }
          ],
          "scattercarpet": [
           {
            "marker": {
             "colorbar": {
              "outlinewidth": 0,
              "ticks": ""
             }
            },
            "type": "scattercarpet"
           }
          ],
          "scattergeo": [
           {
            "marker": {
             "colorbar": {
              "outlinewidth": 0,
              "ticks": ""
             }
            },
            "type": "scattergeo"
           }
          ],
          "scattergl": [
           {
            "marker": {
             "colorbar": {
              "outlinewidth": 0,
              "ticks": ""
             }
            },
            "type": "scattergl"
           }
          ],
          "scattermapbox": [
           {
            "marker": {
             "colorbar": {
              "outlinewidth": 0,
              "ticks": ""
             }
            },
            "type": "scattermapbox"
           }
          ],
          "scatterpolar": [
           {
            "marker": {
             "colorbar": {
              "outlinewidth": 0,
              "ticks": ""
             }
            },
            "type": "scatterpolar"
           }
          ],
          "scatterpolargl": [
           {
            "marker": {
             "colorbar": {
              "outlinewidth": 0,
              "ticks": ""
             }
            },
            "type": "scatterpolargl"
           }
          ],
          "scatterternary": [
           {
            "marker": {
             "colorbar": {
              "outlinewidth": 0,
              "ticks": ""
             }
            },
            "type": "scatterternary"
           }
          ],
          "surface": [
           {
            "colorbar": {
             "outlinewidth": 0,
             "ticks": ""
            },
            "colorscale": [
             [
              0,
              "#0d0887"
             ],
             [
              0.1111111111111111,
              "#46039f"
             ],
             [
              0.2222222222222222,
              "#7201a8"
             ],
             [
              0.3333333333333333,
              "#9c179e"
             ],
             [
              0.4444444444444444,
              "#bd3786"
             ],
             [
              0.5555555555555556,
              "#d8576b"
             ],
             [
              0.6666666666666666,
              "#ed7953"
             ],
             [
              0.7777777777777778,
              "#fb9f3a"
             ],
             [
              0.8888888888888888,
              "#fdca26"
             ],
             [
              1,
              "#f0f921"
             ]
            ],
            "type": "surface"
           }
          ],
          "table": [
           {
            "cells": {
             "fill": {
              "color": "#EBF0F8"
             },
             "line": {
              "color": "white"
             }
            },
            "header": {
             "fill": {
              "color": "#C8D4E3"
             },
             "line": {
              "color": "white"
             }
            },
            "type": "table"
           }
          ]
         },
         "layout": {
          "annotationdefaults": {
           "arrowcolor": "#2a3f5f",
           "arrowhead": 0,
           "arrowwidth": 1
          },
          "autotypenumbers": "strict",
          "coloraxis": {
           "colorbar": {
            "outlinewidth": 0,
            "ticks": ""
           }
          },
          "colorscale": {
           "diverging": [
            [
             0,
             "#8e0152"
            ],
            [
             0.1,
             "#c51b7d"
            ],
            [
             0.2,
             "#de77ae"
            ],
            [
             0.3,
             "#f1b6da"
            ],
            [
             0.4,
             "#fde0ef"
            ],
            [
             0.5,
             "#f7f7f7"
            ],
            [
             0.6,
             "#e6f5d0"
            ],
            [
             0.7,
             "#b8e186"
            ],
            [
             0.8,
             "#7fbc41"
            ],
            [
             0.9,
             "#4d9221"
            ],
            [
             1,
             "#276419"
            ]
           ],
           "sequential": [
            [
             0,
             "#0d0887"
            ],
            [
             0.1111111111111111,
             "#46039f"
            ],
            [
             0.2222222222222222,
             "#7201a8"
            ],
            [
             0.3333333333333333,
             "#9c179e"
            ],
            [
             0.4444444444444444,
             "#bd3786"
            ],
            [
             0.5555555555555556,
             "#d8576b"
            ],
            [
             0.6666666666666666,
             "#ed7953"
            ],
            [
             0.7777777777777778,
             "#fb9f3a"
            ],
            [
             0.8888888888888888,
             "#fdca26"
            ],
            [
             1,
             "#f0f921"
            ]
           ],
           "sequentialminus": [
            [
             0,
             "#0d0887"
            ],
            [
             0.1111111111111111,
             "#46039f"
            ],
            [
             0.2222222222222222,
             "#7201a8"
            ],
            [
             0.3333333333333333,
             "#9c179e"
            ],
            [
             0.4444444444444444,
             "#bd3786"
            ],
            [
             0.5555555555555556,
             "#d8576b"
            ],
            [
             0.6666666666666666,
             "#ed7953"
            ],
            [
             0.7777777777777778,
             "#fb9f3a"
            ],
            [
             0.8888888888888888,
             "#fdca26"
            ],
            [
             1,
             "#f0f921"
            ]
           ]
          },
          "colorway": [
           "#636efa",
           "#EF553B",
           "#00cc96",
           "#ab63fa",
           "#FFA15A",
           "#19d3f3",
           "#FF6692",
           "#B6E880",
           "#FF97FF",
           "#FECB52"
          ],
          "font": {
           "color": "#2a3f5f"
          },
          "geo": {
           "bgcolor": "white",
           "lakecolor": "white",
           "landcolor": "#E5ECF6",
           "showlakes": true,
           "showland": true,
           "subunitcolor": "white"
          },
          "hoverlabel": {
           "align": "left"
          },
          "hovermode": "closest",
          "mapbox": {
           "style": "light"
          },
          "paper_bgcolor": "white",
          "plot_bgcolor": "#E5ECF6",
          "polar": {
           "angularaxis": {
            "gridcolor": "white",
            "linecolor": "white",
            "ticks": ""
           },
           "bgcolor": "#E5ECF6",
           "radialaxis": {
            "gridcolor": "white",
            "linecolor": "white",
            "ticks": ""
           }
          },
          "scene": {
           "xaxis": {
            "backgroundcolor": "#E5ECF6",
            "gridcolor": "white",
            "gridwidth": 2,
            "linecolor": "white",
            "showbackground": true,
            "ticks": "",
            "zerolinecolor": "white"
           },
           "yaxis": {
            "backgroundcolor": "#E5ECF6",
            "gridcolor": "white",
            "gridwidth": 2,
            "linecolor": "white",
            "showbackground": true,
            "ticks": "",
            "zerolinecolor": "white"
           },
           "zaxis": {
            "backgroundcolor": "#E5ECF6",
            "gridcolor": "white",
            "gridwidth": 2,
            "linecolor": "white",
            "showbackground": true,
            "ticks": "",
            "zerolinecolor": "white"
           }
          },
          "shapedefaults": {
           "line": {
            "color": "#2a3f5f"
           }
          },
          "ternary": {
           "aaxis": {
            "gridcolor": "white",
            "linecolor": "white",
            "ticks": ""
           },
           "baxis": {
            "gridcolor": "white",
            "linecolor": "white",
            "ticks": ""
           },
           "bgcolor": "#E5ECF6",
           "caxis": {
            "gridcolor": "white",
            "linecolor": "white",
            "ticks": ""
           }
          },
          "title": {
           "x": 0.05
          },
          "xaxis": {
           "automargin": true,
           "gridcolor": "white",
           "linecolor": "white",
           "ticks": "",
           "title": {
            "standoff": 15
           },
           "zerolinecolor": "white",
           "zerolinewidth": 2
          },
          "yaxis": {
           "automargin": true,
           "gridcolor": "white",
           "linecolor": "white",
           "ticks": "",
           "title": {
            "standoff": 15
           },
           "zerolinecolor": "white",
           "zerolinewidth": 2
          }
         }
        },
        "title": {
         "text": "Estaciones más frecuente Lookiero"
        },
        "xaxis": {
         "range": [
          20000,
          23000
         ],
         "title": {
          "text": "Cantidad"
         }
        },
        "yaxis": {
         "title": {
          "text": "Estaciones"
         }
        }
       }
      }
     },
     "metadata": {},
     "output_type": "display_data"
    }
   ],
   "source": [
    "season_collection = dfs[-3].select('season').collect()\n",
    "season = np.array([x[0] for x in season_collection])\n",
    "count_values = np.bincount(season)[-3:]\n",
    "\n",
    "fig = go.Figure(data=[go.Bar( x=count_values, y=['7', '8', '9'],text=count_values,textposition='auto',texttemplate = [human_format(a) for a in count_values],orientation='h')])\n",
    "fig.update_traces(marker_color=[paleta[0], paleta[1], paleta[0]],marker_line_width=1, opacity=0.8, marker_line_color = 'black')\n",
    "\n",
    "fig.update_layout(\n",
    "    title='Estaciones más frecuente Lookiero',\n",
    "    xaxis_title = 'Cantidad',\n",
    "    yaxis_title = 'Estaciones', \n",
    "    # width=2280, height=950, font = dict(size = 22),\n",
    "    paper_bgcolor='white',\n",
    "    plot_bgcolor='white', \n",
    "    xaxis_range=[20000,23000]\n",
    ")"
   ]
  },
  {
   "cell_type": "markdown",
   "id": "cd170b20",
   "metadata": {},
   "source": [
    "#### Familias de producto"
   ]
  },
  {
   "cell_type": "code",
   "execution_count": 62,
   "id": "65355d5c",
   "metadata": {},
   "outputs": [],
   "source": [
    "product_family = df_total.select('family_product').collect()\n",
    "product_family = np.array([x[0] for x in product_family])\n",
    "unique_elements, counts_elements = np.unique(product_family, return_counts=True)\n",
    "counts_elements, unique_elements = (zip(*reversed(sorted(zip(counts_elements, unique_elements)))))"
   ]
  },
  {
   "cell_type": "code",
   "execution_count": 63,
   "id": "d181cf02",
   "metadata": {},
   "outputs": [
    {
     "data": {
      "application/vnd.plotly.v1+json": {
       "config": {
        "plotlyServerURL": "https://plot.ly"
       },
       "data": [
        {
         "marker": {
          "color": [
           "#2A9D8F",
           "#2A9D8F",
           "#2A9D8F",
           "#264653",
           "#264653",
           "#264653",
           "#264653",
           "#264653",
           "#264653",
           "#264653",
           "#264653",
           "#264653",
           "#E76F51",
           "#E76F51",
           "#E76F51",
           "#E76F51",
           "#E76F51",
           "#E76F51"
          ],
          "line": {
           "color": "black",
           "width": 1
          }
         },
         "opacity": 0.8,
         "orientation": "v",
         "text": [
          22234,
          22470,
          20522
         ],
         "textposition": "auto",
         "texttemplate": [
          "2.70K",
          "2.52K",
          "2.40K",
          "2.26K",
          "2.13K",
          "2.02K",
          "1.95K",
          "1.64K",
          "1.54K",
          "1.44K",
          "1.01K",
          "729.00",
          "476.00",
          "303.00",
          "300.00",
          "248.00",
          "168.00",
          "104.00"
         ],
         "type": "bar",
         "x": [
          "sweater",
          "tshirt",
          "top",
          "pant",
          "jacket",
          "shirt",
          "jeans",
          "skirt",
          "dress",
          "cardigan",
          "parka",
          "short",
          "jumpsuit",
          "sweatshirt",
          "coat",
          "scarf",
          "bag",
          "trench"
         ],
         "y": [
          2702,
          2517,
          2396,
          2261,
          2132,
          2018,
          1951,
          1638,
          1536,
          1444,
          1012,
          729,
          476,
          303,
          300,
          248,
          168,
          104
         ]
        }
       ],
       "layout": {
        "paper_bgcolor": "white",
        "plot_bgcolor": "white",
        "template": {
         "data": {
          "bar": [
           {
            "error_x": {
             "color": "#2a3f5f"
            },
            "error_y": {
             "color": "#2a3f5f"
            },
            "marker": {
             "line": {
              "color": "#E5ECF6",
              "width": 0.5
             },
             "pattern": {
              "fillmode": "overlay",
              "size": 10,
              "solidity": 0.2
             }
            },
            "type": "bar"
           }
          ],
          "barpolar": [
           {
            "marker": {
             "line": {
              "color": "#E5ECF6",
              "width": 0.5
             },
             "pattern": {
              "fillmode": "overlay",
              "size": 10,
              "solidity": 0.2
             }
            },
            "type": "barpolar"
           }
          ],
          "carpet": [
           {
            "aaxis": {
             "endlinecolor": "#2a3f5f",
             "gridcolor": "white",
             "linecolor": "white",
             "minorgridcolor": "white",
             "startlinecolor": "#2a3f5f"
            },
            "baxis": {
             "endlinecolor": "#2a3f5f",
             "gridcolor": "white",
             "linecolor": "white",
             "minorgridcolor": "white",
             "startlinecolor": "#2a3f5f"
            },
            "type": "carpet"
           }
          ],
          "choropleth": [
           {
            "colorbar": {
             "outlinewidth": 0,
             "ticks": ""
            },
            "type": "choropleth"
           }
          ],
          "contour": [
           {
            "colorbar": {
             "outlinewidth": 0,
             "ticks": ""
            },
            "colorscale": [
             [
              0,
              "#0d0887"
             ],
             [
              0.1111111111111111,
              "#46039f"
             ],
             [
              0.2222222222222222,
              "#7201a8"
             ],
             [
              0.3333333333333333,
              "#9c179e"
             ],
             [
              0.4444444444444444,
              "#bd3786"
             ],
             [
              0.5555555555555556,
              "#d8576b"
             ],
             [
              0.6666666666666666,
              "#ed7953"
             ],
             [
              0.7777777777777778,
              "#fb9f3a"
             ],
             [
              0.8888888888888888,
              "#fdca26"
             ],
             [
              1,
              "#f0f921"
             ]
            ],
            "type": "contour"
           }
          ],
          "contourcarpet": [
           {
            "colorbar": {
             "outlinewidth": 0,
             "ticks": ""
            },
            "type": "contourcarpet"
           }
          ],
          "heatmap": [
           {
            "colorbar": {
             "outlinewidth": 0,
             "ticks": ""
            },
            "colorscale": [
             [
              0,
              "#0d0887"
             ],
             [
              0.1111111111111111,
              "#46039f"
             ],
             [
              0.2222222222222222,
              "#7201a8"
             ],
             [
              0.3333333333333333,
              "#9c179e"
             ],
             [
              0.4444444444444444,
              "#bd3786"
             ],
             [
              0.5555555555555556,
              "#d8576b"
             ],
             [
              0.6666666666666666,
              "#ed7953"
             ],
             [
              0.7777777777777778,
              "#fb9f3a"
             ],
             [
              0.8888888888888888,
              "#fdca26"
             ],
             [
              1,
              "#f0f921"
             ]
            ],
            "type": "heatmap"
           }
          ],
          "heatmapgl": [
           {
            "colorbar": {
             "outlinewidth": 0,
             "ticks": ""
            },
            "colorscale": [
             [
              0,
              "#0d0887"
             ],
             [
              0.1111111111111111,
              "#46039f"
             ],
             [
              0.2222222222222222,
              "#7201a8"
             ],
             [
              0.3333333333333333,
              "#9c179e"
             ],
             [
              0.4444444444444444,
              "#bd3786"
             ],
             [
              0.5555555555555556,
              "#d8576b"
             ],
             [
              0.6666666666666666,
              "#ed7953"
             ],
             [
              0.7777777777777778,
              "#fb9f3a"
             ],
             [
              0.8888888888888888,
              "#fdca26"
             ],
             [
              1,
              "#f0f921"
             ]
            ],
            "type": "heatmapgl"
           }
          ],
          "histogram": [
           {
            "marker": {
             "pattern": {
              "fillmode": "overlay",
              "size": 10,
              "solidity": 0.2
             }
            },
            "type": "histogram"
           }
          ],
          "histogram2d": [
           {
            "colorbar": {
             "outlinewidth": 0,
             "ticks": ""
            },
            "colorscale": [
             [
              0,
              "#0d0887"
             ],
             [
              0.1111111111111111,
              "#46039f"
             ],
             [
              0.2222222222222222,
              "#7201a8"
             ],
             [
              0.3333333333333333,
              "#9c179e"
             ],
             [
              0.4444444444444444,
              "#bd3786"
             ],
             [
              0.5555555555555556,
              "#d8576b"
             ],
             [
              0.6666666666666666,
              "#ed7953"
             ],
             [
              0.7777777777777778,
              "#fb9f3a"
             ],
             [
              0.8888888888888888,
              "#fdca26"
             ],
             [
              1,
              "#f0f921"
             ]
            ],
            "type": "histogram2d"
           }
          ],
          "histogram2dcontour": [
           {
            "colorbar": {
             "outlinewidth": 0,
             "ticks": ""
            },
            "colorscale": [
             [
              0,
              "#0d0887"
             ],
             [
              0.1111111111111111,
              "#46039f"
             ],
             [
              0.2222222222222222,
              "#7201a8"
             ],
             [
              0.3333333333333333,
              "#9c179e"
             ],
             [
              0.4444444444444444,
              "#bd3786"
             ],
             [
              0.5555555555555556,
              "#d8576b"
             ],
             [
              0.6666666666666666,
              "#ed7953"
             ],
             [
              0.7777777777777778,
              "#fb9f3a"
             ],
             [
              0.8888888888888888,
              "#fdca26"
             ],
             [
              1,
              "#f0f921"
             ]
            ],
            "type": "histogram2dcontour"
           }
          ],
          "mesh3d": [
           {
            "colorbar": {
             "outlinewidth": 0,
             "ticks": ""
            },
            "type": "mesh3d"
           }
          ],
          "parcoords": [
           {
            "line": {
             "colorbar": {
              "outlinewidth": 0,
              "ticks": ""
             }
            },
            "type": "parcoords"
           }
          ],
          "pie": [
           {
            "automargin": true,
            "type": "pie"
           }
          ],
          "scatter": [
           {
            "marker": {
             "colorbar": {
              "outlinewidth": 0,
              "ticks": ""
             }
            },
            "type": "scatter"
           }
          ],
          "scatter3d": [
           {
            "line": {
             "colorbar": {
              "outlinewidth": 0,
              "ticks": ""
             }
            },
            "marker": {
             "colorbar": {
              "outlinewidth": 0,
              "ticks": ""
             }
            },
            "type": "scatter3d"
           }
          ],
          "scattercarpet": [
           {
            "marker": {
             "colorbar": {
              "outlinewidth": 0,
              "ticks": ""
             }
            },
            "type": "scattercarpet"
           }
          ],
          "scattergeo": [
           {
            "marker": {
             "colorbar": {
              "outlinewidth": 0,
              "ticks": ""
             }
            },
            "type": "scattergeo"
           }
          ],
          "scattergl": [
           {
            "marker": {
             "colorbar": {
              "outlinewidth": 0,
              "ticks": ""
             }
            },
            "type": "scattergl"
           }
          ],
          "scattermapbox": [
           {
            "marker": {
             "colorbar": {
              "outlinewidth": 0,
              "ticks": ""
             }
            },
            "type": "scattermapbox"
           }
          ],
          "scatterpolar": [
           {
            "marker": {
             "colorbar": {
              "outlinewidth": 0,
              "ticks": ""
             }
            },
            "type": "scatterpolar"
           }
          ],
          "scatterpolargl": [
           {
            "marker": {
             "colorbar": {
              "outlinewidth": 0,
              "ticks": ""
             }
            },
            "type": "scatterpolargl"
           }
          ],
          "scatterternary": [
           {
            "marker": {
             "colorbar": {
              "outlinewidth": 0,
              "ticks": ""
             }
            },
            "type": "scatterternary"
           }
          ],
          "surface": [
           {
            "colorbar": {
             "outlinewidth": 0,
             "ticks": ""
            },
            "colorscale": [
             [
              0,
              "#0d0887"
             ],
             [
              0.1111111111111111,
              "#46039f"
             ],
             [
              0.2222222222222222,
              "#7201a8"
             ],
             [
              0.3333333333333333,
              "#9c179e"
             ],
             [
              0.4444444444444444,
              "#bd3786"
             ],
             [
              0.5555555555555556,
              "#d8576b"
             ],
             [
              0.6666666666666666,
              "#ed7953"
             ],
             [
              0.7777777777777778,
              "#fb9f3a"
             ],
             [
              0.8888888888888888,
              "#fdca26"
             ],
             [
              1,
              "#f0f921"
             ]
            ],
            "type": "surface"
           }
          ],
          "table": [
           {
            "cells": {
             "fill": {
              "color": "#EBF0F8"
             },
             "line": {
              "color": "white"
             }
            },
            "header": {
             "fill": {
              "color": "#C8D4E3"
             },
             "line": {
              "color": "white"
             }
            },
            "type": "table"
           }
          ]
         },
         "layout": {
          "annotationdefaults": {
           "arrowcolor": "#2a3f5f",
           "arrowhead": 0,
           "arrowwidth": 1
          },
          "autotypenumbers": "strict",
          "coloraxis": {
           "colorbar": {
            "outlinewidth": 0,
            "ticks": ""
           }
          },
          "colorscale": {
           "diverging": [
            [
             0,
             "#8e0152"
            ],
            [
             0.1,
             "#c51b7d"
            ],
            [
             0.2,
             "#de77ae"
            ],
            [
             0.3,
             "#f1b6da"
            ],
            [
             0.4,
             "#fde0ef"
            ],
            [
             0.5,
             "#f7f7f7"
            ],
            [
             0.6,
             "#e6f5d0"
            ],
            [
             0.7,
             "#b8e186"
            ],
            [
             0.8,
             "#7fbc41"
            ],
            [
             0.9,
             "#4d9221"
            ],
            [
             1,
             "#276419"
            ]
           ],
           "sequential": [
            [
             0,
             "#0d0887"
            ],
            [
             0.1111111111111111,
             "#46039f"
            ],
            [
             0.2222222222222222,
             "#7201a8"
            ],
            [
             0.3333333333333333,
             "#9c179e"
            ],
            [
             0.4444444444444444,
             "#bd3786"
            ],
            [
             0.5555555555555556,
             "#d8576b"
            ],
            [
             0.6666666666666666,
             "#ed7953"
            ],
            [
             0.7777777777777778,
             "#fb9f3a"
            ],
            [
             0.8888888888888888,
             "#fdca26"
            ],
            [
             1,
             "#f0f921"
            ]
           ],
           "sequentialminus": [
            [
             0,
             "#0d0887"
            ],
            [
             0.1111111111111111,
             "#46039f"
            ],
            [
             0.2222222222222222,
             "#7201a8"
            ],
            [
             0.3333333333333333,
             "#9c179e"
            ],
            [
             0.4444444444444444,
             "#bd3786"
            ],
            [
             0.5555555555555556,
             "#d8576b"
            ],
            [
             0.6666666666666666,
             "#ed7953"
            ],
            [
             0.7777777777777778,
             "#fb9f3a"
            ],
            [
             0.8888888888888888,
             "#fdca26"
            ],
            [
             1,
             "#f0f921"
            ]
           ]
          },
          "colorway": [
           "#636efa",
           "#EF553B",
           "#00cc96",
           "#ab63fa",
           "#FFA15A",
           "#19d3f3",
           "#FF6692",
           "#B6E880",
           "#FF97FF",
           "#FECB52"
          ],
          "font": {
           "color": "#2a3f5f"
          },
          "geo": {
           "bgcolor": "white",
           "lakecolor": "white",
           "landcolor": "#E5ECF6",
           "showlakes": true,
           "showland": true,
           "subunitcolor": "white"
          },
          "hoverlabel": {
           "align": "left"
          },
          "hovermode": "closest",
          "mapbox": {
           "style": "light"
          },
          "paper_bgcolor": "white",
          "plot_bgcolor": "#E5ECF6",
          "polar": {
           "angularaxis": {
            "gridcolor": "white",
            "linecolor": "white",
            "ticks": ""
           },
           "bgcolor": "#E5ECF6",
           "radialaxis": {
            "gridcolor": "white",
            "linecolor": "white",
            "ticks": ""
           }
          },
          "scene": {
           "xaxis": {
            "backgroundcolor": "#E5ECF6",
            "gridcolor": "white",
            "gridwidth": 2,
            "linecolor": "white",
            "showbackground": true,
            "ticks": "",
            "zerolinecolor": "white"
           },
           "yaxis": {
            "backgroundcolor": "#E5ECF6",
            "gridcolor": "white",
            "gridwidth": 2,
            "linecolor": "white",
            "showbackground": true,
            "ticks": "",
            "zerolinecolor": "white"
           },
           "zaxis": {
            "backgroundcolor": "#E5ECF6",
            "gridcolor": "white",
            "gridwidth": 2,
            "linecolor": "white",
            "showbackground": true,
            "ticks": "",
            "zerolinecolor": "white"
           }
          },
          "shapedefaults": {
           "line": {
            "color": "#2a3f5f"
           }
          },
          "ternary": {
           "aaxis": {
            "gridcolor": "white",
            "linecolor": "white",
            "ticks": ""
           },
           "baxis": {
            "gridcolor": "white",
            "linecolor": "white",
            "ticks": ""
           },
           "bgcolor": "#E5ECF6",
           "caxis": {
            "gridcolor": "white",
            "linecolor": "white",
            "ticks": ""
           }
          },
          "title": {
           "x": 0.05
          },
          "xaxis": {
           "automargin": true,
           "gridcolor": "white",
           "linecolor": "white",
           "ticks": "",
           "title": {
            "standoff": 15
           },
           "zerolinecolor": "white",
           "zerolinewidth": 2
          },
          "yaxis": {
           "automargin": true,
           "gridcolor": "white",
           "linecolor": "white",
           "ticks": "",
           "title": {
            "standoff": 15
           },
           "zerolinecolor": "white",
           "zerolinewidth": 2
          }
         }
        },
        "title": {
         "text": "Productos más populares"
        },
        "xaxis": {
         "title": {
          "text": "Productos"
         }
        },
        "yaxis": {
         "title": {
          "text": "Cantidad"
         }
        }
       }
      }
     },
     "metadata": {},
     "output_type": "display_data"
    }
   ],
   "source": [
    "colores = [paleta[1]] * 3 + [paleta[0]] * (len(counts_elements) - 9) + [paleta[6]] * 6\n",
    "fig = go.Figure(data=[go.Bar( x=unique_elements, y=counts_elements,text=count_values,textposition='auto',texttemplate = [human_format(a) for a in counts_elements], orientation='v')])\n",
    "fig.update_traces(marker_color=colores,marker_line_width=1, opacity=0.8, marker_line_color = 'black')\n",
    "\n",
    "fig.update_layout(\n",
    "    title='Productos más populares',\n",
    "    xaxis_title = 'Productos',\n",
    "    yaxis_title = 'Cantidad',\n",
    "    # width=2280, height=950, font = dict(size = 22),\n",
    "    paper_bgcolor='white',\n",
    "    plot_bgcolor='white')\n"
   ]
  },
  {
   "cell_type": "markdown",
   "id": "ce139bd9",
   "metadata": {},
   "source": [
    "#### Size percentaje"
   ]
  },
  {
   "cell_type": "code",
   "execution_count": 64,
   "id": "9c9ab628",
   "metadata": {},
   "outputs": [],
   "source": [
    "size_lookiero = df_total.select('size_lookiero').collect()\n",
    "size_lookiero = np.array([x[0] for x in size_lookiero])\n",
    "\n",
    "unique_elements, counts_elements = np.unique(size_lookiero, return_counts=True)\n",
    "counts_elements, unique_elements = (zip(*reversed(sorted(zip(counts_elements, unique_elements)))))\n",
    "counts_elements, unique_elements = np.array(counts_elements), np.array(unique_elements)\n",
    "counts_elements = (counts_elements / counts_elements.sum()) * 100"
   ]
  },
  {
   "cell_type": "code",
   "execution_count": 65,
   "id": "b09913b7",
   "metadata": {},
   "outputs": [
    {
     "data": {
      "application/vnd.plotly.v1+json": {
       "config": {
        "plotlyServerURL": "https://plot.ly"
       },
       "data": [
        {
         "domain": {
          "x": [
           0,
           0.45
          ],
          "y": [
           0,
           1
          ]
         },
         "hole": 0.4,
         "hoverinfo": "label+percent+name",
         "labels": [
          "L",
          "M",
          "S",
          "XL",
          "XS",
          "XXL",
          "XXXL",
          "UNQ",
          "X4XL",
          "XXS"
         ],
         "marker": {
          "colors": [
           "#264653",
           "#2A9D8F",
           "#85CAC2",
           "#DFF6F4",
           "#E9C46A",
           "#F4A261",
           "#E76F51",
           "#C53D1B",
           "#7E2711"
          ]
         },
         "name": "GHG Emissions",
         "type": "pie",
         "values": [
          19.34405682055567,
          19.018174221850845,
          18.759139335700855,
          15.241278462502612,
          11.439314810946314,
          8.234802590348862,
          3.7142260288280764,
          2.3605598495926468,
          1.8383120952579903,
          0.05013578441612701
         ]
        }
       ],
       "layout": {
        "annotations": [
         {
          "font": {
           "size": 16
          },
          "showarrow": false,
          "text": "Tallas",
          "x": 0.2,
          "y": 0.5
         }
        ],
        "font": {
         "size": 22
        },
        "template": {
         "data": {
          "bar": [
           {
            "error_x": {
             "color": "#2a3f5f"
            },
            "error_y": {
             "color": "#2a3f5f"
            },
            "marker": {
             "line": {
              "color": "#E5ECF6",
              "width": 0.5
             },
             "pattern": {
              "fillmode": "overlay",
              "size": 10,
              "solidity": 0.2
             }
            },
            "type": "bar"
           }
          ],
          "barpolar": [
           {
            "marker": {
             "line": {
              "color": "#E5ECF6",
              "width": 0.5
             },
             "pattern": {
              "fillmode": "overlay",
              "size": 10,
              "solidity": 0.2
             }
            },
            "type": "barpolar"
           }
          ],
          "carpet": [
           {
            "aaxis": {
             "endlinecolor": "#2a3f5f",
             "gridcolor": "white",
             "linecolor": "white",
             "minorgridcolor": "white",
             "startlinecolor": "#2a3f5f"
            },
            "baxis": {
             "endlinecolor": "#2a3f5f",
             "gridcolor": "white",
             "linecolor": "white",
             "minorgridcolor": "white",
             "startlinecolor": "#2a3f5f"
            },
            "type": "carpet"
           }
          ],
          "choropleth": [
           {
            "colorbar": {
             "outlinewidth": 0,
             "ticks": ""
            },
            "type": "choropleth"
           }
          ],
          "contour": [
           {
            "colorbar": {
             "outlinewidth": 0,
             "ticks": ""
            },
            "colorscale": [
             [
              0,
              "#0d0887"
             ],
             [
              0.1111111111111111,
              "#46039f"
             ],
             [
              0.2222222222222222,
              "#7201a8"
             ],
             [
              0.3333333333333333,
              "#9c179e"
             ],
             [
              0.4444444444444444,
              "#bd3786"
             ],
             [
              0.5555555555555556,
              "#d8576b"
             ],
             [
              0.6666666666666666,
              "#ed7953"
             ],
             [
              0.7777777777777778,
              "#fb9f3a"
             ],
             [
              0.8888888888888888,
              "#fdca26"
             ],
             [
              1,
              "#f0f921"
             ]
            ],
            "type": "contour"
           }
          ],
          "contourcarpet": [
           {
            "colorbar": {
             "outlinewidth": 0,
             "ticks": ""
            },
            "type": "contourcarpet"
           }
          ],
          "heatmap": [
           {
            "colorbar": {
             "outlinewidth": 0,
             "ticks": ""
            },
            "colorscale": [
             [
              0,
              "#0d0887"
             ],
             [
              0.1111111111111111,
              "#46039f"
             ],
             [
              0.2222222222222222,
              "#7201a8"
             ],
             [
              0.3333333333333333,
              "#9c179e"
             ],
             [
              0.4444444444444444,
              "#bd3786"
             ],
             [
              0.5555555555555556,
              "#d8576b"
             ],
             [
              0.6666666666666666,
              "#ed7953"
             ],
             [
              0.7777777777777778,
              "#fb9f3a"
             ],
             [
              0.8888888888888888,
              "#fdca26"
             ],
             [
              1,
              "#f0f921"
             ]
            ],
            "type": "heatmap"
           }
          ],
          "heatmapgl": [
           {
            "colorbar": {
             "outlinewidth": 0,
             "ticks": ""
            },
            "colorscale": [
             [
              0,
              "#0d0887"
             ],
             [
              0.1111111111111111,
              "#46039f"
             ],
             [
              0.2222222222222222,
              "#7201a8"
             ],
             [
              0.3333333333333333,
              "#9c179e"
             ],
             [
              0.4444444444444444,
              "#bd3786"
             ],
             [
              0.5555555555555556,
              "#d8576b"
             ],
             [
              0.6666666666666666,
              "#ed7953"
             ],
             [
              0.7777777777777778,
              "#fb9f3a"
             ],
             [
              0.8888888888888888,
              "#fdca26"
             ],
             [
              1,
              "#f0f921"
             ]
            ],
            "type": "heatmapgl"
           }
          ],
          "histogram": [
           {
            "marker": {
             "pattern": {
              "fillmode": "overlay",
              "size": 10,
              "solidity": 0.2
             }
            },
            "type": "histogram"
           }
          ],
          "histogram2d": [
           {
            "colorbar": {
             "outlinewidth": 0,
             "ticks": ""
            },
            "colorscale": [
             [
              0,
              "#0d0887"
             ],
             [
              0.1111111111111111,
              "#46039f"
             ],
             [
              0.2222222222222222,
              "#7201a8"
             ],
             [
              0.3333333333333333,
              "#9c179e"
             ],
             [
              0.4444444444444444,
              "#bd3786"
             ],
             [
              0.5555555555555556,
              "#d8576b"
             ],
             [
              0.6666666666666666,
              "#ed7953"
             ],
             [
              0.7777777777777778,
              "#fb9f3a"
             ],
             [
              0.8888888888888888,
              "#fdca26"
             ],
             [
              1,
              "#f0f921"
             ]
            ],
            "type": "histogram2d"
           }
          ],
          "histogram2dcontour": [
           {
            "colorbar": {
             "outlinewidth": 0,
             "ticks": ""
            },
            "colorscale": [
             [
              0,
              "#0d0887"
             ],
             [
              0.1111111111111111,
              "#46039f"
             ],
             [
              0.2222222222222222,
              "#7201a8"
             ],
             [
              0.3333333333333333,
              "#9c179e"
             ],
             [
              0.4444444444444444,
              "#bd3786"
             ],
             [
              0.5555555555555556,
              "#d8576b"
             ],
             [
              0.6666666666666666,
              "#ed7953"
             ],
             [
              0.7777777777777778,
              "#fb9f3a"
             ],
             [
              0.8888888888888888,
              "#fdca26"
             ],
             [
              1,
              "#f0f921"
             ]
            ],
            "type": "histogram2dcontour"
           }
          ],
          "mesh3d": [
           {
            "colorbar": {
             "outlinewidth": 0,
             "ticks": ""
            },
            "type": "mesh3d"
           }
          ],
          "parcoords": [
           {
            "line": {
             "colorbar": {
              "outlinewidth": 0,
              "ticks": ""
             }
            },
            "type": "parcoords"
           }
          ],
          "pie": [
           {
            "automargin": true,
            "type": "pie"
           }
          ],
          "scatter": [
           {
            "marker": {
             "colorbar": {
              "outlinewidth": 0,
              "ticks": ""
             }
            },
            "type": "scatter"
           }
          ],
          "scatter3d": [
           {
            "line": {
             "colorbar": {
              "outlinewidth": 0,
              "ticks": ""
             }
            },
            "marker": {
             "colorbar": {
              "outlinewidth": 0,
              "ticks": ""
             }
            },
            "type": "scatter3d"
           }
          ],
          "scattercarpet": [
           {
            "marker": {
             "colorbar": {
              "outlinewidth": 0,
              "ticks": ""
             }
            },
            "type": "scattercarpet"
           }
          ],
          "scattergeo": [
           {
            "marker": {
             "colorbar": {
              "outlinewidth": 0,
              "ticks": ""
             }
            },
            "type": "scattergeo"
           }
          ],
          "scattergl": [
           {
            "marker": {
             "colorbar": {
              "outlinewidth": 0,
              "ticks": ""
             }
            },
            "type": "scattergl"
           }
          ],
          "scattermapbox": [
           {
            "marker": {
             "colorbar": {
              "outlinewidth": 0,
              "ticks": ""
             }
            },
            "type": "scattermapbox"
           }
          ],
          "scatterpolar": [
           {
            "marker": {
             "colorbar": {
              "outlinewidth": 0,
              "ticks": ""
             }
            },
            "type": "scatterpolar"
           }
          ],
          "scatterpolargl": [
           {
            "marker": {
             "colorbar": {
              "outlinewidth": 0,
              "ticks": ""
             }
            },
            "type": "scatterpolargl"
           }
          ],
          "scatterternary": [
           {
            "marker": {
             "colorbar": {
              "outlinewidth": 0,
              "ticks": ""
             }
            },
            "type": "scatterternary"
           }
          ],
          "surface": [
           {
            "colorbar": {
             "outlinewidth": 0,
             "ticks": ""
            },
            "colorscale": [
             [
              0,
              "#0d0887"
             ],
             [
              0.1111111111111111,
              "#46039f"
             ],
             [
              0.2222222222222222,
              "#7201a8"
             ],
             [
              0.3333333333333333,
              "#9c179e"
             ],
             [
              0.4444444444444444,
              "#bd3786"
             ],
             [
              0.5555555555555556,
              "#d8576b"
             ],
             [
              0.6666666666666666,
              "#ed7953"
             ],
             [
              0.7777777777777778,
              "#fb9f3a"
             ],
             [
              0.8888888888888888,
              "#fdca26"
             ],
             [
              1,
              "#f0f921"
             ]
            ],
            "type": "surface"
           }
          ],
          "table": [
           {
            "cells": {
             "fill": {
              "color": "#EBF0F8"
             },
             "line": {
              "color": "white"
             }
            },
            "header": {
             "fill": {
              "color": "#C8D4E3"
             },
             "line": {
              "color": "white"
             }
            },
            "type": "table"
           }
          ]
         },
         "layout": {
          "annotationdefaults": {
           "arrowcolor": "#2a3f5f",
           "arrowhead": 0,
           "arrowwidth": 1
          },
          "autotypenumbers": "strict",
          "coloraxis": {
           "colorbar": {
            "outlinewidth": 0,
            "ticks": ""
           }
          },
          "colorscale": {
           "diverging": [
            [
             0,
             "#8e0152"
            ],
            [
             0.1,
             "#c51b7d"
            ],
            [
             0.2,
             "#de77ae"
            ],
            [
             0.3,
             "#f1b6da"
            ],
            [
             0.4,
             "#fde0ef"
            ],
            [
             0.5,
             "#f7f7f7"
            ],
            [
             0.6,
             "#e6f5d0"
            ],
            [
             0.7,
             "#b8e186"
            ],
            [
             0.8,
             "#7fbc41"
            ],
            [
             0.9,
             "#4d9221"
            ],
            [
             1,
             "#276419"
            ]
           ],
           "sequential": [
            [
             0,
             "#0d0887"
            ],
            [
             0.1111111111111111,
             "#46039f"
            ],
            [
             0.2222222222222222,
             "#7201a8"
            ],
            [
             0.3333333333333333,
             "#9c179e"
            ],
            [
             0.4444444444444444,
             "#bd3786"
            ],
            [
             0.5555555555555556,
             "#d8576b"
            ],
            [
             0.6666666666666666,
             "#ed7953"
            ],
            [
             0.7777777777777778,
             "#fb9f3a"
            ],
            [
             0.8888888888888888,
             "#fdca26"
            ],
            [
             1,
             "#f0f921"
            ]
           ],
           "sequentialminus": [
            [
             0,
             "#0d0887"
            ],
            [
             0.1111111111111111,
             "#46039f"
            ],
            [
             0.2222222222222222,
             "#7201a8"
            ],
            [
             0.3333333333333333,
             "#9c179e"
            ],
            [
             0.4444444444444444,
             "#bd3786"
            ],
            [
             0.5555555555555556,
             "#d8576b"
            ],
            [
             0.6666666666666666,
             "#ed7953"
            ],
            [
             0.7777777777777778,
             "#fb9f3a"
            ],
            [
             0.8888888888888888,
             "#fdca26"
            ],
            [
             1,
             "#f0f921"
            ]
           ]
          },
          "colorway": [
           "#636efa",
           "#EF553B",
           "#00cc96",
           "#ab63fa",
           "#FFA15A",
           "#19d3f3",
           "#FF6692",
           "#B6E880",
           "#FF97FF",
           "#FECB52"
          ],
          "font": {
           "color": "#2a3f5f"
          },
          "geo": {
           "bgcolor": "white",
           "lakecolor": "white",
           "landcolor": "#E5ECF6",
           "showlakes": true,
           "showland": true,
           "subunitcolor": "white"
          },
          "hoverlabel": {
           "align": "left"
          },
          "hovermode": "closest",
          "mapbox": {
           "style": "light"
          },
          "paper_bgcolor": "white",
          "plot_bgcolor": "#E5ECF6",
          "polar": {
           "angularaxis": {
            "gridcolor": "white",
            "linecolor": "white",
            "ticks": ""
           },
           "bgcolor": "#E5ECF6",
           "radialaxis": {
            "gridcolor": "white",
            "linecolor": "white",
            "ticks": ""
           }
          },
          "scene": {
           "xaxis": {
            "backgroundcolor": "#E5ECF6",
            "gridcolor": "white",
            "gridwidth": 2,
            "linecolor": "white",
            "showbackground": true,
            "ticks": "",
            "zerolinecolor": "white"
           },
           "yaxis": {
            "backgroundcolor": "#E5ECF6",
            "gridcolor": "white",
            "gridwidth": 2,
            "linecolor": "white",
            "showbackground": true,
            "ticks": "",
            "zerolinecolor": "white"
           },
           "zaxis": {
            "backgroundcolor": "#E5ECF6",
            "gridcolor": "white",
            "gridwidth": 2,
            "linecolor": "white",
            "showbackground": true,
            "ticks": "",
            "zerolinecolor": "white"
           }
          },
          "shapedefaults": {
           "line": {
            "color": "#2a3f5f"
           }
          },
          "ternary": {
           "aaxis": {
            "gridcolor": "white",
            "linecolor": "white",
            "ticks": ""
           },
           "baxis": {
            "gridcolor": "white",
            "linecolor": "white",
            "ticks": ""
           },
           "bgcolor": "#E5ECF6",
           "caxis": {
            "gridcolor": "white",
            "linecolor": "white",
            "ticks": ""
           }
          },
          "title": {
           "x": 0.05
          },
          "xaxis": {
           "automargin": true,
           "gridcolor": "white",
           "linecolor": "white",
           "ticks": "",
           "title": {
            "standoff": 15
           },
           "zerolinecolor": "white",
           "zerolinewidth": 2
          },
          "yaxis": {
           "automargin": true,
           "gridcolor": "white",
           "linecolor": "white",
           "ticks": "",
           "title": {
            "standoff": 15
           },
           "zerolinecolor": "white",
           "zerolinewidth": 2
          }
         }
        },
        "title": {
         "text": "Cantidad de productos por tamaño"
        }
       }
      }
     },
     "metadata": {},
     "output_type": "display_data"
    }
   ],
   "source": [
    "labels = unique_elements\n",
    "\n",
    "\n",
    "fig = make_subplots(rows=1, cols=2, specs=[[{'type':'domain'}, {'type':'domain'}]])\n",
    "fig.add_trace(go.Pie(labels=labels, values=counts_elements, name=\"GHG Emissions\", marker_colors = paleta),1, 1)\n",
    "\n",
    "\n",
    "fig.update_traces(hole=.4, hoverinfo=\"label+percent+name\")\n",
    "\n",
    "fig.update_layout(\n",
    "    title_text=\"Cantidad de productos por tamaño\",\n",
    "    # width=2280, height=950, \n",
    "    font = dict(size = 22),\n",
    "    annotations=[dict(text='Tallas', x=0.20, y=0.5, \n",
    "    font_size=16, showarrow=False\n",
    "    )])\n",
    "fig.show()"
   ]
  },
  {
   "cell_type": "markdown",
   "id": "164febb6",
   "metadata": {},
   "source": [
    "#### Tallas - Productos\n"
   ]
  },
  {
   "cell_type": "code",
   "execution_count": 66,
   "id": "0dc74372",
   "metadata": {},
   "outputs": [],
   "source": [
    "tallas = df_total.select('size_lookiero').collect()\n",
    "tallas = np.array([x[0] for x in tallas])\n",
    "df_heat = pd.DataFrame()\n",
    "df_heat['size'], df_heat['product_family'] = tallas, product_family\n",
    "\n",
    "hm_131_p = pd.get_dummies(df_heat, columns=['product_family']).groupby(['size']).sum()\n",
    "hm_131_p.columns = [x.replace('product_family_', '').capitalize() for x in hm_131_p.columns]"
   ]
  },
  {
   "cell_type": "code",
   "execution_count": 67,
   "id": "860f453e",
   "metadata": {},
   "outputs": [
    {
     "data": {
      "text/plain": [
       "Text(0.5, 1.0, 'Relación entre tallas y productos')"
      ]
     },
     "execution_count": 67,
     "metadata": {},
     "output_type": "execute_result"
    },
    {
     "data": {
      "image/png": "[encoded data removed]",
      "text/plain": [
       "<Figure size 1800x360 with 2 Axes>"
      ]
     },
     "metadata": {
      "needs_background": "light"
     },
     "output_type": "display_data"
    }
   ],
   "source": [
    "fig3, ax3 = plt.subplots(figsize = (25,5))\n",
    "ax3 = sns.heatmap(hm_131_p,cmap='bone')\n",
    "ax3.set_ylabel('Tallas')\n",
    "ax3.set_xlabel('Productos')\n",
    "ax3.set_title(\"Relación entre tallas y productos\",fontweight='bold')"
   ]
  },
  {
   "cell_type": "markdown",
   "id": "bee23848",
   "metadata": {},
   "source": [
    "#### Empresas con mayor stock"
   ]
  },
  {
   "cell_type": "code",
   "execution_count": 69,
   "id": "898e2445",
   "metadata": {},
   "outputs": [],
   "source": [
    "empresas = df_total.select('name_brand').collect()\n",
    "empresas = np.array([x[0] for x in empresas])\n",
    "stock = np.array([x[0] for x in df_total.select('stock').collect()])"
   ]
  },
  {
   "cell_type": "code",
   "execution_count": 70,
   "id": "6e90b097",
   "metadata": {},
   "outputs": [],
   "source": [
    "df_empresas_stock = pd.DataFrame()\n",
    "df_empresas_stock['empresas'], df_empresas_stock['stock'] = empresas, stock\n",
    "top_10_empresas = df_empresas_stock.groupby('empresas').agg({'stock':'sum'}).sort_values(by='stock', ascending=False).head(10).reset_index()\n",
    "valores = df_empresas_stock.groupby('empresas').agg({'stock':'sum'}).sort_values(by='stock', ascending=False).head(10)\n",
    "errors = df_empresas_stock.groupby('empresas').agg({'stock':'std'}).sort_values(by='stock', ascending=False).head(10)"
   ]
  },
  {
   "cell_type": "code",
   "execution_count": 71,
   "id": "21b808e2",
   "metadata": {},
   "outputs": [
    {
     "data": {
      "image/png": "[encoded data removed]",
      "text/plain": [
       "<Figure size 1800x360 with 1 Axes>"
      ]
     },
     "metadata": {
      "needs_background": "light"
     },
     "output_type": "display_data"
    }
   ],
   "source": [
    "fig, ax = plt.subplots(figsize = (25,5))\n",
    "\n",
    "ax.bar(valores.index, valores.stock, yerr=errors.stock, align='center', alpha=0.8, ecolor='black', capsize=10, color = paleta[0])\n",
    "ax.set_facecolor('white')\n",
    "plt.title('Top 10 empresas con mayor stock', fontweight='bold')\n",
    "plt.xlabel('Empresas')\n",
    "plt.ylabel('Stock')\n",
    "plt.show()"
   ]
  },
  {
   "cell_type": "markdown",
   "id": "165ec828",
   "metadata": {},
   "source": [
    "Viendo que muchas empresas no se puede ver el stock que tiene, se decide generar otro gráfico para ver más en detalle el stock de esas empresas."
   ]
  },
  {
   "cell_type": "code",
   "execution_count": 72,
   "id": "8a933be3",
   "metadata": {},
   "outputs": [
    {
     "data": {
      "image/png": "[encoded data removed]",
      "text/plain": [
       "<Figure size 1800x360 with 1 Axes>"
      ]
     },
     "metadata": {
      "needs_background": "light"
     },
     "output_type": "display_data"
    }
   ],
   "source": [
    "fig, ax = plt.subplots(figsize = (25,5))\n",
    "\n",
    "ax.bar(valores.index[3:], valores.stock[3:], yerr=errors.stock[3:], align='center', alpha=0.8, ecolor='black', capsize=10, color = paleta[0])\n",
    "ax.set_facecolor('white')\n",
    "plt.title('7 de las empresas con mayor stock', fontweight='bold')\n",
    "plt.xlabel('Empresas')\n",
    "plt.ylabel('Stock')\n",
    "plt.show()"
   ]
  },
  {
   "cell_type": "markdown",
   "id": "409fe0a3",
   "metadata": {},
   "source": [
    "#### Productos más vendidos y origin"
   ]
  },
  {
   "cell_type": "code",
   "execution_count": 73,
   "id": "2d5924e6",
   "metadata": {},
   "outputs": [],
   "source": [
    "product_family = df_total.select('family_product').collect()\n",
    "product_family = np.array([x[0] for x in product_family])\n",
    "unique_elements, counts_elements = np.unique(product_family, return_counts=True)\n",
    "counts_elements, unique_elements = (zip(*reversed(sorted(zip(counts_elements, unique_elements)))))"
   ]
  },
  {
   "cell_type": "code",
   "execution_count": 74,
   "id": "6bf7e084",
   "metadata": {},
   "outputs": [],
   "source": [
    "product_family_product, brand_origin_brand = np.array([x[0] for x in df_total.select('family_product').collect()]), np.array([x[0] for x in df_total.select('origin_brand').collect()])\n",
    "df_product_family_product = pd.DataFrame()\n",
    "df_product_family_product['product_family_product'], df_product_family_product['brand_origin_brand'] = product_family_product, brand_origin_brand\n",
    "df_product_family_product = df_product_family_product[df_product_family_product['product_family_product'].isin(unique_elements[:5])].reset_index(drop = True)"
   ]
  },
  {
   "cell_type": "code",
   "execution_count": 75,
   "id": "bac1f9b5",
   "metadata": {},
   "outputs": [],
   "source": [
    "dumificado = pd.get_dummies(df_product_family_product, columns=['product_family_product']).groupby(['brand_origin_brand']).sum().reset_index()\n",
    "dumificado.columns = [dumificado.columns[0]] + [x.replace('product_family_product_', '').capitalize() for x in dumificado.columns[1:]]\n",
    "for x in range(len(dumificado)): \n",
    "    dumificado.iloc[x, 1:] = (dumificado.iloc[x, 1:] / dumificado.iloc[x, 1:].sum() * 100)\n",
    "    dumificado.iloc[x, 1:] = dumificado.iloc[x,1:].apply(lambda x: x.round(1))"
   ]
  },
  {
   "cell_type": "code",
   "execution_count": 76,
   "id": "da108b6f",
   "metadata": {},
   "outputs": [
    {
     "data": {
      "application/vnd.plotly.v1+json": {
       "config": {
        "plotlyServerURL": "https://plot.ly"
       },
       "data": [
        {
         "marker": {
          "color": "#264653",
          "line": {
           "color": "rgb(248, 248, 249)",
           "width": 1
          }
         },
         "orientation": "h",
         "type": "bar",
         "x": [
          21.1
         ],
         "y": [
          "MAINSTREAM"
         ]
        },
        {
         "marker": {
          "color": "#264653",
          "line": {
           "color": "rgb(248, 248, 249)",
           "width": 1
          }
         },
         "orientation": "h",
         "type": "bar",
         "x": [
          5.4
         ],
         "y": [
          "NO_MAINSTREAM"
         ]
        },
        {
         "marker": {
          "color": "#264653",
          "line": {
           "color": "rgb(248, 248, 249)",
           "width": 1
          }
         },
         "orientation": "h",
         "type": "bar",
         "x": [
          20.4
         ],
         "y": [
          "OWN_PRODUCTION"
         ]
        },
        {
         "marker": {
          "color": "#264653",
          "line": {
           "color": "rgb(248, 248, 249)",
           "width": 1
          }
         },
         "orientation": "h",
         "type": "bar",
         "x": [
          4.2
         ],
         "y": [
          "PREMIUM"
         ]
        },
        {
         "marker": {
          "color": "#264653",
          "line": {
           "color": "rgb(248, 248, 249)",
           "width": 1
          }
         },
         "orientation": "h",
         "type": "bar",
         "x": [
          26.6
         ],
         "y": [
          "WHOLE_SALE"
         ]
        },
        {
         "marker": {
          "color": "#2A9D8F",
          "line": {
           "color": "rgb(248, 248, 249)",
           "width": 1
          }
         },
         "orientation": "h",
         "type": "bar",
         "x": [
          18.8
         ],
         "y": [
          "MAINSTREAM"
         ]
        },
        {
         "marker": {
          "color": "#2A9D8F",
          "line": {
           "color": "rgb(248, 248, 249)",
           "width": 1
          }
         },
         "orientation": "h",
         "type": "bar",
         "x": [
          17.1
         ],
         "y": [
          "NO_MAINSTREAM"
         ]
        },
        {
         "marker": {
          "color": "#2A9D8F",
          "line": {
           "color": "rgb(248, 248, 249)",
           "width": 1
          }
         },
         "orientation": "h",
         "type": "bar",
         "x": [
          9.8
         ],
         "y": [
          "OWN_PRODUCTION"
         ]
        },
        {
         "marker": {
          "color": "#2A9D8F",
          "line": {
           "color": "rgb(248, 248, 249)",
           "width": 1
          }
         },
         "orientation": "h",
         "type": "bar",
         "x": [
          10.4
         ],
         "y": [
          "PREMIUM"
         ]
        },
        {
         "marker": {
          "color": "#2A9D8F",
          "line": {
           "color": "rgb(248, 248, 249)",
           "width": 1
          }
         },
         "orientation": "h",
         "type": "bar",
         "x": [
          25.2
         ],
         "y": [
          "WHOLE_SALE"
         ]
        },
        {
         "marker": {
          "color": "#85CAC2",
          "line": {
           "color": "rgb(248, 248, 249)",
           "width": 1
          }
         },
         "orientation": "h",
         "type": "bar",
         "x": [
          29
         ],
         "y": [
          "MAINSTREAM"
         ]
        },
        {
         "marker": {
          "color": "#85CAC2",
          "line": {
           "color": "rgb(248, 248, 249)",
           "width": 1
          }
         },
         "orientation": "h",
         "type": "bar",
         "x": [
          27.1
         ],
         "y": [
          "NO_MAINSTREAM"
         ]
        },
        {
         "marker": {
          "color": "#85CAC2",
          "line": {
           "color": "rgb(248, 248, 249)",
           "width": 1
          }
         },
         "orientation": "h",
         "type": "bar",
         "x": [
          4
         ],
         "y": [
          "OWN_PRODUCTION"
         ]
        },
        {
         "marker": {
          "color": "#85CAC2",
          "line": {
           "color": "rgb(248, 248, 249)",
           "width": 1
          }
         },
         "orientation": "h",
         "type": "bar",
         "x": [
          11.5
         ],
         "y": [
          "PREMIUM"
         ]
        },
        {
         "marker": {
          "color": "#85CAC2",
          "line": {
           "color": "rgb(248, 248, 249)",
           "width": 1
          }
         },
         "orientation": "h",
         "type": "bar",
         "x": [
          6
         ],
         "y": [
          "WHOLE_SALE"
         ]
        },
        {
         "marker": {
          "color": "#E9C46A",
          "line": {
           "color": "rgb(248, 248, 249)",
           "width": 1
          }
         },
         "orientation": "h",
         "type": "bar",
         "x": [
          11.1
         ],
         "y": [
          "MAINSTREAM"
         ]
        },
        {
         "marker": {
          "color": "#E9C46A",
          "line": {
           "color": "rgb(248, 248, 249)",
           "width": 1
          }
         },
         "orientation": "h",
         "type": "bar",
         "x": [
          19.6
         ],
         "y": [
          "NO_MAINSTREAM"
         ]
        },
        {
         "marker": {
          "color": "#E9C46A",
          "line": {
           "color": "rgb(248, 248, 249)",
           "width": 1
          }
         },
         "orientation": "h",
         "type": "bar",
         "x": [
          50.8
         ],
         "y": [
          "OWN_PRODUCTION"
         ]
        },
        {
         "marker": {
          "color": "#E9C46A",
          "line": {
           "color": "rgb(248, 248, 249)",
           "width": 1
          }
         },
         "orientation": "h",
         "type": "bar",
         "x": [
          2.6
         ],
         "y": [
          "PREMIUM"
         ]
        },
        {
         "marker": {
          "color": "#E9C46A",
          "line": {
           "color": "rgb(248, 248, 249)",
           "width": 1
          }
         },
         "orientation": "h",
         "type": "bar",
         "x": [
          34.7
         ],
         "y": [
          "WHOLE_SALE"
         ]
        },
        {
         "marker": {
          "color": "#F4A261",
          "line": {
           "color": "rgb(248, 248, 249)",
           "width": 1
          }
         },
         "orientation": "h",
         "type": "bar",
         "x": [
          19.9
         ],
         "y": [
          "MAINSTREAM"
         ]
        },
        {
         "marker": {
          "color": "#F4A261",
          "line": {
           "color": "rgb(248, 248, 249)",
           "width": 1
          }
         },
         "orientation": "h",
         "type": "bar",
         "x": [
          30.7
         ],
         "y": [
          "NO_MAINSTREAM"
         ]
        },
        {
         "marker": {
          "color": "#F4A261",
          "line": {
           "color": "rgb(248, 248, 249)",
           "width": 1
          }
         },
         "orientation": "h",
         "type": "bar",
         "x": [
          15
         ],
         "y": [
          "OWN_PRODUCTION"
         ]
        },
        {
         "marker": {
          "color": "#F4A261",
          "line": {
           "color": "rgb(248, 248, 249)",
           "width": 1
          }
         },
         "orientation": "h",
         "type": "bar",
         "x": [
          71.4
         ],
         "y": [
          "PREMIUM"
         ]
        },
        {
         "marker": {
          "color": "#F4A261",
          "line": {
           "color": "rgb(248, 248, 249)",
           "width": 1
          }
         },
         "orientation": "h",
         "type": "bar",
         "x": [
          7.5
         ],
         "y": [
          "WHOLE_SALE"
         ]
        }
       ],
       "layout": {
        "annotations": [
         {
          "align": "right",
          "font": {
           "color": "rgb(67, 67, 67)",
           "family": "Arial",
           "size": 22
          },
          "showarrow": false,
          "text": "MAINSTREAM",
          "x": 0.14,
          "xanchor": "right",
          "xref": "paper",
          "y": "MAINSTREAM",
          "yref": "y"
         },
         {
          "font": {
           "color": "rgb(248, 248, 255)",
           "family": "Arial",
           "size": 22
          },
          "showarrow": false,
          "text": "21.1%",
          "x": 10.55,
          "xref": "x",
          "y": "MAINSTREAM",
          "yref": "y"
         },
         {
          "font": {
           "color": "rgb(248, 248, 255)",
           "family": "Arial",
           "size": 22
          },
          "showarrow": false,
          "text": "18.8%",
          "x": 30.5,
          "xref": "x",
          "y": "MAINSTREAM",
          "yref": "y"
         },
         {
          "font": {
           "color": "rgb(248, 248, 255)",
           "family": "Arial",
           "size": 22
          },
          "showarrow": false,
          "text": "29.0%",
          "x": 54.400000000000006,
          "xref": "x",
          "y": "MAINSTREAM",
          "yref": "y"
         },
         {
          "font": {
           "color": "rgb(248, 248, 255)",
           "family": "Arial",
           "size": 22
          },
          "showarrow": false,
          "text": "11.1%",
          "x": 74.45,
          "xref": "x",
          "y": "MAINSTREAM",
          "yref": "y"
         },
         {
          "font": {
           "color": "rgb(248, 248, 255)",
           "family": "Arial",
           "size": 22
          },
          "showarrow": false,
          "text": "19.9%",
          "x": 89.95,
          "xref": "x",
          "y": "MAINSTREAM",
          "yref": "y"
         },
         {
          "align": "right",
          "font": {
           "color": "rgb(67, 67, 67)",
           "family": "Arial",
           "size": 22
          },
          "showarrow": false,
          "text": "NO_MAINSTREAM",
          "x": 0.14,
          "xanchor": "right",
          "xref": "paper",
          "y": "NO_MAINSTREAM",
          "yref": "y"
         },
         {
          "font": {
           "color": "rgb(248, 248, 255)",
           "family": "Arial",
           "size": 22
          },
          "showarrow": false,
          "text": "5.4%",
          "x": 2.7,
          "xref": "x",
          "y": "NO_MAINSTREAM",
          "yref": "y"
         },
         {
          "font": {
           "color": "rgb(248, 248, 255)",
           "family": "Arial",
           "size": 22
          },
          "showarrow": false,
          "text": "17.1%",
          "x": 13.950000000000001,
          "xref": "x",
          "y": "NO_MAINSTREAM",
          "yref": "y"
         },
         {
          "font": {
           "color": "rgb(248, 248, 255)",
           "family": "Arial",
           "size": 22
          },
          "showarrow": false,
          "text": "27.1%",
          "x": 36.05,
          "xref": "x",
          "y": "NO_MAINSTREAM",
          "yref": "y"
         },
         {
          "font": {
           "color": "rgb(248, 248, 255)",
           "family": "Arial",
           "size": 22
          },
          "showarrow": false,
          "text": "19.6%",
          "x": 59.400000000000006,
          "xref": "x",
          "y": "NO_MAINSTREAM",
          "yref": "y"
         },
         {
          "font": {
           "color": "rgb(248, 248, 255)",
           "family": "Arial",
           "size": 22
          },
          "showarrow": false,
          "text": "30.7%",
          "x": 84.55,
          "xref": "x",
          "y": "NO_MAINSTREAM",
          "yref": "y"
         },
         {
          "align": "right",
          "font": {
           "color": "rgb(67, 67, 67)",
           "family": "Arial",
           "size": 22
          },
          "showarrow": false,
          "text": "OWN_PRODUCTION",
          "x": 0.14,
          "xanchor": "right",
          "xref": "paper",
          "y": "OWN_PRODUCTION",
          "yref": "y"
         },
         {
          "font": {
           "color": "rgb(248, 248, 255)",
           "family": "Arial",
           "size": 22
          },
          "showarrow": false,
          "text": "20.4%",
          "x": 10.2,
          "xref": "x",
          "y": "OWN_PRODUCTION",
          "yref": "y"
         },
         {
          "font": {
           "color": "rgb(248, 248, 255)",
           "family": "Arial",
           "size": 22
          },
          "showarrow": false,
          "text": "9.8%",
          "x": 25.299999999999997,
          "xref": "x",
          "y": "OWN_PRODUCTION",
          "yref": "y"
         },
         {
          "font": {
           "color": "rgb(248, 248, 255)",
           "family": "Arial",
           "size": 22
          },
          "showarrow": false,
          "text": "4.0%",
          "x": 32.2,
          "xref": "x",
          "y": "OWN_PRODUCTION",
          "yref": "y"
         },
         {
          "font": {
           "color": "rgb(248, 248, 255)",
           "family": "Arial",
           "size": 22
          },
          "showarrow": false,
          "text": "50.8%",
          "x": 59.6,
          "xref": "x",
          "y": "OWN_PRODUCTION",
          "yref": "y"
         },
         {
          "font": {
           "color": "rgb(248, 248, 255)",
           "family": "Arial",
           "size": 22
          },
          "showarrow": false,
          "text": "15.0%",
          "x": 92.5,
          "xref": "x",
          "y": "OWN_PRODUCTION",
          "yref": "y"
         },
         {
          "align": "right",
          "font": {
           "color": "rgb(67, 67, 67)",
           "family": "Arial",
           "size": 22
          },
          "showarrow": false,
          "text": "PREMIUM",
          "x": 0.14,
          "xanchor": "right",
          "xref": "paper",
          "y": "PREMIUM",
          "yref": "y"
         },
         {
          "font": {
           "color": "rgb(248, 248, 255)",
           "family": "Arial",
           "size": 22
          },
          "showarrow": false,
          "text": "4.2%",
          "x": 2.1,
          "xref": "x",
          "y": "PREMIUM",
          "yref": "y"
         },
         {
          "font": {
           "color": "rgb(248, 248, 255)",
           "family": "Arial",
           "size": 22
          },
          "showarrow": false,
          "text": "10.4%",
          "x": 9.4,
          "xref": "x",
          "y": "PREMIUM",
          "yref": "y"
         },
         {
          "font": {
           "color": "rgb(248, 248, 255)",
           "family": "Arial",
           "size": 22
          },
          "showarrow": false,
          "text": "11.5%",
          "x": 20.35,
          "xref": "x",
          "y": "PREMIUM",
          "yref": "y"
         },
         {
          "font": {
           "color": "rgb(248, 248, 255)",
           "family": "Arial",
           "size": 22
          },
          "showarrow": false,
          "text": "2.6%",
          "x": 27.400000000000002,
          "xref": "x",
          "y": "PREMIUM",
          "yref": "y"
         },
         {
          "font": {
           "color": "rgb(248, 248, 255)",
           "family": "Arial",
           "size": 22
          },
          "showarrow": false,
          "text": "71.4%",
          "x": 64.4,
          "xref": "x",
          "y": "PREMIUM",
          "yref": "y"
         },
         {
          "align": "right",
          "font": {
           "color": "rgb(67, 67, 67)",
           "family": "Arial",
           "size": 22
          },
          "showarrow": false,
          "text": "WHOLE_SALE",
          "x": 0.14,
          "xanchor": "right",
          "xref": "paper",
          "y": "WHOLE_SALE",
          "yref": "y"
         },
         {
          "font": {
           "color": "rgb(248, 248, 255)",
           "family": "Arial",
           "size": 22
          },
          "showarrow": false,
          "text": "26.6%",
          "x": 13.3,
          "xref": "x",
          "y": "WHOLE_SALE",
          "yref": "y"
         },
         {
          "font": {
           "color": "rgb(67, 67, 67)",
           "family": "Arial",
           "size": 22
          },
          "showarrow": false,
          "text": "Jacket",
          "x": 13.3,
          "xref": "x",
          "y": 1.1,
          "yref": "paper"
         },
         {
          "font": {
           "color": "rgb(248, 248, 255)",
           "family": "Arial",
           "size": 22
          },
          "showarrow": false,
          "text": "25.2%",
          "x": 39.2,
          "xref": "x",
          "y": "WHOLE_SALE",
          "yref": "y"
         },
         {
          "font": {
           "color": "rgb(67, 67, 67)",
           "family": "Arial",
           "size": 22
          },
          "showarrow": false,
          "text": "Pant",
          "x": 39.2,
          "xref": "x",
          "y": 1.1,
          "yref": "paper"
         },
         {
          "font": {
           "color": "rgb(248, 248, 255)",
           "family": "Arial",
           "size": 22
          },
          "showarrow": false,
          "text": "6.0%",
          "x": 54.8,
          "xref": "x",
          "y": "WHOLE_SALE",
          "yref": "y"
         },
         {
          "font": {
           "color": "rgb(67, 67, 67)",
           "family": "Arial",
           "size": 22
          },
          "showarrow": false,
          "text": "Sweater",
          "x": 54.8,
          "xref": "x",
          "y": 1.1,
          "yref": "paper"
         },
         {
          "font": {
           "color": "rgb(248, 248, 255)",
           "family": "Arial",
           "size": 22
          },
          "showarrow": false,
          "text": "34.7%",
          "x": 75.15,
          "xref": "x",
          "y": "WHOLE_SALE",
          "yref": "y"
         },
         {
          "font": {
           "color": "rgb(67, 67, 67)",
           "family": "Arial",
           "size": 22
          },
          "showarrow": false,
          "text": "Top",
          "x": 75.15,
          "xref": "x",
          "y": 1.1,
          "yref": "paper"
         },
         {
          "font": {
           "color": "rgb(248, 248, 255)",
           "family": "Arial",
           "size": 22
          },
          "showarrow": false,
          "text": "7.5%",
          "x": 96.25,
          "xref": "x",
          "y": "WHOLE_SALE",
          "yref": "y"
         },
         {
          "font": {
           "color": "rgb(67, 67, 67)",
           "family": "Arial",
           "size": 22
          },
          "showarrow": false,
          "text": "Tshirt",
          "x": 96.25,
          "xref": "x",
          "y": 1.1,
          "yref": "paper"
         }
        ],
        "barmode": "stack",
        "font": {
         "size": 22
        },
        "height": 850,
        "margin": {
         "b": 80,
         "l": 120,
         "r": 10,
         "t": 140
        },
        "paper_bgcolor": "white",
        "plot_bgcolor": "white",
        "showlegend": false,
        "template": {
         "data": {
          "bar": [
           {
            "error_x": {
             "color": "#2a3f5f"
            },
            "error_y": {
             "color": "#2a3f5f"
            },
            "marker": {
             "line": {
              "color": "#E5ECF6",
              "width": 0.5
             },
             "pattern": {
              "fillmode": "overlay",
              "size": 10,
              "solidity": 0.2
             }
            },
            "type": "bar"
           }
          ],
          "barpolar": [
           {
            "marker": {
             "line": {
              "color": "#E5ECF6",
              "width": 0.5
             },
             "pattern": {
              "fillmode": "overlay",
              "size": 10,
              "solidity": 0.2
             }
            },
            "type": "barpolar"
           }
          ],
          "carpet": [
           {
            "aaxis": {
             "endlinecolor": "#2a3f5f",
             "gridcolor": "white",
             "linecolor": "white",
             "minorgridcolor": "white",
             "startlinecolor": "#2a3f5f"
            },
            "baxis": {
             "endlinecolor": "#2a3f5f",
             "gridcolor": "white",
             "linecolor": "white",
             "minorgridcolor": "white",
             "startlinecolor": "#2a3f5f"
            },
            "type": "carpet"
           }
          ],
          "choropleth": [
           {
            "colorbar": {
             "outlinewidth": 0,
             "ticks": ""
            },
            "type": "choropleth"
           }
          ],
          "contour": [
           {
            "colorbar": {
             "outlinewidth": 0,
             "ticks": ""
            },
            "colorscale": [
             [
              0,
              "#0d0887"
             ],
             [
              0.1111111111111111,
              "#46039f"
             ],
             [
              0.2222222222222222,
              "#7201a8"
             ],
             [
              0.3333333333333333,
              "#9c179e"
             ],
             [
              0.4444444444444444,
              "#bd3786"
             ],
             [
              0.5555555555555556,
              "#d8576b"
             ],
             [
              0.6666666666666666,
              "#ed7953"
             ],
             [
              0.7777777777777778,
              "#fb9f3a"
             ],
             [
              0.8888888888888888,
              "#fdca26"
             ],
             [
              1,
              "#f0f921"
             ]
            ],
            "type": "contour"
           }
          ],
          "contourcarpet": [
           {
            "colorbar": {
             "outlinewidth": 0,
             "ticks": ""
            },
            "type": "contourcarpet"
           }
          ],
          "heatmap": [
           {
            "colorbar": {
             "outlinewidth": 0,
             "ticks": ""
            },
            "colorscale": [
             [
              0,
              "#0d0887"
             ],
             [
              0.1111111111111111,
              "#46039f"
             ],
             [
              0.2222222222222222,
              "#7201a8"
             ],
             [
              0.3333333333333333,
              "#9c179e"
             ],
             [
              0.4444444444444444,
              "#bd3786"
             ],
             [
              0.5555555555555556,
              "#d8576b"
             ],
             [
              0.6666666666666666,
              "#ed7953"
             ],
             [
              0.7777777777777778,
              "#fb9f3a"
             ],
             [
              0.8888888888888888,
              "#fdca26"
             ],
             [
              1,
              "#f0f921"
             ]
            ],
            "type": "heatmap"
           }
          ],
          "heatmapgl": [
           {
            "colorbar": {
             "outlinewidth": 0,
             "ticks": ""
            },
            "colorscale": [
             [
              0,
              "#0d0887"
             ],
             [
              0.1111111111111111,
              "#46039f"
             ],
             [
              0.2222222222222222,
              "#7201a8"
             ],
             [
              0.3333333333333333,
              "#9c179e"
             ],
             [
              0.4444444444444444,
              "#bd3786"
             ],
             [
              0.5555555555555556,
              "#d8576b"
             ],
             [
              0.6666666666666666,
              "#ed7953"
             ],
             [
              0.7777777777777778,
              "#fb9f3a"
             ],
             [
              0.8888888888888888,
              "#fdca26"
             ],
             [
              1,
              "#f0f921"
             ]
            ],
            "type": "heatmapgl"
           }
          ],
          "histogram": [
           {
            "marker": {
             "pattern": {
              "fillmode": "overlay",
              "size": 10,
              "solidity": 0.2
             }
            },
            "type": "histogram"
           }
          ],
          "histogram2d": [
           {
            "colorbar": {
             "outlinewidth": 0,
             "ticks": ""
            },
            "colorscale": [
             [
              0,
              "#0d0887"
             ],
             [
              0.1111111111111111,
              "#46039f"
             ],
             [
              0.2222222222222222,
              "#7201a8"
             ],
             [
              0.3333333333333333,
              "#9c179e"
             ],
             [
              0.4444444444444444,
              "#bd3786"
             ],
             [
              0.5555555555555556,
              "#d8576b"
             ],
             [
              0.6666666666666666,
              "#ed7953"
             ],
             [
              0.7777777777777778,
              "#fb9f3a"
             ],
             [
              0.8888888888888888,
              "#fdca26"
             ],
             [
              1,
              "#f0f921"
             ]
            ],
            "type": "histogram2d"
           }
          ],
          "histogram2dcontour": [
           {
            "colorbar": {
             "outlinewidth": 0,
             "ticks": ""
            },
            "colorscale": [
             [
              0,
              "#0d0887"
             ],
             [
              0.1111111111111111,
              "#46039f"
             ],
             [
              0.2222222222222222,
              "#7201a8"
             ],
             [
              0.3333333333333333,
              "#9c179e"
             ],
             [
              0.4444444444444444,
              "#bd3786"
             ],
             [
              0.5555555555555556,
              "#d8576b"
             ],
             [
              0.6666666666666666,
              "#ed7953"
             ],
             [
              0.7777777777777778,
              "#fb9f3a"
             ],
             [
              0.8888888888888888,
              "#fdca26"
             ],
             [
              1,
              "#f0f921"
             ]
            ],
            "type": "histogram2dcontour"
           }
          ],
          "mesh3d": [
           {
            "colorbar": {
             "outlinewidth": 0,
             "ticks": ""
            },
            "type": "mesh3d"
           }
          ],
          "parcoords": [
           {
            "line": {
             "colorbar": {
              "outlinewidth": 0,
              "ticks": ""
             }
            },
            "type": "parcoords"
           }
          ],
          "pie": [
           {
            "automargin": true,
            "type": "pie"
           }
          ],
          "scatter": [
           {
            "marker": {
             "colorbar": {
              "outlinewidth": 0,
              "ticks": ""
             }
            },
            "type": "scatter"
           }
          ],
          "scatter3d": [
           {
            "line": {
             "colorbar": {
              "outlinewidth": 0,
              "ticks": ""
             }
            },
            "marker": {
             "colorbar": {
              "outlinewidth": 0,
              "ticks": ""
             }
            },
            "type": "scatter3d"
           }
          ],
          "scattercarpet": [
           {
            "marker": {
             "colorbar": {
              "outlinewidth": 0,
              "ticks": ""
             }
            },
            "type": "scattercarpet"
           }
          ],
          "scattergeo": [
           {
            "marker": {
             "colorbar": {
              "outlinewidth": 0,
              "ticks": ""
             }
            },
            "type": "scattergeo"
           }
          ],
          "scattergl": [
           {
            "marker": {
             "colorbar": {
              "outlinewidth": 0,
              "ticks": ""
             }
            },
            "type": "scattergl"
           }
          ],
          "scattermapbox": [
           {
            "marker": {
             "colorbar": {
              "outlinewidth": 0,
              "ticks": ""
             }
            },
            "type": "scattermapbox"
           }
          ],
          "scatterpolar": [
           {
            "marker": {
             "colorbar": {
              "outlinewidth": 0,
              "ticks": ""
             }
            },
            "type": "scatterpolar"
           }
          ],
          "scatterpolargl": [
           {
            "marker": {
             "colorbar": {
              "outlinewidth": 0,
              "ticks": ""
             }
            },
            "type": "scatterpolargl"
           }
          ],
          "scatterternary": [
           {
            "marker": {
             "colorbar": {
              "outlinewidth": 0,
              "ticks": ""
             }
            },
            "type": "scatterternary"
           }
          ],
          "surface": [
           {
            "colorbar": {
             "outlinewidth": 0,
             "ticks": ""
            },
            "colorscale": [
             [
              0,
              "#0d0887"
             ],
             [
              0.1111111111111111,
              "#46039f"
             ],
             [
              0.2222222222222222,
              "#7201a8"
             ],
             [
              0.3333333333333333,
              "#9c179e"
             ],
             [
              0.4444444444444444,
              "#bd3786"
             ],
             [
              0.5555555555555556,
              "#d8576b"
             ],
             [
              0.6666666666666666,
              "#ed7953"
             ],
             [
              0.7777777777777778,
              "#fb9f3a"
             ],
             [
              0.8888888888888888,
              "#fdca26"
             ],
             [
              1,
              "#f0f921"
             ]
            ],
            "type": "surface"
           }
          ],
          "table": [
           {
            "cells": {
             "fill": {
              "color": "#EBF0F8"
             },
             "line": {
              "color": "white"
             }
            },
            "header": {
             "fill": {
              "color": "#C8D4E3"
             },
             "line": {
              "color": "white"
             }
            },
            "type": "table"
           }
          ]
         },
         "layout": {
          "annotationdefaults": {
           "arrowcolor": "#2a3f5f",
           "arrowhead": 0,
           "arrowwidth": 1
          },
          "autotypenumbers": "strict",
          "coloraxis": {
           "colorbar": {
            "outlinewidth": 0,
            "ticks": ""
           }
          },
          "colorscale": {
           "diverging": [
            [
             0,
             "#8e0152"
            ],
            [
             0.1,
             "#c51b7d"
            ],
            [
             0.2,
             "#de77ae"
            ],
            [
             0.3,
             "#f1b6da"
            ],
            [
             0.4,
             "#fde0ef"
            ],
            [
             0.5,
             "#f7f7f7"
            ],
            [
             0.6,
             "#e6f5d0"
            ],
            [
             0.7,
             "#b8e186"
            ],
            [
             0.8,
             "#7fbc41"
            ],
            [
             0.9,
             "#4d9221"
            ],
            [
             1,
             "#276419"
            ]
           ],
           "sequential": [
            [
             0,
             "#0d0887"
            ],
            [
             0.1111111111111111,
             "#46039f"
            ],
            [
             0.2222222222222222,
             "#7201a8"
            ],
            [
             0.3333333333333333,
             "#9c179e"
            ],
            [
             0.4444444444444444,
             "#bd3786"
            ],
            [
             0.5555555555555556,
             "#d8576b"
            ],
            [
             0.6666666666666666,
             "#ed7953"
            ],
            [
             0.7777777777777778,
             "#fb9f3a"
            ],
            [
             0.8888888888888888,
             "#fdca26"
            ],
            [
             1,
             "#f0f921"
            ]
           ],
           "sequentialminus": [
            [
             0,
             "#0d0887"
            ],
            [
             0.1111111111111111,
             "#46039f"
            ],
            [
             0.2222222222222222,
             "#7201a8"
            ],
            [
             0.3333333333333333,
             "#9c179e"
            ],
            [
             0.4444444444444444,
             "#bd3786"
            ],
            [
             0.5555555555555556,
             "#d8576b"
            ],
            [
             0.6666666666666666,
             "#ed7953"
            ],
            [
             0.7777777777777778,
             "#fb9f3a"
            ],
            [
             0.8888888888888888,
             "#fdca26"
            ],
            [
             1,
             "#f0f921"
            ]
           ]
          },
          "colorway": [
           "#636efa",
           "#EF553B",
           "#00cc96",
           "#ab63fa",
           "#FFA15A",
           "#19d3f3",
           "#FF6692",
           "#B6E880",
           "#FF97FF",
           "#FECB52"
          ],
          "font": {
           "color": "#2a3f5f"
          },
          "geo": {
           "bgcolor": "white",
           "lakecolor": "white",
           "landcolor": "#E5ECF6",
           "showlakes": true,
           "showland": true,
           "subunitcolor": "white"
          },
          "hoverlabel": {
           "align": "left"
          },
          "hovermode": "closest",
          "mapbox": {
           "style": "light"
          },
          "paper_bgcolor": "white",
          "plot_bgcolor": "#E5ECF6",
          "polar": {
           "angularaxis": {
            "gridcolor": "white",
            "linecolor": "white",
            "ticks": ""
           },
           "bgcolor": "#E5ECF6",
           "radialaxis": {
            "gridcolor": "white",
            "linecolor": "white",
            "ticks": ""
           }
          },
          "scene": {
           "xaxis": {
            "backgroundcolor": "#E5ECF6",
            "gridcolor": "white",
            "gridwidth": 2,
            "linecolor": "white",
            "showbackground": true,
            "ticks": "",
            "zerolinecolor": "white"
           },
           "yaxis": {
            "backgroundcolor": "#E5ECF6",
            "gridcolor": "white",
            "gridwidth": 2,
            "linecolor": "white",
            "showbackground": true,
            "ticks": "",
            "zerolinecolor": "white"
           },
           "zaxis": {
            "backgroundcolor": "#E5ECF6",
            "gridcolor": "white",
            "gridwidth": 2,
            "linecolor": "white",
            "showbackground": true,
            "ticks": "",
            "zerolinecolor": "white"
           }
          },
          "shapedefaults": {
           "line": {
            "color": "#2a3f5f"
           }
          },
          "ternary": {
           "aaxis": {
            "gridcolor": "white",
            "linecolor": "white",
            "ticks": ""
           },
           "baxis": {
            "gridcolor": "white",
            "linecolor": "white",
            "ticks": ""
           },
           "bgcolor": "#E5ECF6",
           "caxis": {
            "gridcolor": "white",
            "linecolor": "white",
            "ticks": ""
           }
          },
          "title": {
           "x": 0.05
          },
          "xaxis": {
           "automargin": true,
           "gridcolor": "white",
           "linecolor": "white",
           "ticks": "",
           "title": {
            "standoff": 15
           },
           "zerolinecolor": "white",
           "zerolinewidth": 2
          },
          "yaxis": {
           "automargin": true,
           "gridcolor": "white",
           "linecolor": "white",
           "ticks": "",
           "title": {
            "standoff": 15
           },
           "zerolinecolor": "white",
           "zerolinewidth": 2
          }
         }
        },
        "title": {
         "text": "Productos más populares y su influencia en el mercado"
        },
        "width": 2280,
        "xaxis": {
         "domain": [
          0.15,
          1
         ],
         "showgrid": false,
         "showline": false,
         "showticklabels": false,
         "zeroline": false
        },
        "yaxis": {
         "showgrid": false,
         "showline": false,
         "showticklabels": false,
         "zeroline": false
        }
       }
      }
     },
     "metadata": {},
     "output_type": "display_data"
    }
   ],
   "source": [
    "from itertools import cycle\n",
    "\n",
    "x_data = dumificado.iloc[:, 1:].values\n",
    "\n",
    "import plotly.graph_objects as go\n",
    "\n",
    "\n",
    "top_labels = dumificado.columns[1:]\n",
    "colors = np.array(paleta)[[0,1,2,4,5]]\n",
    "y_data = dumificado.iloc[:,0].values\n",
    "\n",
    "fig = go.Figure()\n",
    "\n",
    "for i in range(0, len(x_data[0])):\n",
    "    for xd, yd in zip(x_data, y_data):\n",
    "        fig.add_trace(go.Bar(\n",
    "            x=[xd[i]], y=[yd],orientation='h',marker=dict(color=colors[i],line=dict(color='rgb(248, 248, 249)', width=1))))\n",
    "\n",
    "fig.update_layout(\n",
    "    title='Productos más populares y su influencia en el mercado',\n",
    "    xaxis=dict(\n",
    "        showgrid=False,showline=False,showticklabels=False,zeroline=False,domain=[0.15, 1]),\n",
    "\n",
    "    yaxis=dict(\n",
    "        showgrid=False,showline=False,showticklabels=False,zeroline=False,),\n",
    "    width=2280, height=850, font = dict(size = 22),\n",
    "    barmode='stack',paper_bgcolor='white',plot_bgcolor='white',margin=dict(l=120, r=10, t=140, b=80),showlegend=False,)\n",
    "\n",
    "annotations = []\n",
    "\n",
    "for yd, xd in zip(y_data, x_data):\n",
    "\n",
    "    annotations.append(dict(xref='paper', yref='y',\n",
    "                            x=0.14, y=yd,xanchor='right',text=str(yd),font=dict(family='Arial', size=22,color='rgb(67, 67, 67)'),showarrow=False, align='right'))\n",
    "\n",
    "    annotations.append(dict(xref='x', yref='y',\n",
    "                            x=xd[0] / 2, y=yd,text=str(xd[0]) + '%',font=dict(family='Arial', size=22,color='rgb(248, 248, 255)'),showarrow=False))\n",
    "\n",
    "    if yd == y_data[-1]:\n",
    "        annotations.append(dict(xref='x', yref='paper',\n",
    "                                x=xd[0] / 2, y=1.1,text=top_labels[0],font=dict(family='Arial', size=22,color='rgb(67, 67, 67)'),showarrow=False))\n",
    "                                \n",
    "    space = xd[0]\n",
    "    for i in range(1, len(xd)):\n",
    "            annotations.append(dict(xref='x', yref='y',\n",
    "                                    x=space + (xd[i]/2), y=yd,text=str(xd[i]) + '%',font=dict(family='Arial', size=22,color='rgb(248, 248, 255)'),showarrow=False))\n",
    "            if yd == y_data[-1]:\n",
    "                annotations.append(dict(xref='x', yref='paper',\n",
    "                                        x=space + (xd[i]/2), y=1.1,text=top_labels[i],font=dict(family='Arial', size=22,color='rgb(67, 67, 67)'),showarrow=False)) #, textangle=90\n",
    "            space += xd[i]\n",
    "\n",
    "fig.update_layout(annotations=annotations)\n",
    "fig.show()"
   ]
  },
  {
   "cell_type": "markdown",
   "id": "4698fbbd",
   "metadata": {},
   "source": [
    "#### Puntos"
   ]
  },
  {
   "cell_type": "code",
   "execution_count": 77,
   "id": "95125992",
   "metadata": {},
   "outputs": [],
   "source": [
    "product_family = np.array([x[0] for x in df_total.select('family_product').collect()])\n",
    "unique_elements, counts_elements = np.unique(product_family, return_counts=True)\n",
    "counts_elements, unique_elements = (zip(*reversed(sorted(zip(counts_elements, unique_elements)))))\n",
    "\n",
    "color, product_family_product = np.array([x[0] for x in df_total.select('color').collect()]), np.array([x[0] for x in df_total.select('family_product').collect()])\n",
    "df_color = pd.DataFrame()\n",
    "df_color['color'], df_color['product_family_product'] = color, product_family_product\n",
    "\n",
    "dumificado = pd.get_dummies(df_color, columns=['product_family_product']).groupby(['color']).sum().reset_index()\n",
    "dumificado.columns = [dumificado.columns[0]] + [x.replace('product_family_product_', '') for x in dumificado.columns[1:]]\n",
    "dumificado['total'] = dumificado.iloc[:,1:].sum(axis=1)\n",
    "\n",
    "dumificado = dumificado.loc[:,['color','total'] + list(unique_elements[:3])]"
   ]
  },
  {
   "cell_type": "code",
   "execution_count": 78,
   "id": "e61089a7",
   "metadata": {},
   "outputs": [
    {
     "data": {
      "image/png": "[encoded data removed]",
      "text/plain": [
       "<Figure size 720x720 with 4 Axes>"
      ]
     },
     "metadata": {
      "needs_background": "light"
     },
     "output_type": "display_data"
    }
   ],
   "source": [
    "g = sns.PairGrid(dumificado.sort_values(\"total\", ascending=False),\n",
    "                 x_vars=dumificado.columns[-4:], y_vars=[\"color\"],\n",
    "                 height=10, aspect=.25)\n",
    "\n",
    "g.map(sns.stripplot, size=10, orient=\"h\", jitter=False,\n",
    "      palette=\"mako\", linewidth=1, edgecolor=\"w\")\n",
    "\n",
    "g.set(xlabel=\"Cuantity\", ylabel=\"\")\n",
    "titles = [x.capitalize() for x in dumificado.columns[-4:]]\n",
    "\n",
    "for ax, title in zip(g.axes.flat, titles):\n",
    "    ax.set(title=title)\n",
    "    ax.xaxis.grid(False)\n",
    "    ax.yaxis.grid(True)\n",
    "\n",
    "sns.despine(left=True, bottom=True)"
   ]
  },
  {
   "cell_type": "markdown",
   "id": "fbb243f4",
   "metadata": {},
   "source": [
    "#### Spider (Sin acabar)"
   ]
  },
  {
   "cell_type": "code",
   "execution_count": 80,
   "id": "75a77233",
   "metadata": {},
   "outputs": [],
   "source": [
    "publishable = np.array([x[0] for x in df_total.select('publishable').collect()])\n",
    "stock = np.array([x[0] for x in df_total.select('stock').collect()])\n",
    "\n",
    "df_empresas_spider = pd.DataFrame()\n",
    "df_empresas_spider['publishable'], df_empresas_spider['stock'], df_empresas_spider['brand_origin_brand'] = publishable, stock, brand_origin_brand\n",
    "df_empresas_spider = df_empresas_spider.pivot_table(index = 'publishable', columns='brand_origin_brand', values = 'stock', aggfunc ='sum')\n",
    "df_empresas_spider.reset_index(drop = True, inplace = True)\n",
    "\n",
    "df_empresas_spider = ((df_empresas_spider.T / df_empresas_spider.sum(axis = 1))*100).T\n",
    "df_empresas_spider = pd.concat([pd.Series(['No Published', 'Published']), df_empresas_spider], axis = 1).rename({0: 'group'}, axis = 1)"
   ]
  },
  {
   "cell_type": "code",
   "execution_count": 81,
   "id": "489ba779",
   "metadata": {},
   "outputs": [
    {
     "data": {
      "image/png": "[encoded data removed]",
      "text/plain": [
       "<Figure size 432x288 with 1 Axes>"
      ]
     },
     "metadata": {},
     "output_type": "display_data"
    }
   ],
   "source": [
    "from math import pi\n",
    "\n",
    "df_empresas_spider['group'] = df_empresas_spider['group'].astype('str')\n",
    "categories = list(df_empresas_spider)[1:]\n",
    "N = len(categories)\n",
    "angles = [n / float(N) * 2 * pi for n in range(N)]\n",
    "angles += angles[:1]\n",
    "ax = plt.subplot(111, polar=True)\n",
    "ax.set_theta_offset(pi / 2)\n",
    "ax.set_theta_direction(-1)\n",
    "plt.xticks(angles[:-1], categories)\n",
    "ax.set_rlabel_position(0)\n",
    "plt.yticks([0.12,0.2,0.28], [\"10\",\"20\",\"30\"], color=\"grey\", size=7)\n",
    "\n",
    " \n",
    "color_list = ['darkblue', 'darkred', 'darkgreen']\n",
    "\n",
    "for i in range(len(df_empresas_spider)):\n",
    "    \n",
    "    values = df_empresas_spider.loc[i].drop('group').values.flatten().tolist()\n",
    "    values += values[:1]\n",
    "    ax.plot(angles, values, linewidth = 1, linestyle='solid', label = df_empresas_spider.group[i], color = color_list[i])\n",
    "    ax.fill(angles, values, color = color_list[i], alpha = 0.15)\n",
    "    \n",
    "plt.legend(loc = 'upper right', bbox_to_anchor = (0.1, 0.1))\n",
    "plt.title('Porcentaje dedicado a cada origen de marca de los publicados y no publicados')\n",
    "plt.show()"
   ]
  },
  {
   "cell_type": "code",
   "execution_count": 82,
   "id": "21c453f8",
   "metadata": {},
   "outputs": [
    {
     "name": "stdout",
     "output_type": "stream",
     "text": [
      "% de valores nulos en stock: 90.47837894297055\n"
     ]
    }
   ],
   "source": [
    "print('% de valores nulos en stock:',len(stock[stock == 0])/len(stock) * 100)"
   ]
  },
  {
   "cell_type": "code",
   "execution_count": null,
   "id": "0e0909a5",
   "metadata": {},
   "outputs": [],
   "source": []
  },
  {
   "cell_type": "code",
   "execution_count": null,
   "id": "0afc1572",
   "metadata": {},
   "outputs": [],
   "source": []
  }
 ],
 "metadata": {
  "kernelspec": {
   "display_name": "Python 3 (ipykernel)",
   "language": "python",
   "name": "python3"
  },
  "language_info": {
   "codemirror_mode": {
    "name": "ipython",
    "version": 3
   },
   "file_extension": ".py",
   "mimetype": "text/x-python",
   "name": "python",
   "nbconvert_exporter": "python",
   "pygments_lexer": "ipython3",
   "version": "3.8.5"
  }
 },
 "nbformat": 4,
 "nbformat_minor": 5
}
