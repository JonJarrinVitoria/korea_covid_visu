{
 "cells": [
  {
   "cell_type": "markdown",
   "id": "4adb8551",
   "metadata": {
    "id": "4adb8551"
   },
   "source": [
    "<center> \n",
    "<img src=\"https://upload.wikimedia.org/wikipedia/commons/5/5c/Logo_Mondragon_Unibertsitatea.png\" width=\"150\" height=\"100\" float =\"left\">\n",
    "<img src=\"data:image/png;base64,iVBORw0KGgoAAAANSUhEUgAAAPIAAADQCAMAAAAK0syrAAAAgVBMVEX///8AAAD7+/t6enrV1dWYmJjj4+Po6OjQ0NDx8fGIiIjq6ur39/fv7+/09PTf39+vr69xcXHGxsa5ubmfn59paWmnp6eTk5M8PDxZWVm9vb1eXl5ubm7BwcEzMzOHh4cnJycdHR0TExNPT09FRUUYGBhaWlpEREQ4ODgqKipjY2MMKFclAAAEmElEQVR4nO3ZaXOyPBQGYG52VzbFfQO1tf//Bz5JqArYzvSd8IK29/Whg4ymJyQ5WTAMIiIiIiIiIiIiIiIiIiIiIiIiIiIiIiIiIiIiIiIiIiIiIiKiXyXYdB1B2yxg0nUM7VoBWHcdRKumiO2/1cozbIwQQddhtMhH3zDO6DqMFpnYGsYYTtdxtGiKkWHs0Os6jvb4SA1jhGnXcbRoL7q1kcPrOo72JHANka6truNokazsGH8pXacwDeMNftdxtEjOTX3MdIrworipaNowET16g4VWGXvYDUXTCjFBBXIloiHU6yNtm8HwcDC1ynit1Gci7GGvV+PwtXZgMwSYa5YB6D2ylgH40Cyij10jobQkhXa8Lmor1WR/S/+2P9QsvXEBsNQtY4u8/DE+wHI/rzd4uv3oBPprrj5QWoaICjulge2FI93yG9WbN3C+F6M0Q9nbp2vVihRRqn3YNcK97wZ5MxU2jeR/OVC3T6JPL7SXEJmocnGW4p7l8Zm2wS5aA1EDJdULXqj4tLP129zEWV4EC6zqw3ZQydaelVuPfcq03crHqdy6zxp5eBWjCIuBIc9/NPc/K5i23FD4C6wfjlQmyEqfQsBaVKaHvhgGlugkSG63bNUGNrDXi6vOXeOteNwp9GbNHCNR63hzAeaPJ4WV2SDFxRSPuLT78ETuPItnHhxw/GzpQC1cZzjhoBVXjZ8jv270rB8P5SB10tivbhA9bE25DrmyqqtOq3ywJL42NHoZxvdbB/kb1cvEVJkve+qWvbQwFVVvbiz3ROnRffDk7z/7meiUKsByfjd3Kj1PcViqqoq+XTkT7pcX3l6GhR/hXOpUC1nedTcSi4yl/sV+HYpCjo29NVnmQFpuisNPzgWGM8gj3yUsb4fT8BbjWlZwUNqSTHC6/0rU6NbI40g9r6jcSXJ5p7xqG3oDBxd1GTW0+15+iCBqRxff9h/Pes+wSkbmQP5MtYWqgdyD7PrRu5iLiy5qlU9DrNsGxYPIS2Fx7Voi/75Vj09tzEWOQj3FA33T9OcNzO4j3zmK+j4uLb+bo0LZBPtihB6LfBqh+LuyVqtdeM3O4+ppykV2B0O2dyI69lFcDSYH7Mayjtl9PMVH+T08zkQj1fYfbv3+z02BbLtVcTtfDo5vquxAheOLlHtNN+Mivkst3/VLE4yhlmLis53Jpu8VT2xbPAS5Ll0lgRvETo6tav9088Um23Q1Xx/44WTmhPG3pXx9WC/GbjFCrXsWWapuWn//bNYPgMRT+phfW2+ThuWtY7JSfWeaDv5bJZr15Vh2EDvFOLRwiy5RGeXw0Mj1PGMv8tlTv8vD6vFeKBYQoZov3VInGIsuuzyh2kAuXu9VZfY4LydyNIYyZ/qVo225R6w3afiZrV7J40YqVF1apJ7JtPml/TOY1d8xTD7X/fY8izSmiifm11J2/w+8issqCyC1V/3tNqUl8vhS3uf8XtZtaZ98NWP9SmKpFQ6NYbLXP89+GcGHXAeeXm+G1RIET/cWhYiIiIiIiIiIiIiIiIiIiIiIiIiIiIiIiIiIiIiIiIiIiIiIiIiIqFn/AA1nKx7ECwr8AAAAAElFTkSuQmCC\" width=\"200\" height=\"120\" float =\"left\">    \n",
    "\n",
    "\n",
    "---\n",
    "<h3>Beñat Basabe, Jon Jarrín, June Pagaldai, Daniel Puente, Eneko Rentería | <font color='red'> Equipo Rojo<h3>"
   ]
  },
  {
   "cell_type": "markdown",
   "metadata": {},
   "source": [
    "## Generación de grafos\n",
    "Se genera el grafo que posteriormente se empleará para entrenar el modelo."
   ]
  },
  {
   "cell_type": "markdown",
   "id": "50c9a77d",
   "metadata": {
    "id": "50c9a77d"
   },
   "source": [
    "### Carga de librerias \n",
    "---"
   ]
  },
  {
   "cell_type": "markdown",
   "id": "6c963a89",
   "metadata": {
    "id": "6c963a89"
   },
   "source": [
    "- **General**"
   ]
  },
  {
   "cell_type": "code",
   "execution_count": 1,
   "id": "47d8baeb",
   "metadata": {
    "executionInfo": {
     "elapsed": 328,
     "status": "ok",
     "timestamp": 1639141048326,
     "user": {
      "displayName": "Eneko Renteria Gabantxo",
      "photoUrl": "https://lh3.googleusercontent.com/a/default-user=s64",
      "userId": "11839893040904061534"
     },
     "user_tz": -60
    },
    "id": "47d8baeb"
   },
   "outputs": [],
   "source": [
    "import pandas as pd\n",
    "import numpy as np\n",
    "import glob\n",
    "import os\n",
    "import pickle\n",
    "\n",
    "def guardar_pikle(df, name):\n",
    "    with open(dir_out + str(name) + '.pkl', 'wb') as fp: pickle.dump(df, fp)\n",
    "\n",
    "def abrir_pikle(name):\n",
    "    with open(dir_out + str(name) + '.pkl', 'rb') as fp: df = pickle.load(fp)\n",
    "    return df"
   ]
  },
  {
   "cell_type": "code",
   "execution_count": 2,
   "metadata": {},
   "outputs": [],
   "source": [
    "import warnings\n",
    "warnings.filterwarnings('ignore')"
   ]
  },
  {
   "cell_type": "markdown",
   "id": "f8d2c59d",
   "metadata": {
    "id": "f8d2c59d"
   },
   "source": [
    "- **Pyspark**"
   ]
  },
  {
   "cell_type": "code",
   "execution_count": 3,
   "id": "bb04edd4",
   "metadata": {
    "executionInfo": {
     "elapsed": 10,
     "status": "ok",
     "timestamp": 1639141048708,
     "user": {
      "displayName": "Eneko Renteria Gabantxo",
      "photoUrl": "https://lh3.googleusercontent.com/a/default-user=s64",
      "userId": "11839893040904061534"
     },
     "user_tz": -60
    },
    "id": "bb04edd4"
   },
   "outputs": [],
   "source": [
    "from pyspark.sql import SparkSession\n",
    "from pyspark.sql.types import StringType\n",
    "from pyspark.sql.functions import col\n",
    "from pyspark.sql.functions import when"
   ]
  },
  {
   "cell_type": "markdown",
   "id": "4c037de3",
   "metadata": {
    "id": "4c037de3"
   },
   "source": [
    "- **Strings**"
   ]
  },
  {
   "cell_type": "code",
   "execution_count": 4,
   "id": "1cac86bb",
   "metadata": {
    "executionInfo": {
     "elapsed": 11,
     "status": "ok",
     "timestamp": 1639141048710,
     "user": {
      "displayName": "Eneko Renteria Gabantxo",
      "photoUrl": "https://lh3.googleusercontent.com/a/default-user=s64",
      "userId": "11839893040904061534"
     },
     "user_tz": -60
    },
    "id": "1cac86bb"
   },
   "outputs": [],
   "source": [
    "from collections import Counter\n",
    "import re"
   ]
  },
  {
   "cell_type": "markdown",
   "id": "fdf59971",
   "metadata": {
    "id": "fdf59971"
   },
   "source": [
    "- **Visualización**"
   ]
  },
  {
   "cell_type": "code",
   "execution_count": 5,
   "id": "dc0398c1",
   "metadata": {
    "executionInfo": {
     "elapsed": 1104,
     "status": "ok",
     "timestamp": 1639141049805,
     "user": {
      "displayName": "Eneko Renteria Gabantxo",
      "photoUrl": "https://lh3.googleusercontent.com/a/default-user=s64",
      "userId": "11839893040904061534"
     },
     "user_tz": -60
    },
    "id": "dc0398c1"
   },
   "outputs": [],
   "source": [
    "import plotly.graph_objs as go\n",
    "import matplotlib.pyplot as plt\n",
    "import seaborn as sns\n",
    "import plotly.express as px"
   ]
  },
  {
   "cell_type": "markdown",
   "id": "3MzuEph_Z8Cg",
   "metadata": {
    "id": "3MzuEph_Z8Cg"
   },
   "source": [
    "* **Grafos**"
   ]
  },
  {
   "cell_type": "code",
   "execution_count": 6,
   "id": "-lxS1ncRZwDT",
   "metadata": {
    "executionInfo": {
     "elapsed": 10,
     "status": "ok",
     "timestamp": 1639141049807,
     "user": {
      "displayName": "Eneko Renteria Gabantxo",
      "photoUrl": "https://lh3.googleusercontent.com/a/default-user=s64",
      "userId": "11839893040904061534"
     },
     "user_tz": -60
    },
    "id": "-lxS1ncRZwDT"
   },
   "outputs": [],
   "source": [
    "import networkx as nx"
   ]
  },
  {
   "cell_type": "markdown",
   "id": "921c8285",
   "metadata": {},
   "source": [
    "- **Otros**"
   ]
  },
  {
   "cell_type": "code",
   "execution_count": 7,
   "id": "e484685c",
   "metadata": {},
   "outputs": [],
   "source": [
    "import itertools"
   ]
  },
  {
   "cell_type": "markdown",
   "id": "b09ab5c8",
   "metadata": {
    "id": "b09ab5c8"
   },
   "source": [
    "## Funciones a utilizar\n",
    "---"
   ]
  },
  {
   "cell_type": "code",
   "execution_count": 8,
   "metadata": {},
   "outputs": [],
   "source": [
    "dir_in, dir_out = \"../../datos/datos_originales/\", \"../../datos/datos_desarrollo/\"\n",
    "\n",
    "spark = SparkSession \\\n",
    "    .builder \\\n",
    "    .appName(\"how to read csv file\") \\\n",
    "    .getOrCreate()"
   ]
  },
  {
   "cell_type": "markdown",
   "id": "8ae999b7",
   "metadata": {
    "id": "8ae999b7"
   },
   "source": [
    "- Función para **dar nombre** a la variable **family_id** mediante la variable title"
   ]
  },
  {
   "cell_type": "code",
   "execution_count": 9,
   "id": "2b543aa1",
   "metadata": {
    "executionInfo": {
     "elapsed": 63,
     "status": "ok",
     "timestamp": 1639141056405,
     "user": {
      "displayName": "Eneko Renteria Gabantxo",
      "photoUrl": "https://lh3.googleusercontent.com/a/default-user=s64",
      "userId": "11839893040904061534"
     },
     "user_tz": -60
    },
    "id": "2b543aa1"
   },
   "outputs": [],
   "source": [
    "def get_family_name(id_):\n",
    "    \n",
    "    filtered = product.filter(product.family_id == id_)\n",
    "    string = ' '.join([x['title'] for x in filtered.select('title').collect()]).lower()\n",
    "    \n",
    "    return id_, Counter(string.split()).most_common(1)[0][0]"
   ]
  },
  {
   "cell_type": "markdown",
   "id": "ca1fe385",
   "metadata": {
    "id": "ca1fe385"
   },
   "source": [
    "- Función para crear los **sufijos** y facilitar el *join*"
   ]
  },
  {
   "cell_type": "code",
   "execution_count": 10,
   "id": "60cdbe9c",
   "metadata": {
    "executionInfo": {
     "elapsed": 63,
     "status": "ok",
     "timestamp": 1639141056407,
     "user": {
      "displayName": "Eneko Renteria Gabantxo",
      "photoUrl": "https://lh3.googleusercontent.com/a/default-user=s64",
      "userId": "11839893040904061534"
     },
     "user_tz": -60
    },
    "id": "60cdbe9c"
   },
   "outputs": [],
   "source": [
    "def rename_columns(df, suffix):\n",
    "    ''' Renombra las columnas de un dataframe.'''\n",
    "    for names in df.schema.names: df = df.withColumnRenamed(names,names + suffix)\n",
    "    return df"
   ]
  },
  {
   "cell_type": "markdown",
   "id": "20lh66ZdaJOU",
   "metadata": {
    "id": "20lh66ZdaJOU"
   },
   "source": [
    "* Función para conseguir valores únicos de una variable en *pyspark*"
   ]
  },
  {
   "cell_type": "code",
   "execution_count": 11,
   "id": "7e3KNGJEaGCt",
   "metadata": {
    "executionInfo": {
     "elapsed": 63,
     "status": "ok",
     "timestamp": 1639141056408,
     "user": {
      "displayName": "Eneko Renteria Gabantxo",
      "photoUrl": "https://lh3.googleusercontent.com/a/default-user=s64",
      "userId": "11839893040904061534"
     },
     "user_tz": -60
    },
    "id": "7e3KNGJEaGCt"
   },
   "outputs": [],
   "source": [
    "def get_value(dffs, variable):\n",
    "    return list(dffs.select(dffs[variable]).distinct().toPandas()[variable])"
   ]
  },
  {
   "cell_type": "markdown",
   "id": "fda1c70a",
   "metadata": {},
   "source": [
    "* Función que crea el grafo filtrando por temporada"
   ]
  },
  {
   "cell_type": "code",
   "execution_count": 21,
   "id": "61da94c7",
   "metadata": {},
   "outputs": [],
   "source": [
    "def sacar_productos(e, variable, tallas = False):\n",
    "    if tallas:\n",
    "        list_1 = df_para_filtrar[(df_para_filtrar[variable] == e[0]) | (df_para_filtrar[variable] == 'UNQ')].index.to_list()\n",
    "        list_2 = df_para_filtrar[(df_para_filtrar[variable] == e[1]) | (df_para_filtrar[variable] == 'UNQ')].index.to_list()\n",
    "    else:\n",
    "        list_1 = df_para_filtrar[df_para_filtrar[variable] == e[0]].index.to_list()\n",
    "        list_2 = df_para_filtrar[df_para_filtrar[variable] == e[1]].index.to_list()\n",
    "\n",
    "    return list(itertools.product(list_1, list_2))\n",
    "\n",
    "def create_graph(seasonality, pregancy):\n",
    "    \n",
    "    ##############\n",
    "    ##### DF #####  \n",
    "    ##############\n",
    "\n",
    "    ### Filtrar por temporada ###\n",
    "    df2 = df.filter(df.season == seasonality).filter(df.pregnant == pregancy)\n",
    "    \n",
    "    ### Conseguir variantes de productos únicos#####\n",
    "    vu_id_product = get_value(df2, 'id_product')\n",
    "    \n",
    "    ### Crear df para filtrar ###\n",
    "    df_para_filtrar = df_indices[df_indices[0].isin(vu_id_product)]\n",
    "    df_para_filtrar['family_product'] = pd.Series([e[0] for e in df_para_filtrar[0].str.split('_')])\n",
    "    df_para_filtrar['level'] = df_para_filtrar.family_product.map(niveles)\n",
    "    df_para_filtrar.columns = ['id_product', 'family_product', 'level']\n",
    "    \n",
    "    def sacar_productos(e, variable, tallas = False):\n",
    "        if tallas:\n",
    "            list_1 = df_para_filtrar[(df_para_filtrar[variable] == e[0]) | (df_para_filtrar[variable] == 'UNQ')].index.to_list()\n",
    "            list_2 = df_para_filtrar[(df_para_filtrar[variable] == e[1]) | (df_para_filtrar[variable] == 'UNQ')].index.to_list()\n",
    "\n",
    "            return list(itertools.product(list_1, list_2)) + list(itertools.combinations(list_1, 2)) + list(itertools.combinations(list_2, 2))\n",
    "        else:\n",
    "            list_1 = df_para_filtrar[df_para_filtrar[variable] == e[0]].index.to_list()\n",
    "            list_2 = df_para_filtrar[df_para_filtrar[variable] == e[1]].index.to_list()\n",
    "\n",
    "            return list(itertools.product(list_1, list_2))\n",
    "\n",
    "    #############\n",
    "    ### NODOS ###\n",
    "    #############\n",
    "\n",
    "    G = nx.Graph()\n",
    "    for i, v in enumerate(df_para_filtrar.index.tolist()):\n",
    "            G.add_node(v,\n",
    "                      color = vu_id_product[i].split('_')[1],\n",
    "                      size  = vu_id_product[i].split('_')[2],\n",
    "                      level = df_para_filtrar['level'][v])\n",
    "            \n",
    "    ###############        \n",
    "    ### ARISTAS ###\n",
    "    ###############\n",
    "\n",
    "    ### Aristas - Tallas ###\n",
    "    df_para_filtrar['talla'] = df_para_filtrar['id_product'].apply(lambda x:x.split('_')[-1])\n",
    "    orden_tallas = ['XXS', 'XS', 'S', 'M', 'L', 'XL', 'XXL', 'XXXL','X4XL']\n",
    "                \n",
    "    combinaciones_tallas_letra = []\n",
    "    for i in range(1, len(orden_tallas)): combinaciones_tallas_letra += [(orden_tallas[i - 1], orden_tallas[i])]\n",
    "    combinaciones_talla = list(map(sacar_productos, combinaciones_tallas_letra, ['talla'], [True]))[0]\n",
    "    combinaciones_talla = list(set(combinaciones_talla))\n",
    "    \n",
    "    ### Aristas - Level ###\n",
    "    levels = get_value(df2.filter(df2.id_product.isin(vu_id_product)), 'level')\n",
    "    levels.sort()\n",
    "    tods = list(itertools.combinations(levels, 2))\n",
    "    tods.sort()\n",
    "    tods += [('3.2', '3.2')]\n",
    "    try: \n",
    "        tods.remove(('1.1', '1.2'))\n",
    "    except: pass    \n",
    "\n",
    "    combinaciones_level = list(map(sacar_productos, tods, ['level']))[0]\n",
    "    \n",
    "    ### Se añaden todas las aristas ###\n",
    "    G.add_edges_from(list(set(combinaciones_level + combinaciones_talla)))\n",
    "\n",
    "    ### Se empieza poniendo un peso de 0 a todas las aristas ###\n",
    "    for x in G.edges(): G[x[0]][x[1]]['weight'] = 1\n",
    "    return G"
   ]
  },
  {
   "cell_type": "markdown",
   "metadata": {},
   "source": [
    "### Cargar datos\n",
    "---"
   ]
  },
  {
   "cell_type": "code",
   "execution_count": 13,
   "metadata": {},
   "outputs": [],
   "source": [
    "df = spark.read.csv(dir_out + 'lookiero_*.csv', header=True, inferSchema=True)\n",
    "df_total = spark.read.csv(dir_out + 'df_total.csv', header=True, inferSchema=True)\n",
    "df_indices = pd.DataFrame(get_value(df, 'id_product'))"
   ]
  },
  {
   "cell_type": "code",
   "execution_count": 14,
   "metadata": {},
   "outputs": [],
   "source": [
    "embarazadas = get_value(df.filter((df.value == \"pregnancy\") | (df.value == \"breastfeeding\")), 'id_product')\n",
    "df = df.withColumn(\"level\",col(\"level\").cast(StringType()))\n",
    "df = df.withColumn(\"pregnant\", when(df.id_product.isin(embarazadas),1).otherwise(0))"
   ]
  },
  {
   "cell_type": "code",
   "execution_count": 15,
   "metadata": {},
   "outputs": [
    {
     "name": "stdout",
     "output_type": "stream",
     "text": [
      "+--------------------+------+-----+-----------+-------------+-----+------------------+--------------+----------+-------------+-----+------------+---------------+--------------------+------------------+-----+--------+\n",
      "|                  id|season|stock|publishable|size_lookiero|color|        id_product|family_product|name_brand| origin_brand|value|name_feature|multiple_values|      feature_family|id_product_feature|level|pregnant|\n",
      "+--------------------+------+-----+-----------+-------------+-----+------------------+--------------+----------+-------------+-----+------------+---------------+--------------------+------------------+-----+--------+\n",
      "|498662e5-11e8-483...|     8|    0|       true|            M| ecru| cardigan_ecru_M_8|      cardigan|  BRAND112|NO_MAINSTREAM|   55| hip_contour|          false|c6b81db8-29ed-43d...|    hip_contour_55|  2.2|       0|\n",
      "|dcda2fe4-58e3-4b2...|     8|    0|       true|            S| ecru| cardigan_ecru_S_8|      cardigan|  BRAND112|NO_MAINSTREAM|   55| hip_contour|          false|c6b81db8-29ed-43d...|    hip_contour_55|  2.2|       0|\n",
      "|d54e064c-9f90-4ea...|     8|    0|       true|            L| ecru| cardigan_ecru_L_8|      cardigan|  BRAND112|NO_MAINSTREAM|   55| hip_contour|          false|c6b81db8-29ed-43d...|    hip_contour_55|  2.2|       0|\n",
      "|3112fc7f-5b4d-4c3...|     8|    0|       true|            S|brown|cardigan_brown_S_8|      cardigan|  BRAND112|NO_MAINSTREAM|   55| hip_contour|          false|c6b81db8-29ed-43d...|    hip_contour_55|  2.2|       0|\n",
      "|96cf8feb-0b2b-49e...|     8|    0|       true|            L|brown|cardigan_brown_L_8|      cardigan|  BRAND112|NO_MAINSTREAM|   55| hip_contour|          false|c6b81db8-29ed-43d...|    hip_contour_55|  2.2|       0|\n",
      "+--------------------+------+-----+-----------+-------------+-----+------------------+--------------+----------+-------------+-----+------------+---------------+--------------------+------------------+-----+--------+\n",
      "only showing top 5 rows\n",
      "\n"
     ]
    }
   ],
   "source": [
    "df.show(5)"
   ]
  },
  {
   "cell_type": "markdown",
   "id": "9bab4bf8",
   "metadata": {},
   "source": [
    "### Grafo\n",
    "---"
   ]
  },
  {
   "cell_type": "markdown",
   "metadata": {},
   "source": [
    "* Reglas de unión grafos"
   ]
  },
  {
   "cell_type": "code",
   "execution_count": 15,
   "metadata": {},
   "outputs": [],
   "source": [
    "niveles = {'jumpsuit': '1.1', \n",
    "           'dress': '1.1',\n",
    "           \n",
    "           'jeans': '1.2',\n",
    "           'skirt': '1.2',\n",
    "           'short': '1.2',\n",
    "           'pant': '1.2',\n",
    "          \n",
    "           'shirt': '2.1',\n",
    "           'top': '2.1',\n",
    "           'tshirt': '2.1',\n",
    "          \n",
    "           'sweater': '2.2',\n",
    "           'sweatshirt': '2.2',\n",
    "           'cardigan': '2.2',\n",
    "          \n",
    "           'trench': '3.1',\n",
    "           'coat': '3.1',\n",
    "           'parka': '3.1',\n",
    "           'jacket': '3.1',\n",
    "          \n",
    "           'bag': '3.2',\n",
    "           'scarf': '3.2'}"
   ]
  },
  {
   "cell_type": "markdown",
   "id": "29a3a56f",
   "metadata": {
    "id": "29a3a56f"
   },
   "source": [
    "* Ponderaciones de relaciones"
   ]
  },
  {
   "cell_type": "code",
   "execution_count": 22,
   "metadata": {},
   "outputs": [
    {
     "name": "stdout",
     "output_type": "stream",
     "text": [
      "(7, 0)\n",
      "(7, 1)\n",
      "(8, 0)\n",
      "(8, 1)\n",
      "(9, 0)\n",
      "(9, 1)\n"
     ]
    }
   ],
   "source": [
    "graph, combinaciones = [], list(itertools.product([7, 8, 9], [0, 1]))\n",
    "for x in combinaciones:\n",
    "    print(x)\n",
    "    G = create_graph(x[0], x[1])\n",
    "    graph.append(G)"
   ]
  },
  {
   "cell_type": "code",
   "execution_count": 23,
   "metadata": {},
   "outputs": [],
   "source": [
    "G7, G7_pregnant, G8, G8_pregnant,G9, G9_pregnant = graph[0], graph[1], graph[2], graph[3], graph[4], graph[5]\n",
    "G7.name, G8.name, G9.name, G7_pregnant.name, G8_pregnant.name, G9_pregnant.name = 'G7', 'G8', 'G9', 'G7_pregnant', 'G8_pregnant', 'G9_pregnant'"
   ]
  },
  {
   "cell_type": "code",
   "execution_count": 49,
   "id": "e9b1c083",
   "metadata": {},
   "outputs": [
    {
     "ename": "ValueError",
     "evalue": "not enough values to unpack (expected 6, got 2)",
     "output_type": "error",
     "traceback": [
      "\u001b[1;31m---------------------------------------------------------------------------\u001b[0m",
      "\u001b[1;31mValueError\u001b[0m                                Traceback (most recent call last)",
      "\u001b[1;32m~\\AppData\\Local\\Temp/ipykernel_4008/3113328646.py\u001b[0m in \u001b[0;36m<module>\u001b[1;34m\u001b[0m\n\u001b[1;32m----> 1\u001b[1;33m \u001b[0mG7\u001b[0m\u001b[1;33m,\u001b[0m \u001b[0mG8\u001b[0m\u001b[1;33m,\u001b[0m \u001b[0mG9\u001b[0m\u001b[1;33m,\u001b[0m \u001b[0mG7_pregnant\u001b[0m\u001b[1;33m,\u001b[0m \u001b[0mG8_pregnant\u001b[0m\u001b[1;33m,\u001b[0m \u001b[0mG9_pregnant\u001b[0m \u001b[1;33m=\u001b[0m \u001b[0mmap\u001b[0m\u001b[1;33m(\u001b[0m\u001b[0mcreate_graph\u001b[0m\u001b[1;33m,\u001b[0m \u001b[1;33m[\u001b[0m\u001b[1;36m7\u001b[0m\u001b[1;33m,\u001b[0m \u001b[1;36m8\u001b[0m\u001b[1;33m,\u001b[0m \u001b[1;36m9\u001b[0m\u001b[1;33m]\u001b[0m\u001b[1;33m,\u001b[0m \u001b[1;33m[\u001b[0m\u001b[1;36m0\u001b[0m\u001b[1;33m,\u001b[0m \u001b[1;36m1\u001b[0m\u001b[1;33m]\u001b[0m\u001b[1;33m)\u001b[0m\u001b[1;33m\u001b[0m\u001b[1;33m\u001b[0m\u001b[0m\n\u001b[0m\u001b[0;32m      2\u001b[0m \u001b[0mG7\u001b[0m\u001b[1;33m.\u001b[0m\u001b[0mname\u001b[0m\u001b[1;33m,\u001b[0m \u001b[0mG8\u001b[0m\u001b[1;33m.\u001b[0m\u001b[0mname\u001b[0m\u001b[1;33m,\u001b[0m \u001b[0mG9\u001b[0m\u001b[1;33m.\u001b[0m\u001b[0mname\u001b[0m\u001b[1;33m,\u001b[0m \u001b[0mG7_pregnant\u001b[0m\u001b[1;33m.\u001b[0m\u001b[0mname\u001b[0m\u001b[1;33m,\u001b[0m \u001b[0mG8_pregnant\u001b[0m\u001b[1;33m.\u001b[0m\u001b[0mname\u001b[0m\u001b[1;33m,\u001b[0m \u001b[0mG9_pregnant\u001b[0m\u001b[1;33m.\u001b[0m\u001b[0mname\u001b[0m \u001b[1;33m=\u001b[0m \u001b[1;34m'G7'\u001b[0m\u001b[1;33m,\u001b[0m \u001b[1;34m'G8'\u001b[0m\u001b[1;33m,\u001b[0m \u001b[1;34m'G9'\u001b[0m\u001b[1;33m,\u001b[0m \u001b[1;34m'G7_pregnant'\u001b[0m\u001b[1;33m,\u001b[0m \u001b[1;34m'G8_pregnant'\u001b[0m\u001b[1;33m,\u001b[0m \u001b[1;34m'G9_pregnant'\u001b[0m\u001b[1;33m\u001b[0m\u001b[1;33m\u001b[0m\u001b[0m\n",
      "\u001b[1;31mValueError\u001b[0m: not enough values to unpack (expected 6, got 2)"
     ]
    }
   ],
   "source": [
    "G7, G8, G9, G7_pregnant, G8_pregnant, G9_pregnant = map(create_graph, [7, 8, 9], [0, 1])\n",
    "G7.name, G8.name, G9.name, G7_pregnant.name, G8_pregnant.name, G9_pregnant.name = 'G7', 'G8', 'G9', 'G7_pregnant', 'G8_pregnant', 'G9_pregnant'"
   ]
  },
  {
   "cell_type": "code",
   "execution_count": 95,
   "metadata": {},
   "outputs": [
    {
     "data": {
      "text/plain": [
       "2687"
      ]
     },
     "execution_count": 95,
     "metadata": {},
     "output_type": "execute_result"
    }
   ],
   "source": [
    "F = nx.compose(G7,G7_pregnant)\n",
    "F.number_of_nodes() "
   ]
  },
  {
   "cell_type": "raw",
   "id": "efbc49d2",
   "metadata": {},
   "source": [
    "guardar_pikle(G7, 'G7'), guardar_pikle(G8, 'G8'), guardar_pikle(G9, 'G9')"
   ]
  },
  {
   "cell_type": "markdown",
   "metadata": {},
   "source": [
    "---"
   ]
  },
  {
   "cell_type": "code",
   "execution_count": 26,
   "id": "755e9228",
   "metadata": {},
   "outputs": [
    {
     "data": {
      "image/png": "[encoded data removed]",
      "text/plain": [
       "<Figure size 432x288 with 1 Axes>"
      ]
     },
     "metadata": {},
     "output_type": "display_data"
    }
   ],
   "source": [
    "nx.draw(target, with_labels = True)"
   ]
  },
  {
   "cell_type": "markdown",
   "metadata": {},
   "source": [
    "---"
   ]
  }
 ],
 "metadata": {
  "interpreter": {
   "hash": "8eb729d9847d079dc3a83fb04234ab0b883f85e4ec6aa38230e8b7f84fe4a950"
  },
  "kernelspec": {
   "display_name": "Python 3.8.5 64-bit ('reto10_rojo': conda)",
   "language": "python",
   "name": "python3"
  },
  "language_info": {
   "codemirror_mode": {
    "name": "ipython",
    "version": 3
   },
   "file_extension": ".py",
   "mimetype": "text/x-python",
   "name": "python",
   "nbconvert_exporter": "python",
   "pygments_lexer": "ipython3",
   "version": "3.8.5"
  },
  "orig_nbformat": 4
 },
 "nbformat": 4,
 "nbformat_minor": 2
}
