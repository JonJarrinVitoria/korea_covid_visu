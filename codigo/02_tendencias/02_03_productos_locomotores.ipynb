{
 "cells": [
  {
   "cell_type": "markdown",
   "id": "3785ff23",
   "metadata": {},
   "source": [
    "<center> \n",
    "<img src=\"https://upload.wikimedia.org/wikipedia/commons/5/5c/Logo_Mondragon_Unibertsitatea.png\" width=\"150\" height=\"100\" float =\"left\">\n",
    "<img src=\"data:image/png;base64,iVBORw0KGgoAAAANSUhEUgAAAPIAAADQCAMAAAAK0syrAAAAgVBMVEX///8AAAD7+/t6enrV1dWYmJjj4+Po6OjQ0NDx8fGIiIjq6ur39/fv7+/09PTf39+vr69xcXHGxsa5ubmfn59paWmnp6eTk5M8PDxZWVm9vb1eXl5ubm7BwcEzMzOHh4cnJycdHR0TExNPT09FRUUYGBhaWlpEREQ4ODgqKipjY2MMKFclAAAEmElEQVR4nO3ZaXOyPBQGYG52VzbFfQO1tf//Bz5JqArYzvSd8IK29/Whg4ymJyQ5WTAMIiIiIiIiIiIiIiIiIiIiIiIiIiIiIiIiIiIiIiIiIiIiIiKiXyXYdB1B2yxg0nUM7VoBWHcdRKumiO2/1cozbIwQQddhtMhH3zDO6DqMFpnYGsYYTtdxtGiKkWHs0Os6jvb4SA1jhGnXcbRoL7q1kcPrOo72JHANka6truNokazsGH8pXacwDeMNftdxtEjOTX3MdIrworipaNowET16g4VWGXvYDUXTCjFBBXIloiHU6yNtm8HwcDC1ynit1Gci7GGvV+PwtXZgMwSYa5YB6D2ylgH40Cyij10jobQkhXa8Lmor1WR/S/+2P9QsvXEBsNQtY4u8/DE+wHI/rzd4uv3oBPprrj5QWoaICjulge2FI93yG9WbN3C+F6M0Q9nbp2vVihRRqn3YNcK97wZ5MxU2jeR/OVC3T6JPL7SXEJmocnGW4p7l8Zm2wS5aA1EDJdULXqj4tLP129zEWV4EC6zqw3ZQydaelVuPfcq03crHqdy6zxp5eBWjCIuBIc9/NPc/K5i23FD4C6wfjlQmyEqfQsBaVKaHvhgGlugkSG63bNUGNrDXi6vOXeOteNwp9GbNHCNR63hzAeaPJ4WV2SDFxRSPuLT78ETuPItnHhxw/GzpQC1cZzjhoBVXjZ8jv270rB8P5SB10tivbhA9bE25DrmyqqtOq3ywJL42NHoZxvdbB/kb1cvEVJkve+qWvbQwFVVvbiz3ROnRffDk7z/7meiUKsByfjd3Kj1PcViqqoq+XTkT7pcX3l6GhR/hXOpUC1nedTcSi4yl/sV+HYpCjo29NVnmQFpuisNPzgWGM8gj3yUsb4fT8BbjWlZwUNqSTHC6/0rU6NbI40g9r6jcSXJ5p7xqG3oDBxd1GTW0+15+iCBqRxff9h/Pes+wSkbmQP5MtYWqgdyD7PrRu5iLiy5qlU9DrNsGxYPIS2Fx7Voi/75Vj09tzEWOQj3FA33T9OcNzO4j3zmK+j4uLb+bo0LZBPtihB6LfBqh+LuyVqtdeM3O4+ppykV2B0O2dyI69lFcDSYH7Mayjtl9PMVH+T08zkQj1fYfbv3+z02BbLtVcTtfDo5vquxAheOLlHtNN+Mivkst3/VLE4yhlmLis53Jpu8VT2xbPAS5Ll0lgRvETo6tav9088Um23Q1Xx/44WTmhPG3pXx9WC/GbjFCrXsWWapuWn//bNYPgMRT+phfW2+ThuWtY7JSfWeaDv5bJZr15Vh2EDvFOLRwiy5RGeXw0Mj1PGMv8tlTv8vD6vFeKBYQoZov3VInGIsuuzyh2kAuXu9VZfY4LydyNIYyZ/qVo225R6w3afiZrV7J40YqVF1apJ7JtPml/TOY1d8xTD7X/fY8izSmiifm11J2/w+8issqCyC1V/3tNqUl8vhS3uf8XtZtaZ98NWP9SmKpFQ6NYbLXP89+GcGHXAeeXm+G1RIET/cWhYiIiIiIiIiIiIiIiIiIiIiIiIiIiIiIiIiIiIiIiIiIiIiIiIiIqFn/AA1nKx7ECwr8AAAAAElFTkSuQmCC\" width=\"200\" height=\"120\" float =\"left\">    \n",
    "\n",
    "\n",
    "---\n",
    "<h3>Beñat Basabe, Jon Jarrín, June Pagaldai, Daniel Puente, Eneko Rentería | <font color='red'> Equipo Rojo<h3>"
   ]
  },
  {
   "cell_type": "markdown",
   "id": "ca35ee8f",
   "metadata": {},
   "source": [
    "## Productos locomotores - Tendencias de marketing\n",
    "En este script se detallarán los descriptivos obtenidos de este primer análisis. Tareas como detectar **cantidad de valores missing** o **outliers** entre otros."
   ]
  },
  {
   "cell_type": "markdown",
   "id": "a973f241",
   "metadata": {},
   "source": [
    "### Carga de librerias \n",
    "---"
   ]
  },
  {
   "cell_type": "markdown",
   "id": "6bb56c0d",
   "metadata": {},
   "source": [
    "- **General**"
   ]
  },
  {
   "cell_type": "code",
   "execution_count": 21,
   "id": "a171384c",
   "metadata": {
    "collapsed": true
   },
   "outputs": [],
   "source": [
    "import pandas as pd\n",
    "import glob\n",
    "import os\n",
    "import pickle \n",
    "import numpy as np\n",
    "import itertools\n",
    "from itertools import chain\n",
    "\n",
    "def guardar_pikle(df, name):\n",
    "    with open(dir_out + str(name) + '.pkl', 'wb') as fp: pickle.dump(df, fp)\n",
    "\n",
    "def abrir_pikle(name):\n",
    "    with open(dir_out + str(name) + '.pkl', 'rb') as fp: df = pickle.load(fp)\n",
    "    return df"
   ]
  },
  {
   "cell_type": "markdown",
   "id": "4762e2ad",
   "metadata": {},
   "source": [
    "- **Pyspark**"
   ]
  },
  {
   "cell_type": "code",
   "execution_count": 22,
   "id": "ac3b2aa2",
   "metadata": {
    "scrolled": true
   },
   "outputs": [],
   "source": [
    "import pyspark\n",
    "from pyspark.sql import SparkSession\n",
    "import pyspark.sql.functions as f\n",
    "from pyspark.sql.functions import split, lit"
   ]
  },
  {
   "cell_type": "markdown",
   "id": "886e4a1b",
   "metadata": {},
   "source": [
    "* **Visualización**"
   ]
  },
  {
   "cell_type": "code",
   "execution_count": 23,
   "id": "e154dd38",
   "metadata": {
    "scrolled": true
   },
   "outputs": [],
   "source": [
    "import matplotlib.pyplot as plt"
   ]
  },
  {
   "cell_type": "markdown",
   "id": "7aec85ca",
   "metadata": {},
   "source": [
    "### Clases a utilizar\n",
    "---"
   ]
  },
  {
   "cell_type": "markdown",
   "id": "2402dcea",
   "metadata": {},
   "source": [
    "* Clase para **cargar de datos** (cd)"
   ]
  },
  {
   "cell_type": "markdown",
   "id": "a3b4d825",
   "metadata": {},
   "source": [
    "Se fijan los **directorios** de entrada y salida"
   ]
  },
  {
   "cell_type": "code",
   "execution_count": 24,
   "id": "42529f05",
   "metadata": {
    "scrolled": true
   },
   "outputs": [],
   "source": [
    "dir_in, dir_out = \"../../datos/datos_originales/\", \"../../datos/datos_desarrollo/\"\n",
    "\n",
    "spark = SparkSession \\\n",
    "    .builder \\\n",
    "    .appName(\"how to read csv file\") \\\n",
    "    .getOrCreate()"
   ]
  },
  {
   "cell_type": "code",
   "execution_count": 25,
   "id": "c71aac91",
   "metadata": {
    "scrolled": true
   },
   "outputs": [],
   "source": [
    "class carga_datos:\n",
    "    ''' Cargar los datos desde el csv al python:\n",
    "    - subir_tablas: se suben los dataframes con los titulos deseados. Como input: una lista de dfs y una lista de titulos.\n",
    "    - subir_una_tabla: como input se especifica la tabla a subir.\n",
    "    '''\n",
    "    def __init__(self, dir_in = dir_in):\n",
    "        self.dir_in = dir_in\n",
    "        \n",
    "    def subir_tablas(self, dir_in):\n",
    "        path = os.getcwd()\n",
    "        csv_files, dataframes_list = glob.glob(os.path.join(path, dir_in + \"*.csv\")), []\n",
    "\n",
    "        for i in csv_files:\n",
    "            temp_df = spark.read.csv(path = i, header = True, inferSchema = True)\n",
    "            dataframes_list.append(temp_df)\n",
    "        \n",
    "        return dataframes_list\n",
    "    \n",
    "    def subir_una_tabla(self, dir_in, nombre_tabla):\n",
    "        return spark.read.csv(os.path.join(dir_in, nombre_tabla + \".csv\"), header = True)"
   ]
  },
  {
   "cell_type": "code",
   "execution_count": 26,
   "id": "94e0e31b",
   "metadata": {
    "scrolled": true
   },
   "outputs": [],
   "source": [
    "cd = carga_datos ()"
   ]
  },
  {
   "cell_type": "markdown",
   "id": "d7c75251",
   "metadata": {},
   "source": [
    "### Datos a utlilizar\n",
    "---"
   ]
  },
  {
   "cell_type": "code",
   "execution_count": 27,
   "id": "4332958f",
   "metadata": {},
   "outputs": [],
   "source": [
    "df_envios = abrir_pikle('df_envios')\n",
    "df_indices = pd.read_csv(dir_out + 'df_indices.csv')\n",
    "df_indices['prenda'] = df_indices['0'].apply(lambda x: x.split('_')[0])\n",
    "df_indices.reset_index(inplace=True)\n",
    "\n",
    "productos_finales = df_envios.merge(df_indices, left_on='id_variant', right_on='0')\n",
    "productos_finales['tasa_aceptacion'] = productos_finales['ventas']/productos_finales['envios']\n",
    "productos_finales.sort_values(by=['index'], ascending=True, inplace=True)\n",
    "productos_finales.fillna(0, inplace=True)\n",
    "productos_finales['season'] = productos_finales['id_variant'].apply(lambda x: x.split('_')[3])"
   ]
  },
  {
   "cell_type": "code",
   "execution_count": 28,
   "id": "4624b841",
   "metadata": {},
   "outputs": [],
   "source": [
    "looks_array_G7 = abrir_pikle('looks_array_G7')\n",
    "looks_array_G8 = abrir_pikle('looks_array_G8')\n",
    "looks_array_G9 = abrir_pikle('looks_array_G9')\n",
    "\n",
    "G7 = abrir_pikle('G7')\n",
    "G8 = abrir_pikle('G8')\n",
    "G9 = abrir_pikle('G9')"
   ]
  },
  {
   "cell_type": "markdown",
   "id": "e6bfa88c",
   "metadata": {},
   "source": [
    "### Prendas más influyentes en los looks\n",
    "---"
   ]
  },
  {
   "cell_type": "code",
   "execution_count": 29,
   "id": "893de518",
   "metadata": {},
   "outputs": [
    {
     "name": "stdout",
     "output_type": "stream",
     "text": [
      "===========================\n",
      "367636\n",
      "%%% 5.128492711166911\n",
      "[16389 'pant_bluedark_XS_7_classic_smooth_NOPREMIUM' 'pant']\n",
      "===========================\n",
      "457339\n",
      "%%% 5.345368054419224\n",
      "[5 'jacket_grey_S_8_classic.minimal_smooth_NOPREMIUM' 'jacket']\n",
      "===========================\n",
      "479199\n",
      "%%% 4.067454355631382\n",
      "[16384 'sweatshirt_bluedark_XS_9_casual.street_smooth_NOPREMIUM'\n",
      " 'sweatshirt']\n"
     ]
    }
   ],
   "source": [
    "def printer_resultadoo(look):\n",
    "    lista_looks = list(chain.from_iterable(look[:,1]))\n",
    "    pos = np.argmax(np.unique(lista_looks, return_counts=True)[1])\n",
    "    value = np.max(np.unique(lista_looks, return_counts=True)[1])\n",
    "    print('===========================')\n",
    "    print(len(look))\n",
    "    print('%%%',len(look) / value)\n",
    "    print(df_indices.iloc[ np.unique(lista_looks, return_counts=True)[0][pos]  ,:].values)\n",
    "    return len(look) / value\n",
    "    \n",
    "percentaje7 = printer_resultadoo(looks_array_G7)\n",
    "percentaje8 = printer_resultadoo(looks_array_G8)\n",
    "percentaje9 = printer_resultadoo(looks_array_G9)"
   ]
  },
  {
   "cell_type": "markdown",
   "id": "02d6bcbc",
   "metadata": {},
   "source": [
    "### Prendas sobre las que más se influye\n",
    "---"
   ]
  },
  {
   "cell_type": "code",
   "execution_count": 30,
   "id": "42771ca9",
   "metadata": {},
   "outputs": [
    {
     "data": {
      "text/html": [
       "<div>\n",
       "<style scoped>\n",
       "    .dataframe tbody tr th:only-of-type {\n",
       "        vertical-align: middle;\n",
       "    }\n",
       "\n",
       "    .dataframe tbody tr th {\n",
       "        vertical-align: top;\n",
       "    }\n",
       "\n",
       "    .dataframe thead th {\n",
       "        text-align: right;\n",
       "    }\n",
       "</style>\n",
       "<table border=\"1\" class=\"dataframe\">\n",
       "  <thead>\n",
       "    <tr style=\"text-align: right;\">\n",
       "      <th></th>\n",
       "      <th>id_variant</th>\n",
       "      <th>envios</th>\n",
       "      <th>ventas</th>\n",
       "      <th>index</th>\n",
       "      <th>0</th>\n",
       "      <th>prenda</th>\n",
       "      <th>tasa_aceptacion</th>\n",
       "      <th>season</th>\n",
       "    </tr>\n",
       "  </thead>\n",
       "  <tbody>\n",
       "    <tr>\n",
       "      <th>9704</th>\n",
       "      <td>top_ecru_XS_7_boho_smooth_NOPREMIUM</td>\n",
       "      <td>254320</td>\n",
       "      <td>104456</td>\n",
       "      <td>9730</td>\n",
       "      <td>top_ecru_XS_7_boho_smooth_NOPREMIUM</td>\n",
       "      <td>top</td>\n",
       "      <td>0.410727</td>\n",
       "      <td>7</td>\n",
       "    </tr>\n",
       "    <tr>\n",
       "      <th>9827</th>\n",
       "      <td>tshirt_ecru_S_7_casual.classic_smooth_NOPREMIUM</td>\n",
       "      <td>228096</td>\n",
       "      <td>101376</td>\n",
       "      <td>9853</td>\n",
       "      <td>tshirt_ecru_S_7_casual.classic_smooth_NOPREMIUM</td>\n",
       "      <td>tshirt</td>\n",
       "      <td>0.444444</td>\n",
       "      <td>7</td>\n",
       "    </tr>\n",
       "    <tr>\n",
       "      <th>9817</th>\n",
       "      <td>cardigan_orange_M_7_boho.classic_smooth_NOPREMIUM</td>\n",
       "      <td>300058</td>\n",
       "      <td>143506</td>\n",
       "      <td>9843</td>\n",
       "      <td>cardigan_orange_M_7_boho.classic_smooth_NOPREMIUM</td>\n",
       "      <td>cardigan</td>\n",
       "      <td>0.478261</td>\n",
       "      <td>7</td>\n",
       "    </tr>\n",
       "  </tbody>\n",
       "</table>\n",
       "</div>"
      ],
      "text/plain": [
       "                                             id_variant  envios  ventas  \\\n",
       "9704                top_ecru_XS_7_boho_smooth_NOPREMIUM  254320  104456   \n",
       "9827    tshirt_ecru_S_7_casual.classic_smooth_NOPREMIUM  228096  101376   \n",
       "9817  cardigan_orange_M_7_boho.classic_smooth_NOPREMIUM  300058  143506   \n",
       "\n",
       "      index                                                  0    prenda  \\\n",
       "9704   9730                top_ecru_XS_7_boho_smooth_NOPREMIUM       top   \n",
       "9827   9853    tshirt_ecru_S_7_casual.classic_smooth_NOPREMIUM    tshirt   \n",
       "9817   9843  cardigan_orange_M_7_boho.classic_smooth_NOPREMIUM  cardigan   \n",
       "\n",
       "      tasa_aceptacion season  \n",
       "9704         0.410727      7  \n",
       "9827         0.444444      7  \n",
       "9817         0.478261      7  "
      ]
     },
     "execution_count": 30,
     "metadata": {},
     "output_type": "execute_result"
    }
   ],
   "source": [
    "indices = list(productos_finales[productos_finales['season']=='7'].sort_values(by=['ventas'], ascending=False).head(20)['index'])\n",
    "vecinos = [list(G7.neighbors(x)) for x in indices]\n",
    "vecinos = list(chain.from_iterable(vecinos))\n",
    "pos = np.argmax(np.unique(vecinos, return_counts=True)[1])\n",
    "value = np.max(np.unique(vecinos, return_counts=True)[1])\n",
    "\n",
    "vecinos_popualares = pd.DataFrame(np.unique(vecinos, return_counts=True)[0])\n",
    "vecinos_popualares['count'] = np.unique(vecinos, return_counts=True)[1]\n",
    "\n",
    "lista_vecinos_de_top = list(vecinos_popualares.sort_values(by=['count'], ascending=False)[0][1:4].values)\n",
    "lista_vecinos_de_top = [int(x) for x in lista_vecinos_de_top]\n",
    "\n",
    "productos_finales.iloc[lista_vecinos_de_top,]"
   ]
  },
  {
   "cell_type": "code",
   "execution_count": 36,
   "id": "3d9d5221",
   "metadata": {},
   "outputs": [],
   "source": [
    "percentaje = [percentaje7, percentaje8, percentaje9]\n",
    "axis = ['Verano','Invierno','Primevera-Otoño']\n",
    "colores = ['#264653','#85CAC2','#E76F51']"
   ]
  },
  {
   "cell_type": "markdown",
   "id": "f748c399",
   "metadata": {},
   "source": [
    "### Reprensetación de los datos\n",
    "---"
   ]
  },
  {
   "cell_type": "code",
   "execution_count": 37,
   "id": "e89e7a9e",
   "metadata": {},
   "outputs": [
    {
     "name": "stderr",
     "output_type": "stream",
     "text": [
      "C:\\Users\\Daniel\\AppData\\Local\\Temp/ipykernel_2688/3454547513.py:12: UserWarning: Matplotlib is currently using module://matplotlib_inline.backend_inline, which is a non-GUI backend, so cannot show the figure.\n",
      "  fig.show()\n"
     ]
    },
    {
     "data": {
      "image/png": "[encoded data removed]",
      "text/plain": [
       "<Figure size 1440x720 with 1 Axes>"
      ]
     },
     "metadata": {
      "needs_background": "light"
     },
     "output_type": "display_data"
    }
   ],
   "source": [
    "\n",
    "fig, ax = plt.subplots(figsize = (20, 10))\n",
    "ax.bar(axis, percentaje, color = colores)\n",
    "\n",
    "ax.set_title(f'Productos más influyentes', color = 'k', weight = 'bold', fontsize = 15)\n",
    "ax.set_xlabel('Estaciones', color = 'k', weight = 'bold', fontsize = 15) \n",
    "ax.set_ylabel('Porcentaje', color = 'k', weight = 'bold', fontsize = 15)\n",
    "\n",
    "plt.yticks(rotation=90)\n",
    "\n",
    "for p in ax.patches:\n",
    "    ax.annotate(format(p.get_height(), '.1f'), (p.get_x() + p.get_width() / 2., p.get_height()), ha = 'center', va = 'center', xytext = (0, 10), textcoords = 'offset points', fontsize=15)\n",
    "fig.show()"
   ]
  },
  {
   "cell_type": "markdown",
   "id": "45cf092d",
   "metadata": {},
   "source": [
    "---"
   ]
  }
 ],
 "metadata": {
  "kernelspec": {
   "display_name": "Python 3 (ipykernel)",
   "language": "python",
   "name": "python3"
  },
  "language_info": {
   "codemirror_mode": {
    "name": "ipython",
    "version": 3
   },
   "file_extension": ".py",
   "mimetype": "text/x-python",
   "name": "python",
   "nbconvert_exporter": "python",
   "pygments_lexer": "ipython3",
   "version": "3.8.5"
  }
 },
 "nbformat": 4,
 "nbformat_minor": 5
}
