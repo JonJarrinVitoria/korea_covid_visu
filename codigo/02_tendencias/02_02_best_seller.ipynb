{
 "cells": [
  {
   "cell_type": "markdown",
   "id": "3785ff23",
   "metadata": {},
   "source": [
    "<center> \n",
    "<img src=\"https://upload.wikimedia.org/wikipedia/commons/5/5c/Logo_Mondragon_Unibertsitatea.png\" width=\"150\" height=\"100\" float =\"left\">\n",
    "<img src=\"data:image/png;base64,iVBORw0KGgoAAAANSUhEUgAAAPIAAADQCAMAAAAK0syrAAAAgVBMVEX///8AAAD7+/t6enrV1dWYmJjj4+Po6OjQ0NDx8fGIiIjq6ur39/fv7+/09PTf39+vr69xcXHGxsa5ubmfn59paWmnp6eTk5M8PDxZWVm9vb1eXl5ubm7BwcEzMzOHh4cnJycdHR0TExNPT09FRUUYGBhaWlpEREQ4ODgqKipjY2MMKFclAAAEmElEQVR4nO3ZaXOyPBQGYG52VzbFfQO1tf//Bz5JqArYzvSd8IK29/Whg4ymJyQ5WTAMIiIiIiIiIiIiIiIiIiIiIiIiIiIiIiIiIiIiIiIiIiIiIiKiXyXYdB1B2yxg0nUM7VoBWHcdRKumiO2/1cozbIwQQddhtMhH3zDO6DqMFpnYGsYYTtdxtGiKkWHs0Os6jvb4SA1jhGnXcbRoL7q1kcPrOo72JHANka6truNokazsGH8pXacwDeMNftdxtEjOTX3MdIrworipaNowET16g4VWGXvYDUXTCjFBBXIloiHU6yNtm8HwcDC1ynit1Gci7GGvV+PwtXZgMwSYa5YB6D2ylgH40Cyij10jobQkhXa8Lmor1WR/S/+2P9QsvXEBsNQtY4u8/DE+wHI/rzd4uv3oBPprrj5QWoaICjulge2FI93yG9WbN3C+F6M0Q9nbp2vVihRRqn3YNcK97wZ5MxU2jeR/OVC3T6JPL7SXEJmocnGW4p7l8Zm2wS5aA1EDJdULXqj4tLP129zEWV4EC6zqw3ZQydaelVuPfcq03crHqdy6zxp5eBWjCIuBIc9/NPc/K5i23FD4C6wfjlQmyEqfQsBaVKaHvhgGlugkSG63bNUGNrDXi6vOXeOteNwp9GbNHCNR63hzAeaPJ4WV2SDFxRSPuLT78ETuPItnHhxw/GzpQC1cZzjhoBVXjZ8jv270rB8P5SB10tivbhA9bE25DrmyqqtOq3ywJL42NHoZxvdbB/kb1cvEVJkve+qWvbQwFVVvbiz3ROnRffDk7z/7meiUKsByfjd3Kj1PcViqqoq+XTkT7pcX3l6GhR/hXOpUC1nedTcSi4yl/sV+HYpCjo29NVnmQFpuisNPzgWGM8gj3yUsb4fT8BbjWlZwUNqSTHC6/0rU6NbI40g9r6jcSXJ5p7xqG3oDBxd1GTW0+15+iCBqRxff9h/Pes+wSkbmQP5MtYWqgdyD7PrRu5iLiy5qlU9DrNsGxYPIS2Fx7Voi/75Vj09tzEWOQj3FA33T9OcNzO4j3zmK+j4uLb+bo0LZBPtihB6LfBqh+LuyVqtdeM3O4+ppykV2B0O2dyI69lFcDSYH7Mayjtl9PMVH+T08zkQj1fYfbv3+z02BbLtVcTtfDo5vquxAheOLlHtNN+Mivkst3/VLE4yhlmLis53Jpu8VT2xbPAS5Ll0lgRvETo6tav9088Um23Q1Xx/44WTmhPG3pXx9WC/GbjFCrXsWWapuWn//bNYPgMRT+phfW2+ThuWtY7JSfWeaDv5bJZr15Vh2EDvFOLRwiy5RGeXw0Mj1PGMv8tlTv8vD6vFeKBYQoZov3VInGIsuuzyh2kAuXu9VZfY4LydyNIYyZ/qVo225R6w3afiZrV7J40YqVF1apJ7JtPml/TOY1d8xTD7X/fY8izSmiifm11J2/w+8issqCyC1V/3tNqUl8vhS3uf8XtZtaZ98NWP9SmKpFQ6NYbLXP89+GcGHXAeeXm+G1RIET/cWhYiIiIiIiIiIiIiIiIiIiIiIiIiIiIiIiIiIiIiIiIiIiIiIiIiIqFn/AA1nKx7ECwr8AAAAAElFTkSuQmCC\" width=\"200\" height=\"120\" float =\"left\">    \n",
    "\n",
    "\n",
    "---\n",
    "<h3>Beñat Basabe, Jon Jarrín, June Pagaldai, Daniel Puente, Eneko Rentería | <font color='red'> Equipo Rojo<h3>"
   ]
  },
  {
   "cell_type": "markdown",
   "id": "ca35ee8f",
   "metadata": {},
   "source": [
    "## Productos *best seller* por línea y categoría - Tendencias de marketing\n",
    "En este script se detallarán los descriptivos obtenidos de este primer análisis. Tareas como detectar **cantidad de valores missing** o **outliers** entre otros."
   ]
  },
  {
   "cell_type": "markdown",
   "id": "a973f241",
   "metadata": {},
   "source": [
    "### Carga de librerias \n",
    "---"
   ]
  },
  {
   "cell_type": "markdown",
   "id": "6bb56c0d",
   "metadata": {},
   "source": [
    "- **General**"
   ]
  },
  {
   "cell_type": "code",
   "execution_count": 1,
   "id": "a171384c",
   "metadata": {},
   "outputs": [],
   "source": [
    "import pandas as pd\n",
    "import glob\n",
    "import os"
   ]
  },
  {
   "cell_type": "markdown",
   "id": "4762e2ad",
   "metadata": {},
   "source": [
    "- **Pyspark**"
   ]
  },
  {
   "cell_type": "code",
   "execution_count": 2,
   "id": "ac3b2aa2",
   "metadata": {
    "scrolled": true
   },
   "outputs": [],
   "source": [
    "import pyspark\n",
    "from pyspark.sql import SparkSession\n",
    "import pyspark.sql.functions as f\n",
    "from pyspark.sql.functions import split, lit"
   ]
  },
  {
   "cell_type": "markdown",
   "id": "886e4a1b",
   "metadata": {},
   "source": [
    "* **Visualización**"
   ]
  },
  {
   "cell_type": "code",
   "execution_count": 3,
   "id": "e154dd38",
   "metadata": {
    "scrolled": true
   },
   "outputs": [],
   "source": [
    "import matplotlib.pyplot as plt"
   ]
  },
  {
   "cell_type": "markdown",
   "id": "7aec85ca",
   "metadata": {},
   "source": [
    "### Clases a utilizar\n",
    "---"
   ]
  },
  {
   "cell_type": "markdown",
   "id": "2402dcea",
   "metadata": {},
   "source": [
    "* Clase para **cargar de datos** (cd)"
   ]
  },
  {
   "cell_type": "markdown",
   "id": "a3b4d825",
   "metadata": {},
   "source": [
    "Se fijan los **directorios** de entrada y salida"
   ]
  },
  {
   "cell_type": "code",
   "execution_count": 4,
   "id": "42529f05",
   "metadata": {
    "scrolled": true
   },
   "outputs": [],
   "source": [
    "dir_in, dir_out = \"../../datos/datos_originales/\", \"../../datos/datos_desarrollo/\"\n",
    "\n",
    "spark = SparkSession \\\n",
    "    .builder \\\n",
    "    .appName(\"how to read csv file\") \\\n",
    "    .getOrCreate()"
   ]
  },
  {
   "cell_type": "code",
   "execution_count": 5,
   "id": "c71aac91",
   "metadata": {
    "scrolled": true
   },
   "outputs": [],
   "source": [
    "class carga_datos:\n",
    "    ''' Cargar los datos desde el csv al python:\n",
    "    - subir_tablas: se suben los dataframes con los titulos deseados. Como input: una lista de dfs y una lista de titulos.\n",
    "    - subir_una_tabla: como input se especifica la tabla a subir.\n",
    "    '''\n",
    "    def __init__(self, dir_in = dir_in):\n",
    "        self.dir_in = dir_in\n",
    "        \n",
    "    def subir_tablas(self, dir_in):\n",
    "        path = os.getcwd()\n",
    "        csv_files, dataframes_list = glob.glob(os.path.join(path, dir_in + \"*.csv\")), []\n",
    "\n",
    "        for i in csv_files:\n",
    "            temp_df = spark.read.csv(path = i, header = True, inferSchema = True)\n",
    "            dataframes_list.append(temp_df)\n",
    "        \n",
    "        return dataframes_list\n",
    "    \n",
    "    def subir_una_tabla(self, dir_in, nombre_tabla):\n",
    "        return spark.read.csv(os.path.join(dir_in, nombre_tabla + \".csv\"), header = True)"
   ]
  },
  {
   "cell_type": "code",
   "execution_count": 6,
   "id": "94e0e31b",
   "metadata": {
    "scrolled": true
   },
   "outputs": [],
   "source": [
    "cd = carga_datos ()"
   ]
  },
  {
   "cell_type": "markdown",
   "id": "d7c75251",
   "metadata": {},
   "source": [
    "### Datos a utlilizar\n",
    "---"
   ]
  },
  {
   "cell_type": "code",
   "execution_count": 7,
   "id": "a1460791",
   "metadata": {
    "scrolled": true
   },
   "outputs": [],
   "source": [
    "df_envios = cd.subir_una_tabla(dir_in, 'datos_envios_MU')\n",
    "df_total  = cd.subir_una_tabla(dir_out, 'df_total')\n",
    "\n",
    "df = df_total.join(df_envios, df_total.id == df_envios.id).drop('id')\n",
    "df = df.withColumn('id_product', f.concat(f.col('family_product'), lit('_'), f.col('color') , lit('_'), f.col('size_lookiero')))"
   ]
  },
  {
   "cell_type": "markdown",
   "id": "0950402b",
   "metadata": {},
   "source": [
    "### Análisis de los productos *best sellers*\n",
    "---"
   ]
  },
  {
   "cell_type": "code",
   "execution_count": 8,
   "id": "4698831e",
   "metadata": {
    "scrolled": true
   },
   "outputs": [],
   "source": [
    "paleta = ['#264653','#2A9D8F','#85CAC2','#DFF6F4' ,'#E9C46A','#F4A261','#E76F51','#C53D1B', '#7E2711']"
   ]
  },
  {
   "cell_type": "markdown",
   "id": "4fe20c0e",
   "metadata": {},
   "source": [
    "* Adecual el *dataframe* a utilizar"
   ]
  },
  {
   "cell_type": "code",
   "execution_count": 9,
   "id": "1cee62fc",
   "metadata": {},
   "outputs": [],
   "source": [
    "niveles = {'jumpsuit': '1.1', \n",
    "           'dress': '1.1',\n",
    "           \n",
    "           'jeans': '1.2',\n",
    "           'skirt': '1.2',\n",
    "           'short': '1.2',\n",
    "           'pant': '1.2',\n",
    "          \n",
    "           'shirt': '2.1',\n",
    "           'top': '2.1',\n",
    "           'tshirt': '2.1',\n",
    "          \n",
    "           'sweater': '2.2',\n",
    "           'sweatshirt': '2.2',\n",
    "           'cardigan': '2.2',\n",
    "          \n",
    "           'trench': '3.1',\n",
    "           'coat': '3.1',\n",
    "           'parka': '3.1',\n",
    "           'jacket': '3.1',\n",
    "          \n",
    "           'bag': '3.2',\n",
    "           'scarf': '3.2'}"
   ]
  },
  {
   "cell_type": "code",
   "execution_count": 10,
   "id": "3fc83039",
   "metadata": {},
   "outputs": [
    {
     "name": "stderr",
     "output_type": "stream",
     "text": [
      "C:\\Users\\Daniel\\anaconda3\\envs\\reto10_rojo\\lib\\site-packages\\pyspark\\sql\\dataframe.py:2233: UserWarning: to_replace is a dict and value is not None. value will be ignored.\n",
      "  warnings.warn(\"to_replace is a dict and value is not None. value will be ignored.\")\n"
     ]
    }
   ],
   "source": [
    "df = df.withColumn('categoria', f.col('family_product'))\n",
    "df = df.na.replace(niveles, 'categoria')\n",
    "df = df.withColumn(\"family_product\", split(f.col(\"id_product\"), \"_\").getItem(0))\n",
    "df = df.withColumn('linea', df.categoria.substr(0, 1))"
   ]
  },
  {
   "cell_type": "markdown",
   "id": "3ac8c045",
   "metadata": {},
   "source": [
    "### *Best seller* por línea\n",
    "---"
   ]
  },
  {
   "cell_type": "code",
   "execution_count": 11,
   "id": "b77a11bc",
   "metadata": {},
   "outputs": [],
   "source": [
    "import numpy as np\n",
    "df2 = df.toPandas()\n",
    "df2.linea = df2.categoria\n",
    "df2.categoria = np.where(df2.categoria == '3.2', 'complementos', 'prendas')\n",
    "\n",
    "lineas = {\n",
    "    '1.1': 'tronco_entero',\n",
    "    '1.2': 'tronco_inferior',\n",
    "    '2.1': 'tronco_superior_interior',\n",
    "    '2.2': 'tronco_superior_interior',\n",
    "    '3.1': 'tronco_superior_exterior',\n",
    "    '3.2': 'complementos'\n",
    "}\n",
    "df2.linea = df2.linea.map(lineas)\n",
    "\n",
    "df2.loc[df2.id_product.str.split('_').str[0] == 'bag', 'linea'] = 'mochila'\n",
    "df2.loc[df2.id_product.str.split('_').str[0] == 'scarf', 'linea'] = 'bufanda'\n",
    "\n",
    "df3 = spark.createDataFrame(df2)"
   ]
  },
  {
   "cell_type": "code",
   "execution_count": 12,
   "id": "51bd689c",
   "metadata": {},
   "outputs": [],
   "source": [
    "lineas = sorted([e[0] for e in df3.select('linea').distinct().collect()])\n",
    "categorias = sorted([e[0] for e in df3.select('categoria').distinct().collect()])"
   ]
  },
  {
   "cell_type": "code",
   "execution_count": 13,
   "id": "302d6962",
   "metadata": {},
   "outputs": [
    {
     "name": "stdout",
     "output_type": "stream",
     "text": [
      "+------+-----+-----------+-------------+----------+--------------------+--------------+----------+--------------+------+------+------------+--------------------+\n",
      "|season|stock|publishable|size_lookiero|     color|          id_product|family_product|name_brand|  origin_brand|envios|ventas|   categoria|               linea|\n",
      "+------+-----+-----------+-------------+----------+--------------------+--------------+----------+--------------+------+------+------------+--------------------+\n",
      "|     7|    0|       True|            L| grey_dark|    coat_grey_dark_L|          coat|   BRAND15|    WHOLE_SALE|   110|    44|     prendas|tronco_superior_e...|\n",
      "|     7|    0|       True|            M| grey_dark|    coat_grey_dark_M|          coat|   BRAND15|    WHOLE_SALE|   374|    22|     prendas|tronco_superior_e...|\n",
      "|     7|    0|       True|            S| grey_dark|    coat_grey_dark_S|          coat|   BRAND15|    WHOLE_SALE|   638|   154|     prendas|tronco_superior_e...|\n",
      "|     7|    0|       True|            L|green_dark| trench_green_dark_L|        trench|   BRAND55|    MAINSTREAM|   418|   154|     prendas|tronco_superior_e...|\n",
      "|     7|    0|       True|            M|green_dark| trench_green_dark_M|        trench|   BRAND55|    MAINSTREAM|   770|   198|     prendas|tronco_superior_e...|\n",
      "|     7|    0|       True|            S|green_dark| trench_green_dark_S|        trench|   BRAND55|    MAINSTREAM|   594|   132|     prendas|tronco_superior_e...|\n",
      "|     7|    0|       True|           XL|green_dark|trench_green_dark_XL|        trench|   BRAND55|    MAINSTREAM|   352|   110|     prendas|tronco_superior_e...|\n",
      "|     7|    0|       True|          XXL|green_dark|trench_green_dark...|        trench|   BRAND55|    MAINSTREAM|   418|   132|     prendas|tronco_superior_e...|\n",
      "|     7|    0|       True|            L|     beige|      trench_beige_L|        trench|  BRAND119|    MAINSTREAM|   572|   198|     prendas|tronco_superior_e...|\n",
      "|     7|    0|       True|            M|     beige|      trench_beige_M|        trench|  BRAND119|    MAINSTREAM|   770|   264|     prendas|tronco_superior_e...|\n",
      "|     7|    0|       True|            S|     beige|      trench_beige_S|        trench|  BRAND119|    MAINSTREAM|   528|   198|     prendas|tronco_superior_e...|\n",
      "|     7|    0|       True|           XL|     beige|     trench_beige_XL|        trench|  BRAND119|    MAINSTREAM|   176|    66|     prendas|tronco_superior_e...|\n",
      "|     7|    0|       True|           XS|     beige|     trench_beige_XS|        trench|  BRAND119|    MAINSTREAM|   154|    66|     prendas|tronco_superior_e...|\n",
      "|     7|    0|       True|          UNQ|     black|       bag_black_UNQ|           bag|  BRAND167|OWN_PRODUCTION|  2969|   638|complementos|             mochila|\n",
      "|     7|    0|       True|          UNQ|      pink|        bag_pink_UNQ|           bag|  BRAND167|OWN_PRODUCTION|  3079|   770|complementos|             mochila|\n",
      "|     7|    0|       True|          UNQ|   mustand|     bag_mustand_UNQ|           bag|  BRAND167|OWN_PRODUCTION|  5036|  1056|complementos|             mochila|\n",
      "|     7|    0|       True|          UNQ|     black|       bag_black_UNQ|           bag|  BRAND167|OWN_PRODUCTION|  2881|   902|complementos|             mochila|\n",
      "|     7|    0|       True|          UNQ|      pink|        bag_pink_UNQ|           bag|  BRAND167|OWN_PRODUCTION|  3343|   946|complementos|             mochila|\n",
      "|     7|    0|       True|          UNQ|    orange|      bag_orange_UNQ|           bag|  BRAND167|OWN_PRODUCTION|  3343|  1232|complementos|             mochila|\n",
      "|     7|    0|       True|          UNQ|      pink|        bag_pink_UNQ|           bag|   BRAND31|OWN_PRODUCTION|  3277|   968|complementos|             mochila|\n",
      "+------+-----+-----------+-------------+----------+--------------------+--------------+----------+--------------+------+------+------------+--------------------+\n",
      "only showing top 20 rows\n",
      "\n"
     ]
    }
   ],
   "source": [
    "df3.show()"
   ]
  },
  {
   "cell_type": "markdown",
   "id": "3d4d1e42",
   "metadata": {},
   "source": [
    "* **Best seller families por línea**"
   ]
  },
  {
   "cell_type": "code",
   "execution_count": 14,
   "id": "b85c2638",
   "metadata": {},
   "outputs": [],
   "source": [
    "jontxu = df3.select('linea').distinct().toPandas()"
   ]
  },
  {
   "cell_type": "code",
   "execution_count": 15,
   "id": "622f73ce",
   "metadata": {},
   "outputs": [
    {
     "name": "stderr",
     "output_type": "stream",
     "text": [
      "C:\\Users\\Daniel\\AppData\\Local\\Temp/ipykernel_7360/2637870287.py:8: FutureWarning: The default value of regex will change from True to False in a future version.\n",
      "  suma_ventas.id_product = suma_ventas.id_product.str.replace('_', ' ').str.replace('[A-Z]', '').str.title() + suma_ventas.id_product.str.split('_').str[-1]\n"
     ]
    }
   ],
   "source": [
    "total = pd.DataFrame()\n",
    "for linea in jontxu.linea:\n",
    "\n",
    "    df2 = df3.filter(df3.linea == linea).drop('linea', 'categoria')\n",
    "    escrito = 'línea ' + linea\n",
    "\n",
    "    suma_ventas = df2.groupby('id_product').agg({'ventas': 'sum'}).withColumnRenamed('sum(ventas)', 'suma_ventas').toPandas()\n",
    "    suma_ventas.id_product = suma_ventas.id_product.str.replace('_', ' ').str.replace('[A-Z]', '').str.title() + suma_ventas.id_product.str.split('_').str[-1]\n",
    "    suma10 = suma_ventas.sort_values('suma_ventas', ascending = False).head(10)\n",
    "    suma10['linea'] = linea\n",
    "    total = pd.concat([total, suma10])\n",
    "\n",
    "# colores = [paleta[6]] * 3 + [paleta[0]] * 7\n",
    "# fig, ax = plt.subplots(figsize = (16, 8))\n",
    "\n",
    "# ax.bar(suma10.id_product, suma10.suma_ventas, align = 'center', alpha = 0.8, ecolor = 'black', color = paleta[0])\n",
    "# ax.set_facecolor('white')\n",
    "# plt.title(f'Top 10 de los best sellers de la linea {linea}', fontweight = 'bold')\n",
    "# plt.xlabel('Producto')\n",
    "# plt.ylabel('Total de ventas')\n",
    "# plt.xticks(rotation = 45)\n",
    "# plt.show()"
   ]
  },
  {
   "cell_type": "code",
   "execution_count": 16,
   "id": "ef7505ea",
   "metadata": {},
   "outputs": [],
   "source": [
    "total.reset_index(drop = True).to_csv('barras_por_linea.csv')"
   ]
  },
  {
   "cell_type": "code",
   "execution_count": 17,
   "id": "6ffc03d3",
   "metadata": {},
   "outputs": [],
   "source": [
    "def best_seller_top10(linea, l = True):\n",
    "    \n",
    "    if l: \n",
    "        df2 = df3.filter(df3.linea == linea).drop('linea', 'categoria')\n",
    "        escrito = 'línea ' + linea\n",
    "    else:\n",
    "        df2 = df3.filter(df3.categoria == linea).drop('linea', 'categoria')\n",
    "        escrito = 'Categoría ' + linea\n",
    "        \n",
    "    suma_ventas = df2.groupby('id_product').agg({'ventas': 'sum'}).withColumnRenamed('sum(ventas)', 'suma_ventas').toPandas()\n",
    "    suma_ventas.id_product = suma_ventas.id_product.str.replace('_', ' ').str.replace('[A-Z]', '').str.title() + suma_ventas.id_product.str.split('_').str[-1]\n",
    "    suma10 = suma_ventas.sort_values('suma_ventas', ascending = False).head(10)\n",
    "    \n",
    "    colores = [paleta[6]] * 3 + [paleta[0]] * 7\n",
    "    fig, ax = plt.subplots(figsize = (16, 8))\n",
    "\n",
    "    ax.bar(suma10.id_product, suma10.suma_ventas, align = 'center', alpha = 0.8, ecolor = 'black', color = paleta[0])\n",
    "    ax.set_facecolor('white')\n",
    "    plt.title(f'Top 10 de los best sellers de la linea {linea}', fontweight = 'bold')\n",
    "    plt.xlabel('Producto')\n",
    "    plt.ylabel('Total de ventas')\n",
    "    plt.xticks(rotation = 45)\n",
    "    plt.show()\n",
    "    \n",
    "    \n",
    "def best_seller_family(linea, l = True):\n",
    "    \n",
    "    if l: \n",
    "        df2 = df3.filter(df3.linea == linea).drop('linea', 'categoria')\n",
    "        escrito = 'línea ' + linea\n",
    "    else:\n",
    "        df2 = df3.filter(df3.categoria == linea).drop('linea', 'categoria')\n",
    "        escrito = 'Categoría ' + linea\n",
    "    \n",
    "    suma_ventas = df2.groupby('family_product').agg({'ventas': 'sum'}).withColumnRenamed('sum(ventas)', 'suma_ventas').toPandas()\n",
    "    suma_ventas['porcentaje'] = (suma_ventas.suma_ventas / suma_ventas.suma_ventas.sum()) * 100\n",
    "\n",
    "    from math import pi\n",
    "\n",
    "    categories = list(suma_ventas.family_product)\n",
    "    N = len(categories)\n",
    "\n",
    "    angles = [n / float(N) * 2 * pi for n in range(N)]\n",
    "    angles += angles[:1]\n",
    "\n",
    "    ax = plt.subplot(111, polar = True)\n",
    "    ax.set_theta_offset(pi / 2)\n",
    "    ax.set_theta_direction(-1)\n",
    "\n",
    "    plt.xticks(angles[:-1], categories)\n",
    "    ax.set_rlabel_position(0)\n",
    "    plt.yticks([5, 10, 15], [\"5%\", \"10%\", \"15%\"], color = \"grey\", size = 10)\n",
    "\n",
    "    values = suma_ventas.porcentaje.values.flatten().tolist()\n",
    "    values += values[:1]\n",
    "\n",
    "    ax.plot(angles, values, linewidth = 1, linestyle = 'solid', color = paleta[0])\n",
    "    ax.fill(angles, values, paleta[0], alpha = 0.15)\n",
    "\n",
    "\n",
    "    plt.title(f'Best seller por familia ({escrito})')\n",
    "    plt.show()"
   ]
  },
  {
   "cell_type": "code",
   "execution_count": 18,
   "id": "8153df3f",
   "metadata": {
    "collapsed": true
   },
   "outputs": [
    {
     "data": {
      "image/png": "[encoded data removed]",
      "text/plain": [
       "<Figure size 432x288 with 1 Axes>"
      ]
     },
     "metadata": {},
     "output_type": "display_data"
    },
    {
     "data": {
      "image/png": "[encoded data removed]",
      "text/plain": [
       "<Figure size 432x288 with 1 Axes>"
      ]
     },
     "metadata": {},
     "output_type": "display_data"
    },
    {
     "data": {
      "text/plain": [
       "[None, None]"
      ]
     },
     "execution_count": 18,
     "metadata": {},
     "output_type": "execute_result"
    }
   ],
   "source": [
    "list(map(best_seller_family, categorias, [False] * len(categorias)))"
   ]
  },
  {
   "cell_type": "markdown",
   "id": "4ceea878",
   "metadata": {},
   "source": [
    "* **Los 10 mejores productos por línea**"
   ]
  },
  {
   "cell_type": "code",
   "execution_count": null,
   "id": "7a6be349",
   "metadata": {},
   "outputs": [],
   "source": [
    "def best_seller_top10(linea, l = True):\n",
    "    \n",
    "    if l: \n",
    "        df2 = df3.filter(df3.linea == linea).drop('linea', 'categoria')\n",
    "        escrito = 'línea ' + linea\n",
    "    else:\n",
    "        df2 = df3.filter(df3.categoria == linea).drop('linea', 'categoria')\n",
    "        escrito = 'Categoría ' + linea\n",
    "        \n",
    "    suma_ventas = df2.groupby('id_product').agg({'ventas': 'sum'}).withColumnRenamed('sum(ventas)', 'suma_ventas').toPandas()\n",
    "    suma_ventas.id_product = suma_ventas.id_product.str.replace('_', ' ').str.replace('[A-Z]', '').str.title() + suma_ventas.id_product.str.split('_').str[-1]\n",
    "    suma10 = suma_ventas.sort_values('suma_ventas', ascending = False).head(10)\n",
    "    \n",
    "    colores = [paleta[6]] * 3 + [paleta[0]] * 7\n",
    "    fig, ax = plt.subplots(figsize = (16, 8))\n",
    "\n",
    "    ax.bar(suma10.id_product, suma10.suma_ventas, align = 'center', alpha = 0.8, ecolor = 'black', color = paleta[0])\n",
    "    ax.set_facecolor('white')\n",
    "    plt.title(f'Top 10 de los best sellers de la linea {linea}', fontweight = 'bold')\n",
    "    plt.xlabel('Producto')\n",
    "    plt.ylabel('Total de ventas')\n",
    "    plt.xticks(rotation = 45)\n",
    "    plt.show()\n",
    "    "
   ]
  },
  {
   "cell_type": "code",
   "execution_count": 45,
   "id": "e69214ee",
   "metadata": {},
   "outputs": [],
   "source": [
    "def best_seller_top10(linea, l = True):\n",
    "    \n",
    "    if l: \n",
    "        df2 = df3.filter(df3.linea == linea).drop('linea', 'categoria')\n",
    "        escrito = 'línea ' + linea\n",
    "    else:\n",
    "        df2 = df3.filter(df3.categoria == linea).drop('linea', 'categoria')\n",
    "        escrito = 'Categoría ' + linea\n",
    "        \n",
    "    suma_ventas = df2.groupby('id_product').agg({'ventas': 'sum'}).withColumnRenamed('sum(ventas)', 'suma_ventas').toPandas()\n",
    "    suma_ventas.id_product = suma_ventas.id_product.str.replace('_', ' ').str.replace('[A-Z]', '').str.title() + suma_ventas.id_product.str.split('_').str[-1]\n",
    "    suma10 = suma_ventas.sort_values('suma_ventas', ascending = False).head(10)\n",
    "    return suma10 "
   ]
  },
  {
   "cell_type": "code",
   "execution_count": 26,
   "id": "281b6258",
   "metadata": {},
   "outputs": [
    {
     "data": {
      "text/plain": [
       "[Row(linea='tronco_entero'),\n",
       " Row(linea='tronco_superior_interior'),\n",
       " Row(linea='mochila'),\n",
       " Row(linea='tronco_superior_exterior'),\n",
       " Row(linea='tronco_inferior'),\n",
       " Row(linea='bufanda')]"
      ]
     },
     "execution_count": 26,
     "metadata": {},
     "output_type": "execute_result"
    }
   ],
   "source": [
    "df3.select('linea').distinct().collect()"
   ]
  },
  {
   "cell_type": "code",
   "execution_count": 56,
   "id": "2b04df05",
   "metadata": {},
   "outputs": [
    {
     "name": "stderr",
     "output_type": "stream",
     "text": [
      "C:\\Users\\Daniel\\AppData\\Local\\Temp/ipykernel_7360/3934509181.py:11: FutureWarning: The default value of regex will change from True to False in a future version.\n",
      "  suma_ventas.id_product = suma_ventas.id_product.str.replace('_', ' ').str.replace('[A-Z]', '').str.title() + suma_ventas.id_product.str.split('_').str[-1]\n"
     ]
    }
   ],
   "source": [
    "lista = []\n",
    "for x in ['tronco_entero', 'tronco_superior_interior','mochila','tronco_superior_exterior','tronco_inferior','bufanda']:\n",
    "    aa = best_seller_top10(x, l = True)\n",
    "    lista += [list(aa['id_product'].values)]\n",
    "    lista += [list(aa['suma_ventas'].values)]"
   ]
  },
  {
   "cell_type": "code",
   "execution_count": 59,
   "id": "9855d653",
   "metadata": {},
   "outputs": [],
   "source": [
    "df_tendencias = pd.DataFrame(lista).T"
   ]
  },
  {
   "cell_type": "code",
   "execution_count": 61,
   "id": "7fd6f6ae",
   "metadata": {},
   "outputs": [],
   "source": [
    "df_tendencias.columns = ['producto_tronco_entero', 'count_tronco_entero', 'producto_tronco_superior_interior', 'count_tronco_superior_interior', 'producto_mochila', 'count_mochila', 'producto_tronco_superior_exterior', 'count_tronco_superior_exterior', 'producto_tronco_inferior', 'count_tronco_inferior', 'producto_bufanda', 'count_bufanda']"
   ]
  },
  {
   "cell_type": "code",
   "execution_count": 63,
   "id": "80c2c9ef",
   "metadata": {},
   "outputs": [],
   "source": [
    "df_tendencias.to_csv(dir_out + 'tendencias.csv')"
   ]
  },
  {
   "cell_type": "code",
   "execution_count": 58,
   "id": "31a020dc",
   "metadata": {},
   "outputs": [
    {
     "data": {
      "text/plain": [
       "['Dress Black M',\n",
       " 'Dress Black S',\n",
       " 'Dress Black L',\n",
       " 'Dress Blue Dark L',\n",
       " 'Dress Blue Dark M',\n",
       " 'Dress Blue Dark S',\n",
       " 'Dress Black XL',\n",
       " 'Jumpsuit Blue Dark S',\n",
       " 'Jumpsuit Black S',\n",
       " 'Jumpsuit Black M']"
      ]
     },
     "execution_count": 58,
     "metadata": {},
     "output_type": "execute_result"
    }
   ],
   "source": [
    "lista[0]"
   ]
  },
  {
   "cell_type": "code",
   "execution_count": 42,
   "id": "5586040f",
   "metadata": {},
   "outputs": [
    {
     "data": {
      "text/html": [
       "<div>\n",
       "<style scoped>\n",
       "    .dataframe tbody tr th:only-of-type {\n",
       "        vertical-align: middle;\n",
       "    }\n",
       "\n",
       "    .dataframe tbody tr th {\n",
       "        vertical-align: top;\n",
       "    }\n",
       "\n",
       "    .dataframe thead th {\n",
       "        text-align: right;\n",
       "    }\n",
       "</style>\n",
       "<table border=\"1\" class=\"dataframe\">\n",
       "  <thead>\n",
       "    <tr style=\"text-align: right;\">\n",
       "      <th></th>\n",
       "      <th>index</th>\n",
       "      <th>id_product</th>\n",
       "      <th>suma_ventas</th>\n",
       "      <th>index</th>\n",
       "      <th>id_product</th>\n",
       "      <th>suma_ventas</th>\n",
       "    </tr>\n",
       "  </thead>\n",
       "  <tbody>\n",
       "    <tr>\n",
       "      <th>0</th>\n",
       "      <td>12</td>\n",
       "      <td>Dress Black M</td>\n",
       "      <td>50350.0</td>\n",
       "      <td>687</td>\n",
       "      <td>Top Black M</td>\n",
       "      <td>71154.0</td>\n",
       "    </tr>\n",
       "    <tr>\n",
       "      <th>1</th>\n",
       "      <td>34</td>\n",
       "      <td>Dress Black S</td>\n",
       "      <td>46412.0</td>\n",
       "      <td>745</td>\n",
       "      <td>Top Black S</td>\n",
       "      <td>69263.0</td>\n",
       "    </tr>\n",
       "    <tr>\n",
       "      <th>2</th>\n",
       "      <td>122</td>\n",
       "      <td>Dress Black L</td>\n",
       "      <td>39443.0</td>\n",
       "      <td>764</td>\n",
       "      <td>Top Black L</td>\n",
       "      <td>60076.0</td>\n",
       "    </tr>\n",
       "    <tr>\n",
       "      <th>3</th>\n",
       "      <td>147</td>\n",
       "      <td>Dress Blue Dark L</td>\n",
       "      <td>33392.0</td>\n",
       "      <td>269</td>\n",
       "      <td>Sweater Blue Dark M</td>\n",
       "      <td>45374.0</td>\n",
       "    </tr>\n",
       "    <tr>\n",
       "      <th>4</th>\n",
       "      <td>43</td>\n",
       "      <td>Dress Blue Dark M</td>\n",
       "      <td>31128.0</td>\n",
       "      <td>520</td>\n",
       "      <td>Top Blue Dark M</td>\n",
       "      <td>42473.0</td>\n",
       "    </tr>\n",
       "    <tr>\n",
       "      <th>5</th>\n",
       "      <td>149</td>\n",
       "      <td>Dress Blue Dark S</td>\n",
       "      <td>26289.0</td>\n",
       "      <td>310</td>\n",
       "      <td>Top White S</td>\n",
       "      <td>41701.0</td>\n",
       "    </tr>\n",
       "    <tr>\n",
       "      <th>6</th>\n",
       "      <td>97</td>\n",
       "      <td>Dress Black XL</td>\n",
       "      <td>18391.0</td>\n",
       "      <td>601</td>\n",
       "      <td>Shirt Black M</td>\n",
       "      <td>40825.0</td>\n",
       "    </tr>\n",
       "    <tr>\n",
       "      <th>7</th>\n",
       "      <td>89</td>\n",
       "      <td>Jumpsuit Blue Dark S</td>\n",
       "      <td>16607.0</td>\n",
       "      <td>409</td>\n",
       "      <td>Sweater Blue Dark S</td>\n",
       "      <td>39878.0</td>\n",
       "    </tr>\n",
       "    <tr>\n",
       "      <th>8</th>\n",
       "      <td>232</td>\n",
       "      <td>Jumpsuit Black S</td>\n",
       "      <td>16123.0</td>\n",
       "      <td>125</td>\n",
       "      <td>Top Blue Dark S</td>\n",
       "      <td>39878.0</td>\n",
       "    </tr>\n",
       "    <tr>\n",
       "      <th>9</th>\n",
       "      <td>186</td>\n",
       "      <td>Jumpsuit Black M</td>\n",
       "      <td>15839.0</td>\n",
       "      <td>389</td>\n",
       "      <td>Top White M</td>\n",
       "      <td>38206.0</td>\n",
       "    </tr>\n",
       "  </tbody>\n",
       "</table>\n",
       "</div>"
      ],
      "text/plain": [
       "   index            id_product  suma_ventas  index           id_product  \\\n",
       "0     12         Dress Black M      50350.0    687          Top Black M   \n",
       "1     34         Dress Black S      46412.0    745          Top Black S   \n",
       "2    122         Dress Black L      39443.0    764          Top Black L   \n",
       "3    147     Dress Blue Dark L      33392.0    269  Sweater Blue Dark M   \n",
       "4     43     Dress Blue Dark M      31128.0    520      Top Blue Dark M   \n",
       "5    149     Dress Blue Dark S      26289.0    310          Top White S   \n",
       "6     97        Dress Black XL      18391.0    601        Shirt Black M   \n",
       "7     89  Jumpsuit Blue Dark S      16607.0    409  Sweater Blue Dark S   \n",
       "8    232      Jumpsuit Black S      16123.0    125      Top Blue Dark S   \n",
       "9    186      Jumpsuit Black M      15839.0    389          Top White M   \n",
       "\n",
       "   suma_ventas  \n",
       "0      71154.0  \n",
       "1      69263.0  \n",
       "2      60076.0  \n",
       "3      45374.0  \n",
       "4      42473.0  \n",
       "5      41701.0  \n",
       "6      40825.0  \n",
       "7      39878.0  \n",
       "8      39878.0  \n",
       "9      38206.0  "
      ]
     },
     "execution_count": 42,
     "metadata": {},
     "output_type": "execute_result"
    }
   ],
   "source": [
    "pd.concat([aa, bb], axis = 1)"
   ]
  },
  {
   "cell_type": "code",
   "execution_count": 20,
   "id": "768876c0",
   "metadata": {},
   "outputs": [
    {
     "data": {
      "text/plain": [
       "['complementos', 'prendas']"
      ]
     },
     "execution_count": 20,
     "metadata": {},
     "output_type": "execute_result"
    }
   ],
   "source": [
    "categorias"
   ]
  },
  {
   "cell_type": "code",
   "execution_count": 19,
   "id": "6142e672",
   "metadata": {},
   "outputs": [
    {
     "name": "stderr",
     "output_type": "stream",
     "text": [
      "C:\\Users\\Daniel\\AppData\\Local\\Temp/ipykernel_7360/2682223318.py:11: FutureWarning: The default value of regex will change from True to False in a future version.\n",
      "  suma_ventas.id_product = suma_ventas.id_product.str.replace('_', ' ').str.replace('[A-Z]', '').str.title() + suma_ventas.id_product.str.split('_').str[-1]\n"
     ]
    },
    {
     "data": {
      "image/png": "[encoded data removed]",
      "text/plain": [
       "<Figure size 1152x576 with 1 Axes>"
      ]
     },
     "metadata": {
      "needs_background": "light"
     },
     "output_type": "display_data"
    },
    {
     "name": "stderr",
     "output_type": "stream",
     "text": [
      "C:\\Users\\Daniel\\AppData\\Local\\Temp/ipykernel_7360/2682223318.py:11: FutureWarning: The default value of regex will change from True to False in a future version.\n",
      "  suma_ventas.id_product = suma_ventas.id_product.str.replace('_', ' ').str.replace('[A-Z]', '').str.title() + suma_ventas.id_product.str.split('_').str[-1]\n"
     ]
    },
    {
     "data": {
      "image/png": "[encoded data removed]",
      "text/plain": [
       "<Figure size 1152x576 with 1 Axes>"
      ]
     },
     "metadata": {
      "needs_background": "light"
     },
     "output_type": "display_data"
    },
    {
     "data": {
      "text/plain": [
       "[None, None]"
      ]
     },
     "execution_count": 19,
     "metadata": {},
     "output_type": "execute_result"
    }
   ],
   "source": [
    "list(map(best_seller_top10, categorias, [False] *len(categorias)))"
   ]
  },
  {
   "cell_type": "markdown",
   "id": "08e6a39b",
   "metadata": {},
   "source": [
    "---"
   ]
  }
 ],
 "metadata": {
  "kernelspec": {
   "display_name": "Python 3 (ipykernel)",
   "language": "python",
   "name": "python3"
  },
  "language_info": {
   "codemirror_mode": {
    "name": "ipython",
    "version": 3
   },
   "file_extension": ".py",
   "mimetype": "text/x-python",
   "name": "python",
   "nbconvert_exporter": "python",
   "pygments_lexer": "ipython3",
   "version": "3.8.5"
  }
 },
 "nbformat": 4,
 "nbformat_minor": 5
}
